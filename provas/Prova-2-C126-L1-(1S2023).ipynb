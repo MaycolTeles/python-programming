{
 "cells": [
  {
   "cell_type": "markdown",
   "metadata": {},
   "source": [
    "# Prova #2 C126-L1 (1S2023)\n",
    "\n",
    "### Instruções\n",
    "\n",
    "1. Para cada um dos exercícios a seguir, faça o seguinte:\n",
    "    * Adicione comentários ao seu código explicando o que você fez.\n",
    "    * Caso o exercício involva a implementação de uma função:\n",
    "        + Coloque um comentário dizendo o que a função faz, use **docstrings**.\n",
    "        + Escolha nomes auto-explicativos para suas funções e parâmetros.\n",
    "    \n",
    "2. Quando você terminar a prova, vá ao menu do Colab ou Binder e selecione a opção para fazer download do notebook.\n",
    "    * Os notebooks tem extensão .ipynb. \n",
    "    * Este deve ser o arquivo que você irá entregar.\n",
    "    * No Colab, vá até a opção **File** -> **Download .ipynb**.    \n",
    "    * No Binder, vá até a opção **File** -> **Download as** -> **Notebook (.ipynb)**.\n",
    "\n",
    "3. Em seguida, faça a entrega do notebook da prova (ou seja, anexe o arquivo) na tarefa criada no MS Teams.\n",
    "4. Atente-se ao prazo de entrega definido na tarefa do MS Teams. \n",
    "5. **A prova deve ser resolvida individualmente**.\n",
    "6. Todas as questões têm o mesmo peso.\n",
    "7. Não se esqueça de colocar seu nome e número de matrícula nos campos abaixo.\n",
    "8. <span style=\"color:blue\">**Você pode consultar o material de aula.**</span>\n",
    "9. Não altere em hipótese alguma as células com código de teste.\n",
    "10. A interpretação faz parte da prova.\n",
    "11. Boa sorte!"
   ]
  },
  {
   "cell_type": "markdown",
   "metadata": {},
   "source": [
    "**Nome**:\n",
    "\n",
    "**Matrícula**:"
   ]
  },
  {
   "cell_type": "markdown",
   "metadata": {},
   "source": [
    "## Exercícios"
   ]
  },
  {
   "cell_type": "markdown",
   "metadata": {},
   "source": [
    "#### 1)  Exercício sobre listas.\n",
    "\n",
    "Escreva uma função chamada `alunosAprovados` que receba 2 listas, uma com as 3 notas que os alunos obtiveram em um determinada disciplina e outra com seus nomes. A função deve calcular a média das 3 notas de cada aluno e armazenar em uma lista os nomes dos alunos que tiveram média maior ou igual a 7. A tabela abaixo apresenta os valores que devem ser usados para testar a função:\n",
    "\n",
    "|   Aluno   | Nota 1 | Nota 2 | Nota 3 |\n",
    "|:---------:|:------:|:------:|:------:|\n",
    "|   Pedro   |   2    |   4    |   9    |\n",
    "|   Maria   |   6    |   7    |   8    |\n",
    "|   João    |   9    |   8    |   9    |\n",
    "|   Ana     |   7    |   6    |   7    |\n",
    "|   Carlos  |   8    |   9    |   8    |\n",
    "|   Laura   |   7    |   8    |   7    |\n",
    "|   André   |   9    |   9    |   9    |\n",
    "|   Sofia   |   2    |   5    |   8    |\n",
    "|   Guilherme   |   8    |   8    |   9    |\n",
    "|   Juliana   |   5    |   3    |   7    |\n",
    "|   Raquel   |   9    |   8    |   8    |\n",
    "|   Daniel   |   3    |   4    |   5    |\n",
    "\n",
    "A função `alunosAprovados` deve retornar uma lista contendo os nomes dos alunos que tiveram média maior ou igual a 7.\n",
    "\n",
    "**DICAS**\n",
    "\n",
    "+ A sequência de parâmetros de entrada para a função `alunosAprovados` é notas e depois nomes.\n",
    "+ As 2 listas já estão definidas na célula de testes abaixo, assim, não é necessário que você as defina.\n",
    "+ A lista de notas é uma lista aninhada, ou seja, cada elemento da lista de notas é uma outra lista com 3 elementos, ou seja, com as 3 notas e cada aluno. Veja o exemplo abaixo com as 3 notas de 2 alunos, ou seja, a lista de notas contém 2 listas aninhadas com 3 notas cada.\n",
    "```python\n",
    "notas = [ [10, 50, 65], [25, 80, 75] ]\n",
    "```\n",
    "+ Para calcular a média de cada lista aninhada (ou seja, as listas com 3 elementos cada), você pode usar as funções `sum` e `len`.\n",
    "+ Lembre-se que listas são objetos iteráveis e, portanto, você pode iterar facilmente através dos elementos da lista de notas com um laço de repetição `for`."
   ]
  },
  {
   "cell_type": "code",
   "execution_count": 1,
   "metadata": {},
   "outputs": [],
   "source": [
    "# Implemente aqui o código do exercício."
   ]
  },
  {
   "cell_type": "markdown",
   "metadata": {},
   "source": [
    "Execute o trecho de código abaixo para testar sua função. Se sua implementação estiver correta, a seguinte mensagem será impressa após a execução da célula abaixo:\n",
    "```python\n",
    "RESULTADO:\n",
    "A implementação da função está correta!\n",
    "``` \n",
    "\n",
    "**NÃO ALTERE O CÓDIGO ABAIXO EM HIPÓTESE ALGUMA. SUA IMPLEMENTAÇÃO DEVE FUNCIONAR SEM NENHUMA ALTERAÇÃO DO CÓDIGO ABAIXO.**"
   ]
  },
  {
   "cell_type": "code",
   "execution_count": 2,
   "metadata": {},
   "outputs": [
    {
     "ename": "NameError",
     "evalue": "name 'alunosAprovados' is not defined",
     "output_type": "error",
     "traceback": [
      "\u001b[1;31m---------------------------------------------------------------------------\u001b[0m",
      "\u001b[1;31mNameError\u001b[0m                                 Traceback (most recent call last)",
      "Cell \u001b[1;32mIn[2], line 5\u001b[0m\n\u001b[0;32m      2\u001b[0m alunos \u001b[38;5;241m=\u001b[39m [\u001b[38;5;124m\"\u001b[39m\u001b[38;5;124mPedro\u001b[39m\u001b[38;5;124m\"\u001b[39m, \u001b[38;5;124m\"\u001b[39m\u001b[38;5;124mMaria\u001b[39m\u001b[38;5;124m\"\u001b[39m, \u001b[38;5;124m\"\u001b[39m\u001b[38;5;124mJoão\u001b[39m\u001b[38;5;124m\"\u001b[39m, \u001b[38;5;124m\"\u001b[39m\u001b[38;5;124mAna\u001b[39m\u001b[38;5;124m\"\u001b[39m, \u001b[38;5;124m\"\u001b[39m\u001b[38;5;124mCarlos\u001b[39m\u001b[38;5;124m\"\u001b[39m, \u001b[38;5;124m\"\u001b[39m\u001b[38;5;124mLaura\u001b[39m\u001b[38;5;124m\"\u001b[39m, \u001b[38;5;124m\"\u001b[39m\u001b[38;5;124mAndré\u001b[39m\u001b[38;5;124m\"\u001b[39m, \u001b[38;5;124m\"\u001b[39m\u001b[38;5;124mSofia\u001b[39m\u001b[38;5;124m\"\u001b[39m, \u001b[38;5;124m\"\u001b[39m\u001b[38;5;124mGuilherme\u001b[39m\u001b[38;5;124m\"\u001b[39m, \u001b[38;5;124m\"\u001b[39m\u001b[38;5;124mJuliana\u001b[39m\u001b[38;5;124m\"\u001b[39m, \u001b[38;5;124m\"\u001b[39m\u001b[38;5;124mRaquel\u001b[39m\u001b[38;5;124m\"\u001b[39m, \u001b[38;5;124m\"\u001b[39m\u001b[38;5;124mDaniel\u001b[39m\u001b[38;5;124m\"\u001b[39m]\n\u001b[0;32m      3\u001b[0m resultado_esperado \u001b[38;5;241m=\u001b[39m [\u001b[38;5;124m'\u001b[39m\u001b[38;5;124mMaria\u001b[39m\u001b[38;5;124m'\u001b[39m, \u001b[38;5;124m'\u001b[39m\u001b[38;5;124mJoão\u001b[39m\u001b[38;5;124m'\u001b[39m, \u001b[38;5;124m'\u001b[39m\u001b[38;5;124mCarlos\u001b[39m\u001b[38;5;124m'\u001b[39m, \u001b[38;5;124m'\u001b[39m\u001b[38;5;124mLaura\u001b[39m\u001b[38;5;124m'\u001b[39m, \u001b[38;5;124m'\u001b[39m\u001b[38;5;124mAndré\u001b[39m\u001b[38;5;124m'\u001b[39m, \u001b[38;5;124m'\u001b[39m\u001b[38;5;124mGuilherme\u001b[39m\u001b[38;5;124m'\u001b[39m, \u001b[38;5;124m'\u001b[39m\u001b[38;5;124mRaquel\u001b[39m\u001b[38;5;124m'\u001b[39m]\n\u001b[1;32m----> 5\u001b[0m resultado \u001b[38;5;241m=\u001b[39m \u001b[43malunosAprovados\u001b[49m(notas, alunos)\n\u001b[0;32m      7\u001b[0m \u001b[38;5;28;01mif\u001b[39;00m(resultado \u001b[38;5;241m==\u001b[39m resultado_esperado):\n\u001b[0;32m      8\u001b[0m     \u001b[38;5;28mprint\u001b[39m(\u001b[38;5;124m'\u001b[39m\u001b[38;5;124mA implementação da função está correta!\u001b[39m\u001b[38;5;124m'\u001b[39m)\n",
      "\u001b[1;31mNameError\u001b[0m: name 'alunosAprovados' is not defined"
     ]
    }
   ],
   "source": [
    "notas = [[2, 4, 9], [6, 7, 8], [9, 8, 9], [7, 6, 7], [8, 9, 8], [7, 8, 7], [9, 9, 9], [2, 5, 8], [8, 8, 9], [5, 3, 7], [9, 8, 8], [3, 4, 5]]\n",
    "alunos = [\"Pedro\", \"Maria\", \"João\", \"Ana\", \"Carlos\", \"Laura\", \"André\", \"Sofia\", \"Guilherme\", \"Juliana\", \"Raquel\", \"Daniel\"]\n",
    "resultado_esperado = ['Maria', 'João', 'Carlos', 'Laura', 'André', 'Guilherme', 'Raquel']\n",
    "\n",
    "resultado = alunosAprovados(notas, alunos)\n",
    "\n",
    "if(resultado == resultado_esperado):\n",
    "    print('A implementação da função está correta!')\n",
    "else:\n",
    "    print('A implementação da função NÃO está correta!')\n",
    "    print('\\nEsperado:', resultado_esperado)\n",
    "    print('Retornado:', resultado)    "
   ]
  },
  {
   "cell_type": "markdown",
   "metadata": {},
   "source": [
    "#### 2) Exercício sobre dicionários. \n",
    "\n",
    "Implemente uma função chamada `verificarEstoque` que receba dois parâmetros de entrada: um dicionário contendo o estoque de produtos e o nome de um produto a ser verificado no estoque. Cada elemento do dicionário é um par com o nome de um produto e a quantidade em estoque daquele produto. O nome do produto é a **chave** do elemento do dicionário, e a quantidade em estoque é o **valor** associado à chave.\n",
    "\n",
    "A função deve verificar se o produto passado como parâmetro consta no dicionário. **Se o produto estiver presente no dicionário e sua quantidade for maior do que 0**, a função deve retornar a quantidade em estoque daquele produto. Caso contrário, a função deve **retornar** a seguinte string: `Produto não consta em estoque`.\n",
    "\n",
    "**DICAS**:\n",
    "\n",
    "+ <span style=\"color:red\">Notem que duas condições são necessárias para que se retorne a quantidade de um produto: estar presente no dicionário de estoque **E** sua quantidade ser maior do que 0</span>. Caso contrário, a string: `Produto não consta em estoque` deve ser retornada.\n",
    "+ Lembre-se que você pode usar os operadores de associação `in` ou `not in` para verificar se um valor faz parte das **chaves** de um dicionário.\n",
    "+ O **valor** associado a uma **chave** é retornado quando se indexa o dicionário com aquela chave. Por exemplo:\n",
    "```python\n",
    "dicionário = {'fogão':10, 'TV':20}\n",
    "chave = 'TV'\n",
    "valor = dicionário[chave]\n",
    "print('Quantidade do produto:', valor)\n",
    "Quantidade do produto: 20\n",
    "```"
   ]
  },
  {
   "cell_type": "code",
   "execution_count": 3,
   "metadata": {},
   "outputs": [],
   "source": [
    "# Implemente aqui o código do exercício."
   ]
  },
  {
   "cell_type": "markdown",
   "metadata": {},
   "source": [
    "Execute o trecho de código abaixo para testar sua função. Se sua implementação estiver correta, a seguinte mensagem será impressa após a execução da célula abaixo:\n",
    "```python\n",
    "RESULTADO:\n",
    "A implementação da função está correta!\n",
    "``` \n",
    "\n",
    "**NÃO ALTERE O CÓDIGO ABAIXO EM HIPÓTESE ALGUMA. SUA IMPLEMENTAÇÃO DEVE FUNCIONAR SEM NENHUMA ALTERAÇÃO DO CÓDIGO ABAIXO.**"
   ]
  },
  {
   "cell_type": "code",
   "execution_count": 4,
   "metadata": {},
   "outputs": [
    {
     "ename": "NameError",
     "evalue": "name 'verificarEstoque' is not defined",
     "output_type": "error",
     "traceback": [
      "\u001b[1;31m---------------------------------------------------------------------------\u001b[0m",
      "\u001b[1;31mNameError\u001b[0m                                 Traceback (most recent call last)",
      "Cell \u001b[1;32mIn[4], line 7\u001b[0m\n\u001b[0;32m      4\u001b[0m saídas \u001b[38;5;241m=\u001b[39m [\u001b[38;5;241m5\u001b[39m, \u001b[38;5;241m8\u001b[39m, \u001b[38;5;124m'\u001b[39m\u001b[38;5;124mProduto não consta em estoque\u001b[39m\u001b[38;5;124m'\u001b[39m, \u001b[38;5;124m'\u001b[39m\u001b[38;5;124mProduto não consta em estoque\u001b[39m\u001b[38;5;124m'\u001b[39m]\n\u001b[0;32m      6\u001b[0m \u001b[38;5;28;01mfor\u001b[39;00m (entrada, saída) \u001b[38;5;129;01min\u001b[39;00m \u001b[38;5;28mzip\u001b[39m(entradas, saídas):\n\u001b[1;32m----> 7\u001b[0m     ret \u001b[38;5;241m=\u001b[39m \u001b[43mverificarEstoque\u001b[49m(estoque, entrada)\n\u001b[0;32m      8\u001b[0m     \u001b[38;5;28;01mif\u001b[39;00m(ret \u001b[38;5;241m!=\u001b[39m saída):\n\u001b[0;32m      9\u001b[0m         \u001b[38;5;28mprint\u001b[39m(\u001b[38;5;124m'\u001b[39m\u001b[38;5;124mErro ---> Produto: \u001b[39m\u001b[38;5;132;01m%s\u001b[39;00m\u001b[38;5;124m - Valor esperado: \u001b[39m\u001b[38;5;132;01m%s\u001b[39;00m\u001b[38;5;124m - valor retornado: \u001b[39m\u001b[38;5;132;01m%s\u001b[39;00m\u001b[38;5;130;01m\\n\u001b[39;00m\u001b[38;5;130;01m\\n\u001b[39;00m\u001b[38;5;124m'\u001b[39m \u001b[38;5;241m%\u001b[39m (entrada, \u001b[38;5;28mstr\u001b[39m(saída), \u001b[38;5;28mstr\u001b[39m(ret)))\n",
      "\u001b[1;31mNameError\u001b[0m: name 'verificarEstoque' is not defined"
     ]
    }
   ],
   "source": [
    "estoque = {'Camiseta': 10, 'Calça': 5, 'Sapato': 3, 'Meia': 8, 'Boné': 12, 'Moletom': 0}\n",
    "\n",
    "entradas = ['Calça', 'Meia', 'Moletom', 'Saia']\n",
    "saídas = [5, 8, 'Produto não consta em estoque', 'Produto não consta em estoque']\n",
    "\n",
    "for (entrada, saída) in zip(entradas, saídas):\n",
    "    ret = verificarEstoque(estoque, entrada)\n",
    "    if(ret != saída):\n",
    "        print('Erro ---> Produto: %s - Valor esperado: %s - valor retornado: %s\\n\\n' % (entrada, str(saída), str(ret)))\n",
    "        print('A implementação da função NÃO está correta!')\n",
    "        break\n",
    "else:\n",
    "    print('A implementação da função está correta!')"
   ]
  },
  {
   "cell_type": "markdown",
   "metadata": {},
   "source": [
    "#### 3) Exercício sobre programação orientada a objetos (POO). \n",
    "\n",
    "Implemente as classes mostradas no diagrama UML abaixo. Siga exatamente a especificação mostrada no diagrama UML, ou seja, os nomes dos atributos, nomes dos métodos, número de parâmetros dos métodos, encapsulamentos dos membros das classes, relacionamento entre as classes, etc. \n",
    "\n",
    "<img src=\"../../figures/Prova_C126_1S2023_Classes_UML.png\" width=\"1000px\">\n",
    "\n",
    "**DICAS**:\n",
    "\n",
    "+ Os métodos públicos `getCódigo()`, `getPreço()`, `getCor()`, `getTecnologia()`, `getCPU()`, `getSistemaOperacional()`, e `getMemória()` devem retornar os valores de seus respectivos atributos.\n",
    "+ O método público `setPreço()` deve alterar o valor do atributo privado `preço`.\n",
    "+ O método público `setSistemaOperacional()` deve alterar o valor do atributo privado `sistemaOperacional`.\n",
    "+ O método privado `inicializarSistema()` deve retornar a string `inicializando o sistema...`\n",
    "+ O método público `powerOn()` deve chamar o método privado `inicializarSistema()` e retornar a string retornada por ele."
   ]
  },
  {
   "cell_type": "code",
   "execution_count": 5,
   "metadata": {},
   "outputs": [],
   "source": [
    "# Implemente aqui o código do exercício."
   ]
  },
  {
   "cell_type": "markdown",
   "metadata": {},
   "source": [
    "Execute o trecho de código abaixo para testar sua função. Se sua implementação estiver correta, a seguinte mensagem será impressa após a execução da célula abaixo:\n",
    "```python\n",
    "RESULTADO:\n",
    "Sua implementação está correta!\n",
    "``` \n",
    "\n",
    "**NÃO ALTERE O CÓDIGO ABAIXO EM HIPÓTESE ALGUMA. SUA IMPLEMENTAÇÃO DEVE FUNCIONAR SEM NENHUMA ALTERAÇÃO DO CÓDIGO ABAIXO.**"
   ]
  },
  {
   "cell_type": "code",
   "execution_count": 6,
   "metadata": {},
   "outputs": [
    {
     "ename": "NameError",
     "evalue": "name 'Smartphone' is not defined",
     "output_type": "error",
     "traceback": [
      "\u001b[1;31m---------------------------------------------------------------------------\u001b[0m",
      "\u001b[1;31mNameError\u001b[0m                                 Traceback (most recent call last)",
      "Cell \u001b[1;32mIn[6], line 1\u001b[0m\n\u001b[1;32m----> 1\u001b[0m fone \u001b[38;5;241m=\u001b[39m \u001b[43mSmartphone\u001b[49m(\u001b[38;5;241m1234\u001b[39m, \u001b[38;5;241m2345.34\u001b[39m, \u001b[38;5;124m'\u001b[39m\u001b[38;5;124mazul\u001b[39m\u001b[38;5;124m'\u001b[39m, \u001b[38;5;124m'\u001b[39m\u001b[38;5;124mmotorola\u001b[39m\u001b[38;5;124m'\u001b[39m, \u001b[38;5;124m'\u001b[39m\u001b[38;5;124mg22\u001b[39m\u001b[38;5;124m'\u001b[39m, \u001b[38;5;124m'\u001b[39m\u001b[38;5;124m5G\u001b[39m\u001b[38;5;124m'\u001b[39m, \u001b[38;5;28;01mFalse\u001b[39;00m)\n\u001b[0;32m      2\u001b[0m note \u001b[38;5;241m=\u001b[39m Notebook(\u001b[38;5;241m5634\u001b[39m, \u001b[38;5;241m15667.22\u001b[39m, \u001b[38;5;124m'\u001b[39m\u001b[38;5;124mpreto\u001b[39m\u001b[38;5;124m'\u001b[39m, \u001b[38;5;124m'\u001b[39m\u001b[38;5;124macer\u001b[39m\u001b[38;5;124m'\u001b[39m, \u001b[38;5;124m'\u001b[39m\u001b[38;5;124mpredator\u001b[39m\u001b[38;5;124m'\u001b[39m, \u001b[38;5;124m'\u001b[39m\u001b[38;5;124mintel i7\u001b[39m\u001b[38;5;124m'\u001b[39m, \u001b[38;5;124m'\u001b[39m\u001b[38;5;124mwindows\u001b[39m\u001b[38;5;124m'\u001b[39m, \u001b[38;5;241m128\u001b[39m)\n\u001b[0;32m      4\u001b[0m ret \u001b[38;5;241m=\u001b[39m \u001b[38;5;241m0\u001b[39m\n",
      "\u001b[1;31mNameError\u001b[0m: name 'Smartphone' is not defined"
     ]
    }
   ],
   "source": [
    "fone = Smartphone(1234, 2345.34, 'azul', 'motorola', 'g22', '5G', False)\n",
    "note = Notebook(5634, 15667.22, 'preto', 'acer', 'predator', 'intel i7', 'windows', 128)\n",
    "\n",
    "ret = 0\n",
    "\n",
    "if(fone.getCódigo() == 1234):\n",
    "    ret += 1\n",
    "else:\n",
    "    print('Erro 1: fone.getCódigo()')\n",
    "\n",
    "if(fone.getPreço() == 2345.34):\n",
    "    ret += 1\n",
    "else:\n",
    "    print('Erro 2: fone.getPreço()')\n",
    "\n",
    "if(fone.getCor()=='azul'):\n",
    "    ret += 1\n",
    "else:\n",
    "    print('Erro 3: fone.getCor()')\n",
    "\n",
    "fone.setPreço(676.67)\n",
    "if(fone.getPreço() == 676.67):\n",
    "    ret += 1\n",
    "else:\n",
    "    print('Erro 4: fone.setPreço()')\n",
    "\n",
    "if(fone.getTecnologia() == '5G'):\n",
    "    ret += 1\n",
    "else:\n",
    "    print('Erro 5: fone.getTecnologia()')\n",
    "    \n",
    "if(fone.powerOn() == 'inicializando o sistema...'):\n",
    "    ret += 1\n",
    "else:\n",
    "    print('Erro 6: fone.powerOn()')\n",
    "    \n",
    "if(fone.bloqueado == False):\n",
    "    ret += 1\n",
    "else:\n",
    "    print('Erro 7: fone.bloqueado')\n",
    "    \n",
    "try:\n",
    "    if(fone.__inicializarSistema() == 'inicializando o sistema...'):\n",
    "        print('Erro 8: fone.__inicializarSistema()')\n",
    "except AttributeError:\n",
    "    ret += 1   \n",
    "    \n",
    "try:\n",
    "    if(fone.__tecnologia == '5G'):\n",
    "        print('Erro 9: fone.__tecnologia')\n",
    "except AttributeError:\n",
    "    ret += 1  \n",
    "\n",
    "try:\n",
    "    if(fone.__código == 1234):\n",
    "        print('Erro 10: fone.__código')\n",
    "except AttributeError:\n",
    "    ret += 1 \n",
    "\n",
    "try:\n",
    "    if(fone.__preço == 676.67):\n",
    "        print('Erro 11: fone.__preço')\n",
    "except AttributeError:\n",
    "    ret += 1 \n",
    "\n",
    "if(fone._cor == 'azul'):\n",
    "    ret += 1\n",
    "else:\n",
    "    print('Erro 12: fone._cor')\n",
    "\n",
    "if(fone.marca == 'motorola'):\n",
    "    ret += 1\n",
    "else:\n",
    "    print('Erro 13: fone.marca')\n",
    "    \n",
    "if(fone.modelo == 'g22'):\n",
    "    ret += 1\n",
    "else:\n",
    "    print('Erro 14: fone.modelo')\n",
    "\n",
    "if(note.getCódigo() == 5634):\n",
    "    ret += 1\n",
    "else:\n",
    "    print('Erro 15: note.getCódigo()')\n",
    "\n",
    "if(note.getPreço() == 15667.22):\n",
    "    ret += 1\n",
    "else:\n",
    "    print('Erro 16: note.getPreço()')\n",
    "\n",
    "if(note.getCor()=='preto'):\n",
    "    ret += 1\n",
    "else:\n",
    "    print('Erro 17: note.getCor()')\n",
    "\n",
    "note.setPreço(6768.89)\n",
    "if(note.getPreço() == 6768.89):\n",
    "    ret += 1\n",
    "else:\n",
    "    print('Erro 18: note.setPreço()')\n",
    "\n",
    "try:\n",
    "    if(note.__código == 5634):\n",
    "        print('Erro 19: note.__código')\n",
    "except AttributeError:\n",
    "    ret += 1 \n",
    "\n",
    "try:\n",
    "    if(note.__preço == 6768.89):\n",
    "        print('Erro 20: note.__preço')\n",
    "except AttributeError:\n",
    "    ret += 1 \n",
    "\n",
    "if(note._cor == 'preto'):\n",
    "    ret += 1\n",
    "else:\n",
    "    print('Erro 21: note._cor')\n",
    "\n",
    "if(note.marca == 'acer'):\n",
    "    ret += 1\n",
    "else:\n",
    "    print('Erro 22: note.marca')\n",
    "    \n",
    "if(note.modelo == 'predator'):\n",
    "    ret += 1\n",
    "else:\n",
    "    print('Erro 23: note.modelo')\n",
    "\n",
    "if(note.getCpu() == 'intel i7'):\n",
    "    ret += 1\n",
    "else:\n",
    "    print('Erro 24: note.getCpu()')\n",
    "\n",
    "if(note.getSistemaOperacional() == 'windows'):\n",
    "    ret += 1\n",
    "else:\n",
    "    print('Erro 25: note.getSistemaOperacional()')\n",
    "    \n",
    "if(note.getMemória() == 128):\n",
    "    ret += 1\n",
    "else:\n",
    "    print('Erro 26: note.getMemória()')\n",
    "    \n",
    "note.setSistemaOperacional('linux')\n",
    "if(note.getSistemaOperacional() == 'linux'):\n",
    "    ret += 1\n",
    "else:\n",
    "    print('Erro 27: note.setSistemaOperacional()')\n",
    "\n",
    "try:\n",
    "    if(note.__cpu == 'intel i7'):\n",
    "        print('Erro 28: note.__cpu')\n",
    "except AttributeError:\n",
    "    ret += 1 \n",
    "    \n",
    "try:\n",
    "    if(note.__sistemaOperacional == 'linux'):\n",
    "        print('Erro 29: note.__sistemaOperacional')\n",
    "except AttributeError:\n",
    "    ret += 1\n",
    "    \n",
    "if(note._memória == 128):\n",
    "    ret += 1\n",
    "else:\n",
    "    print('Erro 30: note._memória')   \n",
    "\n",
    "if(ret==30):\n",
    "    print('Sua implementação está correta.')\n",
    "else:\n",
    "    print('Sua implementação NÃO está correta.')"
   ]
  },
  {
   "cell_type": "markdown",
   "metadata": {},
   "source": [
    "#### 4) Exercício sobre biblioteca numpy. \n",
    "\n",
    "Implemente uma função chamada `quantidadeDeElementosDivisiveisPor3` que recebe uma array NumPy `x` como argumento de entrada e retorna a quantidade de elementos em `x` que são divisíveis por 3.\n",
    "\n",
    "**DICAS**\n",
    "\n",
    "+ Não se esqueça de importar a biblioteca NumPy.\n",
    "+ Uma das possíveis formas de se resolver este exercício usa indexação com filtragem condicional e a função `np.sum()` da biblioteca NumPy. Veja as dicas abaixo para implementar esta solução.\n",
    "    + Lembre-se que a filtragem condicional retorna uma array com as mesmas dimensões da array original, mas com valores booleanos.\n",
    "    + Lembre-se também que o tipo Booleano é uma especialização do tipo dos inteiros e que em uma soma, por exemplo, o interpretador Python infere o valor booleano `True` como o valor inteiro `1` e `False` como `0`. \n",
    "    + Portanto, pode-se a função `np.sum()` para somar os elementos de uma array de valores booleanos.\n",
    "+ Você pode implementar a função da forma que achar melhor. As dicas acima são apenas sugestões para uma possível solução."
   ]
  },
  {
   "cell_type": "code",
   "execution_count": 7,
   "metadata": {},
   "outputs": [],
   "source": [
    "# Implemente aqui o código do exercício."
   ]
  },
  {
   "cell_type": "markdown",
   "metadata": {},
   "source": [
    "Execute o trecho de código abaixo para testar sua função. Se sua implementação estiver correta, a seguinte mensagem será impressa após a execução da célula abaixo:\n",
    "```python\n",
    "RESULTADO:\n",
    "A implementação da função está correta!\n",
    "``` \n",
    "\n",
    "**NÃO ALTERE O CÓDIGO ABAIXO EM HIPÓTESE ALGUMA. SUA IMPLEMENTAÇÃO DEVE FUNCIONAR SEM NENHUMA ALTERAÇÃO DO CÓDIGO ABAIXO.**"
   ]
  },
  {
   "cell_type": "code",
   "execution_count": 8,
   "metadata": {},
   "outputs": [
    {
     "ename": "NameError",
     "evalue": "name 'np' is not defined",
     "output_type": "error",
     "traceback": [
      "\u001b[1;31m---------------------------------------------------------------------------\u001b[0m",
      "\u001b[1;31mNameError\u001b[0m                                 Traceback (most recent call last)",
      "Cell \u001b[1;32mIn[8], line 1\u001b[0m\n\u001b[1;32m----> 1\u001b[0m entradas \u001b[38;5;241m=\u001b[39m [\u001b[43mnp\u001b[49m\u001b[38;5;241m.\u001b[39marray([\u001b[38;5;241m0\u001b[39m]), np\u001b[38;5;241m.\u001b[39marray([\u001b[38;5;241m2\u001b[39m,\u001b[38;5;241m4\u001b[39m,\u001b[38;5;241m8\u001b[39m,\u001b[38;5;241m11\u001b[39m,\u001b[38;5;241m22\u001b[39m]), np\u001b[38;5;241m.\u001b[39marray([\u001b[38;5;241m1\u001b[39m,\u001b[38;5;241m3\u001b[39m,\u001b[38;5;241m5\u001b[39m,\u001b[38;5;241m7\u001b[39m,\u001b[38;5;241m12\u001b[39m]), np\u001b[38;5;241m.\u001b[39marray([\u001b[38;5;241m0\u001b[39m,\u001b[38;5;241m1\u001b[39m,\u001b[38;5;241m2\u001b[39m,\u001b[38;5;241m3\u001b[39m,\u001b[38;5;241m4\u001b[39m,\u001b[38;5;241m5\u001b[39m,\u001b[38;5;241m6\u001b[39m]),np\u001b[38;5;241m.\u001b[39marray([\u001b[38;5;241m0\u001b[39m,\u001b[38;5;241m2\u001b[39m,\u001b[38;5;241m3\u001b[39m,\u001b[38;5;241m4\u001b[39m,\u001b[38;5;241m6\u001b[39m,\u001b[38;5;241m8\u001b[39m,\u001b[38;5;241m9\u001b[39m,\u001b[38;5;241m12\u001b[39m])]\n\u001b[0;32m      3\u001b[0m saídas \u001b[38;5;241m=\u001b[39m [\u001b[38;5;241m1\u001b[39m, \u001b[38;5;241m0\u001b[39m, \u001b[38;5;241m2\u001b[39m, \u001b[38;5;241m3\u001b[39m, \u001b[38;5;241m5\u001b[39m]\n\u001b[0;32m      5\u001b[0m \u001b[38;5;28;01mfor\u001b[39;00m entrada, saída \u001b[38;5;129;01min\u001b[39;00m \u001b[38;5;28mzip\u001b[39m(entradas,saídas):\n",
      "\u001b[1;31mNameError\u001b[0m: name 'np' is not defined"
     ]
    }
   ],
   "source": [
    "entradas = [np.array([0]), np.array([2,4,8,11,22]), np.array([1,3,5,7,12]), np.array([0,1,2,3,4,5,6]),np.array([0,2,3,4,6,8,9,12])]\n",
    "\n",
    "saídas = [1, 0, 2, 3, 5]\n",
    "\n",
    "for entrada, saída in zip(entradas,saídas):\n",
    "    ret = quantidadeDeElementosDivisiveisPor3(entrada)\n",
    "    if(ret != saída):\n",
    "        print('Erro ---> Array: %s - Valor esperado: %s - valor retornado: %s\\n\\n' % (str(entrada), str(saída), str(ret)))\n",
    "        print('A implementação da função NÃO está correta!')\n",
    "        break\n",
    "else:\n",
    "    print('A implementação da função está correta!')"
   ]
  }
 ],
 "metadata": {
  "kernelspec": {
   "display_name": "Python 3 (ipykernel)",
   "language": "python",
   "name": "python3"
  },
  "language_info": {
   "codemirror_mode": {
    "name": "ipython",
    "version": 3
   },
   "file_extension": ".py",
   "mimetype": "text/x-python",
   "name": "python",
   "nbconvert_exporter": "python",
   "pygments_lexer": "ipython3",
   "version": "3.10.9"
  }
 },
 "nbformat": 4,
 "nbformat_minor": 4
}
