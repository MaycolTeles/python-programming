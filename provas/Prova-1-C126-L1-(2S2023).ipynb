{
 "cells": [
  {
   "cell_type": "markdown",
   "id": "e5ba7f0f",
   "metadata": {},
   "source": [
    "# Prova #1 C126-L1 (2S2023)\n",
    "\n",
    "### Instruções\n",
    "\n",
    "1. Antes de começar, você deve clicar na opção \"Copiar para o Drive\" na barra superior do Colab. Depois de clicar nela, verifique se você está trabalhando nessa versão do notebook para que seu trabalho seja salvo.\n",
    "2. Para cada um dos exercícios a seguir, faça o seguinte:\n",
    "    * Adicione comentários ao seu código explicando o que você fez.\n",
    "    * Caso o exercício involva a implementação de uma função:\n",
    "        + Coloque um comentário dizendo o que a função faz, use **docstrings**.\n",
    "        + Escolha nomes autoexplicativos para suas funções, parâmetros e variáveis.\n",
    "3. Quando você terminar a prova, vá ao menu do Colab e selecione a opção para fazer download do notebook.\n",
    "    * Os notebooks tem extensão .ipynb. \n",
    "    * Este deve ser o arquivo que você irá entregar.\n",
    "    * No Colab vá até a opção **File** -> **Download .ipynb**.\n",
    "4. Em seguida, faça a entrega do notebook da prova (ou seja, anexe o arquivo) na tarefa criada no MS Teams.\n",
    "5. Atente-se ao prazo de entrega definido na tarefa do MS Teams. \n",
    "6. **A prova deve ser resolvida individualmente**.\n",
    "7. Todas as questões têm o mesmo peso.\n",
    "8. Não se esqueça de colocar seu nome e número de matrícula nos campos abaixo.\n",
    "9. Você pode consultar o material de aula e laboratórios.\n",
    "10. Não altere em hipótese alguma as células com código de teste.\n",
    "11. A interpretação faz parte da prova.\n",
    "12. <span style=\"color:blue\">VERIFIQUE SE O NOTEBOOK ANEXADO AO TEAMS CONTÉM TODAS AS SUAS RESPOSTAS</span>.\n",
    "13. Boa sorte!"
   ]
  },
  {
   "cell_type": "markdown",
   "id": "6225cc14",
   "metadata": {},
   "source": [
    "**Nome**:\n",
    "\n",
    "**Matrícula**:"
   ]
  },
  {
   "cell_type": "markdown",
   "id": "c2e6d6bb",
   "metadata": {},
   "source": [
    "## Exercícios"
   ]
  },
  {
   "cell_type": "markdown",
   "id": "05a74f8f",
   "metadata": {},
   "source": [
    "#### 1) Exercício sobre controle de fluxo e operadores de associação.\n",
    "\n",
    "Implemente uma função chamada `éDígito` que recebe um **caractere** como parâmetro de entrada e verifica se esse caractere é o **caractere de um dígito de 0 a 9** ou não. A função deve **retornar** o valor booleano `True` se o caractere for o caractere de um dígito de 0 a 9 e `False` caso contrário.\n",
    "\n",
    "**DICAS**:\n",
    "\n",
    "+ Lembre-se que um **caractere** nada mais é do que uma string com comprimento igual a 1.\n",
    "+ Note que a função **deve retornar** um valor booleano. \n",
    "+ Use os **operadores de associação** (`in` ou `not in`) para verificar se o caractere passado para a função está presente em uma lista de **caracteres de dígitos**.\n",
    "+ O exemplo abaixo mostra como criar uma lista com 3 elementos.\n",
    "```python\n",
    "lista = [1, 'A', 'string']\n",
    "```"
   ]
  },
  {
   "cell_type": "code",
   "execution_count": null,
   "id": "21633a1c",
   "metadata": {},
   "outputs": [],
   "source": [
    "# Implemente aqui o código da função."
   ]
  },
  {
   "cell_type": "markdown",
   "id": "67224e5a",
   "metadata": {},
   "source": [
    "Execute o trecho de código abaixo para testar sua função. Se sua implementação estiver correta, a seguinte mensagem será impressa após a execução da célula abaixo:\n",
    "```python\n",
    "RESULTADO:\n",
    "A implementação da função está correta!\n",
    "``` \n",
    "\n",
    "**NÃO ALTERE O CÓDIGO ABAIXO EM HIPÓTESE ALGUMA. SUA IMPLEMENTAÇÃO DEVE FUNCIONAR SEM NENHUMA ALTERAÇÃO DO CÓDIGO ABAIXO.**"
   ]
  },
  {
   "cell_type": "code",
   "execution_count": null,
   "id": "87709d8d",
   "metadata": {},
   "outputs": [],
   "source": [
    "entradas = ['0', 'a', 'A', '6', 'C', '9']\n",
    "saídas = [True, False, False, True, False, True]\n",
    "\n",
    "error = 0\n",
    "for entrada, saída in zip(entradas, saídas):\n",
    "    ret = éDígito(entrada)\n",
    "    if ret != saída:\n",
    "        error += 1\n",
    "        print('Erro ---> éDígito(\\'%s\\'): %s - valor esperado: %s' % (entrada, ret, saída))\n",
    "\n",
    "print('\\nRESULTADO:')\n",
    "if(error == 0):\n",
    "    print('A implementação da função está correta!')\n",
    "else:\n",
    "    print('A implementação da função NÃO está correta...')"
   ]
  },
  {
   "cell_type": "markdown",
   "id": "06ae72b5",
   "metadata": {},
   "source": [
    "#### 2) Exercício sobre funções e laços de repetição.\n",
    "\n",
    "Crie uma função chamada `encontrarMaiorNúmero` que recebe um **número arbitrário de parâmetros de entrada** e retorna o maior número de todos.\n",
    "\n",
    "**DICAS**\n",
    "\n",
    "+ Os números passados para a função sempre serão maiores ou no mínimo iguais a 0.\n",
    "+ Você pode implementar a função da forma descrita abaixo, mas note que existem outras possibilidades e você não precisa seguí-la se não quiser.\n",
    "    + Use um laço de repetição `for` para iterar através dos elementos da tupla de entrada, passada pelo interpretador. A tupla contém os vários valores passados para a função.\n",
    "    + Inicialize a variável auxiliar `maiorNumero` com o primeiro elemento da tupla de entrada, ou seja, `maiorNumero = numeros[0]`, onde `numeros` é a tupla com os parâmetros de entrada da função (ou seja, `numeros` é o nome do parâmetro de entrada da função).\n",
    "    + A cada iteração do `for`, compare o valor de cada número da tupla com o valor armazenado na variável `maiorNumero`.\n",
    "    + Se o número armazenado na tupla de entrada for maior do que o número armazenado na variável `maiorNumero`, atualize a variável `maiorNumero` com aquele número. Caso contrário, não faça nada.\n",
    "    + Ao final, retorne o valor armazenado na variável `maiorNumero`.\n",
    "\n",
    "**Exemplo**: O código abaixo mostra como iterar através dos valores de uma tupla.\n",
    "\n",
    "```python\n",
    "# definindo uma tupla.\n",
    "tupla = (0, 1, 2, 3)\n",
    "\n",
    "# iterando através dos valores da tupla com um laço for.\n",
    "for valor in tupla:\n",
    "    print(valor)\n",
    "0\n",
    "1\n",
    "2\n",
    "3\n",
    "```"
   ]
  },
  {
   "cell_type": "code",
   "execution_count": null,
   "id": "e8a722fc",
   "metadata": {},
   "outputs": [],
   "source": [
    "# Implemente aqui o código da função."
   ]
  },
  {
   "cell_type": "markdown",
   "id": "0f3898e8",
   "metadata": {},
   "source": [
    "Execute o trecho de código abaixo para testar sua função. Se sua implementação estiver correta, a seguinte mensagem será impressa após a execução da célula abaixo:\n",
    "```python\n",
    "RESULTADO:\n",
    "A implementação da função está correta!\n",
    "``` \n",
    "\n",
    "**NÃO ALTERE O CÓDIGO ABAIXO EM HIPÓTESE ALGUMA. SUA IMPLEMENTAÇÃO DEVE FUNCIONAR SEM NENHUMA ALTERAÇÃO DO CÓDIGO ABAIXO.**"
   ]
  },
  {
   "cell_type": "code",
   "execution_count": null,
   "id": "59cfd877",
   "metadata": {},
   "outputs": [],
   "source": [
    "entradas = [(0,), (0, 1), (7, 6, 2), (0, 10, 2, 8), (1.2, 3.4, 9.8)]\n",
    "saídas = [0, 1, 7, 10, 9.8]\n",
    "\n",
    "error = 0\n",
    "for entrada, saída in zip(entradas, saídas):\n",
    "    ret = encontrarMaiorNúmero(*entrada)\n",
    "    if ret != saída:\n",
    "        error += 1\n",
    "        print('Erro ---> éDígito(\\'%s\\'): %s - valor esperado: %s' % (entrada, ret, saída))\n",
    "\n",
    "print('\\nRESULTADO:')\n",
    "if(error == 0):\n",
    "    print('A implementação da função está correta!')\n",
    "else:\n",
    "    print('A implementação da função NÃO está correta...')"
   ]
  },
  {
   "cell_type": "markdown",
   "id": "6978535d",
   "metadata": {},
   "source": [
    "#### 3) Exercício sobre controle de fluxo, operadores lógicos e de comparação\n",
    "\n",
    "Implemente uma função chamada `calcularIMC` que receba a altura e o peso de uma pessoa como entrada. A função deve calcular o Índice de Massa Corporal (IMC) da pessoa e **retornar** o IMC, o status de IMC e a classificação de IMC de acordo com a tabela abaixo:\n",
    "\n",
    "|      **IMC**     |  **Status de IMC** | **Classificação de IMC** |\n",
    "|:----------------:|:------------------:|:------------------------:|\n",
    "|  IMC < 18.5      |   Abaixo do peso   |          Magreza         |\n",
    "| 18.5 <= IMC < 25 |      Saudável      |          Normal          |\n",
    "|  25 <= IMC < 30  |      Sobrepeso     |       Pré-obesidade      |\n",
    "|  30 <= IMC < 35  |  Obesidade grau I  |         Obesidade        |\n",
    "|  35 <= IMC < 40  |  Obesidade grau II |     Obesidade severa     |\n",
    "|     IMC >= 40    | Obesidade grau III |     Obesidade mórbida    |\n",
    "\n",
    "\n",
    "O IMC é calculado com a seguinte equação $\\text{IMC} = \\text{peso} / \\text{altura}^2$.\n",
    "\n",
    "**DICAS**\n",
    "\n",
    "+ A função retorna **três** valores: o IMC, o estatus IMC e a classificação de IMC.\n",
    "+ O IMC é um valor numérico e o estatus IMC e a classificação IMC são strings.\n",
    "+ O retorno dos valores deve ocorrer na seguinte ordem: IMC, estatus IMC e classificação de IMC.\n",
    "+ <span style=\"color:blue\">Use exatamente as mesmas strings que estão na tabela acima, caso contrário, o código de teste irá dizer que sua função NÃO está correta</span>."
   ]
  },
  {
   "cell_type": "code",
   "execution_count": null,
   "id": "5eb021f5",
   "metadata": {},
   "outputs": [],
   "source": [
    "# Implemente aqui o código da função."
   ]
  },
  {
   "cell_type": "markdown",
   "id": "73a0db72",
   "metadata": {},
   "source": [
    "Execute o trecho de código abaixo para testar sua função. Se sua implementação estiver correta, a seguinte mensagem será impressa após a execução da célula abaixo:\n",
    "```python\n",
    "RESULTADO:\n",
    "A implementação da função está correta!\n",
    "``` \n",
    "\n",
    "**NÃO ALTERE O CÓDIGO ABAIXO EM HIPÓTESE ALGUMA. SUA IMPLEMENTAÇÃO DEVE FUNCIONAR SEM NENHUMA ALTERAÇÃO DO CÓDIGO ABAIXO.**"
   ]
  },
  {
   "cell_type": "code",
   "execution_count": null,
   "id": "91b31a2d",
   "metadata": {},
   "outputs": [],
   "source": [
    "entradas = [(1.9, 50), (1.7, 70), (1.8, 90), (1.7, 90), (1.6, 95), (1.5, 100)]\n",
    "saídas = [(13.850415512465375, 'Abaixo do peso', 'Magreza'),\n",
    "          (24.221453287197235, 'Saudável', 'Normal'),\n",
    "          (27.777777777777775, 'Sobrepeso', 'Pré-obesidade'), \n",
    "          (31.14186851211073, 'Obesidade grau I', 'Obesidade'), \n",
    "          (37.10937499999999, 'Obesidade grau II', 'Obesidade severa'), \n",
    "          (44.44444444444444, 'Obesidade grau III', 'Obesidade mórbida')\n",
    "]\n",
    "\n",
    "error = 0\n",
    "for entrada, saída in zip(entradas, saídas):\n",
    "    ret = calcularIMC(entrada[0], entrada[1])\n",
    "    if ret != saída:\n",
    "        error += 1\n",
    "        print('Erro ---> calcularIMC(\\'%s\\'): %s - valor esperado: %s' % (entrada, ret, saída))\n",
    "\n",
    "print('\\nRESULTADO:')\n",
    "if(error == 0):\n",
    "    print('A implementação da função está correta!')\n",
    "else:\n",
    "    print('A implementação da função NÃO está correta...')"
   ]
  },
  {
   "cell_type": "markdown",
   "id": "8feec23d",
   "metadata": {},
   "source": [
    "#### 4) Exercício sobre manipulação de strings e laços de repetição:\n",
    "\n",
    "Implemente uma função chamada `inverterPalavra()` que recebe uma palavra como parâmetro de entrada e retorna a palavra invertida, ou seja, os caracteres da palavra devem ser apresentados em ordem inversa.\n",
    "\n",
    "**DICAS**:\n",
    "\n",
    "+ Você pode implementar a função da forma descrita abaixo, mas note que existem outras possibilidades e você não precisa seguí-la se não quiser.\n",
    "    + Crie uma variável chamada `palavraInvertida`, que irá armazenar a palavra invertida, e a inicialize com uma string vazia, ou seja, `palavraInvertida = \"\"`.\n",
    "    + Use um laço de repetição `for` para iterar através dos caracteres da palavra de entrada.\n",
    "    + A cada iteração do `for`, **concatene** o caractere corrente da palavra de entrada à esquerda da string `palavraInvertida`, ou seja, `palavraInvertida = caractereCorrente + palavraInvertida`.\n",
    "    + Após finalizar o laço de repetição `for`, retorne a variável `palavraInvertida`."
   ]
  },
  {
   "cell_type": "code",
   "execution_count": null,
   "id": "f2a5c0b9",
   "metadata": {},
   "outputs": [],
   "source": [
    "# Implemente aqui o código da função."
   ]
  },
  {
   "cell_type": "markdown",
   "id": "63b8ed02",
   "metadata": {},
   "source": [
    "Execute o trecho de código abaixo para testar sua função. Se sua implementação estiver correta, a seguinte mensagem será impressa após a execução da célula abaixo:\n",
    "```python\n",
    "RESULTADO:\n",
    "A implementação da função está correta!\n",
    "``` \n",
    "\n",
    "**NÃO ALTERE O CÓDIGO ABAIXO EM HIPÓTESE ALGUMA. SUA IMPLEMENTAÇÃO DEVE FUNCIONAR SEM NENHUMA ALTERAÇÃO DO CÓDIGO ABAIXO.**"
   ]
  },
  {
   "cell_type": "code",
   "execution_count": null,
   "id": "dafb9820",
   "metadata": {},
   "outputs": [],
   "source": [
    "entradas = ['exemplo', 'anagrama', 'ana', 'b']\n",
    "saídas = ['olpmexe', 'amargana', 'ana', 'b']\n",
    "\n",
    "error = 0\n",
    "for entrada, saída in zip(entradas, saídas):\n",
    "    ret = inverterPalavra(entrada)\n",
    "    if ret != saída:\n",
    "        error += 1\n",
    "        print('Erro ---> inverterPalavra(\\'%s\\'): %s - valor esperado: %s' % (entrada, ret, saída))\n",
    "\n",
    "print('\\nRESULTADO:')\n",
    "if(error == 0):\n",
    "    print('A implementação da função está correta!')\n",
    "else:\n",
    "    print('A implementação da função NÃO está correta...')"
   ]
  },
  {
   "cell_type": "markdown",
   "id": "54ccca49",
   "metadata": {},
   "source": [
    "### O exercício abaixo é opcional. Só o resolva caso você não tenha conseguido resolver algum dos exercícios anteriores. Caso você tenha resolvido todos os exercícios anteriores, não o resolva, pois ele não valerá nota extra."
   ]
  },
  {
   "cell_type": "markdown",
   "id": "98bc68bd",
   "metadata": {},
   "source": [
    "#### 5) Exercício sobre laços de repetição.\n",
    "\n",
    "Implemente uma função chamada `fatorial` que calcule o fatorial de um valor de entrada `x`. \n",
    "\n",
    "**IMPORTANTE: Utilize apenas laços de repetição para implementar esta função. Você pode utilizar tanto `for` quanto `while`**\n",
    "\n",
    "**Dica**: O fatorial de um número é calculado pela multiplicação desse número por todos os seus antecessores até chegar ao número 1. Uma exceção é o fatorial de 0, que é igual a 1.\n",
    "\n",
    "**Exemplos**: \n",
    "\n",
    "* 0! = 1\n",
    "* 1! = 1\n",
    "* 2! = 2 * 1 = 2\n",
    "* 3! = 3 * 2 * 1 = 6\n",
    "* 4! = 4 * 3 * 2 * 1 = 24"
   ]
  },
  {
   "cell_type": "code",
   "execution_count": null,
   "id": "3e96a0e2",
   "metadata": {},
   "outputs": [],
   "source": [
    "# Implemente aqui o código da função."
   ]
  },
  {
   "cell_type": "markdown",
   "id": "4ba11900",
   "metadata": {},
   "source": [
    "Execute o trecho de código abaixo para testar sua função. Se sua implementação estiver correta, a seguinte mensagem será impressa após a execução da célula abaixo:\n",
    "```python\n",
    "RESULTADO:\n",
    "A implementação da função está correta!\n",
    "```\n",
    "\n",
    "**NÃO ALTERE O CÓDIGO ABAIXO EM HIPÓTESE ALGUMA. SUA IMPLEMENTAÇÃO DEVE FUNCIONAR SEM NENHUMA ALTERAÇÃO DO CÓDIGO ABAIXO.**"
   ]
  },
  {
   "cell_type": "code",
   "execution_count": null,
   "id": "98d19669",
   "metadata": {},
   "outputs": [],
   "source": [
    "entradas = [0, 1, 2, 3, 4, 5]\n",
    "saídas = [1, 1, 2, 6, 24, 120]\n",
    "\n",
    "error = 0\n",
    "for entrada, saída in zip(entradas, saídas):\n",
    "    ret = fatorial(entrada)\n",
    "    if ret != saída:\n",
    "        error += 1\n",
    "        print('Erro ---> fatorial(%d): %d - valor esperado: %d' % (entrada, ret, saída))\n",
    "\n",
    "print('\\nRESULTADO:')\n",
    "if(error == 0):\n",
    "    print('A implementação da função está correta!')\n",
    "else:\n",
    "    print('A implementação da função NÃO está correta...')"
   ]
  }
 ],
 "metadata": {
  "kernelspec": {
   "display_name": "Python 3 (ipykernel)",
   "language": "python",
   "name": "python3"
  },
  "language_info": {
   "codemirror_mode": {
    "name": "ipython",
    "version": 3
   },
   "file_extension": ".py",
   "mimetype": "text/x-python",
   "name": "python",
   "nbconvert_exporter": "python",
   "pygments_lexer": "ipython3",
   "version": "3.10.9"
  }
 },
 "nbformat": 4,
 "nbformat_minor": 5
}
