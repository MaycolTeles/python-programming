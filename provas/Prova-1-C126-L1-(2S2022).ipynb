{
 "cells": [
  {
   "cell_type": "markdown",
   "metadata": {},
   "source": [
    "# Prova #1 C126-L1 (2S2022)\n",
    "\n",
    "### Instruções\n",
    "\n",
    "1. Para cada um dos exercícios a seguir, faça o seguinte:\n",
    "    * Adicione comentários ao seu código explicando o que você fez.\n",
    "    * Caso o exercício involva a implementação de uma função:\n",
    "        + Coloque um comentário dizendo o que a função faz, use **docstrings**.\n",
    "        + Escolha nomes auto-explicativos para suas funções e parâmetros.\n",
    "    \n",
    "2. Quando você terminar a prova, vá ao menu do Jupyter ou Colab e selecione a opção para fazer download do notebook.\n",
    "    * Os notebooks tem extensão .ipynb. \n",
    "    * Este deve ser o arquivo que você irá entregar.\n",
    "    * No Jupyter vá até a opção **File** -> **Download as** -> **Notebook (.ipynb)**.\n",
    "    * No Colab vá até a opção **File** -> **Download .ipynb**.\n",
    "   \n",
    "3. Em seguida, faça a entrega do notebook da prova (ou seja, anexe o arquivo) na tarefa criada no MS Teams.\n",
    "4. Atente-se ao prazo de entrega definido na tarefa do MS Teams. \n",
    "5. **A prova deve ser resolvida individualmente**.\n",
    "6. Todas as questões têm o mesmo peso.\n",
    "7. Não se esqueça de colocar seu nome e número de matrícula nos campos abaixo.\n",
    "8. Você pode consultar o material de aula.\n",
    "9. Não altere em hipótese alguma as células com código de teste.\n",
    "10. A interpretação faz parte da prova.\n",
    "11. Boa sorte!"
   ]
  },
  {
   "cell_type": "markdown",
   "metadata": {},
   "source": [
    "**Nome**:\n",
    "\n",
    "**Matrícula**:"
   ]
  },
  {
   "cell_type": "markdown",
   "metadata": {},
   "source": [
    "## Exercícios"
   ]
  },
  {
   "cell_type": "markdown",
   "metadata": {},
   "source": [
    "#### 1) Exercício sobre controle de fluxo e operadores de associação.\n",
    "\n",
    "Implemente uma função chamada `éConsoante` que receba uma letra (**a letra pode ser maiúscula ou minúscula**) como argumento de entrada e que verifique se essa letra é uma vogal ou consoante. A função deve **retornar** a string `consoante` se a letra for uma consoante e `vogal` caso contrário.\n",
    "\n",
    "**DICAS**:\n",
    "\n",
    "+ Note que a função **deve retornar** uma string. \n",
    "+ Todas as letras das strings `consoante` e `vogal` devem ser minúsculas.\n",
    "+ Use os **operadores de associação** (`in` ou `not in`) para verificar se a letra digitada está presente em uma lista de vogais.\n",
    "+ Use um dos métodos, `lower` ou `upper`, da classe string para sempre converter a letra passada para a função em letra minúscula ou maiúscula. O exemplo abaixo converte a letra 'A', maiúscula, na letra 'a', minúscula.\n",
    "```python\n",
    "letraUpper = 'A'\n",
    "letraLower = letraUpper.lower()\n",
    "print(letraLower)\n",
    "a\n",
    "```\n",
    "+ O exemplo abaixo cria uma lista com 3 consoantes.\n",
    "```python\n",
    "lista = ['B', 'c', 'D']\n",
    "```"
   ]
  },
  {
   "cell_type": "code",
   "execution_count": null,
   "metadata": {},
   "outputs": [],
   "source": [
    "# Implemente aqui o código da função."
   ]
  },
  {
   "cell_type": "markdown",
   "metadata": {},
   "source": [
    "Execute o trecho de código abaixo para testar sua função. Se sua implementação estiver correta, a seguinte mensagem será impressa após a execução da célula abaixo:\n",
    "```python\n",
    "RESULTADO:\n",
    "A implementação da função está correta!\n",
    "``` \n",
    "\n",
    "**NÃO ALTERE O CÓDIGO ABAIXO EM HIPÓTESE ALGUMA. SUA IMPLEMENTAÇÃO DEVE FUNCIONAR SEM NENHUMA ALTERAÇÃO DO CÓDIGO ABAIXO.**"
   ]
  },
  {
   "cell_type": "code",
   "execution_count": null,
   "metadata": {},
   "outputs": [],
   "source": [
    "entradas = ['v', 'V', 'A', 'a']\n",
    "saídas = ['consoante', 'consoante', 'vogal', 'vogal']\n",
    "\n",
    "error = 0\n",
    "for entrada, saída in zip(entradas, saídas):\n",
    "    ret = éConsoante(entrada)\n",
    "    if ret != saída:\n",
    "        error += 1\n",
    "        print('Erro ---> éConsoante(\\'%s\\'): %s - valor esperado: %s' % (entrada, ret, saída))\n",
    "\n",
    "print('\\nRESULTADO:')\n",
    "if(error == 0):\n",
    "    print('A implementação da função está correta!')\n",
    "else:\n",
    "    print('A implementação da função NÃO está correta...')"
   ]
  },
  {
   "cell_type": "markdown",
   "metadata": {},
   "source": [
    "#### 2) Exercício sobre laços de repetição.\n",
    "\n",
    "Implemente uma função chamada `fatorial` que calcule o fatorial de um valor de entrada `x`. \n",
    "\n",
    "**IMPORTANTE: Utilize apenas laços de repetição para implementar esta função. Você pode utilizar tanto `for` quanto `while`**\n",
    "\n",
    "**Dica**: O fatorial de um número é calculado pela multiplicação desse número por todos os seus antecessores até chegar ao número 1. Uma exceção é o fatorial de 0, que é igual a 1.\n",
    "\n",
    "**Exemplos**: \n",
    "\n",
    "* 0! = 1\n",
    "* 1! = 1\n",
    "* 2! = 2 * 1 = 2\n",
    "* 3! = 3 * 2 * 1 = 6\n",
    "* 4! = 4 * 3 * 2 * 1 = 24"
   ]
  },
  {
   "cell_type": "code",
   "execution_count": null,
   "metadata": {},
   "outputs": [],
   "source": [
    "# Implemente aqui o código da função."
   ]
  },
  {
   "cell_type": "markdown",
   "metadata": {},
   "source": [
    "Execute o trecho de código abaixo para testar sua função. Se sua implementação estiver correta, a seguinte mensagem será impressa após a execução da célula abaixo:\n",
    "```python\n",
    "RESULTADO:\n",
    "A implementação da função está correta!\n",
    "```\n",
    "\n",
    "**NÃO ALTERE O CÓDIGO ABAIXO EM HIPÓTESE ALGUMA. SUA IMPLEMENTAÇÃO DEVE FUNCIONAR SEM NENHUMA ALTERAÇÃO DO CÓDIGO ABAIXO.**"
   ]
  },
  {
   "cell_type": "code",
   "execution_count": null,
   "metadata": {},
   "outputs": [],
   "source": [
    "entradas = [0, 1, 2, 3, 4]\n",
    "saídas = [1, 1, 2, 6, 24]\n",
    "\n",
    "error = 0\n",
    "for entrada, saída in zip(entradas, saídas):\n",
    "    ret = fatorial(entrada)\n",
    "    if ret != saída:\n",
    "        error += 1\n",
    "        print('Erro ---> fatorial(%d): %d - valor esperado: %d' % (entrada, ret, saída))\n",
    "\n",
    "print('\\nRESULTADO:')\n",
    "if(error == 0):\n",
    "    print('A implementação da função está correta!')\n",
    "else:\n",
    "    print('A implementação da função NÃO está correta...')"
   ]
  },
  {
   "cell_type": "markdown",
   "metadata": {},
   "source": [
    "#### 3) Exercício sobre controle de fluxo, operadores lógicos e de comparação.\n",
    "\n",
    "Implemente uma função chamada `obterMédiaEConceito` que receba um **número arbitrário de notas obtidas** por um aluno ao longo do semestre. A atribuição de conceitos obedece à tabela abaixo: \n",
    "\n",
    "| Média de Aproveitamento | Conceito | Resultado |\n",
    "|:-----------------------:|:--------:|:--------:|\n",
    "|     70.0 < média <= 100.0    |     A    | Aprovado |\n",
    "|     60.0 < média <= 70.0    |     B    | Aprovado |\n",
    "|     50.0 < média <= 60.0     |     C    | Reprovado |\n",
    "|     30.0 < média <= 50.0     |     D    | Reprovado |\n",
    "|     0.0 <= média <= 30.0    |     E    | Reprovado |\n",
    "\n",
    "A função deve **calcular** a média aritmética simples alcançada pelo aluno e **RETORNAR** a média, o conceito correspondente e a string `APROVADO` se o conceito for A ou B ou `REPROVADO` se o conceito for C, D ou E.\n",
    "\n",
    "**DICAS**: \n",
    "\n",
    "+ **Sua função DEVE retornar 3 valores, ou seja, você deve usar a palavra reservada `return` com três valores separados por vírgulas (veja o tópico sobre funções).**\n",
    "+ Reveja o tópico sobre funções para relembrar como implementar uma função que receba um número arbitrário de parâmetros de entrada.\n",
    "+ As strings `APROVADO` e `REPROVADO` devem ter todas as letras maiúsculas.\n",
    "+ Use as funções embutidas `sum` e `len` para calcular a média dos elementos de uma tupla (lembre-se que quando uma função recebe um número arbitrário de parâmetros de entrada, o interpretador cria uma tupla com todos os valores). Veja o exemplo abaixo:\n",
    "\n",
    "```python\n",
    "a  = (1,2,3)\n",
    "b = sum(a)/len(a)\n",
    "print(b)\n",
    "2.0\n",
    "```"
   ]
  },
  {
   "cell_type": "code",
   "execution_count": null,
   "metadata": {},
   "outputs": [],
   "source": [
    "# Implemente aqui o código da função."
   ]
  },
  {
   "cell_type": "markdown",
   "metadata": {},
   "source": [
    "Execute o trecho de código abaixo para testar sua função. Se sua implementação estiver correta, a seguinte mensagem será impressa após a execução da célula abaixo:\n",
    "```python\n",
    "RESULTADO:\n",
    "A implementação da função está correta!\n",
    "```\n",
    "\n",
    "**NÃO ALTERE O CÓDIGO ABAIXO EM HIPÓTESE ALGUMA. SUA IMPLEMENTAÇÃO DEVE FUNCIONAR SEM NENHUMA ALTERAÇÃO DO CÓDIGO ABAIXO.**"
   ]
  },
  {
   "cell_type": "code",
   "execution_count": null,
   "metadata": {},
   "outputs": [],
   "source": [
    "entradas = [(70.1,), (71.0, 71.0, 71.0), (70.0, 70.0), (60.1, 60.1), (60.0, 60.0), (50.1, 50.1), (50.0, 50.0), (30.2, 30.2), (30.0, 30.0), (10.0, 10.0, 10.0, 10.0), (0.0, 0.0)]\n",
    "saídas = [(70.1, 'A', 'APROVADO'), (71.0, 'A', 'APROVADO'), (70.0, 'B', 'APROVADO'), (60.1, 'B', 'APROVADO'), (60.0, 'C', 'REPROVADO'), (50.1, 'C', 'REPROVADO'), (50.0, 'D', 'REPROVADO'), (30.2, 'D', 'REPROVADO'), (30.0, 'E', 'REPROVADO'), (10.0, 'E', 'REPROVADO'), (0.0, 'E', 'REPROVADO')]\n",
    "\n",
    "error = 0\n",
    "for entrada, saída in zip(entradas, saídas):\n",
    "    ret = obterMédiaEConceito(*entrada)\n",
    "    if ret != saída:\n",
    "        error += 1\n",
    "        print('Erro ---> obterMédiaEConceito(%1.1f, %1.1f): %s - valor esperado: %s' % (entrada[0], entrada[1], ret, saída))\n",
    "\n",
    "print('\\nRESULTADO:')\n",
    "if(error == 0):\n",
    "    print('A implementação da função está correta!')\n",
    "else:\n",
    "    print('A implementação da função NÃO está correta...')"
   ]
  },
  {
   "cell_type": "markdown",
   "metadata": {},
   "source": [
    "#### 4) Exercício sobre funções e laços de repetição.\n",
    "\n",
    "Crie uma função chamada `encontrarMaiorNome()` que aceite um número qualquer (ou seja, arbitrário) de nomes, ou seja, **strings**, como parâmetros de entrada e retorne o **maior nome** de todos, bem como **quantos caracteres** esse nome possui.\n",
    "\n",
    "**DICAS**: \n",
    "\n",
    "+ Reveja o tópico sobre funções para relembrar como implementar uma função que receba um número arbitrário de parâmetros de entrada.\n",
    "+ Lembre-se que uma função com um número arbitrário de parâmetros de entrada recebe do interpretador uma **tupla** com todos os parâmetros de entrada. Uma **tupla** é uma coleção de objetos que pode ser iterada com um laço de repetição `for`, por exemplo.\n",
    "+ Perceba que sua função deve retornar 2 valores, a string correspondente ao maior nome e a quantidade de caracteres naquela string.\n",
    "+ Para resolver este exercício, faça o seguinte no corpo da função:\n",
    "    + Crie uma variável auxiliar chamada `maiorNome`, que irá armazenar o maior nome, e a inicialize com uma string vazia, ou seja, `maiorNome = ''`. Qualquer nome com pelo menos um caracter será maior que a string vazia.\n",
    "    + Use um laço de repetição `for` para iterar através da tupla de entrada, passada pelo intepretador, contendo os vários nomes.\n",
    "    + A cada iteração do `for`, compare o tamanho de cada uma das strings (i.e., nomes) da tupla com o tamanho da string armazenada na variável `maiorNome`.\n",
    "    + Se o comprimento da string da tupla de entrada da função for maior do que o comprimento da string armazenada na variável `maiorNome`, atualize `maiorNome` com aquela string. Caso contrário, não faça nada.\n",
    "    + O comprimento de uma string pode ser obtido com a função embutida `len()`.\n",
    "\n",
    "**Exemplo:** O código abaixo mostra como iterar através dos valores de uma tupla.\n",
    "\n",
    "```python\n",
    "# definindo uma tupla.\n",
    "tupla = (0, 1, 2, 3)\n",
    "\n",
    "# iterando através dos valores da tupla com um laço for.\n",
    "for valor in tupla:\n",
    "    print(valor)\n",
    "0\n",
    "1\n",
    "2\n",
    "3\n",
    "```"
   ]
  },
  {
   "cell_type": "code",
   "execution_count": null,
   "metadata": {},
   "outputs": [],
   "source": [
    "# Implemente aqui o código da função."
   ]
  },
  {
   "cell_type": "markdown",
   "metadata": {},
   "source": [
    "Execute o trecho de código abaixo para testar sua função. Se sua implementação estiver correta, a seguinte mensagem será impressa após a execução da célula abaixo:\n",
    "```python\n",
    "RESULTADO:\n",
    "A implementação da função está correta!\n",
    "```\n",
    "\n",
    "**NÃO ALTERE O CÓDIGO ABAIXO EM HIPÓTESE ALGUMA. SUA IMPLEMENTAÇÃO DEVE FUNCIONAR SEM NENHUMA ALTERAÇÃO DO CÓDIGO ABAIXO.**"
   ]
  },
  {
   "cell_type": "code",
   "execution_count": null,
   "metadata": {},
   "outputs": [],
   "source": [
    "ret = 0\n",
    "\n",
    "# Teste #1\n",
    "nome, tamanho = encontrarMaiorNome('Maycol', 'Natália')\n",
    "nome_esperado, tamanho_esperado = 'Natália', 7\n",
    "if nome == nome_esperado and tamanho == tamanho_esperado:\n",
    "    ret += 1\n",
    "\n",
    "# Teste #2\n",
    "nome, tamanho = encontrarMaiorNome('Maycol', 'Felipe', 'Artur', 'Larissa')\n",
    "nome_esperado, tamanho_esperado = 'Larissa', 7\n",
    "if nome == nome_esperado and tamanho == tamanho_esperado:\n",
    "    ret += 1\n",
    "\n",
    "# Teste #3\n",
    "nome, tamanho = encontrarMaiorNome('Maycol', 'Felipe', 'Anna', 'Laura', 'Luana', 'Júlia')\n",
    "nome_esperado, tamanho_esperado = 'Maycol', 6\n",
    "if nome == nome_esperado and tamanho == tamanho_esperado:\n",
    "    ret += 1\n",
    "    \n",
    "print('\\nRESULTADO:')\n",
    "if(ret == 3):\n",
    "    print('A implementação da função está correta!')\n",
    "else:\n",
    "    print('A implementação da função NÃO está correta...')"
   ]
  }
 ],
 "metadata": {
  "kernelspec": {
   "display_name": "Python 3 (ipykernel)",
   "language": "python",
   "name": "python3"
  },
  "language_info": {
   "codemirror_mode": {
    "name": "ipython",
    "version": 3
   },
   "file_extension": ".py",
   "mimetype": "text/x-python",
   "name": "python",
   "nbconvert_exporter": "python",
   "pygments_lexer": "ipython3",
   "version": "3.9.7"
  }
 },
 "nbformat": 4,
 "nbformat_minor": 4
}
