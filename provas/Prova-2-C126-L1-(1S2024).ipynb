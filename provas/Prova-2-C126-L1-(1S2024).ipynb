{
 "cells": [
  {
   "cell_type": "markdown",
   "metadata": {},
   "source": [
    "# Prova #2 C126-L1 (1S2024)\n",
    "\n",
    "### Instruções\n",
    "\n",
    "1. Antes de começar, você deve clicar na opção \"Copiar para o Drive\" na barra superior do Colab. Depois de clicar nela, verifique se você está trabalhando nessa versão do notebook para que seu trabalho seja salvo.\n",
    "2. Para cada um dos exercícios a seguir, faça o seguinte:\n",
    "    * Adicione comentários ao seu código explicando o que você fez.\n",
    "    * Caso o exercício involva a implementação de uma função:\n",
    "        + Coloque um comentário dizendo o que a função faz, use **docstrings**.\n",
    "        + Escolha nomes autoexplicativos para suas funções, parâmetros e variáveis.\n",
    "3. Quando você terminar a prova, vá ao menu do Jupyter ou Colab e selecione a opção para fazer download do notebook.\n",
    "    * Os notebooks tem extensão .ipynb. \n",
    "    * Este deve ser o arquivo que você irá entregar.\n",
    "    * No Colab vá até a opção **File** -> **Download .ipynb**.\n",
    "4. Em seguida, faça a entrega do notebook da prova (ou seja, anexe o arquivo) na tarefa criada no MS Teams.\n",
    "5. Atente-se ao prazo de entrega definido na tarefa do MS Teams. \n",
    "6. **A prova deve ser resolvida individualmente**.\n",
    "7. Todas as questões têm o mesmo peso.\n",
    "8. Não se esqueça de colocar seu nome e número de matrícula nos campos abaixo.\n",
    "9. Você pode consultar o material de aula e laboratórios.\n",
    "10. Não altere em hipótese alguma as células com código de teste.\n",
    "11. A interpretação faz parte da prova.\n",
    "12. Boa sorte!"
   ]
  },
  {
   "cell_type": "markdown",
   "metadata": {},
   "source": [
    "**Nome**:\n",
    "\n",
    "**Matrícula**:"
   ]
  },
  {
   "cell_type": "markdown",
   "metadata": {},
   "source": [
    "## Exercícios"
   ]
  },
  {
   "cell_type": "markdown",
   "metadata": {},
   "source": [
    "#### 1)  Exercício sobre listas.\n",
    "\n",
    "Escreva uma função chamada `alunosAprovados` que receba 2 listas, uma com as 3 notas que os alunos obtiveram em uma determinada disciplina e outra com seus nomes. A função deve calcular a média das 3 notas de cada aluno e armazenar em uma lista os nomes dos alunos que tiveram média maior ou igual a 7. A tabela abaixo apresenta os valores que devem ser usados para testar a função:\n",
    "\n",
    "|   Aluno   | Nota 1 | Nota 2 | Nota 3 |\n",
    "|:---------:|:------:|:------:|:------:|\n",
    "|   Pedro   |   2    |   4    |   9    |\n",
    "|   Maria   |   6    |   7    |   8    |\n",
    "|   João    |   9    |   8    |   9    |\n",
    "|   Ana     |   7    |   6    |   7    |\n",
    "|   Carlos  |   8    |   9    |   8    |\n",
    "|   Laura   |   7    |   8    |   7    |\n",
    "|   André   |   9    |   9    |   9    |\n",
    "|   Sofia   |   2    |   5    |   8    |\n",
    "|   Guilherme   |   8    |   8    |   9    |\n",
    "|   Juliana   |   5    |   3    |   7    |\n",
    "|   Raquel   |   9    |   8    |   8    |\n",
    "|   Daniel   |   3    |   4    |   5    |\n",
    "\n",
    "A função `alunosAprovados` deve retornar uma lista contendo os nomes dos alunos que tiveram média maior ou igual a 7.\n",
    "\n",
    "**DICAS**\n",
    "\n",
    "+ A sequência de parâmetros de entrada para a função `alunosAprovados` é **notas** e, depois, **nomes**.\n",
    "+ As 2 listas já estão definidas na célula de testes abaixo, assim, não é necessário que você as defina.\n",
    "+ A lista de notas é uma lista aninhada, ou seja, cada elemento da lista de notas é uma outra lista com 3 elementos, ou seja, com as 3 notas e cada aluno. Veja o exemplo abaixo com as 3 notas de 2 alunos, ou seja, a lista de notas contém 2 listas aninhadas com 3 notas cada.\n",
    "```python\n",
    "notas = [ [10, 50, 65], [25, 80, 75] ]\n",
    "```\n",
    "+ Para calcular a média de cada lista aninhada (ou seja, as listas com 3 elementos cada), você pode usar as funções `sum` e `len`.\n",
    "+ Lembre-se que listas são objetos iteráveis e, portanto, você pode iterar facilmente através dos elementos da lista de notas com um laço de repetição `for`."
   ]
  },
  {
   "cell_type": "code",
   "execution_count": null,
   "metadata": {},
   "outputs": [],
   "source": [
    "# Implemente aqui o código do exercício."
   ]
  },
  {
   "cell_type": "markdown",
   "metadata": {},
   "source": [
    "Execute o trecho de código abaixo para testar sua função. Se sua implementação estiver correta, a seguinte mensagem será impressa após a execução da célula abaixo:\n",
    "```python\n",
    "RESULTADO:\n",
    "A implementação da função está correta!\n",
    "``` \n",
    "\n",
    "**NÃO ALTERE O CÓDIGO ABAIXO EM HIPÓTESE ALGUMA. SUA IMPLEMENTAÇÃO DEVE FUNCIONAR SEM NENHUMA ALTERAÇÃO DO CÓDIGO ABAIXO.**"
   ]
  },
  {
   "cell_type": "code",
   "execution_count": null,
   "metadata": {},
   "outputs": [],
   "source": [
    "notas = [[2, 4, 9], [6, 7, 8], [9, 8, 9], [7, 6, 7], [8, 9, 8], [7, 8, 7], [9, 9, 9], [2, 5, 8], [8, 8, 9], [5, 3, 7], [9, 8, 8], [3, 4, 5]]\n",
    "alunos = [\"Pedro\", \"Maria\", \"João\", \"Ana\", \"Carlos\", \"Laura\", \"André\", \"Sofia\", \"Guilherme\", \"Juliana\", \"Raquel\", \"Daniel\"]\n",
    "resultado_esperado = ['Maria', 'João', 'Carlos', 'Laura', 'André', 'Guilherme', 'Raquel']\n",
    "\n",
    "resultado = alunosAprovados(notas, alunos)\n",
    "\n",
    "if(resultado == resultado_esperado):\n",
    "    print('A implementação da função está correta!')\n",
    "else:\n",
    "    print('A implementação da função NÃO está correta!')\n",
    "    print('\\nEsperado:', resultado_esperado)\n",
    "    print('Retornado:', resultado)    "
   ]
  },
  {
   "cell_type": "markdown",
   "metadata": {},
   "source": [
    "#### 2) Exercício sobre dicionários. \n",
    "\n",
    "Implemente uma função chamada `verificarProduto` que receba dois parâmetros de entrada, um **dicionário** e o **nome de um produto**. Cada elemento do dicionário é um par com o **nome de um produto** e a **quantidade em estoque** daquele produto. O **nome do produto** é a chave do elemento do dicionário e a **quantidade em estoque** é o valor associado à chave. \n",
    "\n",
    "A função deve verificar se o **produto** passado como parâmetro de entrada consta no dicionário. Se o produto constar no dicionário, a função deve **retornar** a **quantidade em estoque** daquele produto. Caso contrário, a função deve **retornar** a seguinte frase (i.e., uma string): `Produto não consta em estoque.`.\n",
    "\n",
    "**DICAS**:\n",
    "\n",
    "+ Lembre-se que você pode usar os operadores de associação `in` ou `not in` para verificar se um valor faz parte das **chaves** de um dicionário.\n",
    "+ A função deve **retornar uma string** quando o produto não constar no dicionário.\n",
    "+ O **valor** associado a uma **chave** é retornado quando se indexa o dicionário com aquela chave. Por exemplo:\n",
    "```python\n",
    "dicionário = {'fogão':10, 'TV':20}\n",
    "chave = 'TV'\n",
    "valor = dicionário[chave]\n",
    "print('Quantidade do produto:', valor)\n",
    "Quantidade do produto: 20\n",
    "```"
   ]
  },
  {
   "cell_type": "code",
   "execution_count": null,
   "metadata": {},
   "outputs": [],
   "source": [
    "# Implemente aqui o código do exercício."
   ]
  },
  {
   "cell_type": "markdown",
   "metadata": {},
   "source": [
    "Execute o trecho de código abaixo para testar sua função. Se sua implementação estiver correta, a seguinte mensagem será impressa após a execução da célula abaixo:\n",
    "```python\n",
    "RESULTADO:\n",
    "A implementação da função está correta!\n",
    "``` \n",
    "\n",
    "**NÃO ALTERE O CÓDIGO ABAIXO EM HIPÓTESE ALGUMA. SUA IMPLEMENTAÇÃO DEVE FUNCIONAR SEM NENHUMA ALTERAÇÃO DO CÓDIGO ABAIXO.**"
   ]
  },
  {
   "cell_type": "code",
   "execution_count": null,
   "metadata": {},
   "outputs": [],
   "source": [
    "produtosEmEstoque = {\"Ventilador\":90, \"Pipoqueira\":40, \"Lavadora\":80, \"Secadora\":60, \"TV\":70, \"Computador\":50}\n",
    "\n",
    "entradas = ['Pipoqueira', 'Fogão']\n",
    "saídas = [40, 'Produto não consta em estoque.']\n",
    "\n",
    "for (entrada, saída) in zip(entradas, saídas):\n",
    "    ret = verificarProduto(produtosEmEstoque, entrada)\n",
    "    if(ret != saída):\n",
    "        print('Erro ---> Produto: %s - Valor esperado: %s - valor retornado: %s\\n\\n' % (entrada, str(saída), str(ret)))\n",
    "        print('A implementação da função NÃO está correta!')\n",
    "        break\n",
    "else:\n",
    "    print('A implementação da função está correta!')"
   ]
  },
  {
   "cell_type": "markdown",
   "metadata": {},
   "source": [
    "#### 3) Exercício sobre programação orientada a objetos (POO). \n",
    "\n",
    "Implemente a classe mostrada no diagrama UML abaixo. Siga exatamente a especificação mostrada no diagrama UML, ou seja, os nomes dos atributos, nomes dos métodos, número de parâmetros dos métodos, encapsulamentos dos membros da classe, etc.\n",
    "\n",
    "<img src=\"https://raw.githubusercontent.com/zz4fap/python-programming/master/figures/C126_Prova_2_1S2024_lucidchart.png\" width=\"500px\">\n",
    "\n",
    "\n",
    "**DICAS**:\n",
    "\n",
    "+ Os métodos públicos `getCódigo()`, `getPreço()`, `getCor()` e `getTecnologia()` devem retornar os valores de seus respectivos atributos.\n",
    "+ O método público `setPreço()` deve alterar o valor do atributo privado `preço`.\n",
    "+ O método privado `inicializarSistema()` deve **retornar** a string `inicializando o sistema...`\n",
    "+ O método público `powerOn()` deve chamar o método privado `inicializarSistema()` e **retornar** a string retornada por ele."
   ]
  },
  {
   "cell_type": "code",
   "execution_count": null,
   "metadata": {},
   "outputs": [],
   "source": [
    "# Implemente aqui o código do exercício."
   ]
  },
  {
   "cell_type": "markdown",
   "metadata": {},
   "source": [
    "Execute o trecho de código abaixo para testar sua função. Se sua implementação estiver correta, a seguinte mensagem será impressa após a execução da célula abaixo:\n",
    "```python\n",
    "RESULTADO:\n",
    "Sua implementação está correta!\n",
    "``` \n",
    "\n",
    "**NÃO ALTERE O CÓDIGO ABAIXO EM HIPÓTESE ALGUMA. SUA IMPLEMENTAÇÃO DEVE FUNCIONAR SEM NENHUMA ALTERAÇÃO DO CÓDIGO ABAIXO.**"
   ]
  },
  {
   "cell_type": "code",
   "execution_count": null,
   "metadata": {},
   "outputs": [],
   "source": [
    "fone = Smartphone(1234, 2345.34, 'azul', 'motorola', 'g22', '5G', False)\n",
    "\n",
    "ret = 0\n",
    "\n",
    "if(fone.getCódigo() == 1234):\n",
    "    ret += 1\n",
    "else:\n",
    "    print('Erro 1: fone.getCódigo()')\n",
    "\n",
    "if(fone.getPreço() == 2345.34):\n",
    "    ret += 1\n",
    "else:\n",
    "    print('Erro 2: fone.getPreço()')\n",
    "\n",
    "if(fone.getCor()=='azul'):\n",
    "    ret += 1\n",
    "else:\n",
    "    print('Erro 3: fone.getCor()')\n",
    "\n",
    "fone.setPreço(676.67)\n",
    "if(fone.getPreço() == 676.67):\n",
    "    ret += 1\n",
    "else:\n",
    "    print('Erro 4: fone.setPreço()')\n",
    "\n",
    "if(fone.getTecnologia() == '5G'):\n",
    "    ret += 1\n",
    "else:\n",
    "    print('Erro 5: fone.getTecnologia()')\n",
    "    \n",
    "if(fone.powerOn() == 'inicializando o sistema...'):\n",
    "    ret += 1\n",
    "else:\n",
    "    print('Erro 6: fone.powerOn()')\n",
    "    \n",
    "if(fone.bloqueado == False):\n",
    "    ret += 1\n",
    "else:\n",
    "    print('Erro 7: fone.bloqueado')\n",
    "    \n",
    "try:\n",
    "    if(fone.__inicializarSistema() == 'inicializando o sistema...'):\n",
    "        print('Erro 8: fone.__inicializarSistema()')\n",
    "except AttributeError:\n",
    "    ret += 1   \n",
    "    \n",
    "try:\n",
    "    if(fone.__tecnologia == '5G'):\n",
    "        print('Erro 9: fone.__tecnologia')\n",
    "except AttributeError:\n",
    "    ret += 1  \n",
    "\n",
    "try:\n",
    "    if(fone.__código == 1234):\n",
    "        print('Erro 10: fone.__código')\n",
    "except AttributeError:\n",
    "    ret += 1 \n",
    "\n",
    "try:\n",
    "    if(fone.__preço == 676.67):\n",
    "        print('Erro 11: fone.__preço')\n",
    "except AttributeError:\n",
    "    ret += 1 \n",
    "\n",
    "if(fone._cor == 'azul'):\n",
    "    ret += 1\n",
    "else:\n",
    "    print('Erro 12: fone._cor')\n",
    "\n",
    "if(fone.marca == 'motorola'):\n",
    "    ret += 1\n",
    "else:\n",
    "    print('Erro 13: fone.marca')\n",
    "    \n",
    "if(fone.modelo == 'g22'):\n",
    "    ret += 1\n",
    "else:\n",
    "    print('Erro 14: fone.modelo')\n",
    "\n",
    "if(ret==14):\n",
    "    print('Sua implementação está correta.')\n",
    "else:\n",
    "    print('Sua implementação NÃO está correta.')"
   ]
  },
  {
   "cell_type": "markdown",
   "metadata": {},
   "source": [
    "#### 4) Exercício sobre biblioteca numpy. \n",
    "\n",
    "Implemente uma função chamada `quantidadeDeElementosMaioresQue` que recebe uma array `x` e um valor `valor` como parâmetros de entrada e retorna a quantidade de elementos em `x` maiores que o parâmetro `valor`.\n",
    "\n",
    "**DICAS**\n",
    "\n",
    "+ Considere **apenas valores maiores que** o parâmetro de entrada `valor`.\n",
    "+ Para resolver este exercício, você pode usar filtragem condicional e a função embutida `len()`.\n",
    "+ Não se esqueça de importar a biblioteca **numpy**."
   ]
  },
  {
   "cell_type": "code",
   "execution_count": null,
   "metadata": {},
   "outputs": [],
   "source": [
    "# Implemente aqui o código do exercício."
   ]
  },
  {
   "cell_type": "markdown",
   "metadata": {},
   "source": [
    "Execute o trecho de código abaixo para testar sua função. Se sua implementação estiver correta, a seguinte mensagem será impressa após a execução da célula abaixo:\n",
    "```python\n",
    "RESULTADO:\n",
    "A implementação da função está correta!\n",
    "``` \n",
    "\n",
    "**NÃO ALTERE O CÓDIGO ABAIXO EM HIPÓTESE ALGUMA. SUA IMPLEMENTAÇÃO DEVE FUNCIONAR SEM NENHUMA ALTERAÇÃO DO CÓDIGO ABAIXO.**"
   ]
  },
  {
   "cell_type": "code",
   "execution_count": null,
   "metadata": {},
   "outputs": [],
   "source": [
    "entradas = [\n",
    "    [np.array([0]), 0], \n",
    "    [np.array([2,4,8,11,22]), 11], \n",
    "    [np.array([1,3,5,7,12,48]), 0], \n",
    "    [np.array([0,1,2,3,4,5,6,8]), 4],\n",
    "    [np.array([0,2,3,4,6,8,9,12]), 2]\n",
    "]\n",
    "\n",
    "saídas = [0, 1, 6, 3, 6]\n",
    "\n",
    "for entrada, saída in zip(entradas, saídas):\n",
    "    ret = quantidadeDeElementosMaioresQue(entrada[0], entrada[1])\n",
    "    if(ret != saída):\n",
    "        print('Erro ---> Array: %s - Valor esperado: %s - valor retornado: %s\\n\\n' % (str(entrada), str(saída), str(ret)))\n",
    "        print('A implementação da função NÃO está correta!')\n",
    "        break\n",
    "else:\n",
    "    print('A implementação da função está correta!')"
   ]
  },
  {
   "cell_type": "markdown",
   "metadata": {},
   "source": [
    "## O exercício abaixo é opcional. Só o resolva caso você não tenha conseguido resolver algum dos exercícios anteriores. Caso você tenha resolvido todos os exercícios anteriores, não o resolva, pois ele não valerá nota extra."
   ]
  },
  {
   "cell_type": "markdown",
   "metadata": {},
   "source": [
    "#### 5) Exercício sobre biblioteca numpy.\n",
    "\n",
    "Crie uma função chamada `extrairNúmerosÍmpares` que recebe uma array NumPy como parâmetro de entrada e retorna todos os números ímpares da array de entrada **usando filtragem condicional**.\n",
    "\n",
    "**DICA**\n",
    "\n",
    "+ Não se esqueça de importar a biblioteca **numpy**."
   ]
  },
  {
   "cell_type": "code",
   "execution_count": null,
   "metadata": {},
   "outputs": [],
   "source": [
    "# Implemente aqui o código da função."
   ]
  },
  {
   "cell_type": "markdown",
   "metadata": {},
   "source": [
    "Execute o trecho de código abaixo para testar sua função. Se sua implementação estiver correta, a seguinte mensagem será impressa após a execução da célula abaixo:\n",
    "```python\n",
    "RESULTADO:\n",
    "A implementação da função está correta!\n",
    "``` \n",
    "\n",
    "**NÃO ALTERE O CÓDIGO ABAIXO EM HIPÓTESE ALGUMA. SUA IMPLEMENTAÇÃO DEVE FUNCIONAR SEM NENHUMA ALTERAÇÃO DO CÓDIGO ABAIXO.**"
   ]
  },
  {
   "cell_type": "code",
   "execution_count": null,
   "metadata": {},
   "outputs": [],
   "source": [
    "a = np.array([0,1,2,3,4,5,6,7,8,9])\n",
    "\n",
    "ret = True\n",
    "if ( (extrairNúmerosÍmpares(a) != np.array([1,3,5,7,9])).all()):\n",
    "    ret = False\n",
    "\n",
    "if(ret == True):\n",
    "    print('A implementação da função está correta!')\n",
    "else:\n",
    "    print('A implementação da função NÃO está correta!')"
   ]
  }
 ],
 "metadata": {
  "kernelspec": {
   "display_name": "Python 3 (ipykernel)",
   "language": "python",
   "name": "python3"
  },
  "language_info": {
   "codemirror_mode": {
    "name": "ipython",
    "version": 3
   },
   "file_extension": ".py",
   "mimetype": "text/x-python",
   "name": "python",
   "nbconvert_exporter": "python",
   "pygments_lexer": "ipython3",
   "version": "3.11.5"
  }
 },
 "nbformat": 4,
 "nbformat_minor": 4
}
