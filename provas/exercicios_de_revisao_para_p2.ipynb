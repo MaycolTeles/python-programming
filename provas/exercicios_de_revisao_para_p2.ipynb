{
  "cells": [
    {
      "cell_type": "markdown",
      "metadata": {
        "id": "PvLFddq7Ejdb"
      },
      "source": [
        "# Exercícios de revisão para a prova #2\n",
        "\n",
        "### Instruções:\n",
        "\n",
        "1. Para cada um dos exercícios a seguir, faça o seguinte:\n",
        "    * Adicione comentários ao seu código explicando o que você fez.\n",
        "    * Caso o exercício involva a implementação de uma função:\n",
        "        + Coloque um comentário dizendo o que a função faz, use **docstrings**.\n",
        "        + Escolha nomes auto-explicativos para suas funções e parâmetros.\n",
        "2. Quando você terminar os exercícios, vá ao menu do Jupyter ou Colab e selecione a opção para fazer download do notebook.\n",
        "    * Os notebooks tem extensão .ipynb.\n",
        "    * Este deve ser o arquivo que você irá entregar.\n",
        "    * No Jupyter vá até a opção **File** -> **Download as** -> **Notebook (.ipynb)**.\n",
        "    * No Colab vá até a opção **File** -> **Download .ipynb**.\n",
        "   \n",
        "3. Em seguida, faça a entrega do notebook (ou seja, anexe o arquivo) na tarefa criada no MS Teams.\n",
        "4. Atente-se ao prazo de entrega definido na tarefa do MS Teams.\n",
        "5. Não se esqueça de colocar seu nome e número de matrícula nos campos abaixo."
      ]
    },
    {
      "cell_type": "markdown",
      "metadata": {
        "id": "d9L2YZYOEjdg"
      },
      "source": [
        "**Nome**:\n",
        "\n",
        "**Matrícula**:"
      ]
    },
    {
      "cell_type": "markdown",
      "metadata": {
        "id": "XHehQLZ6Ejdh"
      },
      "source": [
        "## Exercícios"
      ]
    },
    {
      "cell_type": "markdown",
      "metadata": {
        "id": "TZIT3UptEjdh"
      },
      "source": [
        "#### 1) Exercício sobre listas e dicionários.\n",
        "\n",
        "Escreva uma função chamada `imprimirMenoresPreços` que receba uma **lista** contendo informações sobre preços de diversos produtos em diferentes datas e que retorne um **dicionário**, onde a **chave** de cada elemento é o nome (i.e., string) do produto e o **valor** associado é o **menor** preço que aquele produto já teve. Para testar a função, utilizaremos os valores mostrados na tabela abaixo como entrada. Veja que a lista com as informações dos produtos já está disponibilizada no código de teste, portanto, apenas implemente a função e execute o código de teste.\n",
        "\n",
        "|    Data    |  Produto  | Preço |\n",
        "|:----------:|:---------:|:-----:|\n",
        "| 29/06/2017 |   cebola  |  2.19 |\n",
        "| 29/06/2017 |   batata  |  1.98 |\n",
        "| 29/06/2017 |   alface  |  1.88 |\n",
        "| 22/06/2017 | beterraba |  2.48 |\n",
        "| 22/06/2017 |   alface  |  2.00 |\n",
        "| 22/06/2017 |   cebola  |  2.03 |\n",
        "| 15/06/2017 | beterraba |  2.44 |\n",
        "| 15/06/2017 |   alface  |  1.75 |\n",
        "| 15/06/2017 |   batata  |  2.11 |\n",
        "\n",
        "**IMPORTANTE**\n",
        "\n",
        "+ Sua função deve ser o mais genérica possível, ou seja, ela deve funcionar até para podutos que não estão na tabela acima."
      ]
    },
    {
      "cell_type": "code",
      "execution_count": null,
      "metadata": {
        "id": "2Jl1PwJ1Ejdi"
      },
      "outputs": [],
      "source": [
        "# Implemente aqui o código da função."
      ]
    },
    {
      "cell_type": "markdown",
      "metadata": {
        "id": "OZR33o7wEjdj"
      },
      "source": [
        "Teste sua função com o código abaixo, o qual deve resultar na seguinte saída esperada:\n",
        "\n",
        "```python\n",
        "Produto: cebola - preço: 2.03\n",
        "Produto: batata - preço: 1.98\n",
        "Produto: alface - preço: 1.75\n",
        "Produto: beterraba - preço: 2.44\n",
        "```"
      ]
    },
    {
      "cell_type": "code",
      "execution_count": null,
      "metadata": {
        "id": "5axUTv17Ejdk",
        "outputId": "6422015c-6172-436e-c0ad-e94e3964393b"
      },
      "outputs": [
        {
          "ename": "NameError",
          "evalue": "name 'imprimirMenoresPreços' is not defined",
          "output_type": "error",
          "traceback": [
            "\u001b[1;31m---------------------------------------------------------------------------\u001b[0m",
            "\u001b[1;31mNameError\u001b[0m                                 Traceback (most recent call last)",
            "\u001b[1;32m<ipython-input-1-415c3bb567a1>\u001b[0m in \u001b[0;36m<module>\u001b[1;34m\u001b[0m\n\u001b[0;32m      3\u001b[0m \u001b[0mret\u001b[0m \u001b[1;33m=\u001b[0m \u001b[1;36m0\u001b[0m\u001b[1;33m\u001b[0m\u001b[1;33m\u001b[0m\u001b[0m\n\u001b[0;32m      4\u001b[0m \u001b[1;33m\u001b[0m\u001b[0m\n\u001b[1;32m----> 5\u001b[1;33m \u001b[0mmenoresPreços\u001b[0m \u001b[1;33m=\u001b[0m \u001b[0mimprimirMenoresPreços\u001b[0m\u001b[1;33m(\u001b[0m\u001b[0mlista\u001b[0m\u001b[1;33m)\u001b[0m\u001b[1;33m\u001b[0m\u001b[1;33m\u001b[0m\u001b[0m\n\u001b[0m\u001b[0;32m      6\u001b[0m \u001b[1;32mif\u001b[0m\u001b[1;33m(\u001b[0m\u001b[0mmenoresPreços\u001b[0m \u001b[1;33m==\u001b[0m \u001b[1;33m{\u001b[0m\u001b[1;34m'cebola'\u001b[0m\u001b[1;33m:\u001b[0m \u001b[1;36m2.03\u001b[0m\u001b[1;33m,\u001b[0m \u001b[1;34m'batata'\u001b[0m\u001b[1;33m:\u001b[0m \u001b[1;36m1.98\u001b[0m\u001b[1;33m,\u001b[0m \u001b[1;34m'alface'\u001b[0m\u001b[1;33m:\u001b[0m \u001b[1;36m1.75\u001b[0m\u001b[1;33m,\u001b[0m \u001b[1;34m'beterraba'\u001b[0m\u001b[1;33m:\u001b[0m \u001b[1;36m2.44\u001b[0m\u001b[1;33m}\u001b[0m\u001b[1;33m)\u001b[0m\u001b[1;33m:\u001b[0m\u001b[1;33m\u001b[0m\u001b[1;33m\u001b[0m\u001b[0m\n\u001b[0;32m      7\u001b[0m     \u001b[0mret\u001b[0m \u001b[1;33m+=\u001b[0m \u001b[1;36m1\u001b[0m\u001b[1;33m\u001b[0m\u001b[1;33m\u001b[0m\u001b[0m\n",
            "\u001b[1;31mNameError\u001b[0m: name 'imprimirMenoresPreços' is not defined"
          ]
        }
      ],
      "source": [
        "lista = ['29/06/2020', 'cebola', 2.19, '29/06/2020', 'batata', 1.98, '29/06/2020', 'alface', 1.88, '22/06/2020', 'beterraba', 2.48, '22/06/2020', 'alface', 2.00, '22/06/2020', 'cebola', 2.03, '15/06/2020', 'beterraba', 2.44, '15/06/2020', 'alface', 1.75, '15/06/2020', 'batata', 2.11]\n",
        "\n",
        "ret = 0\n",
        "\n",
        "menoresPreços = imprimirMenoresPreços(lista)\n",
        "if(menoresPreços == {'cebola': 2.03, 'batata': 1.98, 'alface': 1.75, 'beterraba': 2.44}):\n",
        "    ret += 1\n",
        "\n",
        "if(ret == 1):\n",
        "    print('Sua implementação está OK!')\n",
        "else:\n",
        "    print('Sua implementação não está correta...')"
      ]
    },
    {
      "cell_type": "markdown",
      "metadata": {
        "id": "KpBRhcI6Ejdl"
      },
      "source": [
        "#### 2) Neste exercício vamos revisar listas, dicionários e classes.\n",
        "\n",
        "O objetivo do exercício é criar uma classe chamada `DiárioDeClasse` para os alunos de um dado professor. Siga os passos abaixo para criar a classe e testá-la.\n",
        "\n",
        "1. Para testar o código, usaremos os três dicionários: `josé`, `alice` e `antônio`, mostrados abaixo. Cada dicionário, **inicialmente**, contém as chaves `nome`, `laboratórios`, `quizzes` e `provas`.\n",
        "```python\n",
        "josé = {\n",
        "  \"nome\": \"José\",\n",
        "  \"laboratórios\": [90.0,97.0,75.0,92.0],\n",
        "  \"quizzes\": [88.0,40.0,94.0],\n",
        "  \"provas\": [75.0,90.0]\n",
        "}\n",
        "alice = {\n",
        "  \"nome\": \"Alice\",\n",
        "  \"laboratórios\": [100.0, 92.0, 98.0, 100.0],\n",
        "  \"quizzes\": [82.0, 83.0, 91.0],\n",
        "  \"provas\": [89.0, 97.0]\n",
        "}\n",
        "antônio = {\n",
        "  \"nome\": \"Antônio\",\n",
        "  \"laboratórios\": [0.0, 87.0, 75.0, 22.0],\n",
        "  \"quizzes\": [0.0, 75.0, 78.0],\n",
        "  \"provas\": [100.0, 100.0]\n",
        "}\n",
        "```\n",
        "3. Esses três dicionários são agrupados em uma lista chamada `alunos`.\n",
        "4. Crie uma classe chamada `DiárioDeClasse`:\n",
        "    1. Crie um método **privado** chamado `média` que receba uma **lista** de números como argumento de entrada e retorne a média destes valores.\n",
        "    2. Crie um método **privado** chamado `calcularMédiaGeralDoAluno` que receba o dicionário de um aluno (e.g., josé, alice ou antónio) como argumento de entrada, calcule a média geral dele em todas as avaliações (i.e., laboratórios, quizzes e provas), adicione a chave `médiaGeral` ao dicionário do aluno com o valor da média geral calculada e retorne sua média geral.    \n",
        "    3. Crie um método **privado** chamado `obterConceito` que receba o argumento de entrada `médiaGeral`. Dentro do método, teste o valor da média geral e retorne um dos seguintes conceitos:\n",
        "        + Se a média geral for igual a 90 ou maior: retorne a string \"A\"\n",
        "        + Caso contrário, se a média geral for igual a 80 ou maior: retorne a string \"B\"\n",
        "        + Caso contrário, se a média geral for igual a 70 ou maior: retorne a string \"C\"\n",
        "        + Caso contrário, se a média geral for igual a 60 ou maior: retorne a string\"D\"\n",
        "        + Caso contrário: retorne a string \"F\"\n",
        "    4. Crie um método **privado** chamado `obterConceitoDoAluno`, que receba o dicionário de um aluno como argumento de entrada. Dentro desse método, invoque o método `obterConceito` passando como argumento de entrada o valor associado com a chave `médiaGeral` do dicionário do aluno, adicione a chave `conceito` ao dicionário do aluno com o conceito obtido por ele e retorne a string com seu conceito.\n",
        "    5. Crie um método **público** chamado `calcularMédiaGeralDaClasse` que receba a lista de `alunos` como argumento de entrada. Dentro desse método,\n",
        "        1. Crie uma lista vazia para adicionar a média geral de cada aluno,\n",
        "        2. Para cada aluno na lista, faça:\n",
        "            1. Calcule a média geral do aluno,\n",
        "            2. Adicione a média geral do aluno à lista de resultados,\n",
        "            3. Obtenha o conceito do aluno.\n",
        "        3. Calcule a média geral da classe (i.e., da turma) utilizando a lista criada no início do método.\n",
        "        4. Obtenha o conceito da classe utilizando a média geral calculada anteriormente.\n",
        "        5. Retorne a média geral e o conceito da classe.\n",
        "    6. Crie um método **público** chamado `imprimirInformaçõesDosAlunos` que receba a lista de `alunos` como argumento de entrada e imprima todos as informações de cada aluno (i.e., nome, laboratórios, quizzes, provas, média geral, conceito).\n",
        "\n",
        "O diagrama da classe é mostrado abaixo:\n",
        "    \n",
        "<img src=\"https://github.com/zz4fap/python-programming/blob/master/figures/di%C3%A1rio_de_classe.png?raw=1\" width=\"400px\">"
      ]
    },
    {
      "cell_type": "code",
      "execution_count": null,
      "metadata": {
        "id": "AZ0j3QL3Ejdm"
      },
      "outputs": [],
      "source": [
        "# Implemente aqui o código da classe."
      ]
    },
    {
      "cell_type": "markdown",
      "metadata": {
        "id": "o9HlDPTVEjdm"
      },
      "source": [
        "Teste sua classe com o código abaixo, o qual deve resultar na seguinte saída esperada:\n",
        "\n",
        "```python\n",
        "media geral da classe: 79.76 - conceito da classe: C\n",
        "\n",
        "Informações de cada aluno\n",
        "-----------------------------------\n",
        "nome: José\n",
        "laboratorio: [90.0, 97.0, 75.0, 92.0]\n",
        "quizzes: [88.0, 40.0, 94.0]\n",
        "provas: [75.0, 90.0]\n",
        "media geral: 81.66666666666667\n",
        "conceito: B\n",
        "-----------------------------------\n",
        "\n",
        "-----------------------------------\n",
        "nome: Alice\n",
        "laboratorio: [100.0, 92.0, 98.0, 100.0]\n",
        "quizzes: [82.0, 83.0, 91.0]\n",
        "provas: [89.0, 97.0]\n",
        "media geral: 91.94444444444444\n",
        "conceito: A\n",
        "-----------------------------------\n",
        "\n",
        "-----------------------------------\n",
        "nome: Antônio\n",
        "laboratorio: [0.0, 87.0, 75.0, 22.0]\n",
        "quizzes: [0.0, 75.0, 78.0]\n",
        "provas: [100.0, 100.0]\n",
        "media geral: 65.66666666666667\n",
        "conceito: D\n",
        "-----------------------------------\n",
        "```"
      ]
    },
    {
      "cell_type": "code",
      "execution_count": null,
      "metadata": {
        "id": "brCGhwCYEjdn",
        "outputId": "76d28c8c-2002-4d99-cda4-bdd0f999f403"
      },
      "outputs": [
        {
          "ename": "NameError",
          "evalue": "name 'DiárioDeClasse' is not defined",
          "output_type": "error",
          "traceback": [
            "\u001b[1;31m---------------------------------------------------------------------------\u001b[0m",
            "\u001b[1;31mNameError\u001b[0m                                 Traceback (most recent call last)",
            "\u001b[1;32m<ipython-input-4-c9bacd049e7f>\u001b[0m in \u001b[0;36m<module>\u001b[1;34m\u001b[0m\n\u001b[0;32m     22\u001b[0m \u001b[0malunos\u001b[0m \u001b[1;33m=\u001b[0m \u001b[1;33m[\u001b[0m\u001b[0mjosé\u001b[0m\u001b[1;33m,\u001b[0m \u001b[0malice\u001b[0m\u001b[1;33m,\u001b[0m \u001b[0mantônio\u001b[0m\u001b[1;33m]\u001b[0m\u001b[1;33m\u001b[0m\u001b[1;33m\u001b[0m\u001b[0m\n\u001b[0;32m     23\u001b[0m \u001b[1;33m\u001b[0m\u001b[0m\n\u001b[1;32m---> 24\u001b[1;33m \u001b[0mdiario\u001b[0m \u001b[1;33m=\u001b[0m \u001b[0mDiárioDeClasse\u001b[0m\u001b[1;33m(\u001b[0m\u001b[1;33m)\u001b[0m\u001b[1;33m\u001b[0m\u001b[1;33m\u001b[0m\u001b[0m\n\u001b[0m\u001b[0;32m     25\u001b[0m \u001b[1;33m\u001b[0m\u001b[0m\n\u001b[0;32m     26\u001b[0m \u001b[0mprint\u001b[0m\u001b[1;33m(\u001b[0m\u001b[1;34m'media geral da classe: %1.2f - conceito da classe: %s\\n\\n'\u001b[0m \u001b[1;33m%\u001b[0m \u001b[0mdiario\u001b[0m\u001b[1;33m.\u001b[0m\u001b[0mcalcularMédiaGeralDaClasse\u001b[0m\u001b[1;33m(\u001b[0m\u001b[0malunos\u001b[0m\u001b[1;33m)\u001b[0m\u001b[1;33m)\u001b[0m\u001b[1;33m\u001b[0m\u001b[1;33m\u001b[0m\u001b[0m\n",
            "\u001b[1;31mNameError\u001b[0m: name 'DiárioDeClasse' is not defined"
          ]
        }
      ],
      "source": [
        "josé = {\n",
        "  \"nome\": \"José\",\n",
        "  \"laboratórios\": [90.0,97.0,75.0,92.0],\n",
        "  \"quizzes\": [88.0,40.0,94.0],\n",
        "  \"provas\": [75.0,90.0]\n",
        "}\n",
        "\n",
        "alice = {\n",
        "  \"nome\": \"Alice\",\n",
        "  \"laboratórios\": [100.0, 92.0, 98.0, 100.0],\n",
        "  \"quizzes\": [82.0, 83.0, 91.0],\n",
        "  \"provas\": [89.0, 97.0]\n",
        "}\n",
        "\n",
        "antônio = {\n",
        "  \"nome\": \"Antônio\",\n",
        "  \"laboratórios\": [0.0, 87.0, 75.0, 22.0],\n",
        "  \"quizzes\": [0.0, 75.0, 78.0],\n",
        "  \"provas\": [100.0, 100.0]\n",
        "}\n",
        "\n",
        "alunos = [josé, alice, antônio]\n",
        "\n",
        "diario = DiárioDeClasse()\n",
        "\n",
        "print('media geral da classe: %1.2f - conceito da classe: %s\\n\\n' % diario.calcularMédiaGeralDaClasse(alunos))\n",
        "\n",
        "print('Informações de cada aluno')\n",
        "diario.imprimirInformaçõesDosAlunos(alunos)"
      ]
    },
    {
      "cell_type": "markdown",
      "metadata": {
        "id": "txxlCbFIEjdn"
      },
      "source": [
        "#### 3) Exercício sobre funções, listas e dicionários.\n",
        "\n",
        "Implemente uma função chamada `frequênciaDePalavras(mylist)` que recebe uma lista de strings chamada `mylist` e retorna um dicionário onde as chaves são as strings de `mylist` e os valores são o número de vezes que a string aparece em `mylist`."
      ]
    },
    {
      "cell_type": "code",
      "execution_count": null,
      "metadata": {
        "id": "JA86K6uoEjdn"
      },
      "outputs": [],
      "source": [
        "# Implemente aqui o código da função."
      ]
    },
    {
      "cell_type": "markdown",
      "metadata": {
        "id": "t7jKNQCxEjdn"
      },
      "source": [
        "Teste sua função com o código abaixo."
      ]
    },
    {
      "cell_type": "code",
      "execution_count": null,
      "metadata": {
        "id": "TlIgAXhGEjdo",
        "outputId": "7c4c35ab-2840-4a35-866f-ca37f3a44a56"
      },
      "outputs": [
        {
          "ename": "NameError",
          "evalue": "name 'frequênciaDePalavras' is not defined",
          "output_type": "error",
          "traceback": [
            "\u001b[1;31m---------------------------------------------------------------------------\u001b[0m",
            "\u001b[1;31mNameError\u001b[0m                                 Traceback (most recent call last)",
            "\u001b[1;32m<ipython-input-6-75947e826fa6>\u001b[0m in \u001b[0;36m<module>\u001b[1;34m\u001b[0m\n\u001b[0;32m      2\u001b[0m \u001b[0mword_freq\u001b[0m \u001b[1;33m=\u001b[0m \u001b[1;33m{\u001b[0m\u001b[1;34m'a'\u001b[0m \u001b[1;33m:\u001b[0m \u001b[1;36m5\u001b[0m\u001b[1;33m,\u001b[0m \u001b[1;34m'b'\u001b[0m \u001b[1;33m:\u001b[0m \u001b[1;36m4\u001b[0m\u001b[1;33m,\u001b[0m \u001b[1;34m'c'\u001b[0m \u001b[1;33m:\u001b[0m \u001b[1;36m3\u001b[0m\u001b[1;33m,\u001b[0m \u001b[1;34m'd'\u001b[0m \u001b[1;33m:\u001b[0m \u001b[1;36m2\u001b[0m\u001b[1;33m,\u001b[0m \u001b[1;34m'e'\u001b[0m \u001b[1;33m:\u001b[0m \u001b[1;36m1\u001b[0m\u001b[1;33m,\u001b[0m \u001b[1;34m'f'\u001b[0m \u001b[1;33m:\u001b[0m \u001b[1;36m2\u001b[0m\u001b[1;33m,\u001b[0m \u001b[1;34m'g'\u001b[0m \u001b[1;33m:\u001b[0m \u001b[1;36m10\u001b[0m\u001b[1;33m,\u001b[0m \u001b[1;34m'h'\u001b[0m \u001b[1;33m:\u001b[0m \u001b[1;36m3\u001b[0m\u001b[1;33m}\u001b[0m\u001b[1;33m\u001b[0m\u001b[1;33m\u001b[0m\u001b[0m\n\u001b[0;32m      3\u001b[0m \u001b[1;33m\u001b[0m\u001b[0m\n\u001b[1;32m----> 4\u001b[1;33m \u001b[1;32mif\u001b[0m \u001b[0mfrequênciaDePalavras\u001b[0m\u001b[1;33m(\u001b[0m\u001b[0mword_list\u001b[0m\u001b[1;33m)\u001b[0m \u001b[1;33m==\u001b[0m \u001b[0mword_freq\u001b[0m\u001b[1;33m:\u001b[0m\u001b[1;33m\u001b[0m\u001b[1;33m\u001b[0m\u001b[0m\n\u001b[0m\u001b[0;32m      5\u001b[0m     \u001b[0mprint\u001b[0m\u001b[1;33m(\u001b[0m\u001b[1;34m\"Implementação correta!\"\u001b[0m\u001b[1;33m)\u001b[0m\u001b[1;33m\u001b[0m\u001b[1;33m\u001b[0m\u001b[0m\n\u001b[0;32m      6\u001b[0m \u001b[1;32melse\u001b[0m\u001b[1;33m:\u001b[0m\u001b[1;33m\u001b[0m\u001b[1;33m\u001b[0m\u001b[0m\n",
            "\u001b[1;31mNameError\u001b[0m: name 'frequênciaDePalavras' is not defined"
          ]
        }
      ],
      "source": [
        "word_list = list(\"aaaaabbbbcccddeffgggggggggghhh\")\n",
        "word_freq = {'a' : 5, 'b' : 4, 'c' : 3, 'd' : 2, 'e' : 1, 'f' : 2, 'g' : 10, 'h' : 3}\n",
        "\n",
        "if frequênciaDePalavras(word_list) == word_freq:\n",
        "    print(\"Implementação correta!\")\n",
        "else:\n",
        "    print(\"Erro....\")"
      ]
    },
    {
      "cell_type": "markdown",
      "metadata": {
        "id": "360lANwmEjdo"
      },
      "source": [
        "#### 4) Exercício sobre programação orientada a objetos.\n",
        "\n",
        "Implemente todas as classes do diagrama de classes abaixo.\n",
        "\n",
        "<img src=\"https://github.com/zz4fap/python-programming/blob/master/figures/universidade.png?raw=1\" width=\"900px\">\n",
        "\n",
        "Seguem abaixo algumas dicas para a implementação:\n",
        "\n",
        "1. Para criar um objeto contendo a data de nascimento de um membro, podemos usar a classe `datetime` do módulo `datetime`. A classe `datetime` requer três parâmetros para criar uma data: `ano`, `mês` e `dia`. Para mais informações, acesse a documentação da classe `datetime` em: https://docs.python.org/3/library/datetime.html\n",
        "2. Uma forma simples e não totalmente correta de se calcular a idade de um membro é mostrada no trecho de código abaixo:\n",
        "```python\n",
        "import datetime\n",
        "dataDeNascimento = datetime.datetime(1999, 1, 1)\n",
        "diff = datetime.datetime.now() - dataDeNascimento\n",
        "idade = int(diff.days / 365.0)\n",
        "```\n",
        "3. O relacionamento do membro com a universidade significa apenas se ele é um professor ou um aluno da mesma. Nós podemos obter o nome da classe a que uma instância (i.e., um objeto) pertence utilizando `__class__.__name__`, como mostrado no trecho de código abaixo.\n",
        "```python\n",
        "def obterRelacionamento(self):\n",
        "       return __class__.__name__\n",
        "```"
      ]
    },
    {
      "cell_type": "code",
      "execution_count": null,
      "metadata": {
        "id": "82EIN8A2Ejdo"
      },
      "outputs": [],
      "source": [
        "# Implemente aqui o código da classe."
      ]
    },
    {
      "cell_type": "markdown",
      "metadata": {
        "id": "bizXbh04Ejdp"
      },
      "source": [
        "Teste suas classes com o código abaixo, o qual deve resultar na seguinte saída esperada:\n",
        "\n",
        "```python\n",
        "----------------------\n",
        "Nome: João Afonso\n",
        "Relacionamento: Professor\n",
        "Data de nascimento: 1987-03-22\n",
        "Idade: 34\n",
        "----------------------\n",
        "----------------------\n",
        "Nome: Everton Bastos\n",
        "Relacionamento: Professor\n",
        "Data de nascimento: 1981-10-02\n",
        "Idade: 39\n",
        "----------------------\n",
        "----------------------\n",
        "Nome: Thiago Nascimento\n",
        "Relacionamento: Aluno\n",
        "Data de nascimento: 2000-07-13\n",
        "Idade: 20\n",
        "----------------------\n",
        "----------------------\n",
        "Nome: Ulisses Guimarães\n",
        "Relacionamento: Aluno\n",
        "Data de nascimento: 1999-01-01\n",
        "Idade: 22\n",
        "----------------------\n",
        "```"
      ]
    },
    {
      "cell_type": "code",
      "execution_count": null,
      "metadata": {
        "id": "3OPkiOfcEjdp",
        "outputId": "35950f97-e0c6-42d4-80a0-2718389761b1"
      },
      "outputs": [
        {
          "ename": "NameError",
          "evalue": "name 'Professor' is not defined",
          "output_type": "error",
          "traceback": [
            "\u001b[1;31m---------------------------------------------------------------------------\u001b[0m",
            "\u001b[1;31mNameError\u001b[0m                                 Traceback (most recent call last)",
            "\u001b[1;32m<ipython-input-2-d145f6a0be0f>\u001b[0m in \u001b[0;36m<module>\u001b[1;34m\u001b[0m\n\u001b[0;32m      2\u001b[0m \u001b[1;33m\u001b[0m\u001b[0m\n\u001b[0;32m      3\u001b[0m \u001b[0mdataDeNascimentoProf1\u001b[0m \u001b[1;33m=\u001b[0m \u001b[0mdatetime\u001b[0m\u001b[1;33m.\u001b[0m\u001b[0mdatetime\u001b[0m\u001b[1;33m(\u001b[0m\u001b[1;36m1987\u001b[0m\u001b[1;33m,\u001b[0m \u001b[1;36m3\u001b[0m\u001b[1;33m,\u001b[0m \u001b[1;36m22\u001b[0m\u001b[1;33m)\u001b[0m\u001b[1;33m\u001b[0m\u001b[1;33m\u001b[0m\u001b[0m\n\u001b[1;32m----> 4\u001b[1;33m \u001b[0mjoao\u001b[0m \u001b[1;33m=\u001b[0m \u001b[0mProfessor\u001b[0m\u001b[1;33m(\u001b[0m\u001b[1;34m'João Afonso'\u001b[0m\u001b[1;33m,\u001b[0m \u001b[0mdataDeNascimentoProf1\u001b[0m\u001b[1;33m,\u001b[0m \u001b[1;36m2000.00\u001b[0m\u001b[1;33m)\u001b[0m\u001b[1;33m\u001b[0m\u001b[1;33m\u001b[0m\u001b[0m\n\u001b[0m\u001b[0;32m      5\u001b[0m \u001b[1;33m\u001b[0m\u001b[0m\n\u001b[0;32m      6\u001b[0m \u001b[0mdataDeNascimentoProf2\u001b[0m \u001b[1;33m=\u001b[0m \u001b[0mdatetime\u001b[0m\u001b[1;33m.\u001b[0m\u001b[0mdatetime\u001b[0m\u001b[1;33m(\u001b[0m\u001b[1;36m1981\u001b[0m\u001b[1;33m,\u001b[0m \u001b[1;36m10\u001b[0m\u001b[1;33m,\u001b[0m \u001b[1;36m2\u001b[0m\u001b[1;33m)\u001b[0m\u001b[1;33m\u001b[0m\u001b[1;33m\u001b[0m\u001b[0m\n",
            "\u001b[1;31mNameError\u001b[0m: name 'Professor' is not defined"
          ]
        }
      ],
      "source": [
        "import datetime\n",
        "\n",
        "dataDeNascimentoProf1 = datetime.datetime(1987, 3, 22)\n",
        "joao = Professor('João Afonso', dataDeNascimentoProf1, 2000.00)\n",
        "\n",
        "dataDeNascimentoProf2 = datetime.datetime(1981, 10, 2)\n",
        "everton = Professor('Everton Bastos', dataDeNascimentoProf2, 2220.00)\n",
        "\n",
        "dataDeNascimentoAluno1 = datetime.datetime(2000, 7, 13)\n",
        "thiago = Aluno('Thiago Nascimento', dataDeNascimentoAluno1, 123)\n",
        "\n",
        "dataDeNascimentoAluno2 = datetime.datetime(1999, 1, 1)\n",
        "ulisses = Aluno('Ulisses Guimarães', dataDeNascimentoAluno2, 546)\n",
        "\n",
        "inatel = Universidade('INATEL')\n",
        "\n",
        "inatel.adicionarMembro(joao)\n",
        "inatel.adicionarMembro(everton)\n",
        "\n",
        "inatel.adicionarMembro(thiago)\n",
        "inatel.adicionarMembro(ulisses)\n",
        "\n",
        "inatel.listarMembros()"
      ]
    },
    {
      "cell_type": "markdown",
      "metadata": {
        "id": "qcuqW0qHEjdp"
      },
      "source": [
        "#### 5) Exercício sobre programação orientada a objetos e manipulação de arquivos.\n",
        "\n",
        "Implemente a classe do diagrama abaixo.\n",
        "\n",
        "**IMPORTANTE**: Neste exercício você deverá utilizar um **arquivo CSV** para armazenar as informações sobre os veículos estacionados no estacionamento.\n",
        "\n",
        "<img src=\"https://github.com/zz4fap/python-programming/blob/master/figures/estacionamentoCSV2.png?raw=1\" width=\"400px\">\n",
        "\n",
        "Seguem algumas dicas para a implementação da classe:\n",
        "\n",
        "1. Prestem bastante atenção ao tipo de acesso (i.e., privado, protegido ou público) de cada **atributo** e **método** da classe.\n",
        "2. Usem a instrução `with` para trabalhar com os arquivos.\n",
        "3. O construtor da classe `Estacionamento` deve criar um arquivo **CSV** chamado `estacionamento.csv` com as seguintes colunas: `Placa`, `Marca`, `Modelo`, `Cor` e `Quilometragem`. Este arquivo será usado para armazenar as informações de cada carro estacionado no estacionamento.\n",
        "4. O atributo `nome` da classe `Estacionamento` é o nome do estacionamento.\n",
        "5. O método `adicionarVeículo(veículo)` da classe `Estacionamento` deve adicionar um novo veículo ao arquivo `estacionamento.csv` apenas se a `capacidade` do estacionamento não tiver sido atingida, nesse caso, o método deve retornar `True`. Caso contrário, se o estacionamento estiver cheio, o método deve retornar `False`.\n",
        "6. O parâmetro de entrada `veículo` do método `adicionarVeículo` é uma lista com os valores dos seguintes elementos: `placa`, `marca`, `modelo`, `cor` e `quilometragem` de cada veículo a ser adicionado ao arquivo.\n",
        "7. O método `removerVeículo(placa)` da classe `Estacionamento` recebe como argumento de entrada uma `placa` e deve remover o veículo com aquela placa do arquivo `estacionamento.csv` e retornar `True` após a remoção bem sucedida do veículo. Caso contrário, se o veículo com aquela placa não existir no arquivo `estacionamento.csv`, então o método deve retornar `False`.\n",
        "    \n",
        "    **DICAS**:\n",
        "    + Antes de remover o veículo, verifique se ele está presente no arquivo `estacionamento.csv`.\n",
        "    + Uma forma simples de remover um veículo do arquivo é criar uma lista onde cada elementos é uma das linhas do arquivo exceto aquela do veículo a ser removido, abrir o arquivo `estacionamento.csv` com o modo de operação `w` para que todas as informações anteriores sejam apagadas e, em seguida, escrever cada uma das linhas da lista no arquivo.\n",
        "8. O método `listarVeículos()` da classe `Estacionamento` deve imprimir as informações de todos os veículos estacionados no estacionamento. Este método deve retornar `True` caso a ocupação atual do estacionamento seja maior do que 0. Caso contrário, se o estacionamento estiver vazio e nenhuma informação for impressa, o método deve retornar `False`.\n",
        "9. O método `getOcupaçãoAtual()` da classe `Estacionamento` deve retornar o número de carros estacionados no estacionamento.\n",
        "10. O método `listarVeículo(placa)` da classe `Estacionamento` deve imprimir as informações do veículo com a `placa` passada como argumento de entrada para o método. Este método deve retornar `True` caso a ocupação atual do estacionamento seja maior do que 0 e se o veículo estiver presente no arquivo `estacionamento.csv`. Caso contrário, se o estacionamento estiver vazio ou o veículo não estiver presente no arquivo, então, nenhuma informação deve ser impressa e o método deve retornar `False`."
      ]
    },
    {
      "cell_type": "code",
      "execution_count": null,
      "metadata": {
        "id": "IWS23XjSEjdq"
      },
      "outputs": [],
      "source": [
        "# Implemente o código do exercício aqui."
      ]
    },
    {
      "cell_type": "markdown",
      "metadata": {
        "id": "rvQqlScBEjdq"
      },
      "source": [
        "Teste sua implementação com o código abaixo, o qual deve resultar em todos os testes tendo o status OK."
      ]
    },
    {
      "cell_type": "code",
      "execution_count": null,
      "metadata": {
        "id": "tnMGaw3hEjdq",
        "outputId": "aa4ab10e-a796-4280-8b76-aad500321001"
      },
      "outputs": [
        {
          "ename": "NameError",
          "evalue": "name 'Estacionamento' is not defined",
          "output_type": "error",
          "traceback": [
            "\u001b[1;31m---------------------------------------------------------------------------\u001b[0m",
            "\u001b[1;31mNameError\u001b[0m                                 Traceback (most recent call last)",
            "\u001b[1;32m<ipython-input-1-2c93684009ee>\u001b[0m in \u001b[0;36m<module>\u001b[1;34m\u001b[0m\n\u001b[0;32m     12\u001b[0m \u001b[1;33m\u001b[0m\u001b[0m\n\u001b[0;32m     13\u001b[0m \u001b[1;31m# Instanciando um estacionamento.\u001b[0m\u001b[1;33m\u001b[0m\u001b[1;33m\u001b[0m\u001b[1;33m\u001b[0m\u001b[0m\n\u001b[1;32m---> 14\u001b[1;33m \u001b[0mestacionamento\u001b[0m \u001b[1;33m=\u001b[0m \u001b[0mEstacionamento\u001b[0m\u001b[1;33m(\u001b[0m\u001b[1;34m'Central'\u001b[0m\u001b[1;33m,\u001b[0m \u001b[1;36m3\u001b[0m\u001b[1;33m)\u001b[0m\u001b[1;33m\u001b[0m\u001b[1;33m\u001b[0m\u001b[0m\n\u001b[0m\u001b[0;32m     15\u001b[0m \u001b[1;33m\u001b[0m\u001b[0m\n\u001b[0;32m     16\u001b[0m \u001b[1;32mif\u001b[0m \u001b[0mestacionamento\u001b[0m\u001b[1;33m.\u001b[0m\u001b[0mgetOcupaçãoAtual\u001b[0m\u001b[1;33m(\u001b[0m\u001b[1;33m)\u001b[0m \u001b[1;33m==\u001b[0m \u001b[1;36m0\u001b[0m\u001b[1;33m:\u001b[0m\u001b[1;33m\u001b[0m\u001b[1;33m\u001b[0m\u001b[0m\n",
            "\u001b[1;31mNameError\u001b[0m: name 'Estacionamento' is not defined"
          ]
        }
      ],
      "source": [
        "import csv\n",
        "\n",
        "# Definindo alguns veículos.\n",
        "moto1 = ['OOK2034', 'Honda', 'CB650R', 'vermelho', '31300.02']\n",
        "onibus1 = ['OST8989', 'Mercedes-Benz', 'Paradiso G7 1200', 'branco', '200010.99']\n",
        "carro1 = ['HDT6542', 'Fiat', 'Mobi', 'azul', '1000.34']\n",
        "carro2 = ['HOT4356', 'Volvo', 'XC60', 'amarelo', '5100.33']\n",
        "\n",
        "# Contador de casos de sucesso.\n",
        "sucesso = 0\n",
        "falha = 0\n",
        "\n",
        "# Instanciando um estacionamento.\n",
        "estacionamento = Estacionamento('Central', 3)\n",
        "\n",
        "if estacionamento.getOcupaçãoAtual() == 0:\n",
        "    print('Teste 1 - Ocupação inicial está OK.')\n",
        "    sucesso += 1\n",
        "else:\n",
        "    print('Teste 1 - Ocupação inicial NÃO está OK.')\n",
        "    falha += 1\n",
        "\n",
        "# Listando os veículos no estacionamento.\n",
        "if estacionamento.listarVeículos() == False:\n",
        "    print('Teste 2 - Listagem de veículos está OK.')\n",
        "    sucesso += 1\n",
        "else:\n",
        "    print('Teste 2 - Listagem de veículos NÃO está OK.')\n",
        "    falha += 1\n",
        "\n",
        "# Adicionando veiculo.\n",
        "if estacionamento.adicionarVeículo(onibus1) == True:\n",
        "    print('Teste 3 - Adiçao de veículo está OK.')\n",
        "    sucesso += 1\n",
        "else:\n",
        "    print('Teste 3 - Adiçao de veículo NÃO está OK.')\n",
        "    falha += 1\n",
        "\n",
        "# Verificando a ocupação atual.\n",
        "if estacionamento.getOcupaçãoAtual() == 1:\n",
        "    print('Teste 4 - Ocupação atual está OK.')\n",
        "    sucesso += 1\n",
        "else:\n",
        "    print('Teste 4 - Ocupação atual NÃO está OK.')\n",
        "    falha += 1\n",
        "\n",
        "# Listando os veículos no estacionamento.\n",
        "if estacionamento.listarVeículos() == True:\n",
        "    print('Teste 5 - Listagem de veículos estacionados está OK.')\n",
        "    sucesso += 1\n",
        "else:\n",
        "    print('Teste 5 - Listagem de veículos estacionados NÃO está OK.')\n",
        "    falha += 1\n",
        "\n",
        "if estacionamento.adicionarVeículo(moto1) == True:\n",
        "    print('Teste 6 - Adiçao de veículo está OK.')\n",
        "    sucesso += 1\n",
        "else:\n",
        "    print('Teste 6 - Adiçao de veículo NÃO está OK.')\n",
        "    falha += 1\n",
        "\n",
        "# Verificando a ocupação atual.\n",
        "if estacionamento.getOcupaçãoAtual() == 2:\n",
        "    print('Teste 7 - Ocupação atual está OK.')\n",
        "    sucesso += 1\n",
        "else:\n",
        "    print('Teste 7 - Ocupação atual NÃO está OK.')\n",
        "    falha += 1\n",
        "\n",
        "# Adicionando veiculo.\n",
        "if estacionamento.adicionarVeículo(carro1) == True:\n",
        "    print('Teste 8 - Adiçao de veículo está OK.')\n",
        "    sucesso += 1\n",
        "else:\n",
        "    print('Teste 8 - Adiçao de veículo NÃO está OK.')\n",
        "    falha += 1\n",
        "\n",
        "# Verificando a ocupação atual.\n",
        "if estacionamento.getOcupaçãoAtual() == 3:\n",
        "    print('Teste 9 - Ocupação atual está OK.')\n",
        "    sucesso += 1\n",
        "else:\n",
        "    print('Teste 9 - Ocupação atual NÃO está OK.')\n",
        "    falha += 1\n",
        "\n",
        "# Adicionando veiculo.\n",
        "if estacionamento.adicionarVeículo(carro2) == False:\n",
        "    print('Teste 10 - Adiçao de veículo está OK.')\n",
        "    sucesso += 1\n",
        "else:\n",
        "    print('Teste 10 - Adiçao de veículo NÃO está OK.')\n",
        "    falha += 1\n",
        "\n",
        "# Listando os veículos no estacionamento.\n",
        "if estacionamento.listarVeículos() == True:\n",
        "    print('Teste 11 - Listagem de veículos estacionados está OK.')\n",
        "    sucesso += 1\n",
        "else:\n",
        "    print('Teste 11 - Listagem de veículos estacionados NÃO está OK.')\n",
        "    falha += 1\n",
        "\n",
        "# Removendo veiculo.\n",
        "if estacionamento.removerVeículo('HOT4356') == False:\n",
        "    print('Teste 12 - Remoção de veículo está OK.')\n",
        "    sucesso += 1\n",
        "else:\n",
        "    print('Teste 12 - Remoção de veículo NÃO está OK.')\n",
        "    falha += 1\n",
        "\n",
        "# Removendo veiculo.\n",
        "if estacionamento.removerVeículo('HOT4356') == False:\n",
        "    print('Teste 13 - Remoção de veículo está OK.')\n",
        "    sucesso += 1\n",
        "else:\n",
        "    print('Teste 13 - Remoção de veículo NÃO está OK.')\n",
        "    falha += 1\n",
        "\n",
        "# Verificando a ocupação atual.\n",
        "if estacionamento.getOcupaçãoAtual() == 3:\n",
        "    print('Teste 14 - Ocupação atual está OK.')\n",
        "    sucesso += 1\n",
        "else:\n",
        "    print('Teste 14 - Ocupação atual NÃO está OK.')\n",
        "    falha += 1\n",
        "\n",
        "# Removendo veiculo.\n",
        "if estacionamento.removerVeículo('OOK2034') == True:\n",
        "    print('Teste 15 - Remoção de veículo está OK.')\n",
        "    sucesso += 1\n",
        "else:\n",
        "    print('Teste 15 - Remoção de veículo NÃO está OK.')\n",
        "    falha += 1\n",
        "\n",
        "# Verificando a ocupação atual.\n",
        "if estacionamento.getOcupaçãoAtual() == 2:\n",
        "    print('Teste 16 - Ocupação atual está OK.')\n",
        "    sucesso += 1\n",
        "else:\n",
        "    print('Teste 16 - Ocupação atual NÃO está OK.')\n",
        "    falha += 1\n",
        "\n",
        "# Removendo veiculo.\n",
        "if estacionamento.removerVeículo('OST8989') == True:\n",
        "    print('Teste 17 - Remoção de veículo está OK.')\n",
        "    sucesso += 1\n",
        "else:\n",
        "    print('Teste 17 - Remoção de veículo NÃO está OK.')\n",
        "    falha += 1\n",
        "\n",
        "# Verificando a ocupação atual.\n",
        "if estacionamento.getOcupaçãoAtual() == 1:\n",
        "    print('Teste 18 - Ocupação atual está OK.')\n",
        "    sucesso += 1\n",
        "else:\n",
        "    print('Teste 18 - Ocupação atual NÃO está OK.')\n",
        "    falha += 1\n",
        "\n",
        "# Removendo veiculo.\n",
        "if estacionamento.removerVeículo('HDT6542') == True:\n",
        "    print('Teste 19 - Remoção de veículo está OK.')\n",
        "    sucesso += 1\n",
        "else:\n",
        "    print('Teste 19 - Remoção de veículo NÃO está OK.')\n",
        "    falha += 1\n",
        "\n",
        "# Verificando a ocupação atual.\n",
        "if estacionamento.getOcupaçãoAtual() == 0:\n",
        "    print('Teste 20 - Ocupação atual está OK.')\n",
        "    sucesso += 1\n",
        "else:\n",
        "    print('Teste 20 - Ocupação atual NÃO está OK.')\n",
        "    falha += 1\n",
        "\n",
        "# Removendo veiculo.\n",
        "if estacionamento.removerVeículo('FGT6754') == False:\n",
        "    print('Teste 21 - Remoção de veículo está OK.')\n",
        "    sucesso += 1\n",
        "else:\n",
        "    print('Teste 21 - Remoção de veículo NÃO está OK.')\n",
        "    falha += 1\n",
        "\n",
        "# Verificando a ocupação atual.\n",
        "if estacionamento.getOcupaçãoAtual() == 0:\n",
        "    print('Teste 22 - Ocupação atual está OK.')\n",
        "    sucesso += 1\n",
        "else:\n",
        "    print('Teste 22 - Ocupação atual NÃO está OK.')\n",
        "    falha += 1\n",
        "\n",
        "# Listando os veículos no estacionamento.\n",
        "if estacionamento.listarVeículos() == False:\n",
        "    print('Teste 23 - Listagem de veículos estacionados está OK.')\n",
        "    sucesso += 1\n",
        "else:\n",
        "    print('Teste 23 - Listagem de veículos estacionados NÃO está OK.')\n",
        "    falha += 1\n",
        "\n",
        "# Busca por veículo específico.\n",
        "if estacionamento.listarVeículo('HOT4356') == False:\n",
        "    print('Teste 24 - Busca por veículo específico está OK.')\n",
        "    sucesso += 1\n",
        "else:\n",
        "    print('Teste 24 - Busca por veículo específico NÃO está OK.')\n",
        "    falha += 1\n",
        "\n",
        "# Adicionando veiculo.\n",
        "if estacionamento.adicionarVeículo(carro2) == True:\n",
        "    print('Teste 25 - Adiçao de veículo está OK.')\n",
        "    sucesso += 1\n",
        "else:\n",
        "    print('Teste 25 - Adiçao de veículo NÃO está OK.')\n",
        "    falha += 1\n",
        "\n",
        "# Busca por veículo específico.\n",
        "if estacionamento.listarVeículo('HOT4356') == True:\n",
        "    print('Teste 26 - Busca por veículo específico está OK.')\n",
        "    sucesso += 1\n",
        "else:\n",
        "    print('Teste 26 - Busca por veículo específico NÃO está OK.')\n",
        "    falha += 1\n",
        "\n",
        "# Removendo animal.\n",
        "if estacionamento.removerVeículo('HOT4356') == True:\n",
        "    print('Teste 27 - Remoção de veículo está OK.')\n",
        "    sucesso += 1\n",
        "else:\n",
        "    print('Teste 27 - Remoção de veículo NÃO está OK.')\n",
        "    falha += 1\n",
        "\n",
        "# Verificando a ocupação atual.\n",
        "if estacionamento.getOcupaçãoAtual() == 0:\n",
        "    print('Teste 28 - Ocupação atual está OK.')\n",
        "    sucesso += 1\n",
        "else:\n",
        "    print('Teste 28 - Ocupação atual NÃO está OK.')\n",
        "    falha += 1\n",
        "\n",
        "print('\\n\\n******* Resultado final dos testes *******')\n",
        "if sucesso == 28 and falha == 0:\n",
        "    print('Sucessos: %d - Falhas: %d' % (sucesso, falha))\n",
        "    print('Todos os testes foram bem sucedidos, sua implementação está OK!')\n",
        "else:\n",
        "    print('Sucessos: %d - Falhas: %d' % (sucesso, falha))\n",
        "    print('Alguns testes falharam, sua implementação NÃO está OK... verifique seu código.')\n",
        "print('******************************************')"
      ]
    },
    {
      "cell_type": "markdown",
      "metadata": {
        "id": "HvU8CEkGEjdr"
      },
      "source": [
        "#### 6) Exercício sobre programação orientada a objetos.\n",
        "\n",
        "Um objeto da classe `Biblioteca` **USA** objetos das classes `Cliente` e `Livro` para gerenciar o empréstimos de livros aos seus clientes.\n",
        "\n",
        "Baseado nessa afirmação, implemente todas as classes do diagrama de classes abaixo.\n",
        "\n",
        "<img src=\"https://github.com/zz4fap/python-programming/blob/master/figures/lab6_parte2_dependencia_composicao.png?raw=1\" width=\"800px\">\n",
        "\n",
        "Seguem algumas dicas para a implementação das classes:\n",
        "\n",
        "+ Classe `Biblioteca`\n",
        "\n",
        "    1. O método `emprestar` deve **usar** o objeto da classe `Livro` e configurar a data de empréstimo do livro em seguida, ele deve **usar** o objeto da classe `Cliente` para adicionar o objeto da classe `Livro` no cliente. O método deve retornar o valor do retorno do método `adicionarLivro` da classe `Cliente`.\n",
        "    2. Para configurar a data de empréstimo do livro use o método `today()` da biblioteca `datetime` e não se esqueça de usar o método `str()` para transformar a data em uma string. Você deve importar a biblioteca `datetime` conforme mostrado abaixo, veja o exemplo de uso na sequência.\n",
        "    ```python\n",
        "    from datetime import date\n",
        "    today = str(date.today())\n",
        "    print(\"Today's date:\", today)\n",
        "    ```\n",
        "    3. O método `devolver` deve **usar** o objeto da classe `Cliente` para remover o objeto da classe `Livro` passado para o método. Na sequência, ele deve **usar** o objeto da classe `Livro` e configurar a data de empréstimo com um string vazia, ou seja, `''`. Ao final, o método deve retornar o valor do retorno do método `removerLivro` da classe `Cliente`.\n",
        "    4. O método `listar` deve **usar** o objeto da classe `Cliente` para listar os livros emprestados por aquele cliente. O método deve retornar o valor do retorno do método `listarLivros` da classe `Cliente`.\n",
        "\n",
        "\n",
        "+ Classe `Cliente`\n",
        "\n",
        "    1. O atributo privado `livros` deve ser inicializado com uma lista vazia, ou seja, `[]`.\n",
        "    2. O método `adicionarLivro` deve adicionar o objeto da classe `Livro` recebido pelo método à lista de livros caso aquele livro não se encontre já armazenado na lista. Caso o livro não esteja presente na lista, o método deve retornar `True` , caso contrário `False`.\n",
        "    3. O método `removerLivro` deve remover o objeto da classe `Livro` recebido pelo método da lista de livros caso aquele livro se encontre armazenado na lista. Caso o livro esteja presente na lista, o método deve retornar `True` , caso contrário `False`.\n",
        "    4. O método `listarLivros` deve imprimir todos os títulos e datas de empréstimos dos livros armazenados na lista de livros apenas se a lista de livros tiver ao menos um livro armazenado. Caso a lista tenha ao menos um livro armazenado, o método deve retornar, após imprimir as informações dos livros, a quantidade de livros armazenados na lista. Caso não exista nenhum livro na lista, o método deve retornar 0.\n",
        "\n",
        "\n",
        "+ Classe `Livro`\n",
        "\n",
        "    1. O atributo privado `dataEmpréstimo` deve ser inicializado com uma string vazia, ou seja, `''`.\n",
        "    2. O método `getTítulo` deve retornar o valor do atributo privado `título` do livro.\n",
        "    3. O método `getDataEmpréstimo` deve retornar o valor do atributo privado `dataEmpréstimo` do livro.\n",
        "    4. O método `setDataEmpréstimo` deve configurar o valor do atributo privado `dataEmpréstimo` do livro."
      ]
    },
    {
      "cell_type": "code",
      "execution_count": null,
      "metadata": {
        "id": "RCHat7kjEjdr"
      },
      "outputs": [],
      "source": [
        "# Implemente aqui o código do exercício."
      ]
    },
    {
      "cell_type": "markdown",
      "metadata": {
        "id": "Uk0cJoq4Ejdr"
      },
      "source": [
        "Teste sua implementação com o trecho de código abaixo."
      ]
    },
    {
      "cell_type": "code",
      "execution_count": null,
      "metadata": {
        "id": "rCyHjQrVEjdr",
        "outputId": "35c30960-6524-4fe6-cb24-1ce58c6b0b5f"
      },
      "outputs": [
        {
          "ename": "NameError",
          "evalue": "name 'Biblioteca' is not defined",
          "output_type": "error",
          "traceback": [
            "\u001b[1;31m---------------------------------------------------------------------------\u001b[0m",
            "\u001b[1;31mNameError\u001b[0m                                 Traceback (most recent call last)",
            "\u001b[1;32m<ipython-input-4-19f4367fdbbb>\u001b[0m in \u001b[0;36m<module>\u001b[1;34m\u001b[0m\n\u001b[0;32m      1\u001b[0m \u001b[1;32mfrom\u001b[0m \u001b[0mdatetime\u001b[0m \u001b[1;32mimport\u001b[0m \u001b[0mdate\u001b[0m\u001b[1;33m\u001b[0m\u001b[1;33m\u001b[0m\u001b[0m\n\u001b[0;32m      2\u001b[0m \u001b[1;33m\u001b[0m\u001b[0m\n\u001b[1;32m----> 3\u001b[1;33m \u001b[0mbiblioteca\u001b[0m \u001b[1;33m=\u001b[0m \u001b[0mBiblioteca\u001b[0m\u001b[1;33m(\u001b[0m\u001b[1;34m'Municipal'\u001b[0m\u001b[1;33m)\u001b[0m\u001b[1;33m\u001b[0m\u001b[1;33m\u001b[0m\u001b[0m\n\u001b[0m\u001b[0;32m      4\u001b[0m \u001b[1;33m\u001b[0m\u001b[0m\n\u001b[0;32m      5\u001b[0m \u001b[0mcliente\u001b[0m \u001b[1;33m=\u001b[0m \u001b[0mCliente\u001b[0m\u001b[1;33m(\u001b[0m\u001b[1;34m'João da Silva'\u001b[0m\u001b[1;33m,\u001b[0m \u001b[1;36m1234\u001b[0m\u001b[1;33m)\u001b[0m\u001b[1;33m\u001b[0m\u001b[1;33m\u001b[0m\u001b[0m\n",
            "\u001b[1;31mNameError\u001b[0m: name 'Biblioteca' is not defined"
          ]
        }
      ],
      "source": [
        "from datetime import date\n",
        "\n",
        "biblioteca = Biblioteca('Municipal')\n",
        "\n",
        "cliente = Cliente('João da Silva', 1234)\n",
        "\n",
        "livro1 = Livro('Harry Potter e a pedra filosofal')\n",
        "livro2 = Livro('Harry Potter e a câmara secreta')\n",
        "\n",
        "ret = 0\n",
        "if(biblioteca.emprestar(cliente, livro1)==True):\n",
        "    ret += 1\n",
        "if(livro1.getDataEmpréstimo()==str(date.today())):\n",
        "    ret += 1\n",
        "if(biblioteca.listar(cliente)==1):\n",
        "    ret += 1\n",
        "if(biblioteca.emprestar(cliente, livro1)==False):\n",
        "    ret += 1\n",
        "if(biblioteca.emprestar(cliente, livro2)==True):\n",
        "    ret += 1\n",
        "if(biblioteca.listar(cliente)==2):\n",
        "    ret += 1\n",
        "if(biblioteca.devolver(cliente, livro1)==True):\n",
        "    ret += 1\n",
        "if(livro1.getDataEmpréstimo()==''):\n",
        "    ret += 1\n",
        "if(biblioteca.listar(cliente)==1):\n",
        "    ret += 1\n",
        "if(biblioteca.devolver(cliente, livro2)==True):\n",
        "    ret += 1\n",
        "if(biblioteca.listar(cliente)==0):\n",
        "    ret += 1\n",
        "if(ret == 11):\n",
        "    print('\\n\\nSua implementação está correta.')\n",
        "else:\n",
        "    print('\\n\\nSua implementação NÃO está correta.')"
      ]
    },
    {
      "cell_type": "markdown",
      "metadata": {
        "id": "b6_HbFojEjdr"
      },
      "source": [
        "#### 7) Exercício sobre a utilização da biblioteca NumPy.\n",
        "\n",
        "Suponha que um vendedor de frutas vendeu 20 mangas e 10 laranjas em um dia por um total de 350 reais. No dia seguinte, ele vendeu 17 mangas e 22 laranjas por 500 reais. Se os preços das frutas permaneceram inalterados nos dois dias, qual foi o preço de uma manga e de uma laranja? **Imprima os preços das duas frutas.**\n",
        "\n",
        "**DICAS**\n",
        "\n",
        "+ Este problema pode ser facilmente resolvido com um sistema de duas equações lineares.\n",
        "+ Resolva o exercício utilizando as funcionalidades da biblioteca NumPy (por exemplo, a função `np.linalg.inv()` para calcular a inversa da matriz)."
      ]
    },
    {
      "cell_type": "code",
      "execution_count": null,
      "metadata": {
        "id": "mNL1g68-Ejds"
      },
      "outputs": [],
      "source": [
        "# Implemente o código do exercício aqui."
      ]
    },
    {
      "cell_type": "markdown",
      "metadata": {
        "id": "Lx3wHKLFEjds"
      },
      "source": [
        "#### 8) Exercício sobre o uso das bibliotecas matplotlib e numpy.\n",
        "\n",
        "Plote os histogramas das 3 seguintes funções:\n",
        "\n",
        "$y_1[n] = x_1[n]$,\n",
        "\n",
        "$y_2[n]=\\sum_{i=1}^{2}x_i[n], \\forall n \\in [0, 99999]$,\n",
        "\n",
        "$y_3[n]=\\sum_{i=1}^{4}x_i[n], \\forall n \\in [0, 99999]$,\n",
        "\n",
        "onde cada $x_i[n], \\forall i \\in [1, 4]$ é um vetor com 100000 elementos retirados de uma distribuição uniforme. Plote uma figura com 3 subplots, onde cada subplot conterá o histograma **normalizado** de uma das 3 funções.\n",
        "\n",
        "**DICAS**\n",
        "\n",
        "+ Use a função `numpy.random.rand()` para gerar os vetores com valores aleatórios.\n",
        "+ Use um número de bins da função `hist` da biblioteca matplolib igual a 100."
      ]
    },
    {
      "cell_type": "code",
      "execution_count": null,
      "metadata": {
        "id": "uryQtOuBEjds"
      },
      "outputs": [],
      "source": [
        "# Implemente o código do exercício aqui."
      ]
    }
  ],
  "metadata": {
    "kernelspec": {
      "display_name": "Python 3 (ipykernel)",
      "language": "python",
      "name": "python3"
    },
    "language_info": {
      "codemirror_mode": {
        "name": "ipython",
        "version": 3
      },
      "file_extension": ".py",
      "mimetype": "text/x-python",
      "name": "python",
      "nbconvert_exporter": "python",
      "pygments_lexer": "ipython3",
      "version": "3.9.7"
    },
    "colab": {
      "provenance": []
    }
  },
  "nbformat": 4,
  "nbformat_minor": 0
}