{
 "cells": [
  {
   "cell_type": "markdown",
   "metadata": {},
   "source": [
    "# Prova #2 C126-L1 (2S2022)\n",
    "\n",
    "### Instruções\n",
    "\n",
    "1. Para cada um dos exercícios a seguir, faça o seguinte:\n",
    "    * Adicione comentários ao seu código explicando o que você fez.\n",
    "    * Caso o exercício involva a implementação de uma função:\n",
    "        + Coloque um comentário dizendo o que a função faz, use **docstrings**.\n",
    "        + Escolha nomes auto-explicativos para suas funções e parâmetros.\n",
    "    \n",
    "2. Quando você terminar a prova, vá ao menu do Jupyter ou Colab e selecione a opção para fazer download do notebook.\n",
    "    * Os notebooks tem extensão .ipynb. \n",
    "    * Este deve ser o arquivo que você irá entregar.\n",
    "    * No Jupyter vá até a opção **File** -> **Download as** -> **Notebook (.ipynb)**.\n",
    "    * No Colab vá até a opção **File** -> **Download .ipynb**.\n",
    "   \n",
    "3. Em seguida, faça a entrega do notebook da prova (ou seja, anexe o arquivo) na tarefa criada no MS Teams.\n",
    "4. Atente-se ao prazo de entrega definido na tarefa do MS Teams. \n",
    "5. **A prova deve ser resolvida individualmente**.\n",
    "6. Todas as questões têm o mesmo peso.\n",
    "7. Não se esqueça de colocar seu nome e número de matrícula nos campos abaixo.\n",
    "8. Você pode consultar o material de aula.\n",
    "9. Não altere em hipótese alguma as células com código de teste.\n",
    "10. A interpretação faz parte da prova.\n",
    "11. Boa sorte!"
   ]
  },
  {
   "cell_type": "markdown",
   "metadata": {},
   "source": [
    "**Nome**:\n",
    "\n",
    "**Matrícula**:"
   ]
  },
  {
   "cell_type": "markdown",
   "metadata": {},
   "source": [
    "## Exercícios"
   ]
  },
  {
   "cell_type": "markdown",
   "metadata": {},
   "source": [
    "#### 1)  Exercício sobre listas.\n",
    "\n",
    "Escreva uma função chamada `temperaturaAnual` que receba 2 listas, uma com a temperatura média de cada mês do ano e outra com os meses. A função deve calcular a média anual das temperaturas e mostrar todas as temperaturas **abaixo** da média anual, e em que mês elas ocorreram. A tabela abaixo apresenta os valores que devem ser usados para testar a função (**OBS.**: a tabela já é dada como um par de listas na célula de teste abaixo.).\n",
    "\n",
    "|    Mês    | Média (°C) |\n",
    "|:---------:|:----------:|\n",
    "|  Janeiro  |     28     |\n",
    "| Fevereiro |     27     |\n",
    "|   Março   |     25     |\n",
    "|   Abril   |     20     |\n",
    "|    Maio   |     18     |\n",
    "|   Junho   |     15     |\n",
    "|   Julho   |     15     |\n",
    "|   Agosto  |     20     |\n",
    "|  Setembro |     20     |\n",
    "|  Outubro  |     25     |\n",
    "|  Novembro |     27     |\n",
    "|  Dezembro |     29     |\n",
    "\n",
    "Segue abaixo o **resultado esperado** quando o trecho de código de teste, disponibilizado abaixo, é executado.\n",
    "\n",
    "```python\n",
    "Temp. média: 22.4167 - Mês: Abril - Temp.: 20\n",
    "Temp. média: 22.4167 - Mês: Maio - Temp.: 18\n",
    "Temp. média: 22.4167 - Mês: Junho - Temp.: 15\n",
    "Temp. média: 22.4167 - Mês: Julho - Temp.: 15\n",
    "Temp. média: 22.4167 - Mês: Agosto - Temp.: 20\n",
    "Temp. média: 22.4167 - Mês: Setembro - Temp.: 20\n",
    "```\n",
    "\n",
    "A linha de código abaixo pode ser utilizada para imprimir o resultado conforme o mostrado acima.\n",
    "\n",
    "```python\n",
    "print('Temp. média: %1.2f - Mês: %s - Temp.: %d' % (média, mês, temperatura))\n",
    "```"
   ]
  },
  {
   "cell_type": "code",
   "execution_count": 1,
   "metadata": {},
   "outputs": [],
   "source": [
    "# Implemente aqui o código do exercício."
   ]
  },
  {
   "cell_type": "markdown",
   "metadata": {},
   "source": [
    "Execute o trecho de código abaixo para testar sua função.\n",
    "\n",
    "**NÃO ALTERE O CÓDIGO ABAIXO EM HIPÓTESE ALGUMA. SUA IMPLEMENTAÇÃO DEVE FUNCIONAR SEM NENHUMA ALTERAÇÃO DO CÓDIGO ABAIXO.**"
   ]
  },
  {
   "cell_type": "code",
   "execution_count": 2,
   "metadata": {},
   "outputs": [
    {
     "ename": "NameError",
     "evalue": "name 'temperaturaAnual' is not defined",
     "output_type": "error",
     "traceback": [
      "\u001b[1;31m---------------------------------------------------------------------------\u001b[0m",
      "\u001b[1;31mNameError\u001b[0m                                 Traceback (most recent call last)",
      "\u001b[1;32mC:\\Users\\FELIPE~1.FIG\\AppData\\Local\\Temp/ipykernel_6484/765179537.py\u001b[0m in \u001b[0;36m<module>\u001b[1;34m\u001b[0m\n\u001b[0;32m      3\u001b[0m \u001b[0mtemp\u001b[0m \u001b[1;33m=\u001b[0m \u001b[1;33m[\u001b[0m\u001b[1;36m28\u001b[0m\u001b[1;33m,\u001b[0m\u001b[1;36m27\u001b[0m\u001b[1;33m,\u001b[0m\u001b[1;36m25\u001b[0m\u001b[1;33m,\u001b[0m\u001b[1;36m20\u001b[0m\u001b[1;33m,\u001b[0m\u001b[1;36m18\u001b[0m\u001b[1;33m,\u001b[0m\u001b[1;36m15\u001b[0m\u001b[1;33m,\u001b[0m\u001b[1;36m15\u001b[0m\u001b[1;33m,\u001b[0m\u001b[1;36m20\u001b[0m\u001b[1;33m,\u001b[0m\u001b[1;36m20\u001b[0m\u001b[1;33m,\u001b[0m\u001b[1;36m25\u001b[0m\u001b[1;33m,\u001b[0m\u001b[1;36m27\u001b[0m\u001b[1;33m,\u001b[0m\u001b[1;36m29\u001b[0m\u001b[1;33m]\u001b[0m\u001b[1;33m\u001b[0m\u001b[1;33m\u001b[0m\u001b[0m\n\u001b[0;32m      4\u001b[0m \u001b[1;33m\u001b[0m\u001b[0m\n\u001b[1;32m----> 5\u001b[1;33m \u001b[0mtemperaturaAnual\u001b[0m\u001b[1;33m(\u001b[0m\u001b[0mmeses\u001b[0m\u001b[1;33m,\u001b[0m \u001b[0mtemp\u001b[0m\u001b[1;33m)\u001b[0m\u001b[1;33m\u001b[0m\u001b[1;33m\u001b[0m\u001b[0m\n\u001b[0m",
      "\u001b[1;31mNameError\u001b[0m: name 'temperaturaAnual' is not defined"
     ]
    }
   ],
   "source": [
    "meses = ['Janeiro', 'Fevereiro', 'Março', 'Abril', 'Maio', 'Junho', 'Julho', 'Agosto', 'Setembro', 'Outubro', 'Novembro', 'Dezembro']\n",
    "\n",
    "temp = [28,27,25,20,18,15,15,20,20,25,27,29]\n",
    "\n",
    "temperaturaAnual(meses, temp)"
   ]
  },
  {
   "cell_type": "markdown",
   "metadata": {},
   "source": [
    "#### 2) Exercício sobre dicionários. \n",
    "\n",
    "Implemente uma função chamada `verificarProduto` que receba dois parâmetros de entrada, um **dicionário** e o **nome de um produto**. Cada elemento do dicionário é um par com o **nome de um produto** e a **quantidade em estoque** daquele produto. O **nome do produto** é a chave do elemento do dicionário e a **quantidade em estoque** é o valor associado à chave. \n",
    "\n",
    "A função deve verificar se o **produto** passado com parâmetro de entrada consta no dicionário. Se o produto constar no dicionário, a função deve **retornar** a **quantidade em estoque** daquele produto. Caso contrário, a função deve **retornar** a seguinte frase (i.e., uma string): `Produto não consta em estoque.`.\n",
    "\n",
    "**DICAS**:\n",
    "\n",
    "+ Lembre-se que você pode usar os operadores de associação `in` ou `not in` para verificar se um valor faz parte das **chaves** de um dicionário.\n",
    "+ O **valor** associado a uma **chave** é retornado quando se indexa o dicionário com aquela chave. Por exemplo:\n",
    "```python\n",
    "dicionário = {'fogão':10, 'TV':20}\n",
    "chave = 'TV'\n",
    "valor = dicionário[chave]\n",
    "print('Quantidade do produto:', valor)\n",
    "Quantidade do produto: 20\n",
    "```"
   ]
  },
  {
   "cell_type": "code",
   "execution_count": 3,
   "metadata": {},
   "outputs": [],
   "source": [
    "# Implemente aqui o código do exercício."
   ]
  },
  {
   "cell_type": "markdown",
   "metadata": {},
   "source": [
    "Execute o trecho de código abaixo para testar sua função. Se sua implementação estiver correta, a seguinte mensagem será impressa após a execução da célula abaixo:\n",
    "```python\n",
    "RESULTADO:\n",
    "A implementação da função está correta!\n",
    "``` \n",
    "\n",
    "**NÃO ALTERE O CÓDIGO ABAIXO EM HIPÓTESE ALGUMA. SUA IMPLEMENTAÇÃO DEVE FUNCIONAR SEM NENHUMA ALTERAÇÃO DO CÓDIGO ABAIXO.**"
   ]
  },
  {
   "cell_type": "code",
   "execution_count": 4,
   "metadata": {},
   "outputs": [
    {
     "ename": "NameError",
     "evalue": "name 'verificarProduto' is not defined",
     "output_type": "error",
     "traceback": [
      "\u001b[1;31m---------------------------------------------------------------------------\u001b[0m",
      "\u001b[1;31mNameError\u001b[0m                                 Traceback (most recent call last)",
      "\u001b[1;32mC:\\Users\\FELIPE~1.FIG\\AppData\\Local\\Temp/ipykernel_6484/4090316566.py\u001b[0m in \u001b[0;36m<module>\u001b[1;34m\u001b[0m\n\u001b[0;32m      5\u001b[0m \u001b[1;33m\u001b[0m\u001b[0m\n\u001b[0;32m      6\u001b[0m \u001b[1;32mfor\u001b[0m \u001b[1;33m(\u001b[0m\u001b[0mentrada\u001b[0m\u001b[1;33m,\u001b[0m \u001b[0msaída\u001b[0m\u001b[1;33m)\u001b[0m \u001b[1;32min\u001b[0m \u001b[0mzip\u001b[0m\u001b[1;33m(\u001b[0m\u001b[0mentradas\u001b[0m\u001b[1;33m,\u001b[0m \u001b[0msaídas\u001b[0m\u001b[1;33m)\u001b[0m\u001b[1;33m:\u001b[0m\u001b[1;33m\u001b[0m\u001b[1;33m\u001b[0m\u001b[0m\n\u001b[1;32m----> 7\u001b[1;33m     \u001b[0mret\u001b[0m \u001b[1;33m=\u001b[0m \u001b[0mverificarProduto\u001b[0m\u001b[1;33m(\u001b[0m\u001b[0mprodutosEmEstoque\u001b[0m\u001b[1;33m,\u001b[0m \u001b[0mentrada\u001b[0m\u001b[1;33m)\u001b[0m\u001b[1;33m\u001b[0m\u001b[1;33m\u001b[0m\u001b[0m\n\u001b[0m\u001b[0;32m      8\u001b[0m     \u001b[1;32mif\u001b[0m\u001b[1;33m(\u001b[0m\u001b[0mret\u001b[0m \u001b[1;33m!=\u001b[0m \u001b[0msaída\u001b[0m\u001b[1;33m)\u001b[0m\u001b[1;33m:\u001b[0m\u001b[1;33m\u001b[0m\u001b[1;33m\u001b[0m\u001b[0m\n\u001b[0;32m      9\u001b[0m         \u001b[0mprint\u001b[0m\u001b[1;33m(\u001b[0m\u001b[1;34m'Erro ---> Produto: %s - Valor esperado: %s - valor retornado: %s\\n\\n'\u001b[0m \u001b[1;33m%\u001b[0m \u001b[1;33m(\u001b[0m\u001b[0mentrada\u001b[0m\u001b[1;33m,\u001b[0m \u001b[0mstr\u001b[0m\u001b[1;33m(\u001b[0m\u001b[0msaída\u001b[0m\u001b[1;33m)\u001b[0m\u001b[1;33m,\u001b[0m \u001b[0mstr\u001b[0m\u001b[1;33m(\u001b[0m\u001b[0mret\u001b[0m\u001b[1;33m)\u001b[0m\u001b[1;33m)\u001b[0m\u001b[1;33m)\u001b[0m\u001b[1;33m\u001b[0m\u001b[1;33m\u001b[0m\u001b[0m\n",
      "\u001b[1;31mNameError\u001b[0m: name 'verificarProduto' is not defined"
     ]
    }
   ],
   "source": [
    "produtosEmEstoque = {\"Ventilador\":90, \"Pipoqueira\":40, \"Lavadora\":80, \"Secadora\":60, \"TV\":70, \"Computador\":50}\n",
    "\n",
    "entradas = ['Pipoqueira', 'Fogão']\n",
    "saídas = [40, 'Produto não consta em estoque.']\n",
    "\n",
    "for (entrada, saída) in zip(entradas, saídas):\n",
    "    ret = verificarProduto(produtosEmEstoque, entrada)\n",
    "    if(ret != saída):\n",
    "        print('Erro ---> Produto: %s - Valor esperado: %s - valor retornado: %s\\n\\n' % (entrada, str(saída), str(ret)))\n",
    "        print('A implementação da função NÃO está correta!')\n",
    "        break\n",
    "else:\n",
    "    print('A implementação da função está correta!')"
   ]
  },
  {
   "cell_type": "markdown",
   "metadata": {},
   "source": [
    "#### 3) Exercício sobre programação orientada a objetos. \n",
    "\n",
    "Implemente as classes mostradas no diagrama UML abaixo. Siga exatamente a especificação mostrada no diagrama UML, ou seja, os nomes dos atributos, nomes dos métodos, número de parâmetros dos métodos, encapsulamentos dos membros das classes, relacionamento entre as classes, etc. \n",
    "\n",
    "<img src=\"../../figures/veiculo_carro_heranca_prova2_2s2022.png\" width=\"300px\">\n",
    "\n",
    "**DICAS**:\n",
    "\n",
    "+ Os métodos públicos `getMarca()`, `getModelo()`, `getPlaca()` e `getCor()` devem retornar os valores de seus respectivos atributos. \n",
    "+ O método público `setPlaca()` deve alterar o valor do atributo privado `placa`.\n",
    "+ O método público `frear()` deve retornar a string `'freando...'`.\n",
    "+ O método público `acelerar()` deve retornar a string `'acelerando...'`.\n",
    "+ O método privado `injetarCombustível()` deve retornar a string `'injetando combustível...'`.\n",
    "+ No diagrama UML, a palavra `str` significa string."
   ]
  },
  {
   "cell_type": "code",
   "execution_count": 5,
   "metadata": {},
   "outputs": [],
   "source": [
    "# Implemente aqui o código do exercício."
   ]
  },
  {
   "cell_type": "markdown",
   "metadata": {},
   "source": [
    "Execute o trecho de código abaixo para testar sua função. Se sua implementação estiver correta, a seguinte mensagem será impressa após a execução da célula abaixo:\n",
    "```python\n",
    "RESULTADO:\n",
    "Sua implementação está correta!\n",
    "``` \n",
    "\n",
    "**NÃO ALTERE O CÓDIGO ABAIXO EM HIPÓTESE ALGUMA. SUA IMPLEMENTAÇÃO DEVE FUNCIONAR SEM NENHUMA ALTERAÇÃO DO CÓDIGO ABAIXO.**"
   ]
  },
  {
   "cell_type": "code",
   "execution_count": 6,
   "metadata": {},
   "outputs": [
    {
     "ename": "NameError",
     "evalue": "name 'Carro' is not defined",
     "output_type": "error",
     "traceback": [
      "\u001b[1;31m---------------------------------------------------------------------------\u001b[0m",
      "\u001b[1;31mNameError\u001b[0m                                 Traceback (most recent call last)",
      "\u001b[1;32mC:\\Users\\FELIPE~1.FIG\\AppData\\Local\\Temp/ipykernel_6484/4251535498.py\u001b[0m in \u001b[0;36m<module>\u001b[1;34m\u001b[0m\n\u001b[1;32m----> 1\u001b[1;33m \u001b[0mcarro\u001b[0m \u001b[1;33m=\u001b[0m \u001b[0mCarro\u001b[0m\u001b[1;33m(\u001b[0m\u001b[1;34m'VW'\u001b[0m\u001b[1;33m,\u001b[0m \u001b[1;34m'fusca'\u001b[0m\u001b[1;33m,\u001b[0m \u001b[1;34m'preto'\u001b[0m\u001b[1;33m,\u001b[0m \u001b[1;34m'FGT-3056'\u001b[0m\u001b[1;33m,\u001b[0m \u001b[1;36m100000\u001b[0m\u001b[1;33m)\u001b[0m\u001b[1;33m\u001b[0m\u001b[1;33m\u001b[0m\u001b[0m\n\u001b[0m\u001b[0;32m      2\u001b[0m \u001b[0mret\u001b[0m \u001b[1;33m=\u001b[0m \u001b[1;36m0\u001b[0m\u001b[1;33m\u001b[0m\u001b[1;33m\u001b[0m\u001b[0m\n\u001b[0;32m      3\u001b[0m \u001b[1;32mif\u001b[0m\u001b[1;33m(\u001b[0m\u001b[0mcarro\u001b[0m\u001b[1;33m.\u001b[0m\u001b[0mgetMarca\u001b[0m\u001b[1;33m(\u001b[0m\u001b[1;33m)\u001b[0m\u001b[1;33m==\u001b[0m\u001b[1;34m'VW'\u001b[0m\u001b[1;33m)\u001b[0m\u001b[1;33m:\u001b[0m\u001b[1;33m\u001b[0m\u001b[1;33m\u001b[0m\u001b[0m\n\u001b[0;32m      4\u001b[0m     \u001b[0mret\u001b[0m \u001b[1;33m+=\u001b[0m \u001b[1;36m1\u001b[0m\u001b[1;33m\u001b[0m\u001b[1;33m\u001b[0m\u001b[0m\n\u001b[0;32m      5\u001b[0m \u001b[1;32mif\u001b[0m\u001b[1;33m(\u001b[0m\u001b[0mcarro\u001b[0m\u001b[1;33m.\u001b[0m\u001b[0mgetModelo\u001b[0m\u001b[1;33m(\u001b[0m\u001b[1;33m)\u001b[0m\u001b[1;33m==\u001b[0m\u001b[1;34m'fusca'\u001b[0m\u001b[1;33m)\u001b[0m\u001b[1;33m:\u001b[0m\u001b[1;33m\u001b[0m\u001b[1;33m\u001b[0m\u001b[0m\n",
      "\u001b[1;31mNameError\u001b[0m: name 'Carro' is not defined"
     ]
    }
   ],
   "source": [
    "carro = Carro('VW', 'fusca', 'preto', 'FGT-3056', 100000)\n",
    "ret = 0\n",
    "if(carro.getMarca()=='VW'):\n",
    "    ret += 1\n",
    "if(carro.getModelo()=='fusca'):\n",
    "    ret += 1\n",
    "if(carro.getPlaca()=='FGT-3056'):\n",
    "    ret += 1\n",
    "if(carro.getCor()=='preto'):\n",
    "    ret += 1\n",
    "carro.setPlaca('HOT-2345')\n",
    "if(carro.getPlaca()=='HOT-2345'):\n",
    "    ret += 1\n",
    "if(carro.acelerar()=='acelerando...'):\n",
    "    ret += 1\n",
    "if(carro.frear()=='freando...'):\n",
    "    ret += 1\n",
    "if(carro.quilometragem==100000):\n",
    "    ret += 1\n",
    "if(carro._cor=='preto'):\n",
    "    ret += 1\n",
    "try:\n",
    "    carro.__marca\n",
    "except AttributeError:\n",
    "    ret += 1\n",
    "try:\n",
    "    carro.__modelo\n",
    "except AttributeError:\n",
    "    ret += 1\n",
    "try:\n",
    "    carro.__placa\n",
    "except AttributeError:\n",
    "    ret += 1\n",
    "try:\n",
    "    carro.__injetarCombustível()\n",
    "except AttributeError:\n",
    "    ret += 1\n",
    "if(ret==13):\n",
    "    print('Sua implementação está correta.')\n",
    "else:\n",
    "    print('Sua implementação NÃO está correta.')"
   ]
  },
  {
   "cell_type": "markdown",
   "metadata": {},
   "source": [
    "#### 4) Exercício sobre biblioteca numpy. \n",
    "\n",
    "Implemente uma função chamada `quantidadeDeElementosPares` que recebe uma array `x` como argumento de entrada e retorna a quantidade de elementos em `x` que são valores pares.\n",
    "\n",
    "**DICAS**\n",
    "\n",
    "+ Não se esqueça de importar a biblioteca NumPy.\n",
    "+ Em uma das possíveis formas de se resolver este exercício, você vai precisar usar indexação com filtragem condicional e a função `np.sum()` da biblioteca NumPy. Veja as dicas abaixo.\n",
    "    + Lembre-se que a filtragem condicional retorna uma array com as mesmas dimensões da array original, mas com valores booleanos.\n",
    "    + Lembre-se também que o tipo Booleano é uma especialização do tipo dos inteiros e que em uma soma, por exemplo, o interpretador Python infere o valor booleano `True` como o valor inteiro `1` e `False` como `0`. \n",
    "    + Portanto, pode-se a função `np.sum()` para somar os elementos de uma array de valores booleanos."
   ]
  },
  {
   "cell_type": "code",
   "execution_count": 7,
   "metadata": {},
   "outputs": [],
   "source": [
    "# Implemente aqui o código do exercício."
   ]
  },
  {
   "cell_type": "markdown",
   "metadata": {},
   "source": [
    "Execute o trecho de código abaixo para testar sua função. Se sua implementação estiver correta, a seguinte mensagem será impressa após a execução da célula abaixo:\n",
    "```python\n",
    "RESULTADO:\n",
    "A implementação da função está correta!\n",
    "``` \n",
    "\n",
    "**NÃO ALTERE O CÓDIGO ABAIXO EM HIPÓTESE ALGUMA. SUA IMPLEMENTAÇÃO DEVE FUNCIONAR SEM NENHUMA ALTERAÇÃO DO CÓDIGO ABAIXO.**"
   ]
  },
  {
   "cell_type": "code",
   "execution_count": 8,
   "metadata": {},
   "outputs": [
    {
     "ename": "NameError",
     "evalue": "name 'np' is not defined",
     "output_type": "error",
     "traceback": [
      "\u001b[1;31m---------------------------------------------------------------------------\u001b[0m",
      "\u001b[1;31mNameError\u001b[0m                                 Traceback (most recent call last)",
      "\u001b[1;32mC:\\Users\\FELIPE~1.FIG\\AppData\\Local\\Temp/ipykernel_6484/3019489734.py\u001b[0m in \u001b[0;36m<module>\u001b[1;34m\u001b[0m\n\u001b[1;32m----> 1\u001b[1;33m \u001b[0mentradas\u001b[0m \u001b[1;33m=\u001b[0m \u001b[1;33m[\u001b[0m\u001b[0mnp\u001b[0m\u001b[1;33m.\u001b[0m\u001b[0marray\u001b[0m\u001b[1;33m(\u001b[0m\u001b[1;33m[\u001b[0m\u001b[1;36m0\u001b[0m\u001b[1;33m]\u001b[0m\u001b[1;33m)\u001b[0m\u001b[1;33m,\u001b[0m \u001b[0mnp\u001b[0m\u001b[1;33m.\u001b[0m\u001b[0marray\u001b[0m\u001b[1;33m(\u001b[0m\u001b[1;33m[\u001b[0m\u001b[1;36m1\u001b[0m\u001b[1;33m,\u001b[0m\u001b[1;36m3\u001b[0m\u001b[1;33m,\u001b[0m\u001b[1;36m5\u001b[0m\u001b[1;33m,\u001b[0m\u001b[1;36m7\u001b[0m\u001b[1;33m]\u001b[0m\u001b[1;33m)\u001b[0m\u001b[1;33m,\u001b[0m \u001b[0mnp\u001b[0m\u001b[1;33m.\u001b[0m\u001b[0marray\u001b[0m\u001b[1;33m(\u001b[0m\u001b[1;33m[\u001b[0m\u001b[1;36m0\u001b[0m\u001b[1;33m,\u001b[0m\u001b[1;36m1\u001b[0m\u001b[1;33m,\u001b[0m\u001b[1;36m2\u001b[0m\u001b[1;33m,\u001b[0m\u001b[1;36m3\u001b[0m\u001b[1;33m,\u001b[0m\u001b[1;36m4\u001b[0m\u001b[1;33m,\u001b[0m\u001b[1;36m5\u001b[0m\u001b[1;33m,\u001b[0m\u001b[1;36m6\u001b[0m\u001b[1;33m]\u001b[0m\u001b[1;33m)\u001b[0m\u001b[1;33m,\u001b[0m\u001b[0mnp\u001b[0m\u001b[1;33m.\u001b[0m\u001b[0marray\u001b[0m\u001b[1;33m(\u001b[0m\u001b[1;33m[\u001b[0m\u001b[1;36m0\u001b[0m\u001b[1;33m,\u001b[0m\u001b[1;36m2\u001b[0m\u001b[1;33m,\u001b[0m\u001b[1;36m4\u001b[0m\u001b[1;33m,\u001b[0m\u001b[1;36m6\u001b[0m\u001b[1;33m,\u001b[0m\u001b[1;36m8\u001b[0m\u001b[1;33m]\u001b[0m\u001b[1;33m)\u001b[0m\u001b[1;33m]\u001b[0m\u001b[1;33m\u001b[0m\u001b[1;33m\u001b[0m\u001b[0m\n\u001b[0m\u001b[0;32m      2\u001b[0m \u001b[1;33m\u001b[0m\u001b[0m\n\u001b[0;32m      3\u001b[0m \u001b[0msaídas\u001b[0m \u001b[1;33m=\u001b[0m \u001b[1;33m[\u001b[0m\u001b[1;36m1\u001b[0m\u001b[1;33m,\u001b[0m \u001b[1;36m0\u001b[0m\u001b[1;33m,\u001b[0m \u001b[1;36m4\u001b[0m\u001b[1;33m,\u001b[0m \u001b[1;36m5\u001b[0m\u001b[1;33m]\u001b[0m\u001b[1;33m\u001b[0m\u001b[1;33m\u001b[0m\u001b[0m\n\u001b[0;32m      4\u001b[0m \u001b[1;33m\u001b[0m\u001b[0m\n\u001b[0;32m      5\u001b[0m \u001b[1;32mfor\u001b[0m \u001b[0mentrada\u001b[0m\u001b[1;33m,\u001b[0m \u001b[0msaída\u001b[0m \u001b[1;32min\u001b[0m \u001b[0mzip\u001b[0m\u001b[1;33m(\u001b[0m\u001b[0mentradas\u001b[0m\u001b[1;33m,\u001b[0m\u001b[0msaídas\u001b[0m\u001b[1;33m)\u001b[0m\u001b[1;33m:\u001b[0m\u001b[1;33m\u001b[0m\u001b[1;33m\u001b[0m\u001b[0m\n",
      "\u001b[1;31mNameError\u001b[0m: name 'np' is not defined"
     ]
    }
   ],
   "source": [
    "entradas = [np.array([0]), np.array([1,3,5,7]), np.array([0,1,2,3,4,5,6]),np.array([0,2,4,6,8])]\n",
    "\n",
    "saídas = [1, 0, 4, 5]\n",
    "\n",
    "for entrada, saída in zip(entradas,saídas):\n",
    "    ret = quantidadeDeElementosPares(entrada)\n",
    "    if(ret != saída):\n",
    "        print('Erro ---> Array: %s - Valor esperado: %s - valor retornado: %s\\n\\n' % (str(entrada), str(saída), str(ret)))\n",
    "        print('A implementação da função NÃO está correta!')\n",
    "        break\n",
    "else:\n",
    "    print('A implementação da função está correta!')"
   ]
  }
 ],
 "metadata": {
  "kernelspec": {
   "display_name": "Python 3 (ipykernel)",
   "language": "python",
   "name": "python3"
  },
  "language_info": {
   "codemirror_mode": {
    "name": "ipython",
    "version": 3
   },
   "file_extension": ".py",
   "mimetype": "text/x-python",
   "name": "python",
   "nbconvert_exporter": "python",
   "pygments_lexer": "ipython3",
   "version": "3.9.7"
  }
 },
 "nbformat": 4,
 "nbformat_minor": 4
}
