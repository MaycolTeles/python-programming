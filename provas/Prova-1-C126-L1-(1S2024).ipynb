{
 "cells": [
  {
   "cell_type": "markdown",
   "id": "e5ba7f0f",
   "metadata": {},
   "source": [
    "# Prova #1 C126-L1 (1S2024)\n",
    "\n",
    "### Instruções\n",
    "\n",
    "1. Antes de começar, você deve clicar na opção \"Copiar para o Drive\" na barra superior do Colab. Depois de clicar nela, verifique se você está trabalhando nessa versão do notebook para que seu trabalho seja salvo.\n",
    "2. Para cada um dos exercícios a seguir, faça o seguinte:\n",
    "    * Adicione comentários ao seu código explicando o que você fez.\n",
    "    * Caso o exercício involva a implementação de uma função:\n",
    "        + Coloque um comentário dizendo o que a função faz, use **docstrings**.\n",
    "        + Escolha nomes autoexplicativos para suas funções, parâmetros e variáveis.\n",
    "3. Quando você terminar a prova, vá ao menu do Jupyter ou Colab e selecione a opção para fazer download do notebook.\n",
    "    * Os notebooks tem extensão .ipynb. \n",
    "    * Este deve ser o arquivo que você irá entregar.\n",
    "    * No Colab vá até a opção **File** -> **Download .ipynb**.\n",
    "4. Em seguida, faça a entrega do notebook da prova (ou seja, anexe o arquivo) na tarefa criada no MS Teams.\n",
    "5. Atente-se ao prazo de entrega definido na tarefa do MS Teams. \n",
    "6. **A prova deve ser resolvida individualmente**.\n",
    "7. Todas as questões têm o mesmo peso.\n",
    "8. Não se esqueça de colocar seu nome e número de matrícula nos campos abaixo.\n",
    "9. Você pode consultar o material de aula e laboratórios.\n",
    "10. Não altere em hipótese alguma as células com código de teste.\n",
    "11. A interpretação faz parte da prova.\n",
    "12. Boa sorte!"
   ]
  },
  {
   "cell_type": "markdown",
   "id": "6225cc14",
   "metadata": {},
   "source": [
    "**Nome**:\n",
    "\n",
    "**Matrícula**:"
   ]
  },
  {
   "cell_type": "markdown",
   "id": "c2e6d6bb",
   "metadata": {},
   "source": [
    "## Exercícios"
   ]
  },
  {
   "cell_type": "markdown",
   "id": "05a74f8f",
   "metadata": {},
   "source": [
    "#### 1) Exercício sobre laços de repetição, controle de fluxo e operadores de comparação.\n",
    "\n",
    "Implemente uma função chamada `posiçãoLetra` que receba uma string e uma letra como parâmetros de entrada. A função deve verificar se a letra passada como segundo parâmetro está contida na string. Caso esteja, ela deve retornar a posição, começando de zero, da primeira ocorrência da letra na string. Caso a letra não esteja contida, a função deve retornar -1.\n",
    "\n",
    "* Exemplos:\n",
    "\n",
    "```python\n",
    "posiçãoLetra(\"python\", \"p\") deveria retornar 0\n",
    "posiçãoLetra(\"python\", \"t\") deveria retornar 2\n",
    "posiçãoLetra(\"python\", \"z\") deveria retornar -1\n",
    "```\n",
    "\n",
    "**DICAS**:\n",
    "\n",
    "+ Você pode implementar a função da forma descrita abaixo, mas note que existem outras possibilidades e você não precisa seguí-la se não quiser.\n",
    "   + Utilize um laço `for` para iterar sobre cada caractere da palavra fornecida.\n",
    "   + A função pode utilizar indexação por índice para acessar cada caractere da palavra. O uso da função `range(len(palavra))` permite iterar sobre os índices da palavra.\n",
    "   + Dentro do laço, compare o caractere atual da palavra com a letra fornecida. Utilize o método `lower()` para garantir que a comparação seja insensível a maiúsculas e minúsculas.\n",
    "   + Se a letra for encontrada na palavra, retorne o índice da primeira ocorrência da letra. Caso contrário, retorne -1 para indicar que a letra não foi encontrada na palavra."
   ]
  },
  {
   "cell_type": "code",
   "execution_count": null,
   "id": "21633a1c",
   "metadata": {},
   "outputs": [],
   "source": [
    "# Implemente aqui o código da função."
   ]
  },
  {
   "cell_type": "markdown",
   "id": "67224e5a",
   "metadata": {},
   "source": [
    "Execute o trecho de código abaixo para testar sua função. Se sua implementação estiver correta, a seguinte mensagem será impressa após a execução da célula abaixo:\n",
    "```python\n",
    "RESULTADO:\n",
    "A implementação da função está correta!\n",
    "``` \n",
    "\n",
    "**NÃO ALTERE O CÓDIGO ABAIXO EM HIPÓTESE ALGUMA. SUA IMPLEMENTAÇÃO DEVE FUNCIONAR SEM NENHUMA ALTERAÇÃO DO CÓDIGO ABAIXO.**"
   ]
  },
  {
   "cell_type": "code",
   "execution_count": null,
   "id": "87709d8d",
   "metadata": {},
   "outputs": [],
   "source": [
    "entradas = [(\"\", \"a\"),(\"python\", \"z\"),(\"hello\", \"h\"),(\"banana\", \"a\"),(\"world\", \"d\")]\n",
    "saídas = [-1, -1, 0, 1, 4]\n",
    "\n",
    "error = 0\n",
    "for entrada, saída in zip(entradas, saídas):\n",
    "    ret = posiçãoLetra(entrada[0], entrada[1])\n",
    "    if ret != saída:\n",
    "        error += 1\n",
    "        print('Erro ---> posiçãoLetra(\\'%s\\'): %s - valor esperado: %s' % (entrada, ret, saída))\n",
    "\n",
    "print('\\nRESULTADO:')\n",
    "if(error == 0):\n",
    "    print('A implementação da função está correta!')\n",
    "else:\n",
    "    print('A implementação da função NÃO está correta...')"
   ]
  },
  {
   "cell_type": "markdown",
   "id": "06ae72b5",
   "metadata": {},
   "source": [
    "#### 2) Exercício sobre funções e laços de repetição.\n",
    "\n",
    "Crie uma função chamada `encontrarMenorNúmero` que receba um número arbitrário de parâmetros de entrada e retorne o menor número de todos.\n",
    "\n",
    "**DICAS**\n",
    "\n",
    "+ Você pode implementar a função da forma descrita abaixo, mas note que existem outras possibilidades e você não precisa seguí-la se não quiser.\n",
    "   + Use um laço de repetição `for` para iterar através dos elementos da tupla de entrada, passada pelo interpretador. A tupla contém os vários valores passados para a função.\n",
    "   + Inicialize a variável auxiliar `menorNumero` com o primeiro elemento da tupla de entrada, ou seja, `menorNumero = numeros[0]`, onde `numeros` é a tupla com os parâmetros de entrada da função (ou seja, `numeros` é o nome do parâmetro de entrada da função).\n",
    "   + A cada iteração do `for`, compare o valor de cada número da tupla com o valor armazenado na variável `menorNumero`.\n",
    "   + Se o número armazenado na tupla de entrada for menor do que o número armazenado na variável `menorNumero`, atualize a variável `menorNumero` com aquele número. Caso contrário, não faça nada.\n",
    "   + Ao final, retorne o valor armazenado na variável `menorNumero`.\n",
    "\n",
    "**Exemplo**: O código abaixo mostra como iterar através dos valores de uma tupla.\n",
    "\n",
    "```python\n",
    "# definindo uma tupla.\n",
    "tupla = (0, 1, 2, 3)\n",
    "\n",
    "# iterando através dos valores da tupla com um laço for.\n",
    "for valor in tupla:\n",
    "    print(valor)\n",
    "0\n",
    "1\n",
    "2\n",
    "3\n",
    "```"
   ]
  },
  {
   "cell_type": "code",
   "execution_count": null,
   "id": "e8a722fc",
   "metadata": {},
   "outputs": [],
   "source": [
    "# Implemente aqui o código da função."
   ]
  },
  {
   "cell_type": "markdown",
   "id": "0f3898e8",
   "metadata": {},
   "source": [
    "Execute o trecho de código abaixo para testar sua função. Se sua implementação estiver correta, a seguinte mensagem será impressa após a execução da célula abaixo:\n",
    "```python\n",
    "RESULTADO:\n",
    "A implementação da função está correta!\n",
    "``` \n",
    "\n",
    "**NÃO ALTERE O CÓDIGO ABAIXO EM HIPÓTESE ALGUMA. SUA IMPLEMENTAÇÃO DEVE FUNCIONAR SEM NENHUMA ALTERAÇÃO DO CÓDIGO ABAIXO.**"
   ]
  },
  {
   "cell_type": "code",
   "execution_count": null,
   "id": "59cfd877",
   "metadata": {},
   "outputs": [],
   "source": [
    "entradas = [(-1, 0, 1), (0,), (0, 1), (7, 6, 2), (1, 10, 2, 8), (1.2, 3.4, 9.8)]\n",
    "saídas = [-1, 0, 0, 2, 1, 1.2]\n",
    "\n",
    "error = 0\n",
    "for entrada, saída in zip(entradas, saídas):\n",
    "    ret = encontrarMenorNúmero(*entrada)\n",
    "    if ret != saída:\n",
    "        error += 1\n",
    "        print('Erro ---> encontrarMenorNúmero(\\'%s\\'): %s - valor esperado: %s' % (entrada, ret, saída))\n",
    "\n",
    "print('\\nRESULTADO:')\n",
    "if(error == 0):\n",
    "    print('A implementação da função está correta!')\n",
    "else:\n",
    "    print('A implementação da função NÃO está correta...')"
   ]
  },
  {
   "cell_type": "markdown",
   "id": "6978535d",
   "metadata": {},
   "source": [
    "#### 3) Exercício sobre controle de fluxo, operadores lógicos e de comparação\n",
    "\n",
    "Crie uma função chamada `verificarAposentadoria` que receba como entrada a `idade` e o `sexo` de uma pessoa e retorne uma mensagem indicando se ela já pode ou não se aposentar, de acordo com as seguintes regras:\n",
    "\n",
    "+ Para `homem`:\n",
    "   + Se a idade for igual ou superior a 65 anos, deve retornar: `Você já pode se aposentar`.\n",
    "   + Caso contrário, deve retornar: `Você ainda não pode se aposentar`.\n",
    "\n",
    "\n",
    "+ Para `mulher`:\n",
    "   + Se a idade for igual ou superior a 62 anos, deve retornar: `Você já pode se aposentar`.\n",
    "   + Caso contrário, deve retornar: `Você ainda não pode se aposentar`.\n",
    "\n",
    "\n",
    "\n",
    "* O parâmetro de entrada `idade` é um número inteiro que pode ser positivo ou negativo. Se o valor for negativo, retorne a string `Idade inválida`.\n",
    "* O parâmetro de entrada `sexo` é uma string que pode receber `homem` ou `mulher` ou qualquer outra string. Se a string for diferente de `homem` ou `mulher`, retorne a string `Sexo não reconhecido`.\n",
    "\n",
    "**DICAS**\n",
    "+ Use exatamente as mesmas strings que estão no enunciado, caso contrário, o código de teste irá dizer que sua função está incorreta.\n",
    "+ A função sempre retorna uma string."
   ]
  },
  {
   "cell_type": "code",
   "execution_count": null,
   "id": "5eb021f5",
   "metadata": {},
   "outputs": [],
   "source": [
    "# Implemente aqui o código da função."
   ]
  },
  {
   "cell_type": "markdown",
   "id": "73a0db72",
   "metadata": {},
   "source": [
    "Execute o trecho de código abaixo para testar sua função. Se sua implementação estiver correta, a seguinte mensagem será impressa após a execução da célula abaixo:\n",
    "```python\n",
    "RESULTADO:\n",
    "A implementação da função está correta!\n",
    "``` \n",
    "\n",
    "**NÃO ALTERE O CÓDIGO ABAIXO EM HIPÓTESE ALGUMA. SUA IMPLEMENTAÇÃO DEVE FUNCIONAR SEM NENHUMA ALTERAÇÃO DO CÓDIGO ABAIXO.**"
   ]
  },
  {
   "cell_type": "code",
   "execution_count": null,
   "id": "91b31a2d",
   "metadata": {},
   "outputs": [],
   "source": [
    "entradas = [(10, 'homem'), (65, 'homem'), (100, 'homem'), (-1, 'homem'), (0, 'homem'), (12, 'mulher'), (62, 'mulher'), (100, 'mulher'), (-10, 'mulher'), (0, 'mulher'), (12, 'inatel'), (62, 'teste'), (65, 'código')]\n",
    "saídas = ['Você ainda não pode se aposentar','Você já pode se aposentar','Você já pode se aposentar','Idade inválida','Você ainda não pode se aposentar' ,'Você ainda não pode se aposentar','Você já pode se aposentar','Você já pode se aposentar','Idade inválida','Você ainda não pode se aposentar' ,    'Sexo não reconhecido','Sexo não reconhecido','Sexo não reconhecido']\n",
    "\n",
    "error = 0\n",
    "for entrada, saída in zip(entradas, saídas):\n",
    "    ret = verificarAposentadoria(entrada[0], entrada[1])\n",
    "    if ret != saída:\n",
    "        error += 1\n",
    "        print('Erro ---> verificarAposentadoria(\\'%s\\'): %s - valor esperado: %s' % (entrada, ret, saída))\n",
    "\n",
    "print('\\nRESULTADO:')\n",
    "if(error == 0):\n",
    "    print('A implementação da função está correta!')\n",
    "else:\n",
    "    print('A implementação da função NÃO está correta...')"
   ]
  },
  {
   "cell_type": "markdown",
   "id": "8feec23d",
   "metadata": {},
   "source": [
    "#### 4) Exercício sobre manipulação de strings e laços de repetição:\n",
    "\n",
    "Implemente uma função chamada `contarVogaisConsoantes` que recebe uma palavra como parâmetro de entrada e retorna duas contagens: uma contagem do número de vogais e outra do número de consoantes na palavra.\n",
    "\n",
    "**DICAS**:\n",
    "\n",
    "+ Crie duas variáveis chamadas `cont_vogais` e `cont_consoantes` e inicialize ambas com zero.\n",
    "+ Utilize um laço de repetição para iterar através dos caracteres da palavra de entrada.\n",
    "+ Em cada iteração, verifique se o caractere atual é uma vogal ou uma consoante e atualize as variáveis de contagem apropriadas.\n",
    "+ Ao determinar se um caractere é uma vogal ou uma consoante, lembre-se de considerar que a função pode receber palavras com letras tanto maiúsculas quanto minúsculas. Por exemplo, você pode usar o método `lower()` para converter todas as letras em minúsculas.\n",
    "+ Retorne as contagens de vogais e consoantes, onde o primeiro valor retornado deve ser o número de vogais e o segundo valor retornado o número de consoantes."
   ]
  },
  {
   "cell_type": "code",
   "execution_count": null,
   "id": "f2a5c0b9",
   "metadata": {},
   "outputs": [],
   "source": [
    "# Implemente aqui o código da função."
   ]
  },
  {
   "cell_type": "markdown",
   "id": "63b8ed02",
   "metadata": {},
   "source": [
    "Execute o trecho de código abaixo para testar sua função. Se sua implementação estiver correta, a seguinte mensagem será impressa após a execução da célula abaixo:\n",
    "```python\n",
    "RESULTADO:\n",
    "A implementação da função está correta!\n",
    "``` \n",
    "\n",
    "**NÃO ALTERE O CÓDIGO ABAIXO EM HIPÓTESE ALGUMA. SUA IMPLEMENTAÇÃO DEVE FUNCIONAR SEM NENHUMA ALTERAÇÃO DO CÓDIGO ABAIXO.**"
   ]
  },
  {
   "cell_type": "code",
   "execution_count": null,
   "id": "dafb9820",
   "metadata": {},
   "outputs": [],
   "source": [
    "entradas = ['aeiou', 'bcdfgh', 'python', 'hello world', '123!@#$']\n",
    "saídas = [(5, 0), (0, 6), (1, 5), (3, 7), (0, 0)]\n",
    "\n",
    "error = 0\n",
    "for entrada, saída in zip(entradas, saídas):\n",
    "    ret = contarVogaisConsoantes(entrada)\n",
    "    if ret != saída:\n",
    "        error += 1\n",
    "        print('Erro ---> contarVogaisConsoantes(\\'%s\\'): %s - valor esperado: %s' % (entrada, ret, saída))\n",
    "\n",
    "print('\\nRESULTADO:')\n",
    "if(error == 0):\n",
    "    print('A implementação da função está correta!')\n",
    "else:\n",
    "    print('A implementação da função NÃO está correta...')"
   ]
  },
  {
   "cell_type": "markdown",
   "id": "54ccca49",
   "metadata": {},
   "source": [
    "## O exercício abaixo é opcional. Só o resolva caso você não tenha conseguido resolver algum dos exercícios anteriores. Caso você tenha resolvido todos os exercícios anteriores, não o resolva, pois ele não valerá nota extra."
   ]
  },
  {
   "cell_type": "markdown",
   "id": "98bc68bd",
   "metadata": {},
   "source": [
    "#### 5) Exercício sobre recursão.\n",
    "\n",
    "Implemente uma função chamada `fatorial` que calcule o fatorial de um valor de entrada `x`. \n",
    "\n",
    "**IMPORTANTE: Utilize recursão para implementar esta função. Não use laços de repetição.**\n",
    "\n",
    "**Dica**: O fatorial de um número é calculado pela multiplicação desse número por todos os seus antecessores até chegar ao número 1. Uma exceção é o fatorial de 0, que é igual a 1.\n",
    "\n",
    "**Exemplos**: \n",
    "\n",
    "* 0! = 1\n",
    "* 1! = 1\n",
    "* 2! = 2 * 1 = 2\n",
    "* 3! = 3 * 2 * 1 = 6\n",
    "* 4! = 4 * 3 * 2 * 1 = 24"
   ]
  },
  {
   "cell_type": "code",
   "execution_count": null,
   "id": "3e96a0e2",
   "metadata": {},
   "outputs": [],
   "source": [
    "# Implemente aqui o código da função."
   ]
  },
  {
   "cell_type": "markdown",
   "id": "4ba11900",
   "metadata": {},
   "source": [
    "Execute o trecho de código abaixo para testar sua função. Se sua implementação estiver correta, a seguinte mensagem será impressa após a execução da célula abaixo:\n",
    "```python\n",
    "RESULTADO:\n",
    "A implementação da função está correta!\n",
    "```\n",
    "\n",
    "**NÃO ALTERE O CÓDIGO ABAIXO EM HIPÓTESE ALGUMA. SUA IMPLEMENTAÇÃO DEVE FUNCIONAR SEM NENHUMA ALTERAÇÃO DO CÓDIGO ABAIXO.**"
   ]
  },
  {
   "cell_type": "code",
   "execution_count": null,
   "id": "98d19669",
   "metadata": {},
   "outputs": [],
   "source": [
    "entradas = [0, 1, 2, 3, 4, 5]\n",
    "saídas = [1, 1, 2, 6, 24, 120]\n",
    "\n",
    "error = 0\n",
    "for entrada, saída in zip(entradas, saídas):\n",
    "    ret = fatorial(entrada)\n",
    "    if ret != saída:\n",
    "        error += 1\n",
    "        print('Erro ---> fatorial(%d): %d - valor esperado: %d' % (entrada, ret, saída))\n",
    "\n",
    "print('\\nRESULTADO:')\n",
    "if(error == 0):\n",
    "    print('A implementação da função está correta!')\n",
    "else:\n",
    "    print('A implementação da função NÃO está correta...')"
   ]
  }
 ],
 "metadata": {
  "kernelspec": {
   "display_name": "Python 3 (ipykernel)",
   "language": "python",
   "name": "python3"
  },
  "language_info": {
   "codemirror_mode": {
    "name": "ipython",
    "version": 3
   },
   "file_extension": ".py",
   "mimetype": "text/x-python",
   "name": "python",
   "nbconvert_exporter": "python",
   "pygments_lexer": "ipython3",
   "version": "3.11.5"
  }
 },
 "nbformat": 4,
 "nbformat_minor": 5
}
