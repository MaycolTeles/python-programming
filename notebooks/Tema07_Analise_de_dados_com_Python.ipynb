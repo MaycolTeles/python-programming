{
  "cells": [
    {
      "cell_type": "markdown",
      "metadata": {
        "id": "gIr2MVWaw2i9"
      },
      "source": [
        "# Computação Numérica, Visualização e Análise de dados com Python\n",
        "\n",
        "## Introdução\n",
        "\n",
        "O Python conta com várias bibliotecas muito poderosas para computação numérica, visualização e análise de dados como:\n",
        "\n",
        "+ **NumPy**: computação numérica.\n",
        "+ **Matplotlib**: visualização de dados.\n",
        "+ **Pandas**: análise e manipulação de dados."
      ]
    },
    {
      "cell_type": "markdown",
      "metadata": {
        "id": "amF7jMXBw2jE"
      },
      "source": [
        "## NumPy: Uma biblioteca para computação científica\n",
        "\n",
        "NumPy, ou Numerical Python, é a principal biblioteca para **computação numérica de alto desempenho** em Python.\n",
        "\n",
        "Possibilita a realização de **operações aritméticas de forma rápida e fácil com arrays multidimensionais**, incluindo escalares, vetores e matrizes.\n",
        "\n",
        "A rapidez na realização das operações se deve ao uso de códigos compilados e otimizados em C e Fortran acessados em Python através de interfaces.\n",
        "\n",
        "Se você já está familiarizado com o MATLAB, então você vai encontrar várias similaridades."
      ]
    },
    {
      "cell_type": "markdown",
      "metadata": {
        "id": "BUizu8gcw2jG"
      },
      "source": [
        "### Vetores e Matrizes\n",
        "\n",
        "As arrays NumPy são representadas por objetos da classe `ndarray` e podem ter qualquer número de dimensões (i.e., 1, 2, 3, 4, ...).\n",
        "\n",
        "Três exemplos bem conhecidos de arrays são os escalares, vetores e matrizes.\n",
        "\n",
        "#### Classe ndarray\n",
        "\n",
        "A classe que implementa as arrays NumPy é chamada de `ndarray`.\n",
        "\n",
        "Um objeto do tipo `ndarray` é um contêiner (i.e., coleção de objetos) **multidimensional** para o armazenamento de objetos **homogêneos** (ou seja, do mesmo tipo), que pode ser indexado (**ordenado**) e alterado (**mutável**).\n",
        "\n",
        "A classe fornece várias operações aritméticas e recursos de **difusão** (ou *broadcast*, que é tratamento de arrays com tamanhos diferentes).\n",
        "\n",
        "Um objeto `ndarray` tem dois atributos principais: **shape** (dimensão) e **dtype** (tipo).\n",
        "\n",
        "O atributo **shape** é uma **tupla** que fornece as dimensões da array e **dtype** fornece o tipo dos elementos armazenados na array."
      ]
    },
    {
      "cell_type": "markdown",
      "metadata": {
        "id": "iFW8eeMVw2jH"
      },
      "source": [
        "#### Exemplo: Criando uma array unidimensional (i.e., uma sequência de elementos).\n",
        "\n",
        "Podemos inicializar arrays NumPy a partir de **listas simples** ou **listas aninhadas** passadas para a função `array()`.\n",
        "\n",
        "**O número de dimensões da array é dado pela quantidade de níveis de aninhamento das listas.**\n",
        "\n",
        "Os elementos da array são **acessados através de seus índices**.\n",
        "\n",
        "**OBS**.: Para utilizar a biblioteca NumPy, precisamos primeiro importá-la."
      ]
    },
    {
      "cell_type": "code",
      "execution_count": 1,
      "metadata": {
        "scrolled": true,
        "id": "sJ1M1iqzw2jI",
        "outputId": "8eec7b3e-06c2-48c3-8770-37f832168b19",
        "colab": {
          "base_uri": "https://localhost:8080/"
        }
      },
      "outputs": [
        {
          "output_type": "stream",
          "name": "stdout",
          "text": [
            "Tipo da array: <class 'numpy.ndarray'>\n",
            "Dimensão: (3,)\n",
            "Tipo dos elementos: int64\n",
            "\n",
            "Acessando o primeiro elemento: 1\n",
            "Acessando o segundo elemento: 2\n",
            "Acessando o terceiro elemento: 3\n",
            "\n",
            "Novo conteúdo da array: [5 2 3]\n"
          ]
        }
      ],
      "source": [
        "# Precisamos importar a biblioteca.\n",
        "import numpy as np\n",
        "\n",
        "a = np.array([1, 2, 3])                # Criando um vetor a partir de uma lista de um nível.\n",
        "print('Tipo da array:', type(a))       # Imprime o tipo do vetor.\n",
        "print('Dimensão:', a.shape)            # Imprime a dimensão do vetor.\n",
        "print('Tipo dos elementos:', a.dtype)  # Imprime o tipo dos elementos da ndarray.\n",
        "print('')\n",
        "\n",
        "# Acessando valores específicos.\n",
        "print('Acessando o primeiro elemento:', a[0])\n",
        "print('Acessando o segundo elemento:',  a[1])\n",
        "print('Acessando o terceiro elemento:', a[2])\n",
        "print('')\n",
        "\n",
        "# Alterando o valor de um elemento da array.\n",
        "a[0] = 5\n",
        "print('Novo conteúdo da array:', a)"
      ]
    },
    {
      "cell_type": "markdown",
      "metadata": {
        "id": "RJ9ULSySw2jM"
      },
      "source": [
        "#### Exemplo: Criando arrays bidimensionais.\n",
        "\n",
        "A **profundidade (ou seja, a quantidade de níveis) de aninhamento** das listas define o número de dimensões da array.\n",
        "\n",
        "**Vetor linha**\n",
        "\n",
        "No exemplo abaixo, a **lista aninhada** é uma **linha** do vetor.\n",
        "\n",
        "A quantidade de elementos na lista aninhada define o número de colunas do vetor."
      ]
    },
    {
      "cell_type": "code",
      "execution_count": null,
      "metadata": {
        "id": "OwpV_i3tw2jN",
        "outputId": "6f9c5bbe-9cf6-4f61-903b-8287d2a95c15"
      },
      "outputs": [
        {
          "name": "stdout",
          "output_type": "stream",
          "text": [
            "Dimensão: (1, 3)\n",
            "Conteúdo da array: [[1 2 3]]\n",
            "\n",
            "Acessando elemento da linha 1 coluna 1: 1\n",
            "Acessando elemento da linha 1 coluna 2: 2\n",
            "Acessando elemento da linha 1 coluna 3: 3\n",
            "\n",
            "Novo conteúdo da array: [[5 2 3]]\n"
          ]
        }
      ],
      "source": [
        "# Cria um vetor 1x3.\n",
        "a = np.array(\n",
        "    [\n",
        "        [1, 2, 3] # Criando um vetor linha a partir de uma lista.\n",
        "    ]\n",
        ")\n",
        "\n",
        "print('Dimensão:', a.shape)            # Imprime a dimensão do vetor.\n",
        "print('Conteúdo da array:', a)         # Imprime o conteúdo da array.\n",
        "print('')\n",
        "\n",
        "# Acessando valores específicos.\n",
        "# OBS.: primeiro índice acessa a primeira dimensão e o segundo índice a segunda dimensão.\n",
        "print('Acessando elemento da linha 1 coluna 1:', a[0, 0])\n",
        "print('Acessando elemento da linha 1 coluna 2:', a[0, 1])\n",
        "print('Acessando elemento da linha 1 coluna 3:', a[0, 2])\n",
        "print('')\n",
        "\n",
        "# Alterando o valor de um elemento da array.\n",
        "a[0, 0] = 5\n",
        "print('Novo conteúdo da array:', a)"
      ]
    },
    {
      "cell_type": "markdown",
      "metadata": {
        "id": "ygn2FvhDw2jP"
      },
      "source": [
        "**Vetor coluna**\n",
        "\n",
        "No exemplo abaixo, cada **lista aninhada** é uma **linha** do vetor.\n",
        "\n",
        "Portanto, um **vetor coluna** é criado **empilhando-se** listas de **um único elemento**, pois a quantidade de elementos nas listas aninhadas define o número de colunas."
      ]
    },
    {
      "cell_type": "code",
      "execution_count": null,
      "metadata": {
        "id": "K_X0RF_8w2jR",
        "outputId": "e33332e8-0902-4809-9579-5adcb457aeb9"
      },
      "outputs": [
        {
          "name": "stdout",
          "output_type": "stream",
          "text": [
            "Dimensão: (3, 1)\n",
            "Conteúdo da array: \n",
            " [[1]\n",
            " [2]\n",
            " [3]]\n",
            "\n",
            "Acessando elemento da linha 1 coluna 1: 1\n",
            "Acessando elemento da linha 2 coluna 1: 2\n",
            "Acessando elemento da linha 3 coluna 1: 3\n",
            "\n",
            "Novo conteúdo da array: \n",
            " [[5]\n",
            " [2]\n",
            " [3]]\n"
          ]
        }
      ],
      "source": [
        "# Cria um vetor 3x1.\n",
        "a = np.array(\n",
        "    [\n",
        "        [1], # Criando um vetor coluna a partir de listas.\n",
        "        [2],\n",
        "        [3]\n",
        "    ]\n",
        ")\n",
        "\n",
        "print('Dimensão:', a.shape)               # Imprime a dimensão do vetor.\n",
        "print('Conteúdo da array: \\n %s' % (a))   # Imprime o conteúdo da array.\n",
        "\n",
        "print('')\n",
        "\n",
        "# Acessando valores específicos.\n",
        "# OBS.: primeiro índice acessa a primeira dimensão e o segundo índice a segunda dimensão.\n",
        "print('Acessando elemento da linha 1 coluna 1:', a[0, 0])\n",
        "print('Acessando elemento da linha 2 coluna 1:', a[1, 0])\n",
        "print('Acessando elemento da linha 3 coluna 1:', a[2, 0])\n",
        "print('')\n",
        "\n",
        "# Alterando o valor de um elemento da array.\n",
        "a[0, 0] = 5\n",
        "print('Novo conteúdo da array: \\n %s' % (a))"
      ]
    },
    {
      "cell_type": "markdown",
      "metadata": {
        "id": "nEPZ6bPxw2jU"
      },
      "source": [
        "**Matriz**\n",
        "\n",
        "No exemplo abaixo, cada **lista aninhada** é uma **linha** da matriz.\n",
        "\n",
        "Portanto, uma matriz é criada **empilhando-se listas** onde o número de elementos das listas aninhadas define o **número de colunas** da matriz."
      ]
    },
    {
      "cell_type": "code",
      "execution_count": null,
      "metadata": {
        "id": "MWtlhEgBw2jW",
        "outputId": "6ac09751-7845-4323-c424-0d1b5ffed137"
      },
      "outputs": [
        {
          "name": "stdout",
          "output_type": "stream",
          "text": [
            "Dimensão (2, 3)\n",
            "Conteúdo da matriz: \n",
            " [[1 2 3]\n",
            " [4 5 6]]\n",
            "\n",
            "Acessando elemento da linha 1 coluna 1: 1\n",
            "Acessando elemento da linha 2 coluna 2: 5\n",
            "\n",
            "Novo conteúdo da array: \n",
            " [[5 2 3]\n",
            " [4 5 6]]\n"
          ]
        }
      ],
      "source": [
        "# Cria uma matriz 2x3.\n",
        "A = np.array(\n",
        "    [\n",
        "        [1, 2, 3],\n",
        "        [4, 5, 6]\n",
        "    ]\n",
        ")\n",
        "\n",
        "print('Dimensão', A.shape)                     # Imprime as dimensões da matriz.\n",
        "print('Conteúdo da matriz: \\n %s' % (A))       # Vejam que a matriz é uma lista de listas.\n",
        "print('')\n",
        "\n",
        "# Acessando valores específicos.\n",
        "print('Acessando elemento da linha 1 coluna 1:', A[0, 0])\n",
        "print('Acessando elemento da linha 2 coluna 2:', A[1, 1])\n",
        "print('')\n",
        "\n",
        "# Alterando o valor de um elemento da matriz.\n",
        "A[0, 0] = 5\n",
        "print('Novo conteúdo da array: \\n %s' % (A))"
      ]
    },
    {
      "cell_type": "markdown",
      "metadata": {
        "id": "0lDXYDCmw2jW"
      },
      "source": [
        "#### Exemplo: Criando arrays tridimensionais.\n",
        "\n",
        "A profundidade de aninhamento das listas define o número de dimensões da array.\n",
        "\n",
        "**Podemos interpretar arrays tridimensionais como matrizes enfileiradas.**\n",
        "\n",
        "<img src=\"https://github.com/zz4fap/python-programming/blob/master/figures/matriz_tridimensional.png?raw=1\" width=\"200px\">"
      ]
    },
    {
      "cell_type": "code",
      "execution_count": null,
      "metadata": {
        "id": "LdwEgftCw2jX",
        "outputId": "77afe671-bd46-46ad-9971-4a19d20c59eb",
        "colab": {
          "base_uri": "https://localhost:8080/"
        }
      },
      "outputs": [
        {
          "output_type": "stream",
          "name": "stdout",
          "text": [
            "Dimensão (2, 2, 2)\n",
            "Conteúdo da matriz: \n",
            " [[[1 2]\n",
            "  [3 4]]\n",
            "\n",
            " [[5 6]\n",
            "  [7 8]]]\n",
            "\n",
            "Acessando elemento da linha 1 coluna 1: 1\n",
            "Acessando elemento da linha 2 coluna 2: 8\n",
            "\n",
            "Novo conteúdo da array: \n",
            " [[[5 2]\n",
            "  [3 4]]\n",
            "\n",
            " [[5 6]\n",
            "  [7 8]]]\n"
          ]
        }
      ],
      "source": [
        "A = np.array(\n",
        "    [\n",
        "        [\n",
        "            [1, 2],\n",
        "            [3, 4]\n",
        "        ],\n",
        "        [\n",
        "            [5, 6],\n",
        "            [7, 8]\n",
        "        ]\n",
        "    ]\n",
        ")\n",
        "\n",
        "print('Dimensão', A.shape)                     # Imprime as dimensões da matriz.\n",
        "print('Conteúdo da matriz: \\n %s' % (A))       # Vejam que a matriz é uma lista de listas.\n",
        "print('')\n",
        "\n",
        "# Acessando valores específicos.\n",
        "# OBS.: o primeiro índice acessa a primeira dimensão (nível), o segundo índice a segunda dimensão (linha) e o terceiro índice a terceira dimensão (coluna).\n",
        "print('Acessando elemento da linha 1 coluna 1:', A[0, 0, 0])\n",
        "print('Acessando elemento da linha 2 coluna 2:', A[1, 1, 1])\n",
        "print('')\n",
        "\n",
        "# Alterando o valor de um elemento da matriz.\n",
        "A[0, 0, 0] = 5\n",
        "print('Novo conteúdo da array: \\n %s' % (A))"
      ]
    },
    {
      "cell_type": "markdown",
      "metadata": {
        "id": "mQGGaGa9w2jX"
      },
      "source": [
        "### Funções para criação de arrays.\n",
        "\n",
        "A biblioteca NumPy também oferece várias funções para a criação de arrays."
      ]
    },
    {
      "cell_type": "code",
      "execution_count": null,
      "metadata": {
        "id": "3wjRWrTew2jY",
        "outputId": "b2058479-fd69-4d11-bbb3-0a5560b68a22"
      },
      "outputs": [
        {
          "name": "stdout",
          "output_type": "stream",
          "text": [
            "Cria uma array com todos valores iguais a zero.\n",
            "Matriz 2x2 de zeros:\n",
            " [[0. 0.]\n",
            " [0. 0.]]\n",
            "\n",
            "Cria uma array com todos valores iguais a um.\n",
            "Vetor linha 1x2 com uns: [[1. 1.]]\n",
            "\n",
            "Cria uma array com valores constantes iguais ao passado no segundo parâmetro.\n",
            "Matriz 3x2 com valores constantes:\n",
            " [[7 7]\n",
            " [7 7]\n",
            " [7 7]]\n"
          ]
        }
      ],
      "source": [
        "print('Cria uma array com todos valores iguais a zero.')\n",
        "a = np.zeros((2,2))           # Passamos uma tupla com as dimensões.\n",
        "print('Matriz 2x2 de zeros:\\n %s' % (a))\n",
        "\n",
        "print('\\nCria uma array com todos valores iguais a um.')\n",
        "b = np.ones((1,2))            # Passamos uma tupla com as dimensões.\n",
        "print('Vetor linha 1x2 com uns:', b)\n",
        "\n",
        "print('\\nCria uma array com valores constantes iguais ao passado no segundo parâmetro.')\n",
        "c = np.full((3,2), 7)         # Passamos uma tupla com as dimensões.\n",
        "print('Matriz 3x2 com valores constantes:\\n %s' % (c))"
      ]
    },
    {
      "cell_type": "code",
      "execution_count": null,
      "metadata": {
        "id": "qo1wd4Z1w2jY",
        "outputId": "9dad0ccd-ae1c-4d0a-a0c5-bc6e0fc0378a"
      },
      "outputs": [
        {
          "name": "stdout",
          "output_type": "stream",
          "text": [
            "\n",
            "Cria uma matriz identidade 2x2.\n",
            "Matriz identidade:\n",
            " [[1. 0.]\n",
            " [0. 1.]]\n",
            "\n",
            "Cria uma matriz com valores aleatórios uniformemente distribuidos entre 0 e 1.\n",
            "Matriz 2x3 com valores aleatórios:\n",
            " [[0.25314775 0.64076909 0.839816  ]\n",
            " [0.44029866 0.654781   0.52271814]]\n",
            "\n",
            "Cria uma matriz com valores aleatórios uniformemente distribuidos entre 0 e 1.\n",
            "Matriz 2x3 com valores aleatórios:\n",
            " [[0.00693926 0.18123214 0.24608643]\n",
            " [0.2635628  0.66384522 0.9929324 ]]\n"
          ]
        }
      ],
      "source": [
        "print('\\nCria uma matriz identidade 2x2.')\n",
        "d = np.eye(2)                 # O parâmetro define as dimensões da matriz.\n",
        "print('Matriz identidade:\\n %s' % (d))\n",
        "\n",
        "print('\\nCria uma matriz com valores aleatórios uniformemente distribuidos entre 0 e 1.')\n",
        "e = np.random.random((2,3))   # Passamos uma tupla com as dimensões.\n",
        "print('Matriz 2x3 com valores aleatórios:\\n %s' % (e))\n",
        "\n",
        "print('\\nCria uma matriz com valores aleatórios uniformemente distribuidos entre 0 e 1.')\n",
        "e = np.random.rand(2,3)     # Aqui NÃO usamos uma tupla, os parâmetros de entrada definem as dimensões.\n",
        "print('Matriz 2x3 com valores aleatórios:\\n %s' % (e))"
      ]
    },
    {
      "cell_type": "code",
      "execution_count": null,
      "metadata": {
        "id": "rEPCoGlTw2jZ",
        "outputId": "8073ec8d-ad61-4771-fe40-971aa966b9af"
      },
      "outputs": [
        {
          "name": "stdout",
          "output_type": "stream",
          "text": [
            "\n",
            "Cria uma matriz com valores aleatórios inteiros e uniformemente distribuidos entre o intervalo especificado.\n",
            "Matriz 2x2 com valores aleatórios:\n",
            " [[2 3]\n",
            " [0 3]]\n",
            "\n",
            "Cria um vetor com valores aleatórios normalmente distribuidos com média 0 e variância unitária.\n",
            "Vetor coluna 4x1 com valores aleatórios:\n",
            " [[ 1.4009078 ]\n",
            " [-1.634097  ]\n",
            " [-0.66864219]\n",
            " [-0.64862548]]\n",
            "\n",
            "Cria uma array com valores uniformemente espaçados no intervalo definido.\n",
            "Array com valores no intervalo:\n",
            " [0.  0.5 1.  1.5 2.  2.5 3.  3.5 4.  4.5 5.  5.5 6.  6.5 7.  7.5 8.  8.5\n",
            " 9.  9.5]\n",
            "\n",
            "Gera um número determinado de pontos linearmente espaçados entre dois valores\n",
            "Array com valores linearmente espaçados:\n",
            " [-3.  0.  3.]\n"
          ]
        }
      ],
      "source": [
        "print('\\nCria uma matriz com valores aleatórios inteiros e uniformemente distribuidos entre o intervalo especificado.')\n",
        "e = np.random.randint(0, 4, (2, 2))     # Os dois primeiros parâmetros definem o intervalo e a tupla as dimensões.\n",
        "print('Matriz 2x2 com valores aleatórios:\\n %s' % (e))\n",
        "\n",
        "print('\\nCria um vetor com valores aleatórios normalmente distribuidos com média 0 e variância unitária.')\n",
        "e = np.random.randn(4, 1)     # Aqui também NÃO usamos uma tupla, os parâmetros de entrada definem as dimensões.\n",
        "print('Vetor coluna 4x1 com valores aleatórios:\\n %s' % (e))\n",
        "\n",
        "print('\\nCria uma array com valores uniformemente espaçados no intervalo definido.')\n",
        "f = np.arange(0, 10, 0.5)   # Os dois primeiros parâmetros definem o intervalo e o terceiro o incremento (valor padrão é 1).\n",
        "print('Array com valores no intervalo:\\n %s' % (f))\n",
        "\n",
        "print('\\nGera um número determinado de pontos uniformemente espaçados entre dois valores')\n",
        "h = np.linspace(-3, 3, 3)   # Os dois primeiros parâmetros definem o intervalo e o terceiro o número de pontos.\n",
        "print('Array com valores linearmente espaçados:\\n %s' % (h))"
      ]
    },
    {
      "cell_type": "markdown",
      "metadata": {
        "id": "A91PKBBNw2ja"
      },
      "source": [
        "**IMPORTANTE**\n",
        "\n",
        "+ Outras funções para criação de arrays podem ser encontradas na documentação da biblioteca:\n",
        "https://numpy.org/doc/stable/user/basics.creation.html#arrays-creation"
      ]
    },
    {
      "cell_type": "markdown",
      "metadata": {
        "id": "SwUu3E42w2ja"
      },
      "source": [
        "### Fatiamento de arrays\n",
        "\n",
        "Similarmente ao que fizemos com listas, tuplas, strings, etc., arrays NumPy podem ser fatiadas.\n",
        "\n",
        "**IMPORTANTE**\n",
        "\n",
        "* Como as arrays podem ser multidimensionais, devemos especificar uma **fatia para cada dimensão** dela.\n",
        "* Assim como com as listas, tuplas e strings, o valor final do intervalo de uma fatia não é fechado.\n",
        "\n",
        "#### Exemplo\n",
        "\n",
        "No exemplo abaixo, criamos uma matriz $2 \\times 2$ a partir do fatiamento de uma matriz $3 \\times 4$.\n",
        "\n",
        "<img src=\"https://github.com/zz4fap/python-programming/blob/master/figures/fatias_acessam_array_original.png?raw=1\" width=\"200px\">"
      ]
    },
    {
      "cell_type": "code",
      "execution_count": null,
      "metadata": {
        "id": "jE35IUliw2ja",
        "outputId": "b9a75d7c-dbe9-434f-d08f-5186e388a85f"
      },
      "outputs": [
        {
          "name": "stdout",
          "output_type": "stream",
          "text": [
            "Dimensões da matriz C: (2, 2)\n",
            "Conteúdo da matriz C:\n",
            " [[2 3]\n",
            " [6 7]]\n",
            "\n",
            "Conteúdo do velor d: [5 6 7 8]\n",
            "d.shape: (4,)\n"
          ]
        }
      ],
      "source": [
        "# Cria uma matriz com dimensão 3x4.\n",
        "A = np.array(\n",
        "    [\n",
        "        [1,  2,  3,  4],\n",
        "        [5,  6,  7,  8],\n",
        "        [9,  10, 11, 12]\n",
        "    ]\n",
        ")\n",
        "\n",
        "# Fatiando a matriz para criar uma submatriz que consiste\n",
        "# das 2 primeiras linhas (i.e., 0 e 1) e colunas 2 e 3 da matriz A.\n",
        "# Consequentemente, a matriz B será uma matriz de dimensão 2x2:\n",
        "B = A[0:2, 1:3]\n",
        "print('Dimensões da matriz C:', C.shape)\n",
        "print('Conteúdo da matriz C:\\n %s' % (B))\n",
        "\n",
        "# Cria vetor com todos os elementos da segunda linha da matriz A.\n",
        "d = A[1, :]\n",
        "print('\\nConteúdo do velor d:', d)\n",
        "print('d.shape:', d.shape)"
      ]
    },
    {
      "cell_type": "markdown",
      "metadata": {
        "id": "Tj24oAuxw2jc"
      },
      "source": [
        "**OBS**.: Fatias acessam a array original, portanto, uma mudança na fatia altera a array original.\n",
        "\n",
        "<img src=\"https://github.com/zz4fap/python-programming/blob/master/figures/fatias_acessam_array_original.png?raw=1\" width=\"200px\">"
      ]
    },
    {
      "cell_type": "code",
      "execution_count": null,
      "metadata": {
        "id": "eN1HAMVtw2jc",
        "outputId": "299275d5-5d9b-401b-dbad-c64c965710a6"
      },
      "outputs": [
        {
          "name": "stdout",
          "output_type": "stream",
          "text": [
            "Conteúdo da matriz A:\n",
            " [[ 1  2  3  4]\n",
            " [ 5  6  7  8]\n",
            " [ 9 10 11 12]]\n",
            "\n",
            "Dimensão da matriz B: (2, 2)\n",
            "Conteúdo da matriz B:\n",
            " [[2 3]\n",
            " [6 7]]\n",
            "\n",
            "Valor de A[0, 1] antes: 2\n",
            "Valor de A[0, 1] depois: 77\n",
            "\n",
            "Conteúdo da matriz B:\n",
            " [[77  3]\n",
            " [ 6  7]]\n",
            "\n",
            "Valor de A[0, 1] antes: 77\n",
            "Valor de A[0, 1] depois: 77\n"
          ]
        }
      ],
      "source": [
        "# Cria uma matriz com dimensão 3x4.\n",
        "A = np.array(\n",
        "    [\n",
        "        [1,  2,  3,  4],\n",
        "        [5,  6,  7,  8],\n",
        "        [9,  10, 11, 12]\n",
        "    ]\n",
        ")\n",
        "print('Conteúdo da matriz A:\\n %s' % (A))\n",
        "\n",
        "# Fatiando para criar uma submatriz que consiste\n",
        "# nas 2 primeiras linhas (i.e., 0 e 1) e colunas 2 e 3 da matriz A.\n",
        "B = A[0:2, 1:3]\n",
        "print('\\nDimensão da matriz B:', B.shape)\n",
        "print('Conteúdo da matriz B:\\n %s' % (B))\n",
        "print('')\n",
        "\n",
        "# Uma fatia B de uma matriz A acessa os mesmos elementos de A,\n",
        "# portanto, modificar B irá modificar a matriz original, A.\n",
        "print('Valor de A[0, 1] antes:', A[0, 1])    # Imprime o valor 2.\n",
        "B[0, 0] = 77                                 # B[0, 0] acessa o mesmo elemento que A[0, 1]\n",
        "print('Valor de A[0, 1] depois:', A[0, 1])   # Imprime o valor 77.\n",
        "\n",
        "# Para criarmos uma fatia B independente da array A, devemos usar o método copy() da classe ndarray.\n",
        "B = A.copy()[0:2, 1:3]\n",
        "print('\\nConteúdo da matriz B:\\n %s' % (B))\n",
        "\n",
        "print('\\nValor de A[0, 1] antes:', A[0, 1])    # Imprime o valor 77.\n",
        "B[0, 0] = 2                                    # B[0, 0] acessa o mesmo elemento que A[0, 1]\n",
        "print('Valor de A[0, 1] depois:', A[0, 1])     # Imprime o valor 77."
      ]
    },
    {
      "cell_type": "markdown",
      "metadata": {
        "id": "kA19zne2w2jd"
      },
      "source": [
        "### Filtragem condicional\n",
        "\n",
        "Nós também podemos utilizar **filtragem condicional** para indexar arrays NumPy.\n",
        "\n",
        "A **filtragem condicional**, como o próprio nome diz, permite **selecionar os elementos de uma array que satisfazem alguma condição específica**.\n",
        "\n",
        "**OBS**.: A **filtragem condicional** só funciona com arrays NumPy, não funcionando com listas e tuplas, por exemplo.\n",
        "\n",
        "#### Exemplo #1: Filtrando valores maiores do que 4.\n",
        "\n",
        "Geramos uma sequência de valores de 0 a 9 e filtramos apenas aqueles maiores do que 4."
      ]
    },
    {
      "cell_type": "code",
      "execution_count": 2,
      "metadata": {
        "id": "23M0M4FJw2jh",
        "outputId": "7ce08dbf-7818-41d8-9e81-224ecea06bc9",
        "colab": {
          "base_uri": "https://localhost:8080/"
        }
      },
      "outputs": [
        {
          "output_type": "stream",
          "name": "stdout",
          "text": [
            "Conteúdo da array a: [0 1 2 3 4 5 6 7 8 9]\n",
            "Dimensão de a: (10,)\n",
            "\n",
            "Conteúdo da array indices: [False False False False False  True  True  True  True  True]\n",
            "Dimensão de indices: (10,)\n",
            "\n",
            "a[indices]: [5 6 7 8 9]\n",
            "\n",
            "a[a > 4]: [5 6 7 8 9]\n"
          ]
        }
      ],
      "source": [
        "# Cria uma array com valores de 0 a 9.\n",
        "a = np.arange(0, 10)\n",
        "\n",
        "print('Conteúdo da array a:', a)\n",
        "print('Dimensão de a:', a.shape)\n",
        "print('')\n",
        "\n",
        "# Encontra elementos que são maiores do que 4.\n",
        "# A instrução abaixo retorna uma array com valores booleanos\n",
        "# com a mesma dimensão da array a, onde cada valor (True ou False) informa se\n",
        "# esse elemento de a é maior do que 4.\n",
        "indices = a > 4\n",
        "print('Conteúdo da array indices:', indices)\n",
        "print('Dimensão de indices:', indices.shape)\n",
        "print('')\n",
        "\n",
        "# Usamos a array de valores booleanos para criar uma array\n",
        "# consistindo apenas dos elementos que correspondem aos\n",
        "# valores verdadeiros do vetor \"indices\".\n",
        "print('a[indices]:', a[indices])\n",
        "print('')\n",
        "\n",
        "# Ao invés de criar uma variável com a array de valores booleanos, podemos fazer tudo isso em uma única declaração.\n",
        "print('a[a > 4]:', a[a > 4])"
      ]
    },
    {
      "cell_type": "markdown",
      "metadata": {
        "id": "NcgnGH0aw2ji"
      },
      "source": [
        "#### Exemplo #2: Filtrando valores pares.\n",
        "\n",
        "**OBS**.: O número zero é par."
      ]
    },
    {
      "cell_type": "code",
      "execution_count": 4,
      "metadata": {
        "id": "4dQ6yhoLw2ji",
        "outputId": "aed0bdc6-6c3d-4919-a4e2-fb018812a02b",
        "colab": {
          "base_uri": "https://localhost:8080/"
        }
      },
      "outputs": [
        {
          "output_type": "stream",
          "name": "stdout",
          "text": [
            "Conteúdo da array a: [0 1 2 3 4 5 6 7 8 9]\n",
            "Dimensão de a: (10,)\n",
            "\n",
            "Conteúdo da array \"indices\": [ True False  True False  True False  True False  True False]\n",
            "Dimensão de indices: (10,)\n",
            "\n",
            "a[indices]: [0 2 4 6 8]\n"
          ]
        }
      ],
      "source": [
        "# Cria uma array com valores de 0 a 9.\n",
        "a = np.array([0, 1, 2, 3, 4, 5, 6, 7, 8, 9])\n",
        "\n",
        "print('Conteúdo da array a:', a)\n",
        "print('Dimensão de a:', a.shape)\n",
        "print('')\n",
        "\n",
        "# Condição: resto da divisão por 2 ser igual a 0.\n",
        "indices = a % 2 == 0 # operador % é o operador de resto da divisão.\n",
        "print('Conteúdo da array \"indices\":', indices)\n",
        "print('Dimensão de indices:', indices.shape)\n",
        "print('')\n",
        "\n",
        "array_filtrada = a[indices]\n",
        "print('a[indices]:', array_filtrada)"
      ]
    },
    {
      "cell_type": "markdown",
      "metadata": {
        "id": "-CmwmxvMw2jj"
      },
      "source": [
        "### Tipos dos dados\n",
        "\n",
        "Cada array NumPy é uma coleção de elementos do mesmo tipo (ou seja, elementos **homogêneos**).\n",
        "\n",
        "Durante a construção de uma array NumPy, as funções para criação de arrays, como a `array()`, inferem o tipo dos elementos das listas e o define como o tipo dos elementos da array.\n",
        "\n",
        "Entretanto, essas funções incluem um **parâmetro de entrada opcional** chamado **dtype** para que se especifique (e se altere) explicitamente o tipo dos elementos da array.\n",
        "\n",
        "**OBS**.: Quando os elementos das listas são de um tipo e especificamos o parâmetro **dtype** com outro tipo, forçamos a conversão dos elementos da lista.\n",
        "\n",
        "#### Exemplos\n",
        "\n",
        "Os exemplos abaixo mostram que a função `np.array` infere o tipo dos elementos."
      ]
    },
    {
      "cell_type": "code",
      "execution_count": 5,
      "metadata": {
        "id": "yKrYRzr7w2jk",
        "outputId": "7146ad50-08ce-47b1-b9a0-3725360382da",
        "colab": {
          "base_uri": "https://localhost:8080/"
        }
      },
      "outputs": [
        {
          "output_type": "stream",
          "name": "stdout",
          "text": [
            "Tipo de f: int64\n",
            "Conteúdo: [1 2]\n",
            "\n",
            "Tipo de g: float64\n",
            "Conteúdo: [1. 2.]\n",
            "\n",
            "Tipo de h: bool\n",
            "Conteúdo: [ True False]\n",
            "\n",
            "Tipo de i: complex128\n",
            "Conteúdo: [0.+1.j 0.+2.j]\n"
          ]
        }
      ],
      "source": [
        "f = np.array([1, 2])                   # O NumPy infere o tipo dos dados.\n",
        "print('Tipo de f:', f.dtype)           # Tipo int64\n",
        "print('Conteúdo:', f)\n",
        "\n",
        "g = np.array([1.0, 2.0])               # O NumPy infere o tipo dos dados.\n",
        "print('\\nTipo de g:', g.dtype)         # Tipo float64\n",
        "print('Conteúdo:', g)\n",
        "\n",
        "h = np.array([True, False])            # O NumPy infere o tipo dos dados.\n",
        "print('\\nTipo de h:', h.dtype)         # Tipo bool\n",
        "print('Conteúdo:', h)\n",
        "\n",
        "i = np.array([1j, 2j])                 # O NumPy infere o tipo dos dados.\n",
        "print('\\nTipo de i:', i.dtype)         # Tipo complex128\n",
        "print('Conteúdo:', i)"
      ]
    },
    {
      "cell_type": "markdown",
      "metadata": {
        "id": "ohfdMHPmw2jm"
      },
      "source": [
        "Usando o parâmetro `dtype` da função `np.array` para forçar o tipo dos elementos."
      ]
    },
    {
      "cell_type": "code",
      "execution_count": 6,
      "metadata": {
        "id": "j5dV4xVYw2jn",
        "outputId": "685c3751-0ffc-4edf-a67f-afea89d9d748",
        "colab": {
          "base_uri": "https://localhost:8080/"
        }
      },
      "outputs": [
        {
          "output_type": "stream",
          "name": "stdout",
          "text": [
            "Tipo de h: int8\n",
            "Conteúdo: [1 2]\n",
            "\n",
            "Tipo de x: float16\n",
            "Conteúdo: [1. 2.]\n",
            "\n",
            "Tipo de y: complex64\n",
            "Conteúdo: [1.+0.j 2.+0.j]\n",
            "\n",
            "Tipo de z: bool\n",
            "Conteúdo: [ True  True False]\n"
          ]
        }
      ],
      "source": [
        "h = np.array([1, 2], dtype=np.int8)      # Forçando um tipo específico.\n",
        "print('Tipo de h:', h.dtype)             # Tipo int8\n",
        "print('Conteúdo:', h)\n",
        "\n",
        "x = np.array([1, 2], dtype=np.float16)   # Forçando um tipo específico.\n",
        "print('\\nTipo de x:', x.dtype)           # Tipo float16\n",
        "print('Conteúdo:', x)\n",
        "\n",
        "y = np.array([1, 2], dtype=np.complex64) # Forçando um tipo específico.\n",
        "print('\\nTipo de y:', y.dtype)           # Tipo complex64\n",
        "print('Conteúdo:', y)\n",
        "\n",
        "z = np.array([1, 2, 0], dtype=bool)      # Forçando um tipo específico.\n",
        "print('\\nTipo de z:', z.dtype)           # Tipo bool\n",
        "print('Conteúdo:', z)"
      ]
    },
    {
      "cell_type": "markdown",
      "metadata": {
        "id": "kZgcWyZww2jp"
      },
      "source": [
        "### Redimensionando Arrays\n",
        "\n",
        "Nós podemos mudar as dimensões das arrays criadas usando o método `reshape()` da classe `ndarray`.\n",
        "\n",
        "**IMPORTANTE**:\n",
        "\n",
        "* A array após o `reshape` **deve conter todos os elementos** da array original.\n",
        "\n",
        "\n",
        "* Por exemplo, uma array com 4 elementos pode ser transformada em uma matriz $2 \\times 2$, mas não em um vetor $2 \\times 1$ ou uma matriz $3 \\times 3$."
      ]
    },
    {
      "cell_type": "code",
      "execution_count": null,
      "metadata": {
        "id": "VzZsOZH6w2jp",
        "outputId": "f5725017-84a9-4870-8d49-ed85d3fdfaec"
      },
      "outputs": [
        {
          "name": "stdout",
          "output_type": "stream",
          "text": [
            "Dimensão de a: (4,)\n",
            "Conteúdo de a: [1 2 3 4]\n",
            "\n",
            "Dimensão de B: (2, 2)\n",
            "Conteúdo de B:\n",
            " [[1 2]\n",
            " [3 4]]\n",
            "\n",
            "Dimensão de c: (4, 1)\n",
            "Conteúdo de c:\n",
            " [[1]\n",
            " [2]\n",
            " [3]\n",
            " [4]]\n",
            "\n",
            "Dimensão de d: (1, 4)\n",
            "Conteúdo de d: [[1 2 3 4]]\n"
          ]
        }
      ],
      "source": [
        "a = np.array([1, 2, 3, 4])\n",
        "print('Dimensão de a:', a.shape)\n",
        "print('Conteúdo de a:', a)\n",
        "\n",
        "# Transforma vetor unidimensional em matriz 2x2.\n",
        "B = a.reshape(2, 2)\n",
        "print('\\nDimensão de B:', B.shape)\n",
        "print('Conteúdo de B:\\n %s' % (B))\n",
        "\n",
        "# Transforma vetor unidimensional em vetor coluna 4x1.\n",
        "c = a.reshape(4,1)\n",
        "print('\\nDimensão de c:', c.shape)\n",
        "print('Conteúdo de c:\\n %s' % (c))\n",
        "\n",
        "# Transforma vetor unidimensional em vetor linha 1x4.\n",
        "d = a.reshape(1,4)\n",
        "print('\\nDimensão de d:', d.shape)\n",
        "print('Conteúdo de d:', d)"
      ]
    },
    {
      "cell_type": "markdown",
      "metadata": {
        "id": "qeTUzTKaw2jq"
      },
      "source": [
        "### Operações matemáticas básicas com arrays\n",
        "\n",
        "+ As operações matemáticas básicas operam **elemento a elemento** das arrays e estão disponíveis através de\n",
        "\n",
        "    + **sobrecarga de operadores**\n",
        "\n",
        "    + e como **funções** da biblioteca NumPy.\n",
        "\n",
        "#### Exemplos: cálculos com arrays NumPy.\n",
        "\n",
        "**Adição de matrizes**"
      ]
    },
    {
      "cell_type": "code",
      "execution_count": null,
      "metadata": {
        "id": "ctefxln8w2jq",
        "outputId": "388a4419-6a3b-4128-b0b0-c490ee55da6c"
      },
      "outputs": [
        {
          "name": "stdout",
          "output_type": "stream",
          "text": [
            "Y = A + B:\n",
            " [[ 6  8]\n",
            " [10 12]]\n",
            "\n",
            "Y = np.add(A, B):\n",
            " [[ 6  8]\n",
            " [10 12]]\n"
          ]
        }
      ],
      "source": [
        "# Criando 2 matrizes 2x2.\n",
        "A = np.array(\n",
        "  [\n",
        "    [1, 2],\n",
        "    [3, 4]\n",
        "  ]\n",
        ")\n",
        "\n",
        "B = np.array(\n",
        "  [\n",
        "    [5, 6],\n",
        "    [7, 8]\n",
        "  ]\n",
        ")\n",
        "\n",
        "# utilizando a sobrecarga do operador '+'\n",
        "Y = A + B\n",
        "print('Y = A + B:\\n %s' % (Y))\n",
        "print('')\n",
        "\n",
        "# utilizando a função add()\n",
        "Y = np.add(A, B)\n",
        "print('Y = np.add(A, B):\\n %s' % (Y))"
      ]
    },
    {
      "cell_type": "markdown",
      "metadata": {
        "id": "kWmVHqL_w2jr"
      },
      "source": [
        "**Subtração de matrizes**"
      ]
    },
    {
      "cell_type": "code",
      "execution_count": 7,
      "metadata": {
        "id": "3fMHS29rw2jr",
        "outputId": "1ace1f7d-8810-4317-d6f2-5ebf9314c556",
        "colab": {
          "base_uri": "https://localhost:8080/"
        }
      },
      "outputs": [
        {
          "output_type": "stream",
          "name": "stdout",
          "text": [
            "Y = A - B:\n",
            " [[-4 -4]\n",
            " [-4 -4]]\n",
            "\n",
            "Y = np.subtract(A, B):\n",
            " [[-4 -4]\n",
            " [-4 -4]]\n"
          ]
        }
      ],
      "source": [
        "# Criando 2 matrizes 2x2.\n",
        "A = np.array(\n",
        "  [\n",
        "    [1, 2],\n",
        "    [3, 4]\n",
        "  ]\n",
        ")\n",
        "\n",
        "B = np.array(\n",
        "  [\n",
        "    [5, 6],\n",
        "    [7, 8]\n",
        "  ]\n",
        ")\n",
        "\n",
        "# utilizando a sobrecarga do operador '-'\n",
        "Y = A - B\n",
        "print('Y = A - B:\\n %s' % (Y))\n",
        "print('')\n",
        "\n",
        "# utilizando a função subtract()\n",
        "Y = np.subtract(A, B)\n",
        "print('Y = np.subtract(A, B):\\n %s' % (Y))"
      ]
    },
    {
      "cell_type": "markdown",
      "metadata": {
        "id": "MqxfAFeqw2jr"
      },
      "source": [
        "**Multiplicação de matrizes**"
      ]
    },
    {
      "cell_type": "code",
      "execution_count": null,
      "metadata": {
        "id": "NPvQ1E2Ew2js",
        "outputId": "68bfd642-ff81-4591-f8bb-436a3c105b62"
      },
      "outputs": [
        {
          "name": "stdout",
          "output_type": "stream",
          "text": [
            "Y = A * B:\n",
            " [[ 5 12]\n",
            " [21 32]]\n",
            "\n",
            "Y = np.multiply(A, B):\n",
            " [[ 5 12]\n",
            " [21 32]]\n"
          ]
        }
      ],
      "source": [
        "# Criando 2 matrizes 2x2.\n",
        "A = np.array(\n",
        "  [\n",
        "    [1, 2],\n",
        "    [3, 4]\n",
        "  ]\n",
        ")\n",
        "\n",
        "B = np.array(\n",
        "  [\n",
        "    [5, 6],\n",
        "    [7, 8]\n",
        "  ]\n",
        ")\n",
        "\n",
        "# utilizando a sobrecarga do operador '*'\n",
        "Y = A * B\n",
        "print('Y = A * B:\\n %s' % (Y))\n",
        "print('')\n",
        "\n",
        "# utilizando a função multiply()\n",
        "Y = np.multiply(A, B)\n",
        "print('Y = np.multiply(A, B):\\n %s' % (Y))"
      ]
    },
    {
      "cell_type": "markdown",
      "metadata": {
        "id": "sMoU4m44w2js"
      },
      "source": [
        "**Divisão de matrizes**"
      ]
    },
    {
      "cell_type": "code",
      "execution_count": 8,
      "metadata": {
        "id": "F2Cqk_2Nw2jz",
        "outputId": "8c4a4fbf-d30c-4688-ddc5-60f867fb2a99",
        "colab": {
          "base_uri": "https://localhost:8080/"
        }
      },
      "outputs": [
        {
          "output_type": "stream",
          "name": "stdout",
          "text": [
            "Y = A / B:\n",
            " [[0.2        0.33333333]\n",
            " [0.42857143 0.5       ]]\n",
            "\n",
            "Y = np.divide(A, B):\n",
            " [[0.2        0.33333333]\n",
            " [0.42857143 0.5       ]]\n"
          ]
        }
      ],
      "source": [
        "# Criando 2 matrizes 2x2.\n",
        "A = np.array(\n",
        "  [\n",
        "    [1, 2],\n",
        "    [3, 4]\n",
        "  ]\n",
        ")\n",
        "\n",
        "B = np.array(\n",
        "  [\n",
        "    [5, 6],\n",
        "    [7, 8]\n",
        "  ]\n",
        ")\n",
        "\n",
        "# utilizando a sobrecarga do operador '/'\n",
        "Y = A / B\n",
        "print('Y = A / B:\\n %s' % (Y))\n",
        "print('')\n",
        "\n",
        "# utilizando a função divide()\n",
        "Y = np.divide(A, B)\n",
        "print('Y = np.divide(A, B):\\n %s' % (Y))"
      ]
    },
    {
      "cell_type": "markdown",
      "metadata": {
        "id": "n1fVioevw2j0"
      },
      "source": [
        "### Funções importantes do NumPy\n",
        "\n",
        "Existem algumas funções disponíveis no NumPy para cálculo da soma, raíz quadrada, média, desvio padrão, variância e a inversa dos elementos de uma array.\n",
        "\n",
        "|    Operação   |   Função  |\n",
        "|:-------------:|:---------:|\n",
        "|      Soma     |  np.sum() |\n",
        "| Raiz quadrada | np.sqrt() |\n",
        "|     Média     | np.mean() |\n",
        "|   Variância   |  np.var() |\n",
        "| Desvio padrão |  np.std() |\n",
        "| Matriz inversa |  np.linalg.inv() |"
      ]
    },
    {
      "cell_type": "code",
      "execution_count": 9,
      "metadata": {
        "id": "pLuk_1Rzw2j1",
        "outputId": "4a93569e-2e9c-455f-8531-df7f4f3176a6",
        "colab": {
          "base_uri": "https://localhost:8080/"
        }
      },
      "outputs": [
        {
          "output_type": "stream",
          "name": "stdout",
          "text": [
            "np.sum(a): 6\n",
            "np.sum(B): 10\n",
            "\n",
            "np.mean(a): 2.0\n",
            "np.mean(B): 2.5\n",
            "\n",
            "np.var(a): 0.6666666666666666\n",
            "np.var(B): 1.25\n",
            "\n",
            "np.std(a): 0.816496580927726\n",
            "np.std(B): 1.118033988749895\n"
          ]
        }
      ],
      "source": [
        "# Criando 2 arrays.\n",
        "a = np.array([1, 2, 3]) # sequência de 4 valores.\n",
        "B = np.array([ [1, 2], [3, 4] ]) # matriz 2x2.\n",
        "\n",
        "# Soma todos os valores de uma array, independente do número de dimensões.\n",
        "x = np.sum(a)\n",
        "print('np.sum(a):', x)\n",
        "\n",
        "y = np.sum(B)\n",
        "print('np.sum(B):', y)\n",
        "print('')\n",
        "\n",
        "# Calcula a média dos valores de uma array, independente do número de dimensões.\n",
        "x = np.mean(a)\n",
        "print('np.mean(a):', x)\n",
        "\n",
        "y = np.mean(B)\n",
        "print('np.mean(B):', y)\n",
        "print('')\n",
        "\n",
        "# Calcula a variância dos valores de uma array, independente do número de dimensões..\n",
        "x = np.var(a)\n",
        "print('np.var(a):', x)\n",
        "\n",
        "y = np.var(B)\n",
        "print('np.var(B):', y)\n",
        "print('')\n",
        "\n",
        "# Calcula o desvio padrão dos valores de uma array, independente do número de dimensões.\n",
        "x = np.std(a)\n",
        "print('np.std(a):', x)\n",
        "\n",
        "y = np.std(B)\n",
        "print('np.std(B):', y)"
      ]
    },
    {
      "cell_type": "markdown",
      "metadata": {
        "id": "zPUQ42wxw2j2"
      },
      "source": [
        "A opreação `sqrt()` é uma operação elemento a elemento.\n",
        "\n",
        "Ela calcula a raíz quadrada dos elementos de uma array independente do número de dimensões."
      ]
    },
    {
      "cell_type": "code",
      "execution_count": 10,
      "metadata": {
        "id": "jB9oBwftw2j2",
        "outputId": "40bcb8a8-33b6-4a60-b828-c83760749b6a",
        "colab": {
          "base_uri": "https://localhost:8080/"
        }
      },
      "outputs": [
        {
          "output_type": "stream",
          "name": "stdout",
          "text": [
            "np.sqrt(a): [1.         1.41421356 1.73205081]\n",
            "\n",
            "np.sqrt(B):\n",
            "[[1.         1.41421356]\n",
            " [1.73205081 2.        ]]\n"
          ]
        }
      ],
      "source": [
        "# Opera elemento a elemento.\n",
        "x = np.sqrt(a)\n",
        "print('np.sqrt(a):', x)\n",
        "\n",
        "# Opera elemento a elemento.\n",
        "x = np.sqrt(B)\n",
        "print('\\nnp.sqrt(B):\\n%s' % (x))"
      ]
    },
    {
      "cell_type": "markdown",
      "metadata": {
        "id": "84Kzri0dw2j3"
      },
      "source": [
        "**Calculando a inversa de uma matriz.**\n",
        "\n",
        "Para calcular a inversa de matrizes, usamos a função `inv` implementada no módulo de álgebra linear da biblioteca NumPy chamado de `linalg`.\n",
        "\n",
        "Esse módulo possui várias outras funções de álgebra linear como decomposição em valores singulares, cálculo de autovalores e autovetores, normas, etc."
      ]
    },
    {
      "cell_type": "code",
      "execution_count": null,
      "metadata": {
        "id": "wxqdz4qUw2j3",
        "outputId": "8455da4d-275b-4444-992f-684cd67cb3de"
      },
      "outputs": [
        {
          "name": "stdout",
          "output_type": "stream",
          "text": [
            "A:\n",
            " [[20 10]\n",
            " [17 22]]\n",
            "\n",
            "A^-1:\n",
            " [[ 0.08148148 -0.03703704]\n",
            " [-0.06296296  0.07407407]]\n"
          ]
        }
      ],
      "source": [
        "# define uma matriz 2x2.\n",
        "A = np.array(\n",
        "  [\n",
        "    [20, 10],\n",
        "    [17, 22]\n",
        "  ]\n",
        ")\n",
        "print('A:\\n %s' % (A))\n",
        "\n",
        "Ainv = np.linalg.inv(A)\n",
        "print('\\nA^-1:\\n %s' % (Ainv))"
      ]
    },
    {
      "cell_type": "markdown",
      "metadata": {
        "id": "Fw63O922w2j3"
      },
      "source": [
        "### Multiplicação matricial\n",
        "\n",
        "+ O operador `*` realiza multiplicação **elemento-a-elemento** de arrays e não uma multiplicação matricial.\n",
        "\n",
        "\n",
        "+ Em vez disso, usamos a função `dot()` para calcular:\n",
        "\n",
        "    + produtos internos de vetores,\n",
        "    + multiplicar um vetor por uma matriz (ou matriz por um vetor),\n",
        "    + multiplicar matrizes.\n",
        "\n",
        "\n",
        "+ A função `dot()` está disponível como uma **função** da biblioteca NumPy e como um **método da classe `ndarray`**.\n",
        "\n",
        "#### Exemplos\n",
        "\n",
        "**Produto interno entre vetores.**"
      ]
    },
    {
      "cell_type": "code",
      "execution_count": null,
      "metadata": {
        "id": "RkZ38E81w2j4",
        "outputId": "c2e40453-5876-41a3-915f-1302820572cf"
      },
      "outputs": [
        {
          "name": "stdout",
          "output_type": "stream",
          "text": [
            "Produto interno entre os vetores v e w.\n",
            "v.dot(w):\n",
            " [[219]]\n",
            "\n",
            "np.dot(v, w):\n",
            " [[219]]\n"
          ]
        }
      ],
      "source": [
        "# Cria 2 vetores.\n",
        "\n",
        "# Vetor linha 1x2.\n",
        "v = np.array(\n",
        "  [\n",
        "    [9, 10]\n",
        "  ]\n",
        ")\n",
        "\n",
        "# Vetor coluna 2x1.\n",
        "w = np.array(\n",
        "  [\n",
        "      [11],\n",
        "      [12]\n",
        "  ]\n",
        ")\n",
        "\n",
        "# Produto interno dos vetores v e w.\n",
        "print('Produto interno entre os vetores v e w.')\n",
        "\n",
        "# Usando o método dot() da classe ndarray.\n",
        "print('v.dot(w):\\n %s' % (v.dot(w)))\n",
        "\n",
        "# Usando a função dot().\n",
        "print('\\nnp.dot(v, w):\\n %s' % (np.dot(v, w)))"
      ]
    },
    {
      "cell_type": "markdown",
      "metadata": {
        "id": "J1sApz85w2j4"
      },
      "source": [
        "**Produto entre uma matriz e um vetor.**"
      ]
    },
    {
      "cell_type": "code",
      "execution_count": null,
      "metadata": {
        "id": "6IpnQFu_w2j5",
        "outputId": "9b16c47d-8975-457c-e23a-5396921c87da"
      },
      "outputs": [
        {
          "name": "stdout",
          "output_type": "stream",
          "text": [
            "\n",
            "Produto entre a matriz X e o vetor v.\n",
            "X.dot(v):\n",
            " [[29]\n",
            " [67]]\n",
            "\n",
            "np.dot(X, v):\n",
            " [[29]\n",
            " [67]]\n"
          ]
        }
      ],
      "source": [
        "# Cria 1 matriz 2x2.\n",
        "X = np.array(\n",
        "  [\n",
        "    [1, 2],\n",
        "    [3, 4]\n",
        "  ]\n",
        ")\n",
        "\n",
        "# Cria 1 vetor coluna 2x1.\n",
        "v = np.array(\n",
        "  [\n",
        "    [9],\n",
        "    [10]\n",
        "  ]\n",
        ")\n",
        "\n",
        "# Produto entre uma matriz e um vetor.\n",
        "print('\\nProduto entre a matriz X e o vetor v.')\n",
        "\n",
        "# Usando o método dot() da classe ndarray.\n",
        "print('X.dot(v):\\n %s' % (X.dot(v)))\n",
        "\n",
        "# Usando a função dot().\n",
        "print('\\nnp.dot(X, v):\\n %s' % (np.dot(X, v)))"
      ]
    },
    {
      "cell_type": "markdown",
      "metadata": {
        "id": "su6NQCsmw2j6"
      },
      "source": [
        "**Produto entre matrizes.**"
      ]
    },
    {
      "cell_type": "code",
      "execution_count": null,
      "metadata": {
        "id": "yVkt5Vm4w2j7",
        "outputId": "e75b7fa0-2e77-4cd5-c28c-4af559d8d8bf"
      },
      "outputs": [
        {
          "name": "stdout",
          "output_type": "stream",
          "text": [
            "\n",
            "Produto entre as matrizes X e Y.\n",
            "X.dot(Y):\n",
            " [[19 22]\n",
            " [43 50]]\n",
            "\n",
            "np.dot(X, Y):\n",
            " [[19 22]\n",
            " [43 50]]\n"
          ]
        }
      ],
      "source": [
        "# Cria 2 matrizes 2x2.\n",
        "X = np.array(\n",
        "  [\n",
        "    [1, 2],\n",
        "    [3, 4]\n",
        "  ]\n",
        ")\n",
        "\n",
        "Y = np.array(\n",
        "  [\n",
        "    [5, 6],\n",
        "    [7, 8]\n",
        "  ]\n",
        ")\n",
        "\n",
        "# Produto entre matrizes.\n",
        "print('\\nProduto entre as matrizes X e Y.')\n",
        "\n",
        "# Usando o método dot() da classe ndarray.\n",
        "print('X.dot(Y):\\n %s'% (X.dot(Y)))\n",
        "\n",
        "# Usando a função dot().\n",
        "print('\\nnp.dot(X, Y):\\n %s' % (np.dot(X, Y)))"
      ]
    },
    {
      "cell_type": "markdown",
      "metadata": {
        "id": "U_KBHR54w2j8"
      },
      "source": [
        "**Transposição**\n",
        "\n",
        "Para realizar a transposição de uma array, basta usar o atributo `T` da classe `ndarray`."
      ]
    },
    {
      "cell_type": "code",
      "execution_count": null,
      "metadata": {
        "id": "VEZ9ybV7w2j9",
        "outputId": "308e3785-faf1-4661-9aac-93a68ba4ce13"
      },
      "outputs": [
        {
          "name": "stdout",
          "output_type": "stream",
          "text": [
            "Exemplo #1: transposição de uma matriz 2x2:\n",
            "Dimensão de X: (2, 2)\n",
            "Conteúdo de X:\n",
            " [[1 2]\n",
            " [3 4]]\n",
            "\n",
            "Conteúdo de X.T:\n",
            " [[1 3]\n",
            " [2 4]]\n"
          ]
        }
      ],
      "source": [
        "# Criando uma matriz 2x2.\n",
        "X = np.array(\n",
        "  [\n",
        "    [1,2],\n",
        "    [3,4]\n",
        "  ]\n",
        ")\n",
        "\n",
        "print('Transposição de uma matriz 2x2:')\n",
        "print('Dimensão de X:', X.shape)\n",
        "print('Conteúdo de X:\\n %s' % (X))\n",
        "\n",
        "print('\\nConteúdo de X.T:\\n %s' % (X.T))"
      ]
    },
    {
      "cell_type": "markdown",
      "metadata": {
        "id": "Y5ae4WDnw2j-"
      },
      "source": [
        "Transposição de um vetor coluna, que se torna um vetor linha."
      ]
    },
    {
      "cell_type": "code",
      "execution_count": null,
      "metadata": {
        "id": "js2ZEIXzw2kA",
        "outputId": "baa9c5f2-ce95-4ff4-d650-3069ca5062c9"
      },
      "outputs": [
        {
          "name": "stdout",
          "output_type": "stream",
          "text": [
            "\n",
            "Exemplo #2: transposição de um vetor 1x3:\n",
            "Dimensão de v: (3, 1)\n",
            "Conteúdo de v:\n",
            " [[1]\n",
            " [2]\n",
            " [3]]\n",
            "\n",
            "Dimensão de v.T: (1, 3)\n",
            "Conteúdo de v.T: [[1 2 3]]\n"
          ]
        }
      ],
      "source": [
        "# Criando um vetor coluna com dimensão 3x1.\n",
        "v = np.array([1, 2, 3]).reshape(3, 1)\n",
        "\n",
        "print('Transposição de um vetor 1x3:')\n",
        "print('Dimensão de v:', v.shape)\n",
        "print('Conteúdo de v:\\n %s' % (v))\n",
        "\n",
        "print('\\nDimensão de v.T:', v.T.shape)\n",
        "print('Conteúdo de v.T:', v.T)"
      ]
    },
    {
      "cell_type": "markdown",
      "metadata": {
        "id": "8ntet1guw2kA"
      },
      "source": [
        "### Adicionando e removendo elementos de uma array Numpy\n",
        "\n",
        "Existem algumas funções para adicionar e remover elementos de arrays:\n",
        "\n",
        "|           Função           |             Descrição            |\n",
        "|:----------------------------:|:-----------------------------:|\n",
        "|        np.append(array, values, axis=None)        | Acrescenta elementos ao final da array ao longo do eixo definido. |\n",
        "| np.insert(array, índice, obj, axis=None) |   Insere elementos a partir do índice fornecido ao longo do eixo definido.  |\n",
        "|    np.delete(array, obj, axis=None)   | Deleta os índices ou fatias de índices fornecidos da array ao longo do eixo definido.|\n",
        "\n",
        "**OBS**.: Se `axis=None`, os elementos são achatados (i.e., transformados em uma sequência de valores) antes da execução da operação.\n",
        "\n",
        "**Concatenação de elementos**\n",
        "\n",
        "**IMPORTANTE**:\n",
        "\n",
        "* Diferentemente das listas, a classe `ndarray` não possui um **método** `append`. Para realização da concatenação, devemos usar a **função** `append` da biblioteca NumPy."
      ]
    },
    {
      "cell_type": "code",
      "execution_count": null,
      "metadata": {
        "id": "wpgU-Oirw2kB",
        "outputId": "d727a635-4389-4373-f5f7-a8456e727635"
      },
      "outputs": [
        {
          "name": "stdout",
          "output_type": "stream",
          "text": [
            "Acrescentando elementos a uma array.\n",
            "\n",
            "Conteúdo de d: [0 1 2 3 4 5 6 7]\n"
          ]
        }
      ],
      "source": [
        "# Criando 2 vetores.\n",
        "a = np.array([0, 1, 2, 3])\n",
        "b = np.array([4, 5, 6, 7])\n",
        "\n",
        "# Acrescentando elementos a uma array.\n",
        "print('Acrescentando elementos a uma array.\\n')\n",
        "\n",
        "# Usamos a função append para concatenar elementos.\n",
        "d = np.append(a, b)\n",
        "\n",
        "print('Conteúdo de d:', d)"
      ]
    },
    {
      "cell_type": "markdown",
      "metadata": {
        "id": "zmfO3RiQw2kC"
      },
      "source": [
        "**Adição de elementos em uma array**\n",
        "\n",
        "**OBS**.: Quando temos apenas uma sequência de elementos (i.e., array unidimensional) não é necesário definir o parâmetro `axis`."
      ]
    },
    {
      "cell_type": "code",
      "execution_count": null,
      "metadata": {
        "id": "QkQDH009w2kC",
        "outputId": "53b3e9bd-ba85-4a40-9727-a3ef3c0ee497"
      },
      "outputs": [
        {
          "name": "stdout",
          "output_type": "stream",
          "text": [
            "Conteúdo de a: [0 1 2 3]\n",
            "\n",
            "Conteúdo de b: [ 0  1 77  2  3]\n"
          ]
        }
      ],
      "source": [
        "# Criando um vetor.\n",
        "a = np.array([0, 1, 2, 3])\n",
        "print('Conteúdo de a:', a)\n",
        "\n",
        "# Insere o valor 77 na posição de índice 2.\n",
        "b = np.insert(a, 2, 77)\n",
        "print('\\nConteúdo de b:', b)"
      ]
    },
    {
      "cell_type": "markdown",
      "metadata": {
        "id": "VlXCBCsRw2kC"
      },
      "source": [
        "**Adição de elementos em uma matriz**"
      ]
    },
    {
      "cell_type": "code",
      "execution_count": 24,
      "metadata": {
        "id": "o7JAz55Ww2kD",
        "outputId": "61e181d6-fa08-4c1d-93e7-4547c5a7d259",
        "colab": {
          "base_uri": "https://localhost:8080/"
        }
      },
      "outputs": [
        {
          "output_type": "stream",
          "name": "stdout",
          "text": [
            "Conteúdo de A:\n",
            " [[1 2]\n",
            " [3 4]]\n",
            "\n",
            "Conteúdo de B:\n",
            " [[ 1  2]\n",
            " [77 77]\n",
            " [ 3  4]]\n"
          ]
        }
      ],
      "source": [
        "# Criando uma matriz 2x2.\n",
        "A = np.array(\n",
        "  [\n",
        "    [1, 2],\n",
        "    [3, 4]\n",
        "  ]\n",
        ")\n",
        "print('Conteúdo de A:\\n %s' % (A))\n",
        "\n",
        "# Insere valores iguais a 77 na posição de índice 1 ao longo do eixo 0 (linha).\n",
        "B = np.insert(A, 1, 77, axis=0)\n",
        "print('\\nConteúdo de B:\\n %s' % (B))"
      ]
    },
    {
      "cell_type": "markdown",
      "metadata": {
        "id": "ZF4mF9sXw2kD"
      },
      "source": [
        "**Adição de elementos em uma matriz**"
      ]
    },
    {
      "cell_type": "code",
      "execution_count": null,
      "metadata": {
        "id": "fC-3rFhiw2kE",
        "outputId": "027c318c-05e6-4996-8584-be36492dd4f3"
      },
      "outputs": [
        {
          "name": "stdout",
          "output_type": "stream",
          "text": [
            "Conteúdo de A:\n",
            " [[1 2]\n",
            " [3 4]]\n",
            "\n",
            "Conteúdo de B:\n",
            " [[ 1 77  2]\n",
            " [ 3 77  4]]\n"
          ]
        }
      ],
      "source": [
        "# Criando uma matriz 2x2.\n",
        "A = np.array(\n",
        "  [\n",
        "    [1, 2],\n",
        "    [3, 4]\n",
        "  ]\n",
        ")\n",
        "print('Conteúdo de A:\\n %s' % (A))\n",
        "\n",
        "# Insere valores iguais a 77 na posição de índice 1 ao longo do eixo 1 (coluna).\n",
        "B = np.insert(A, 1, 77, axis=1)\n",
        "print('\\nConteúdo de B:\\n %s' % (B))"
      ]
    },
    {
      "cell_type": "markdown",
      "metadata": {
        "id": "pJV-Y2xDw2kE"
      },
      "source": [
        "**Remoção de elementos**\n",
        "\n",
        "Para remover elementos, usamos a função `delete` onde\n",
        "+ o primeiro parâmetro de entrada é a array,\n",
        "+ o segundo parâmetro é o **índice ou lista com os índices dos elementos a serem removidos** e\n",
        "+ o terceiro é o eixo ao longo do qual os elementos devem ser removidos.\n",
        "\n",
        "**Removendo um elemento de uma array**\n",
        "\n",
        "**OBS**.: Quando temos apenas uma sequência de elementos (i.e., array unidimensional) não é necesário definir o parâmetro `axis`."
      ]
    },
    {
      "cell_type": "code",
      "execution_count": null,
      "metadata": {
        "id": "W4UemSo-w2kF",
        "outputId": "a5781b69-9ec9-4036-d976-5fd3d6ab5e20"
      },
      "outputs": [
        {
          "name": "stdout",
          "output_type": "stream",
          "text": [
            "Conteúdo de a: [1 2 3 4]\n",
            "\n",
            "Conteúdo de b: [2 3 4]\n"
          ]
        }
      ],
      "source": [
        "# Criando um vetor.\n",
        "a = np.array([1, 2, 3, 4])\n",
        "print('Conteúdo de a:', a)\n",
        "\n",
        "# Remove o elemento correspondente ao índice 0.\n",
        "b = np.delete(a, 0)\n",
        "print('\\nConteúdo de b:', b)"
      ]
    },
    {
      "cell_type": "markdown",
      "metadata": {
        "id": "RvxUosEWw2kG"
      },
      "source": [
        "**Removendo vários elementos de uma array**\n",
        "\n",
        "Para remover vários elementos, passamos uma lista com os índices a serem removidos."
      ]
    },
    {
      "cell_type": "code",
      "execution_count": null,
      "metadata": {
        "id": "u_mepynKw2kG",
        "outputId": "1c3e048d-24f3-4caa-f444-0486260c8a21"
      },
      "outputs": [
        {
          "name": "stdout",
          "output_type": "stream",
          "text": [
            "Conteúdo de a: [1 2 3 4]\n",
            "\n",
            "Conteúdo de b: [2 4]\n"
          ]
        }
      ],
      "source": [
        "# Criando um vetor.\n",
        "a = np.array([1, 2, 3, 4])\n",
        "print('Conteúdo de a:', a)\n",
        "\n",
        "# Remove elementos correspondentes aos índices 0 e 2.\n",
        "b = np.delete(a, [0, 2])\n",
        "print('\\nConteúdo de b:', b)"
      ]
    },
    {
      "cell_type": "markdown",
      "metadata": {
        "id": "MNkyLnk5w2kH"
      },
      "source": [
        "**Removendo elementos de uma matriz**\n",
        "\n",
        "**OBS**.: Quando temos mais de uma dimensão, podemos especificar ao longo de qual eixo queremos fazer a remoção."
      ]
    },
    {
      "cell_type": "code",
      "execution_count": null,
      "metadata": {
        "id": "atKsl7qsw2kH",
        "outputId": "24616a33-7742-4b3f-ea3d-0a38645d623b"
      },
      "outputs": [
        {
          "name": "stdout",
          "output_type": "stream",
          "text": [
            "Conteúdo de A:\n",
            " [[1 2]\n",
            " [3 4]]\n",
            "\n",
            "Conteúdo de B: [[3 4]]\n"
          ]
        }
      ],
      "source": [
        "# Criando uma matriz 2x2.\n",
        "A = np.array(\n",
        "  [\n",
        "    [1, 2],\n",
        "    [3, 4]\n",
        "  ]\n",
        ")\n",
        "print('Conteúdo de A:\\n %s' % (A))\n",
        "\n",
        "# Remove elementos que tenham índice igual a 0 ao longo do eixo 0 (linha).\n",
        "# Ou seja, remove os elementos que tenham o índice da linha igual a 0.\n",
        "B = np.delete(A, 0, axis=0)\n",
        "print('\\nConteúdo de B:', B)"
      ]
    },
    {
      "cell_type": "markdown",
      "metadata": {
        "id": "45bDZySfw2kI"
      },
      "source": [
        "**Removendo elementos de uma matriz**"
      ]
    },
    {
      "cell_type": "code",
      "execution_count": null,
      "metadata": {
        "id": "vKPF0MCNw2kI",
        "outputId": "dc81301e-b078-4f5e-f0f2-88e449a097a2"
      },
      "outputs": [
        {
          "name": "stdout",
          "output_type": "stream",
          "text": [
            "Conteúdo de A:\n",
            " [[1 2]\n",
            " [3 4]]\n",
            "\n",
            "Conteúdo de B:\n",
            " [[2]\n",
            " [4]]\n"
          ]
        }
      ],
      "source": [
        "# Criando uma matriz.\n",
        "A = np.array(\n",
        "  [\n",
        "    [1, 2],\n",
        "    [3, 4]\n",
        "  ]\n",
        ")\n",
        "print('Conteúdo de A:\\n %s' % (A))\n",
        "\n",
        "# Remove elementos que tenham índice igual a 0 ao longo do eixo 1 (coluna).\n",
        "# Ou seja, remove os elementos que tenham o índice da coluna igual a 0.\n",
        "B = np.delete(A, 0, axis=1)\n",
        "print('\\nConteúdo de B:\\n %s' % (B))"
      ]
    },
    {
      "cell_type": "markdown",
      "metadata": {
        "id": "xQpKHMi8w2kJ"
      },
      "source": [
        "### Difusão de arrays\n",
        "\n",
        "Em teoria, arrays com tamanhos diferentes não podem ser somadas ou subtraídas.\n",
        "\n",
        "Entretanto, a biblioteca NumPy, através da **difusão** de arrays, consegue tratar arrays de dimensões diferentes.\n",
        "\n",
        "#### Exemplos\n",
        "\n",
        "Somando uma array com um escalar.\n",
        "\n",
        "<img src=\"https://github.com/zz4fap/python-programming/blob/master/figures/difus%C3%A3o1.png?raw=1\" width=\"300px\">"
      ]
    },
    {
      "cell_type": "code",
      "execution_count": null,
      "metadata": {
        "id": "uzlvCG8_w2kK",
        "outputId": "c27cdf75-b9a1-4eea-ee68-c9901c5714fb"
      },
      "outputs": [
        {
          "name": "stdout",
          "output_type": "stream",
          "text": [
            "Array a: [1 2 3]\n",
            "\n",
            "Escalar b: 2\n",
            "\n",
            "Resultado de a + b: [3 4 5]\n"
          ]
        }
      ],
      "source": [
        "a = np.array([1, 2, 3])\n",
        "print('Array a:', a)\n",
        "\n",
        "b = 2\n",
        "print('\\nEscalar b:', b)\n",
        "\n",
        "# Um escalar pode ser adicionado ao vetor, pois a biblioteca NumPy, automaticamente,\n",
        "# através da difusão, converte o escalar em uma array com a mesma dimensão da\n",
        "# array a e com valores repetidos.\n",
        "c = a + b\n",
        "print('\\nResultado de a + b:', c)"
      ]
    },
    {
      "cell_type": "markdown",
      "metadata": {
        "id": "huP6oT0Vw2kK"
      },
      "source": [
        "A mesma ideia se aplica a arrays com mais de uma dimensão.\n",
        "\n",
        "<img src=\"https://github.com/zz4fap/python-programming/blob/master/figures/difus%C3%A3o2.png?raw=1\" width=\"300px\">"
      ]
    },
    {
      "cell_type": "code",
      "execution_count": null,
      "metadata": {
        "id": "-53_fPmtw2kM",
        "outputId": "bd0cfc3d-840c-441c-a149-b1e62b2c0a65"
      },
      "outputs": [
        {
          "name": "stdout",
          "output_type": "stream",
          "text": [
            "Matriz A:\n",
            " [[1 2 3]\n",
            " [1 2 3]]\n",
            "\n",
            "Escalar b: 2\n",
            "\n",
            "Resultado de A + b:\n",
            " [[3 4 5]\n",
            " [3 4 5]]\n"
          ]
        }
      ],
      "source": [
        "# Cria uma matriz 2x3.\n",
        "A = np.array(\n",
        "  [\n",
        "    [1, 2, 3],\n",
        "    [1, 2, 3]\n",
        "  ]\n",
        ")\n",
        "print('Matriz A:\\n %s' % (A))\n",
        "\n",
        "# Escalar.\n",
        "b = 2\n",
        "print('\\nEscalar b:', b)\n",
        "\n",
        "# O NumPy cria uma matriz 2x3 com todos os elementos iguais ao escalar b e soma, elemento a elemento, com a matriz A.\n",
        "C = A + b\n",
        "\n",
        "print('\\nResultado de A + b:\\n %s' % (C))"
      ]
    },
    {
      "cell_type": "markdown",
      "metadata": {
        "id": "tlIZCSiJw2kO"
      },
      "source": [
        "Uma array unidimensional pode ser somada a uma matriz.\n",
        "\n",
        "No exemplo abaixo, uma matriz `A` com 2 linhas e 3 colunas é somada a uma array unidimensional `b` com 3 elementos.\n",
        "\n",
        "<img src=\"https://github.com/zz4fap/python-programming/blob/master/figures/difus%C3%A3o3.png?raw=1\" width=\"300px\">"
      ]
    },
    {
      "cell_type": "code",
      "execution_count": null,
      "metadata": {
        "id": "OPfC0Wk2w2kQ",
        "outputId": "21257d4a-b584-45c1-f0fc-21f42ed85e47"
      },
      "outputs": [
        {
          "name": "stdout",
          "output_type": "stream",
          "text": [
            "Matriz A:\n",
            " [[1 2 3]\n",
            " [1 2 3]]\n",
            "\n",
            "Array b: [1 2 3]\n",
            "\n",
            "Resultado de A + b:\n",
            " [[2 4 6]\n",
            " [2 4 6]]\n"
          ]
        }
      ],
      "source": [
        "# Cria uma matriz 2x3.\n",
        "A = np.array(\n",
        "  [\n",
        "    [1, 2, 3],\n",
        "    [1, 2, 3]\n",
        "  ]\n",
        ")\n",
        "print('Matriz A:\\n %s' % (A))\n",
        "\n",
        "b = np.array([1, 2, 3])\n",
        "print('\\nArray b:', b)\n",
        "\n",
        "# O NumPy cria uma matriz 2x3 a partir de b,\n",
        "# copiando os elementos de b na segunda linha da matriz.\n",
        "C = A + b\n",
        "\n",
        "print('\\nResultado de A + b:\\n %s' % (C))"
      ]
    },
    {
      "cell_type": "markdown",
      "metadata": {
        "id": "-7DSEi7sw2kR"
      },
      "source": [
        "Esta breve visão geral abordou os tópicos mais importantes que precisamos saber sobre a biblioteca NumPy, mas está longe de ser completa.\n",
        "\n",
        "Para saber mais sobre a biblioteca NumPy, confiram o conteúdo do seguinte link: http://docs.scipy.org/doc/numpy/reference/"
      ]
    },
    {
      "cell_type": "markdown",
      "metadata": {
        "id": "6X4M376Zw2kW"
      },
      "source": [
        "### Tarefas\n",
        "\n",
        "1. <span style=\"color:blue\">**QUIZ - NumPy**</span>: respondam ao questionário sobre a biblioteca NumPy no MS teams, por favor.\n",
        "2. <span style=\"color:blue\">**Laboratório #7 - NumPy**</span>: cliquem em um dos links abaixo para accessar os exercícios do laboratório #7.\n",
        "\n",
        "[![Google Colab](https://badgen.net/badge/Launch/on%20Google%20Colab/blue?icon=terminal)](https://colab.research.google.com/github/zz4fap/python-programming/blob/master/labs/Laboratorio7_NumPy.ipynb)\n",
        "\n",
        "[![Binder](https://mybinder.org/badge_logo.svg)](https://mybinder.org/v2/gh/zz4fap/python-programming/master?filepath=labs%2FLaboratorio7_NumPy.ipynb)"
      ]
    },
    {
      "cell_type": "markdown",
      "metadata": {
        "id": "XVLSMrKow2kZ"
      },
      "source": [
        "## Visualização de dados com Matplotlib\n",
        "\n",
        "O Matplotlib é uma biblioteca para a criação de gráficos.\n",
        "\n",
        "Nós vamos utilizar o módulo `pyplot` da biblioteca Matplotlib, o qual fornece uma coleção de funções para criação de gráficos que fazem a biblioteca funcionar como o MATLAB.\n",
        "\n",
        "\n",
        "#### Exemplo #1: Plotando a função `seno` para 200 pontos no intervalo `[0, 10)`.\n",
        "\n",
        "**OBS**.: Não se esqueçam de importar as bibliotecas."
      ]
    },
    {
      "cell_type": "code",
      "execution_count": null,
      "metadata": {
        "id": "Qm9xTSpvw2ka",
        "outputId": "2642903c-eba2-41bf-b125-43b17de20af1"
      },
      "outputs": [
        {
          "data": {
            "image/png": "[encoded data removed]",
            "text/plain": [
              "<Figure size 640x480 with 1 Axes>"
            ]
          },
          "metadata": {},
          "output_type": "display_data"
        }
      ],
      "source": [
        "import numpy as np\n",
        "import matplotlib.pyplot as plt\n",
        "\n",
        "# Gerando 200 valores do intervalo [0, 10)\n",
        "x = np.linspace(0, 10, 200)\n",
        "y = np.sin(x)\n",
        "\n",
        "# Plota a figura.\n",
        "# 'b--' é a string de formatação a qual define a cor (b) e o estilo da linha (--).\n",
        "# linewidth: define a largura da linha.\n",
        "plt.plot(x, y, 'b--', linewidth=1)\n",
        "\n",
        "# Título da figura.\n",
        "plt.title('Exemplo #1')\n",
        "\n",
        "# Dá um nome para o eixo x.\n",
        "plt.xlabel('x')\n",
        "\n",
        "# Dá um nome para o eixo y.\n",
        "plt.ylabel('y')\n",
        "\n",
        "# Habilita o grid.\n",
        "plt.grid()\n",
        "\n",
        "# Mostra a figura.\n",
        "plt.show()"
      ]
    },
    {
      "cell_type": "markdown",
      "metadata": {
        "id": "seZtw8FIw2ka"
      },
      "source": [
        "**OBS**.: outras opções de formatação (i.e., cores, marcadores e formatos para as linhas) podem ser encontradas em: https://matplotlib.org/stable/api/_as_gen/matplotlib.pyplot.plot.html"
      ]
    },
    {
      "cell_type": "markdown",
      "metadata": {
        "id": "BJG0c5Jlw2kb"
      },
      "source": [
        "#### Exemplo #2:  Plotando mais de uma função em um mesmo gráfico."
      ]
    },
    {
      "cell_type": "code",
      "execution_count": null,
      "metadata": {
        "id": "E4rOjCFmw2kb",
        "outputId": "2d3afdfe-ab22-41db-dd36-50c02ff89e33"
      },
      "outputs": [
        {
          "data": {
            "image/png": "[encoded data removed]",
            "text/plain": [
              "<Figure size 640x480 with 1 Axes>"
            ]
          },
          "metadata": {},
          "output_type": "display_data"
        }
      ],
      "source": [
        "import numpy as np\n",
        "import matplotlib.pyplot as plt\n",
        "\n",
        "# Geramos 200 pontos do intervalo [0, 10)\n",
        "x = np.linspace(0, 10, 200)\n",
        "\n",
        "# Função 1.\n",
        "y = np.sin(x)\n",
        "\n",
        "# Funçã 2.\n",
        "z = np.cos(x)\n",
        "\n",
        "# Plota uma curva.\n",
        "plt.plot(x, y, 'b--', linewidth=1) # Plota o seno.\n",
        "# Plota outra curva.\n",
        "plt.plot(x, z, 'r-', linewidth=2)  # Plota o cosseno.\n",
        "# Título da figura.\n",
        "plt.title('Exemplo #2')\n",
        "# Dá um nome para o eixo x.\n",
        "plt.xlabel('x')\n",
        "# Dá um nome para o eixo y.\n",
        "plt.ylabel('y')\n",
        "# Habilita o grid.\n",
        "plt.grid()\n",
        "# Mostra a figura.\n",
        "plt.show()"
      ]
    },
    {
      "cell_type": "markdown",
      "metadata": {
        "id": "LeipRYufw2kc"
      },
      "source": [
        "#### Exemplo #3: Salvando uma figura em um arquivo.\n",
        "\n",
        "+ Para salvar uma figura em arquivo, usamos a função `savefig()`."
      ]
    },
    {
      "cell_type": "code",
      "execution_count": null,
      "metadata": {
        "id": "_btDkDjBw2kc",
        "outputId": "65dc0611-0aa3-4a87-c906-345e99421cc8"
      },
      "outputs": [
        {
          "data": {
            "image/png": "[encoded data removed]",
            "text/plain": [
              "<Figure size 640x480 with 1 Axes>"
            ]
          },
          "metadata": {},
          "output_type": "display_data"
        }
      ],
      "source": [
        "import numpy as np\n",
        "import matplotlib.pyplot as plt\n",
        "\n",
        "# 200 pontos do intervalo [0, 10)\n",
        "x = np.linspace(0, 10, 200)\n",
        "y = np.sin(x)\n",
        "z = np.cos(x)\n",
        "\n",
        "# Plota uma curva.\n",
        "plt.plot(x, y, 'b--', linewidth=1) # Plota o seno.\n",
        "# Plota outra curva.\n",
        "plt.plot(x, z, 'r-', linewidth=2)  # Plota o cosseno.\n",
        "# Título da figura.\n",
        "plt.title('Exemplo #3')\n",
        "# Dá um nome para o eixo x.\n",
        "plt.xlabel('x')\n",
        "# Dá um nome para o eixo y.\n",
        "plt.ylabel('y')\n",
        "# Habilita o grid.\n",
        "plt.grid()\n",
        "\n",
        "# Salva a figura em um arquivo.\n",
        "plt.savefig('cosseno_e_seno_figura.png')\n",
        "\n",
        "# Mostra a figura.\n",
        "plt.show()"
      ]
    },
    {
      "cell_type": "markdown",
      "metadata": {
        "id": "H0u13CwOw2kc"
      },
      "source": [
        "**OBS**.:\n",
        "\n",
        "\n",
        "+ Podemos alterar a resolução da figura através do parâmetro `dpi` (pontos por polegada), que por padrão é igual a 100.\n",
        "\n",
        "\n",
        "+ Acessem o seguinte link para informações sobre os outros parâmetros da função: https://matplotlib.org/stable/api/_as_gen/matplotlib.pyplot.savefig.html"
      ]
    },
    {
      "cell_type": "markdown",
      "metadata": {
        "id": "ox_XQSz_w2kd"
      },
      "source": [
        "#### Exemplo #4: Alterando o tamanho e adicionando legendas à figura.\n",
        "\n",
        "\n",
        "+ Por padrão, as figuras são criadas com largura de 6.4 e altura de 4.8 polegadas, mas podemos alterar isso com o parâmetro `figsize`.\n",
        "\n",
        "+ Para adicionarmos legendas à figura, precisamos definir o parâmetro `label` em cada chamada da função `plot()` e habilitar a inserção da legenda com a função `legend()`.\n",
        "\n",
        "\n",
        "**OBS**.: O parâmetro `label` da função `plot` aceita euqações me formato latex através do uso dos caracteres `$`."
      ]
    },
    {
      "cell_type": "code",
      "execution_count": null,
      "metadata": {
        "id": "XMMZNL8gw2kd",
        "outputId": "3a88aba7-9587-4b76-d4e9-17ba7eb0369a"
      },
      "outputs": [
        {
          "data": {
            "image/png": "[encoded data removed]",
            "text/plain": [
              "<Figure size 1000x500 with 1 Axes>"
            ]
          },
          "metadata": {},
          "output_type": "display_data"
        }
      ],
      "source": [
        "import numpy as np\n",
        "import matplotlib.pyplot as plt\n",
        "\n",
        "# Geramos 200 pontos do intervalo [0, 10)\n",
        "x = np.linspace(0, 10, 200)\n",
        "y = np.sin(x)\n",
        "z = np.cos(x)\n",
        "\n",
        "# figsize: permite definir o tamanho da figura em polegadas.\n",
        "plt.figure(figsize=(10, 5))\n",
        "\n",
        "# Plota a figura.\n",
        "plt.plot(x, y, 'b--', linewidth=1, label='$\\sin(x)$') # label da linha seno.\n",
        "plt.plot(x, z, 'r-', linewidth=2, label='$\\cos(x)$')  # label da linha cosseno.\n",
        "# Título da figura.\n",
        "plt.title('Exemplo #4')\n",
        "# Dá um nome para o eixo x.\n",
        "plt.xlabel('x')\n",
        "# Dá um nome para o eixo y.\n",
        "plt.ylabel('y')\n",
        "# Habilita o grid.\n",
        "plt.grid()\n",
        "\n",
        "# Inclui a legenda na figura.\n",
        "plt.legend()\n",
        "\n",
        "# Mostra a figura.\n",
        "plt.show()"
      ]
    },
    {
      "cell_type": "markdown",
      "metadata": {
        "id": "So4EP5qDw2ke"
      },
      "source": [
        "#### Exemplo #5: Usando subplots.\n",
        "\n",
        "Podemos criar sub-figuras dentro de uma figura com a função `subplot`.\n",
        "\n",
        "**OBS**.: A chamada para a função `subplot` deve aparecer antes do uso da função `plot`."
      ]
    },
    {
      "cell_type": "code",
      "execution_count": null,
      "metadata": {
        "id": "NVwP-YVrw2ke",
        "outputId": "1a8155bf-24a6-4a07-c818-31cdb70e7e27"
      },
      "outputs": [
        {
          "data": {
            "image/png": "[encoded data removed]",
            "text/plain": [
              "<Figure size 1100x400 with 2 Axes>"
            ]
          },
          "metadata": {},
          "output_type": "display_data"
        }
      ],
      "source": [
        "import matplotlib.pyplot as plt\n",
        "import numpy as np\n",
        "\n",
        "# Gerando os dados a serem plotados.\n",
        "x = np.linspace(0, 10, 200)\n",
        "y = np.sin(x)\n",
        "z = np.cos(x)\n",
        "\n",
        "# Define um tamanho um pouco maior para a figura acomodar duas sub-figuras.\n",
        "plt.figure(figsize=(11, 4))\n",
        "\n",
        "# Divide a figura em 1 linha e 2 colunas e seleciona a sub-figura da esquerda.\n",
        "plt.subplot(1, 2, 1)\n",
        "\n",
        "# Plota a curva do seno.\n",
        "plt.plot(x, y, 'b--', linewidth=1, label='$\\sin(x)$') # label da linha seno.\n",
        "plt.title('Subplot #1')\n",
        "plt.grid()\n",
        "plt.xlabel('x')\n",
        "plt.ylabel('y')\n",
        "plt.legend()\n",
        "\n",
        "# Seleciona a sub-figura da direita.\n",
        "plt.subplot(1, 2, 2)\n",
        "\n",
        "# Plota a curva do cosseno.\n",
        "plt.plot(x, z, 'r-', linewidth=2, label='$\\cos(x)$')  # label da linha cosseno.\n",
        "plt.title('Subplot #2')\n",
        "plt.grid()\n",
        "plt.xlabel('x')\n",
        "plt.ylabel('y')\n",
        "plt.legend()\n",
        "\n",
        "# Salva a figura\n",
        "plt.savefig('exemplo_subplot.png')\n",
        "\n",
        "# Mostra a figura.\n",
        "plt.show()"
      ]
    },
    {
      "cell_type": "markdown",
      "metadata": {
        "id": "U9mUQw0Vw2ke"
      },
      "source": [
        "**OBS**.: Para mais informações sobre a função `subplot`, acessem: https://matplotlib.org/stable/api/_as_gen/matplotlib.pyplot.subplot.html"
      ]
    },
    {
      "cell_type": "markdown",
      "metadata": {
        "id": "_RRd7stpw2kf"
      },
      "source": [
        "#### Exemplo #6: Plotando histogramas.\n",
        "\n",
        "Para plotar histogramas, usamos a função `hist`."
      ]
    },
    {
      "cell_type": "code",
      "execution_count": null,
      "metadata": {
        "id": "ljLtP7UIw2kf",
        "outputId": "37184401-5176-47d8-a6c6-91c2c71eaa2e"
      },
      "outputs": [
        {
          "data": {
            "image/png": "[encoded data removed]",
            "text/plain": [
              "<Figure size 1400x500 with 3 Axes>"
            ]
          },
          "metadata": {},
          "output_type": "display_data"
        }
      ],
      "source": [
        "import matplotlib.pyplot as plt\n",
        "import numpy as np\n",
        "\n",
        "# Gera 100.000 valores retirados de uma distribuição normal.\n",
        "numPontos = 100000\n",
        "x = np.random.randn(numPontos)\n",
        "\n",
        "# Define um tamanho um pouco maior para a figura acomodar três sub-figuras.\n",
        "plt.figure(figsize=(14, 5))\n",
        "\n",
        "# Divide a figura em 1 linha e 3 colunas e seleciona a sub-figura mais a esquerda.\n",
        "plt.subplot(1, 3, 1)\n",
        "\n",
        "# O parâmetro 'bins' define o número de compartimentos de largura igual dentro do intervalo de valores (min(x) e max(x)).\n",
        "numBins = 100\n",
        "plt.hist(x, bins=numBins)\n",
        "plt.xlabel('x')\n",
        "plt.title('Histograma não-normalizado')\n",
        "\n",
        "# Seleciona a sub-figura do meio.\n",
        "plt.subplot(1, 3, 2)\n",
        "\n",
        "# O parâmetro 'density=True' aproxima a FDP (função densidade de probabilidade) da variável aleatória.\n",
        "plt.hist(x, bins=numBins, density=True)\n",
        "plt.title('Histograma normalizado (FDP)')\n",
        "plt.xlabel('x')\n",
        "\n",
        "# Seleciona a sub-figura mais a direita.\n",
        "plt.subplot(1, 3, 3)\n",
        "\n",
        "# O parâmetro 'cumulative=True' aproxima a FDC (função distribuição cumulativa) da variável aleatória.\n",
        "plt.hist(x, bins=numBins, density=True, cumulative=True)\n",
        "plt.title('Histograma cumulativo (FDC)')\n",
        "plt.xlabel('x')\n",
        "\n",
        "# Mostra a figura.\n",
        "plt.show()"
      ]
    },
    {
      "cell_type": "markdown",
      "metadata": {
        "id": "v55U-T66w2kg"
      },
      "source": [
        "**OBS**.: Para mais informações sobre a função `hist`, acessem: https://matplotlib.org/stable/api/_as_gen/matplotlib.pyplot.hist.html"
      ]
    },
    {
      "cell_type": "markdown",
      "metadata": {
        "id": "_gCDwQX4w2kh"
      },
      "source": [
        "#### Exemplo #7: Plotando um gráfico em forma de pizza (ou torta).\n",
        "\n",
        "Podemos plotar gráficos em forma de pizza com a função `pie()`.\n",
        "\n",
        "**OBS**.: As fatias são plotadas, por padrão, no sentido anti-horário a partir do eixo x. Isso pode ser alterado através do parâmetro `counterclock`."
      ]
    },
    {
      "cell_type": "code",
      "execution_count": null,
      "metadata": {
        "id": "0WaeE_Wpw2kh",
        "outputId": "2ca44a28-9ca9-46eb-8aab-525b7384dfa7"
      },
      "outputs": [
        {
          "data": {
            "image/png": "[encoded data removed]",
            "text/plain": [
              "<Figure size 500x500 with 1 Axes>"
            ]
          },
          "metadata": {},
          "output_type": "display_data"
        }
      ],
      "source": [
        "import matplotlib.pyplot as plt\n",
        "\n",
        "# Porcentagens do quanto de água usamos diariamente.\n",
        "labels = ['Chuveiro', 'Privada', 'Vazamentos', 'Outros', 'Lavagem', 'Torneira']\n",
        "valores = [16.8, 26.7, 13.7, 5.3, 21.7, 15.7]\n",
        "\n",
        "# Apenas \"explode\" a segunda fatia (ou seja, 'Privada')\n",
        "# O valor define o quanto será a fração usada pra distanciar a fatia.\n",
        "explode = (0, 0.15, 0, 0, 0, 0)\n",
        "\n",
        "# Altera o tamanho da figura.\n",
        "plt.figure(figsize=(5, 5))\n",
        "\n",
        "# Plota o gráfico em formato de pizza.\n",
        "# O parâmetro 'autopct' define a string de formatação usada para rotular as fatias com seu valor numérico.\n",
        "# O parâmetro 'shadow' desenha uma sombra abaixo do gráfico.\n",
        "plt.pie(valores, labels=labels, explode=explode, autopct='%1.1f%%', shadow=True)\n",
        "\n",
        "# Título da figura.\n",
        "plt.title('Exemplo #7 - Consumo de água')\n",
        "\n",
        "# Mostra a figura.\n",
        "plt.show()"
      ]
    },
    {
      "cell_type": "markdown",
      "metadata": {
        "id": "y6ygKEOWw2ki"
      },
      "source": [
        "Para mais informações sobre a função `pie`, acessem: https://matplotlib.org/stable/api/_as_gen/matplotlib.pyplot.pie.html"
      ]
    },
    {
      "cell_type": "markdown",
      "metadata": {
        "id": "3vGUWwBJw2ki"
      },
      "source": [
        "A biblioteca Matplotlib tem funções para gerar gráficos:\n",
        "\n",
        "+ 3D,\n",
        "+ em barra,\n",
        "+ de contorno,\n",
        "+ de dispersão,\n",
        "+ polares,\n",
        "+ entre outros.\n",
        "\n",
        "Para ver esses e vários outros exemplos de uso da biblioteca matplotlib, acesse o link abaixo: https://matplotlib.org/stable/gallery/index.html"
      ]
    },
    {
      "cell_type": "markdown",
      "metadata": {
        "id": "f4YEAmQfw2ki"
      },
      "source": [
        "### Tarefas\n",
        "\n",
        "1. <span style=\"color:blue\">**QUIZ - Matplotlib**</span>: respondam ao questionário sobre a biblioteca Matplotlib no MS teams, por favor.\n",
        "2. <span style=\"color:blue\">**Laboratório #7 - Matplotlib**</span>: cliquem em um dos links abaixo para accessar os exercícios do laboratório #7.\n",
        "\n",
        "[![Google Colab](https://badgen.net/badge/Launch/on%20Google%20Colab/blue?icon=terminal)](https://colab.research.google.com/github/zz4fap/python-programming/blob/master/labs/Laboratorio7_Matplotlib.ipynb)\n",
        "\n",
        "[![Binder](https://mybinder.org/badge_logo.svg)](https://mybinder.org/v2/gh/zz4fap/python-programming/master?filepath=labs%2FLaboratorio7_Matplotlib.ipynb)"
      ]
    },
    {
      "cell_type": "markdown",
      "metadata": {
        "id": "nVOQTz4Vw2kj"
      },
      "source": [
        "## Manipulação e análise exploratória de dados com Pandas\n",
        "\n",
        "Pandas é uma biblioteca que fornece **estruturas de dados e funções para manipulação e análise de dados**.\n",
        "\n",
        "A estrutura de dados principal do pandas é a classe **DataFrame**.\n",
        "\n",
        "O **DataFrame** pode ser entendido como uma tabela, com dados, linhas e colunas.\n",
        "\n",
        "As colunas possuem nomes (**índice da coluna**) e as linhas podem, opcionalmente, ter nomes (**índices textuais**) ou podem, **por padrão**, ser numeradas (índice numérico).\n",
        "\n",
        "Objetos do tipo **DataFrame** são mutáveis e heterogêneos.\n",
        "\n",
        "#### Exemplos\n",
        "\n",
        "Para criar um objeto da classe **DataFrame**, podemos usar uma lista de dicionários, onde a chave é o nome da coluna e o valor é o valor de uma linda do **DataFrame**.\n",
        "\n",
        "**OBS**.: Não se esqueçam de importar a biblioteca Pandas."
      ]
    },
    {
      "cell_type": "code",
      "execution_count": null,
      "metadata": {
        "id": "6045rWpKw2kk",
        "outputId": "905aa07f-8821-4e7f-a852-967944c274ac"
      },
      "outputs": [
        {
          "data": {
            "text/html": [
              "<div>\n",
              "<style scoped>\n",
              "    .dataframe tbody tr th:only-of-type {\n",
              "        vertical-align: middle;\n",
              "    }\n",
              "\n",
              "    .dataframe tbody tr th {\n",
              "        vertical-align: top;\n",
              "    }\n",
              "\n",
              "    .dataframe thead th {\n",
              "        text-align: right;\n",
              "    }\n",
              "</style>\n",
              "<table border=\"1\" class=\"dataframe\">\n",
              "  <thead>\n",
              "    <tr style=\"text-align: right;\">\n",
              "      <th></th>\n",
              "      <th>Calorias</th>\n",
              "      <th>Duração</th>\n",
              "      <th>Distância</th>\n",
              "    </tr>\n",
              "  </thead>\n",
              "  <tbody>\n",
              "    <tr>\n",
              "      <th>0</th>\n",
              "      <td>200</td>\n",
              "      <td>30</td>\n",
              "      <td>1000</td>\n",
              "    </tr>\n",
              "    <tr>\n",
              "      <th>1</th>\n",
              "      <td>300</td>\n",
              "      <td>40</td>\n",
              "      <td>1500</td>\n",
              "    </tr>\n",
              "    <tr>\n",
              "      <th>2</th>\n",
              "      <td>350</td>\n",
              "      <td>50</td>\n",
              "      <td>2500</td>\n",
              "    </tr>\n",
              "  </tbody>\n",
              "</table>\n",
              "</div>"
            ],
            "text/plain": [
              "   Calorias  Duração  Distância\n",
              "0       200       30       1000\n",
              "1       300       40       1500\n",
              "2       350       50       2500"
            ]
          },
          "execution_count": 2,
          "metadata": {},
          "output_type": "execute_result"
        }
      ],
      "source": [
        "import pandas as pd\n",
        "\n",
        "data = [ {'Calorias': 200, 'Duração': 30, 'Distância': 1000},\n",
        "         {'Calorias': 300, 'Duração': 40, 'Distância': 1500},\n",
        "         {'Calorias': 350, 'Duração': 50, 'Distância': 2500}\n",
        "       ]\n",
        "\n",
        "df = pd.DataFrame(data)\n",
        "\n",
        "df"
      ]
    },
    {
      "cell_type": "markdown",
      "metadata": {
        "id": "4ROcqNmZw2km"
      },
      "source": [
        "Outra forma de criar um objeto da classe **DataFrame** é usar um dicionário com os nomes das colunas como chave e listas com os valores das colunas."
      ]
    },
    {
      "cell_type": "code",
      "execution_count": null,
      "metadata": {
        "id": "9NrN8V7Zw2ko",
        "outputId": "bb949673-abf2-4ea6-b86e-56de08fa4d12"
      },
      "outputs": [
        {
          "data": {
            "text/html": [
              "<div>\n",
              "<style scoped>\n",
              "    .dataframe tbody tr th:only-of-type {\n",
              "        vertical-align: middle;\n",
              "    }\n",
              "\n",
              "    .dataframe tbody tr th {\n",
              "        vertical-align: top;\n",
              "    }\n",
              "\n",
              "    .dataframe thead th {\n",
              "        text-align: right;\n",
              "    }\n",
              "</style>\n",
              "<table border=\"1\" class=\"dataframe\">\n",
              "  <thead>\n",
              "    <tr style=\"text-align: right;\">\n",
              "      <th></th>\n",
              "      <th>Calorias</th>\n",
              "      <th>Duração</th>\n",
              "      <th>Distância</th>\n",
              "    </tr>\n",
              "  </thead>\n",
              "  <tbody>\n",
              "    <tr>\n",
              "      <th>0</th>\n",
              "      <td>200</td>\n",
              "      <td>30</td>\n",
              "      <td>1000</td>\n",
              "    </tr>\n",
              "    <tr>\n",
              "      <th>1</th>\n",
              "      <td>300</td>\n",
              "      <td>40</td>\n",
              "      <td>1500</td>\n",
              "    </tr>\n",
              "    <tr>\n",
              "      <th>2</th>\n",
              "      <td>350</td>\n",
              "      <td>50</td>\n",
              "      <td>2500</td>\n",
              "    </tr>\n",
              "  </tbody>\n",
              "</table>\n",
              "</div>"
            ],
            "text/plain": [
              "   Calorias  Duração  Distância\n",
              "0       200       30       1000\n",
              "1       300       40       1500\n",
              "2       350       50       2500"
            ]
          },
          "execution_count": 3,
          "metadata": {},
          "output_type": "execute_result"
        }
      ],
      "source": [
        "data = {'Calorias' : [200, 300, 350], 'Duração' : [30, 40, 50], 'Distância' : [1000, 1500, 2500]}\n",
        "\n",
        "df = pd.DataFrame(data)\n",
        "\n",
        "df"
      ]
    },
    {
      "cell_type": "markdown",
      "metadata": {
        "id": "_UmGt3-Uw2kq"
      },
      "source": [
        "Também podemos criar um **DataFrame** através de uma **lista de listas** passando os nomes das colunas através do parâmetro `columns`.\n",
        "\n",
        "**OBS**.: Cada lista interna será uma linha do **DataFrame**."
      ]
    },
    {
      "cell_type": "code",
      "execution_count": null,
      "metadata": {
        "id": "_EEgS_qqw2kr",
        "outputId": "8b3d4bae-4731-425e-c14d-717e578430e8"
      },
      "outputs": [
        {
          "data": {
            "text/html": [
              "<div>\n",
              "<style scoped>\n",
              "    .dataframe tbody tr th:only-of-type {\n",
              "        vertical-align: middle;\n",
              "    }\n",
              "\n",
              "    .dataframe tbody tr th {\n",
              "        vertical-align: top;\n",
              "    }\n",
              "\n",
              "    .dataframe thead th {\n",
              "        text-align: right;\n",
              "    }\n",
              "</style>\n",
              "<table border=\"1\" class=\"dataframe\">\n",
              "  <thead>\n",
              "    <tr style=\"text-align: right;\">\n",
              "      <th></th>\n",
              "      <th>Calorias</th>\n",
              "      <th>Duração</th>\n",
              "      <th>Distância</th>\n",
              "    </tr>\n",
              "  </thead>\n",
              "  <tbody>\n",
              "    <tr>\n",
              "      <th>0</th>\n",
              "      <td>200</td>\n",
              "      <td>30</td>\n",
              "      <td>1000</td>\n",
              "    </tr>\n",
              "    <tr>\n",
              "      <th>1</th>\n",
              "      <td>300</td>\n",
              "      <td>40</td>\n",
              "      <td>1500</td>\n",
              "    </tr>\n",
              "    <tr>\n",
              "      <th>2</th>\n",
              "      <td>350</td>\n",
              "      <td>50</td>\n",
              "      <td>2500</td>\n",
              "    </tr>\n",
              "  </tbody>\n",
              "</table>\n",
              "</div>"
            ],
            "text/plain": [
              "   Calorias  Duração  Distância\n",
              "0       200       30       1000\n",
              "1       300       40       1500\n",
              "2       350       50       2500"
            ]
          },
          "execution_count": 5,
          "metadata": {},
          "output_type": "execute_result"
        }
      ],
      "source": [
        "data = [\n",
        "    [200, 30, 1000],\n",
        "    [300, 40, 1500],\n",
        "    [350, 50,  2500]\n",
        "]\n",
        "\n",
        "df = pd.DataFrame(data, columns = ['Calorias', 'Duração', 'Distância'])\n",
        "\n",
        "df"
      ]
    },
    {
      "cell_type": "markdown",
      "metadata": {
        "id": "Vsc1umZxw2ks"
      },
      "source": [
        "Opcionalmente, as linhas podem ter nomes (**índices textuais**).\n",
        "\n",
        "Os nomes das linhas são passados como uma **lista** para o parâmetro `index` de **DataFrame**."
      ]
    },
    {
      "cell_type": "code",
      "execution_count": null,
      "metadata": {
        "id": "Jo3d2x2jw2ks",
        "outputId": "ed165c0e-bc6b-444b-e4f0-98de3d1ba2d7"
      },
      "outputs": [
        {
          "data": {
            "text/html": [
              "<div>\n",
              "<style scoped>\n",
              "    .dataframe tbody tr th:only-of-type {\n",
              "        vertical-align: middle;\n",
              "    }\n",
              "\n",
              "    .dataframe tbody tr th {\n",
              "        vertical-align: top;\n",
              "    }\n",
              "\n",
              "    .dataframe thead th {\n",
              "        text-align: right;\n",
              "    }\n",
              "</style>\n",
              "<table border=\"1\" class=\"dataframe\">\n",
              "  <thead>\n",
              "    <tr style=\"text-align: right;\">\n",
              "      <th></th>\n",
              "      <th>Calorias</th>\n",
              "      <th>Duração</th>\n",
              "      <th>Distância</th>\n",
              "    </tr>\n",
              "  </thead>\n",
              "  <tbody>\n",
              "    <tr>\n",
              "      <th>Dia 1</th>\n",
              "      <td>200</td>\n",
              "      <td>30</td>\n",
              "      <td>1000</td>\n",
              "    </tr>\n",
              "    <tr>\n",
              "      <th>Dia 2</th>\n",
              "      <td>300</td>\n",
              "      <td>40</td>\n",
              "      <td>1500</td>\n",
              "    </tr>\n",
              "    <tr>\n",
              "      <th>Dia 3</th>\n",
              "      <td>350</td>\n",
              "      <td>50</td>\n",
              "      <td>2500</td>\n",
              "    </tr>\n",
              "  </tbody>\n",
              "</table>\n",
              "</div>"
            ],
            "text/plain": [
              "       Calorias  Duração  Distância\n",
              "Dia 1       200       30       1000\n",
              "Dia 2       300       40       1500\n",
              "Dia 3       350       50       2500"
            ]
          },
          "execution_count": 6,
          "metadata": {},
          "output_type": "execute_result"
        }
      ],
      "source": [
        "data = {'Calorias' : [200, 300, 350], 'Duração' : [30, 40, 50], 'Distância' : [1000, 1500, 2500]}\n",
        "\n",
        "df = pd.DataFrame(data, index = [\"Dia 1\", \"Dia 2\", \"Dia 3\"])\n",
        "\n",
        "df"
      ]
    },
    {
      "cell_type": "markdown",
      "metadata": {
        "id": "gRxDP0jlw2kt"
      },
      "source": [
        "Para criarmos um **DataFrame** vazio, fazemos"
      ]
    },
    {
      "cell_type": "code",
      "execution_count": null,
      "metadata": {
        "id": "oWNUE9yiw2ku",
        "outputId": "4454ea70-403c-4cba-8fb2-a3dc93385adf"
      },
      "outputs": [
        {
          "data": {
            "text/html": [
              "<div>\n",
              "<style scoped>\n",
              "    .dataframe tbody tr th:only-of-type {\n",
              "        vertical-align: middle;\n",
              "    }\n",
              "\n",
              "    .dataframe tbody tr th {\n",
              "        vertical-align: top;\n",
              "    }\n",
              "\n",
              "    .dataframe thead th {\n",
              "        text-align: right;\n",
              "    }\n",
              "</style>\n",
              "<table border=\"1\" class=\"dataframe\">\n",
              "  <thead>\n",
              "    <tr style=\"text-align: right;\">\n",
              "      <th></th>\n",
              "    </tr>\n",
              "  </thead>\n",
              "  <tbody>\n",
              "  </tbody>\n",
              "</table>\n",
              "</div>"
            ],
            "text/plain": [
              "Empty DataFrame\n",
              "Columns: []\n",
              "Index: []"
            ]
          },
          "execution_count": 7,
          "metadata": {},
          "output_type": "execute_result"
        }
      ],
      "source": [
        "df = pd.DataFrame()\n",
        "\n",
        "df"
      ]
    },
    {
      "cell_type": "markdown",
      "metadata": {
        "id": "_1OvKaSow2kv"
      },
      "source": [
        "**Acessando colunas do DataFrame**\n",
        "\n",
        "Para acessar as **colunas** do objeto do tipo **DataFrame** usamos os nomes das colunas como índices."
      ]
    },
    {
      "cell_type": "code",
      "execution_count": null,
      "metadata": {
        "id": "KTxbTcNww2kv",
        "outputId": "f6fbc638-d349-4437-8742-189e356db7ae"
      },
      "outputs": [
        {
          "name": "stdout",
          "output_type": "stream",
          "text": [
            "Conteúdo de df:\n",
            "       Calorias  Duração  Distância\n",
            "Dia 1       200       30       1000\n",
            "Dia 2       300       40       1500\n",
            "Dia 3       350       50       2500\n",
            "\n",
            "\n",
            "Conteúdo da coluna 'Calorias':\n",
            "Dia 1    200\n",
            "Dia 2    300\n",
            "Dia 3    350\n",
            "Name: Calorias, dtype: int64\n"
          ]
        }
      ],
      "source": [
        "data = {'Calorias' : [200, 300, 350], 'Duração' : [30, 40, 50], 'Distância' : [1000, 1500, 2500]}\n",
        "\n",
        "df = pd.DataFrame(data, index = [\"Dia 1\", \"Dia 2\", \"Dia 3\"])\n",
        "\n",
        "print('Conteúdo de df:')\n",
        "print(df)\n",
        "\n",
        "# Acessando os elementos da coluna 'Calorias'.\n",
        "calorias = df['Calorias']\n",
        "\n",
        "print('\\n\\nConteúdo da coluna \\'Calorias\\':')\n",
        "print(calorias)"
      ]
    },
    {
      "cell_type": "markdown",
      "metadata": {
        "id": "5nYEBmHxw2kw"
      },
      "source": [
        "Podemos criar um **sub-DataFrame** selecionando algumas colunas do **DataFrame** original.\n",
        "\n",
        "Para isso, **passamos uma lista** com os nomes das colunas desejadas como índice para o objeto do tipo **DataFrame** original."
      ]
    },
    {
      "cell_type": "code",
      "execution_count": null,
      "metadata": {
        "id": "WAO-UR-pw2kw",
        "outputId": "4cf76f8a-c963-4a9d-ea1c-8ee1fe9ca078"
      },
      "outputs": [
        {
          "name": "stdout",
          "output_type": "stream",
          "text": [
            "Conteúdo de df:\n",
            "       Calorias  Duração  Distância\n",
            "Dia 1       200       30       1000\n",
            "Dia 2       300       40       1500\n",
            "Dia 3       350       50       2500\n",
            "\n",
            "\n",
            "Conteúdo das colunas 'Calorias' e 'Duração':\n",
            "       Calorias  Duração\n",
            "Dia 1       200       30\n",
            "Dia 2       300       40\n",
            "Dia 3       350       50\n"
          ]
        }
      ],
      "source": [
        "data = {'Calorias' : [200, 300, 350], 'Duração' : [30, 40, 50], 'Distância' : [1000, 1500, 2500]}\n",
        "\n",
        "df = pd.DataFrame(data, index = [\"Dia 1\", \"Dia 2\", \"Dia 3\"])\n",
        "\n",
        "print('Conteúdo de df:')\n",
        "print(df)\n",
        "\n",
        "# Acessando os elementos das colunas 'Calorias' e 'Duração'.\n",
        "calorias = df[ ['Calorias', 'Duração'] ]\n",
        "\n",
        "print('\\n\\nConteúdo das colunas \\'Calorias\\' e \\'Duração\\':')\n",
        "print(calorias)"
      ]
    },
    {
      "cell_type": "markdown",
      "metadata": {
        "id": "BbH2Oyi5w2kx"
      },
      "source": [
        "**Adicionando uma nova coluna a um DataFrame já existente**\n",
        "\n",
        "Criamos inicialmente um objeto do tipo **DataFrame**."
      ]
    },
    {
      "cell_type": "code",
      "execution_count": null,
      "metadata": {
        "id": "h4o3l905w2kx",
        "outputId": "c267d251-9b65-4c7d-b546-a803068810f8"
      },
      "outputs": [
        {
          "data": {
            "text/html": [
              "<div>\n",
              "<style scoped>\n",
              "    .dataframe tbody tr th:only-of-type {\n",
              "        vertical-align: middle;\n",
              "    }\n",
              "\n",
              "    .dataframe tbody tr th {\n",
              "        vertical-align: top;\n",
              "    }\n",
              "\n",
              "    .dataframe thead th {\n",
              "        text-align: right;\n",
              "    }\n",
              "</style>\n",
              "<table border=\"1\" class=\"dataframe\">\n",
              "  <thead>\n",
              "    <tr style=\"text-align: right;\">\n",
              "      <th></th>\n",
              "      <th>Calorias</th>\n",
              "      <th>Duração</th>\n",
              "      <th>Distância</th>\n",
              "    </tr>\n",
              "  </thead>\n",
              "  <tbody>\n",
              "    <tr>\n",
              "      <th>0</th>\n",
              "      <td>200</td>\n",
              "      <td>30</td>\n",
              "      <td>1000</td>\n",
              "    </tr>\n",
              "    <tr>\n",
              "      <th>1</th>\n",
              "      <td>300</td>\n",
              "      <td>40</td>\n",
              "      <td>1500</td>\n",
              "    </tr>\n",
              "    <tr>\n",
              "      <th>2</th>\n",
              "      <td>350</td>\n",
              "      <td>50</td>\n",
              "      <td>2500</td>\n",
              "    </tr>\n",
              "  </tbody>\n",
              "</table>\n",
              "</div>"
            ],
            "text/plain": [
              "   Calorias  Duração  Distância\n",
              "0       200       30       1000\n",
              "1       300       40       1500\n",
              "2       350       50       2500"
            ]
          },
          "execution_count": 104,
          "metadata": {},
          "output_type": "execute_result"
        }
      ],
      "source": [
        "# Criando um DataFrame.\n",
        "data = {'Calorias' : [200, 300, 350], 'Duração' : [30, 40, 50], 'Distância' : [1000, 1500, 2500]}\n",
        "\n",
        "df = pd.DataFrame(data)\n",
        "\n",
        "df"
      ]
    },
    {
      "cell_type": "markdown",
      "metadata": {
        "id": "W57-mRC0w2ky"
      },
      "source": [
        "Na sequência, adicionamos uma nova coluna passando para o objeto do tipo **DataFrame** uma **lista com os valores da nova coluna** e **indexando o DataFrame com o nome desta nova coluna**."
      ]
    },
    {
      "cell_type": "code",
      "execution_count": null,
      "metadata": {
        "id": "TTIX1KZvw2ky",
        "outputId": "47274eec-a26c-46a3-e97b-8aade6f34c09"
      },
      "outputs": [
        {
          "data": {
            "text/html": [
              "<div>\n",
              "<style scoped>\n",
              "    .dataframe tbody tr th:only-of-type {\n",
              "        vertical-align: middle;\n",
              "    }\n",
              "\n",
              "    .dataframe tbody tr th {\n",
              "        vertical-align: top;\n",
              "    }\n",
              "\n",
              "    .dataframe thead th {\n",
              "        text-align: right;\n",
              "    }\n",
              "</style>\n",
              "<table border=\"1\" class=\"dataframe\">\n",
              "  <thead>\n",
              "    <tr style=\"text-align: right;\">\n",
              "      <th></th>\n",
              "      <th>Calorias</th>\n",
              "      <th>Duração</th>\n",
              "      <th>Distância</th>\n",
              "      <th>Data</th>\n",
              "    </tr>\n",
              "  </thead>\n",
              "  <tbody>\n",
              "    <tr>\n",
              "      <th>Dia 1</th>\n",
              "      <td>200</td>\n",
              "      <td>30</td>\n",
              "      <td>1000</td>\n",
              "      <td>01/06/2022</td>\n",
              "    </tr>\n",
              "    <tr>\n",
              "      <th>Dia 2</th>\n",
              "      <td>300</td>\n",
              "      <td>40</td>\n",
              "      <td>1500</td>\n",
              "      <td>02/06/2022</td>\n",
              "    </tr>\n",
              "    <tr>\n",
              "      <th>Dia 3</th>\n",
              "      <td>350</td>\n",
              "      <td>50</td>\n",
              "      <td>2500</td>\n",
              "      <td>03/06/2022</td>\n",
              "    </tr>\n",
              "  </tbody>\n",
              "</table>\n",
              "</div>"
            ],
            "text/plain": [
              "       Calorias  Duração  Distância        Data\n",
              "Dia 1       200       30       1000  01/06/2022\n",
              "Dia 2       300       40       1500  02/06/2022\n",
              "Dia 3       350       50       2500  03/06/2022"
            ]
          },
          "execution_count": 11,
          "metadata": {},
          "output_type": "execute_result"
        }
      ],
      "source": [
        "# Adicionando uma nova coluna.\n",
        "df['Data'] = ['01/06/2022', '02/06/2022', '03/06/2022']\n",
        "\n",
        "df"
      ]
    },
    {
      "cell_type": "markdown",
      "metadata": {
        "id": "1pAp5lRMw2k1"
      },
      "source": [
        "**Selecionando linhas**\n",
        "\n",
        "As linhas de um **DataFrame** podem ser selecionadas passando-se o **índice numérico** da linha para o atributo `iloc`.\n",
        "\n",
        "Primeiro, criamos um **DataFrame**."
      ]
    },
    {
      "cell_type": "code",
      "execution_count": null,
      "metadata": {
        "id": "0IDGbA9Ew2k2",
        "outputId": "df3729dd-c3d0-46e4-dc65-4658d437c236"
      },
      "outputs": [
        {
          "data": {
            "text/html": [
              "<div>\n",
              "<style scoped>\n",
              "    .dataframe tbody tr th:only-of-type {\n",
              "        vertical-align: middle;\n",
              "    }\n",
              "\n",
              "    .dataframe tbody tr th {\n",
              "        vertical-align: top;\n",
              "    }\n",
              "\n",
              "    .dataframe thead th {\n",
              "        text-align: right;\n",
              "    }\n",
              "</style>\n",
              "<table border=\"1\" class=\"dataframe\">\n",
              "  <thead>\n",
              "    <tr style=\"text-align: right;\">\n",
              "      <th></th>\n",
              "      <th>Calorias</th>\n",
              "      <th>Duração</th>\n",
              "      <th>Distância</th>\n",
              "    </tr>\n",
              "  </thead>\n",
              "  <tbody>\n",
              "    <tr>\n",
              "      <th>Dia 1</th>\n",
              "      <td>200</td>\n",
              "      <td>30</td>\n",
              "      <td>1000</td>\n",
              "    </tr>\n",
              "    <tr>\n",
              "      <th>Dia 2</th>\n",
              "      <td>300</td>\n",
              "      <td>40</td>\n",
              "      <td>1500</td>\n",
              "    </tr>\n",
              "    <tr>\n",
              "      <th>Dia 3</th>\n",
              "      <td>350</td>\n",
              "      <td>50</td>\n",
              "      <td>2500</td>\n",
              "    </tr>\n",
              "  </tbody>\n",
              "</table>\n",
              "</div>"
            ],
            "text/plain": [
              "       Calorias  Duração  Distância\n",
              "Dia 1       200       30       1000\n",
              "Dia 2       300       40       1500\n",
              "Dia 3       350       50       2500"
            ]
          },
          "execution_count": 12,
          "metadata": {},
          "output_type": "execute_result"
        }
      ],
      "source": [
        "# Criando um DataFrame.\n",
        "data = {'Calorias' : [200, 300, 350], 'Duração' : [30, 40, 50], 'Distância' : [1000, 1500, 2500]}\n",
        "\n",
        "df = pd.DataFrame(data, index = [\"Dia 1\", \"Dia 2\", \"Dia 3\"])\n",
        "\n",
        "df"
      ]
    },
    {
      "cell_type": "markdown",
      "metadata": {
        "id": "kwgXWoaRw2k2"
      },
      "source": [
        "Agora, acessamos a linha com o atributo `iloc` passando o **índice numérico** da linha."
      ]
    },
    {
      "cell_type": "code",
      "execution_count": null,
      "metadata": {
        "id": "9jPH9hLIw2k2",
        "outputId": "d1fb1730-c994-43e9-a09c-04ec1bd374f0"
      },
      "outputs": [
        {
          "name": "stdout",
          "output_type": "stream",
          "text": [
            "Tipo do objeto retornado: <class 'pandas.core.series.Series'>\n",
            "\n",
            "Elementos da linha 0:\n",
            "Calorias      200\n",
            "Duração        30\n",
            "Distância    1000\n",
            "Name: Dia 1, dtype: int64\n"
          ]
        }
      ],
      "source": [
        "# Obtendo uma linha do DataFrame.\n",
        "linha = df.iloc[0]\n",
        "\n",
        "print('Tipo do objeto retornado:', type(linha))\n",
        "print('')\n",
        "\n",
        "print('Elementos da linha 0:')\n",
        "print(linha)"
      ]
    },
    {
      "cell_type": "markdown",
      "metadata": {
        "id": "3xPZ6gRhw2k4"
      },
      "source": [
        "Para se selecionar uma linha do **DataFrame** com o **índice textual** dela, usa-se o atributo `loc`."
      ]
    },
    {
      "cell_type": "code",
      "execution_count": null,
      "metadata": {
        "id": "Bbjyqeupw2k4",
        "outputId": "261a5ef3-7fdd-45b0-e08d-ec1502d3f326"
      },
      "outputs": [
        {
          "name": "stdout",
          "output_type": "stream",
          "text": [
            "Tipo do objeto retornado: <class 'pandas.core.series.Series'>\n",
            "\n",
            "Elementos da linha 0:\n",
            "Calorias      200\n",
            "Duração        30\n",
            "Distância    1000\n",
            "Name: Dia 1, dtype: int64\n"
          ]
        }
      ],
      "source": [
        "# Obtendo uma linha do DataFrame.\n",
        "linha = df.loc['Dia 1']\n",
        "\n",
        "print('Tipo do objeto retornado:', type(linha))\n",
        "print('')\n",
        "\n",
        "print('Elementos da linha 0:')\n",
        "print(linha)"
      ]
    },
    {
      "cell_type": "markdown",
      "metadata": {
        "id": "A2JhrJmiw2k5"
      },
      "source": [
        "**Fatiando linhas**\n",
        "\n",
        "Várias linhas podem ser selecionadas usando o operador `:`.\n",
        "\n",
        "No exemplo abaixo, selecionamos as linhas de índices 1 a 2 (lembrem-se que o limite superior do intervalo não é fechado)."
      ]
    },
    {
      "cell_type": "code",
      "execution_count": null,
      "metadata": {
        "id": "c4R6he_Ow2k7",
        "outputId": "465f470f-6e4c-40e4-a287-d314511ce015"
      },
      "outputs": [
        {
          "name": "stdout",
          "output_type": "stream",
          "text": [
            "       Calorias  Duração  Distância\n",
            "Dia 2       300       40       1500\n",
            "Dia 3       350       50       2500\n"
          ]
        }
      ],
      "source": [
        "fatia = df[1:3]\n",
        "\n",
        "print(fatia)"
      ]
    },
    {
      "cell_type": "markdown",
      "metadata": {
        "id": "kOEPJB81w2k7"
      },
      "source": [
        "**Adição de linhas**\n",
        "\n",
        "Podemos adicionar novas linhas a um **DataFrame** usando a função `append`.\n",
        "\n",
        "**OBS**.: A função `append` anexa as linhas **ao final** do **DataFrame**.\n",
        "\n",
        "Inicialmente, criamos um **DataFrame**."
      ]
    },
    {
      "cell_type": "code",
      "execution_count": null,
      "metadata": {
        "id": "hhli52d3w2k8",
        "outputId": "7f6326ef-04e1-44c7-d424-5566c3848fe2"
      },
      "outputs": [
        {
          "data": {
            "text/html": [
              "<div>\n",
              "<style scoped>\n",
              "    .dataframe tbody tr th:only-of-type {\n",
              "        vertical-align: middle;\n",
              "    }\n",
              "\n",
              "    .dataframe tbody tr th {\n",
              "        vertical-align: top;\n",
              "    }\n",
              "\n",
              "    .dataframe thead th {\n",
              "        text-align: right;\n",
              "    }\n",
              "</style>\n",
              "<table border=\"1\" class=\"dataframe\">\n",
              "  <thead>\n",
              "    <tr style=\"text-align: right;\">\n",
              "      <th></th>\n",
              "      <th>Calorias</th>\n",
              "      <th>Duração</th>\n",
              "      <th>Distância</th>\n",
              "    </tr>\n",
              "  </thead>\n",
              "  <tbody>\n",
              "    <tr>\n",
              "      <th>0</th>\n",
              "      <td>200</td>\n",
              "      <td>30</td>\n",
              "      <td>1000</td>\n",
              "    </tr>\n",
              "    <tr>\n",
              "      <th>1</th>\n",
              "      <td>300</td>\n",
              "      <td>40</td>\n",
              "      <td>1500</td>\n",
              "    </tr>\n",
              "  </tbody>\n",
              "</table>\n",
              "</div>"
            ],
            "text/plain": [
              "   Calorias  Duração  Distância\n",
              "0       200       30       1000\n",
              "1       300       40       1500"
            ]
          },
          "execution_count": 46,
          "metadata": {},
          "output_type": "execute_result"
        }
      ],
      "source": [
        "# Criando um DataFrame 1.\n",
        "data = {'Calorias' : [200, 300], 'Duração' : [30, 40], 'Distância' : [1000, 1500]}\n",
        "\n",
        "df1 = pd.DataFrame(data)\n",
        "\n",
        "df1"
      ]
    },
    {
      "cell_type": "markdown",
      "metadata": {
        "id": "ogrwRatRw2k8"
      },
      "source": [
        "Em seguida, criamos uma linha através da definição de um dicionário.\n",
        "\n",
        "\n",
        "**OBS**.: O parâmetro `ignore_index` igual a `True` é necesário para não reinicializar a indexação das linhas."
      ]
    },
    {
      "cell_type": "code",
      "execution_count": null,
      "metadata": {
        "id": "2mlIh5_6w2k8",
        "outputId": "2c5ac8f9-f723-44ae-c75c-74ae70b8d7f8"
      },
      "outputs": [
        {
          "name": "stderr",
          "output_type": "stream",
          "text": [
            "C:\\Users\\felipe.figueiredo\\AppData\\Local\\Temp\\ipykernel_25784\\3456871444.py:4: FutureWarning: The frame.append method is deprecated and will be removed from pandas in a future version. Use pandas.concat instead.\n",
            "  df1 = df1.append(data, ignore_index=True)\n"
          ]
        },
        {
          "data": {
            "text/html": [
              "<div>\n",
              "<style scoped>\n",
              "    .dataframe tbody tr th:only-of-type {\n",
              "        vertical-align: middle;\n",
              "    }\n",
              "\n",
              "    .dataframe tbody tr th {\n",
              "        vertical-align: top;\n",
              "    }\n",
              "\n",
              "    .dataframe thead th {\n",
              "        text-align: right;\n",
              "    }\n",
              "</style>\n",
              "<table border=\"1\" class=\"dataframe\">\n",
              "  <thead>\n",
              "    <tr style=\"text-align: right;\">\n",
              "      <th></th>\n",
              "      <th>Calorias</th>\n",
              "      <th>Duração</th>\n",
              "      <th>Distância</th>\n",
              "    </tr>\n",
              "  </thead>\n",
              "  <tbody>\n",
              "    <tr>\n",
              "      <th>0</th>\n",
              "      <td>200</td>\n",
              "      <td>30</td>\n",
              "      <td>1000</td>\n",
              "    </tr>\n",
              "    <tr>\n",
              "      <th>1</th>\n",
              "      <td>300</td>\n",
              "      <td>40</td>\n",
              "      <td>1500</td>\n",
              "    </tr>\n",
              "    <tr>\n",
              "      <th>2</th>\n",
              "      <td>350</td>\n",
              "      <td>50</td>\n",
              "      <td>2500</td>\n",
              "    </tr>\n",
              "  </tbody>\n",
              "</table>\n",
              "</div>"
            ],
            "text/plain": [
              "   Calorias  Duração  Distância\n",
              "0       200       30       1000\n",
              "1       300       40       1500\n",
              "2       350       50       2500"
            ]
          },
          "execution_count": 47,
          "metadata": {},
          "output_type": "execute_result"
        }
      ],
      "source": [
        "# Criando um DataFrame 2.\n",
        "data = {'Calorias' : 350, 'Duração' : 50, 'Distância' : 2500}\n",
        "\n",
        "df1 = df1.append(data, ignore_index=True)\n",
        "\n",
        "df1"
      ]
    },
    {
      "cell_type": "markdown",
      "metadata": {
        "id": "uF4QthGsw2k9"
      },
      "source": [
        "Podemos concatenar várias linhas através da definição de uma lista de dicionários, onde cada decionário define uma nova linha."
      ]
    },
    {
      "cell_type": "code",
      "execution_count": null,
      "metadata": {
        "id": "MbHAvVXTw2k9",
        "outputId": "877b0fe3-8db2-4216-a61f-755c931981e6"
      },
      "outputs": [
        {
          "name": "stderr",
          "output_type": "stream",
          "text": [
            "C:\\Users\\felipe.figueiredo\\AppData\\Local\\Temp\\ipykernel_25784\\2573710992.py:7: FutureWarning: The frame.append method is deprecated and will be removed from pandas in a future version. Use pandas.concat instead.\n",
            "  df1 = df1.append(data, ignore_index=True)\n"
          ]
        },
        {
          "data": {
            "text/html": [
              "<div>\n",
              "<style scoped>\n",
              "    .dataframe tbody tr th:only-of-type {\n",
              "        vertical-align: middle;\n",
              "    }\n",
              "\n",
              "    .dataframe tbody tr th {\n",
              "        vertical-align: top;\n",
              "    }\n",
              "\n",
              "    .dataframe thead th {\n",
              "        text-align: right;\n",
              "    }\n",
              "</style>\n",
              "<table border=\"1\" class=\"dataframe\">\n",
              "  <thead>\n",
              "    <tr style=\"text-align: right;\">\n",
              "      <th></th>\n",
              "      <th>Calorias</th>\n",
              "      <th>Duração</th>\n",
              "      <th>Distância</th>\n",
              "    </tr>\n",
              "  </thead>\n",
              "  <tbody>\n",
              "    <tr>\n",
              "      <th>0</th>\n",
              "      <td>200</td>\n",
              "      <td>30</td>\n",
              "      <td>1000</td>\n",
              "    </tr>\n",
              "    <tr>\n",
              "      <th>1</th>\n",
              "      <td>300</td>\n",
              "      <td>40</td>\n",
              "      <td>1500</td>\n",
              "    </tr>\n",
              "    <tr>\n",
              "      <th>2</th>\n",
              "      <td>350</td>\n",
              "      <td>50</td>\n",
              "      <td>2500</td>\n",
              "    </tr>\n",
              "    <tr>\n",
              "      <th>3</th>\n",
              "      <td>567</td>\n",
              "      <td>33</td>\n",
              "      <td>100</td>\n",
              "    </tr>\n",
              "    <tr>\n",
              "      <th>4</th>\n",
              "      <td>124</td>\n",
              "      <td>56</td>\n",
              "      <td>2300</td>\n",
              "    </tr>\n",
              "    <tr>\n",
              "      <th>5</th>\n",
              "      <td>222</td>\n",
              "      <td>66</td>\n",
              "      <td>510</td>\n",
              "    </tr>\n",
              "  </tbody>\n",
              "</table>\n",
              "</div>"
            ],
            "text/plain": [
              "   Calorias  Duração  Distância\n",
              "0       200       30       1000\n",
              "1       300       40       1500\n",
              "2       350       50       2500\n",
              "3       567       33        100\n",
              "4       124       56       2300\n",
              "5       222       66        510"
            ]
          },
          "execution_count": 48,
          "metadata": {},
          "output_type": "execute_result"
        }
      ],
      "source": [
        "# Criando um DataFrame 2.\n",
        "data = [ {'Calorias': 567, 'Duração': 33, 'Distância': 100},\n",
        "         {'Calorias': 124, 'Duração': 56, 'Distância': 2300},\n",
        "         {'Calorias': 222, 'Duração': 66, 'Distância': 510}\n",
        "       ]\n",
        "\n",
        "df1 = df1.append(data, ignore_index=True)\n",
        "\n",
        "df1"
      ]
    },
    {
      "cell_type": "markdown",
      "metadata": {
        "id": "F4nLe5Fnw2k-"
      },
      "source": [
        "Podemos também concatenar **DataFrames**.\n",
        "\n",
        "**OBS**.:\n",
        "\n",
        "+ O parâmetro `ignore_index` ignora os índices dos **DataFrames** individuais e reinicializa a indexação.\n",
        "+ Caso fosse `False`, teríamos linhas com o mesmo índice."
      ]
    },
    {
      "cell_type": "code",
      "execution_count": null,
      "metadata": {
        "id": "hJXSyMtNw2k_",
        "outputId": "72f5d650-c9ec-4f94-d218-3cd138798bb2"
      },
      "outputs": [
        {
          "name": "stdout",
          "output_type": "stream",
          "text": [
            "\n",
            "Conteúdo de df3:\n",
            "   Calorias  Duração  Distância\n",
            "0       350       50       2500\n",
            "1       430       70       1200\n",
            "2       100       20        800\n"
          ]
        },
        {
          "name": "stderr",
          "output_type": "stream",
          "text": [
            "C:\\Users\\felipe.figueiredo\\AppData\\Local\\Temp\\ipykernel_25784\\2556299974.py:12: FutureWarning: The frame.append method is deprecated and will be removed from pandas in a future version. Use pandas.concat instead.\n",
            "  df3 = df1.append(df2, ignore_index=True)\n"
          ]
        }
      ],
      "source": [
        "# Criando o DataFrame 1.\n",
        "data = [{'Calorias' : 350, 'Duração' : 50, 'Distância' : 2500}]\n",
        "\n",
        "df1 = pd.DataFrame(data)\n",
        "\n",
        "# Criando o DataFrame 2.\n",
        "data = {'Calorias' : [430, 100], 'Duração' : [70, 20], 'Distância' : [1200, 800]}\n",
        "\n",
        "df2 = pd.DataFrame(data)\n",
        "\n",
        "# Concatenando os dois DataFrames.\n",
        "df3 = df1.append(df2, ignore_index=True)\n",
        "\n",
        "print('\\nConteúdo de df3:')\n",
        "print(df3)"
      ]
    },
    {
      "cell_type": "markdown",
      "metadata": {
        "id": "ds1xA0B1w2lA"
      },
      "source": [
        "**Exclusão de linhas**\n",
        "\n",
        "Usamos o método `drop` e o índice **numérico ou textual** para excluir linhas de um **DataFrame**.\n",
        "\n",
        "**OBS**.: Se o índice estiver duplicado, várias linhas serão eliminadas."
      ]
    },
    {
      "cell_type": "code",
      "execution_count": null,
      "metadata": {
        "id": "UxilOirBw2lA",
        "outputId": "403f5ad3-567d-454f-d247-4644a9daab8c"
      },
      "outputs": [
        {
          "name": "stdout",
          "output_type": "stream",
          "text": [
            "Conteúdo do DataFrame:\n",
            "       Calorias  Duração  Distância\n",
            "Dia 1       200       30       1000\n",
            "Dia 1       300       40       1500\n",
            "Dia 3       350       50       2500\n",
            "\n",
            "\n",
            "Conteúdo do DataFrame após remoção das linhas com índices textuais 'Dia 1':\n",
            "       Calorias  Duração  Distância\n",
            "Dia 3       350       50       2500\n"
          ]
        }
      ],
      "source": [
        "# Criando um DataFrame.\n",
        "data = {'Calorias' : [200, 300, 350], 'Duração' : [30, 40, 50], 'Distância' : [1000, 1500, 2500]}\n",
        "\n",
        "# Duas linhas possuem o mesmo índice textual.\n",
        "df = pd.DataFrame(data, index = [\"Dia 1\", \"Dia 1\", \"Dia 3\"])\n",
        "\n",
        "print('Conteúdo do DataFrame:')\n",
        "print(df)\n",
        "\n",
        "# Deletando linhas com índice textual igual a 'Dia 1'.\n",
        "df = df.drop('Dia 1')\n",
        "\n",
        "print('\\n\\nConteúdo do DataFrame após remoção das linhas com índices textuais \\'Dia 1\\':')\n",
        "print(df)"
      ]
    },
    {
      "cell_type": "markdown",
      "metadata": {
        "id": "eLJUhM2_w2lB"
      },
      "source": [
        "**Excluindo mais de uma linha simultaneamente**\n",
        "\n",
        "Para excluir mais de uma linha ao mesmo tempo, passamos uma lista com índices numéricos ou textuais para o método `drop`."
      ]
    },
    {
      "cell_type": "code",
      "execution_count": null,
      "metadata": {
        "id": "1T5Ye0c4w2lC",
        "outputId": "2c67e4d6-bfba-481a-954b-e37759fff587"
      },
      "outputs": [
        {
          "name": "stdout",
          "output_type": "stream",
          "text": [
            "Conteúdo do DataFrame:\n",
            "       Calorias  Duração  Distância\n",
            "Dia 1       200       30       1000\n",
            "Dia 2       300       40       1500\n",
            "Dia 3       350       50       2500\n",
            "\n",
            "\n",
            "Conteúdo do DataFrame após remoção dos dias 1 e 3:\n",
            "       Calorias  Duração  Distância\n",
            "Dia 2       300       40       1500\n"
          ]
        }
      ],
      "source": [
        "# Criando um DataFrame.\n",
        "data = {'Calorias' : [200, 300, 350], 'Duração' : [30, 40, 50], 'Distância' : [1000, 1500, 2500]}\n",
        "\n",
        "df = pd.DataFrame(data, index = [\"Dia 1\", \"Dia 2\", \"Dia 3\"])\n",
        "\n",
        "print('Conteúdo do DataFrame:')\n",
        "print(df)\n",
        "\n",
        "df = df.drop(['Dia 1', 'Dia 3'])\n",
        "\n",
        "print('\\n\\nConteúdo do DataFrame após remoção dos dias 1 e 3:')\n",
        "print(df)"
      ]
    },
    {
      "cell_type": "markdown",
      "metadata": {
        "id": "gl6hHXVRw2lC"
      },
      "source": [
        "### Importando e exportando dados\n",
        "\n",
        "Podemos criar **DataFrames** a partir de arquivos CSV, Exel ou JSON e arquivos destes tipos a partir de **DataFrames**.\n",
        "\n",
        "Para ler dados de arquivos CSV, Excel ou JSON e criar um objeto do tipo **DataFrame** a partir deles, podemos usar as seguintes funções:\n",
        "\n",
        "+ `pd.read_csv`\n",
        "+ `pd.read_excel`\n",
        "+ `pd.read_json`\n",
        "\n",
        "Para transformar um objeto do tipo **DataFrame** em um arquivo, usamos as seguintes funções:\n",
        "\n",
        "+ `df.to_csv`\n",
        "+ `df.to_excel`\n",
        "+ `df.to_json`\n",
        "\n",
        "#### Exemplos\n",
        "\n",
        "No exemplo abaixo, o arquivo `compras.csv` contém uma lista de clientes e informações de vendas de produtos.\n",
        "\n",
        "Nós usamos a função `read_csv` para importar os dados do arquivo em um objeto do tipo **DataFrame**.\n",
        "\n",
        "**OBS**.: O arquivo `compras.csv` foi criado anteriormente e está armazenado do github."
      ]
    },
    {
      "cell_type": "code",
      "execution_count": null,
      "metadata": {
        "id": "2Oba7ncZw2lD",
        "outputId": "0e6e551a-725c-4d26-bf3e-c0988f4b2194"
      },
      "outputs": [
        {
          "data": {
            "text/html": [
              "<div>\n",
              "<style scoped>\n",
              "    .dataframe tbody tr th:only-of-type {\n",
              "        vertical-align: middle;\n",
              "    }\n",
              "\n",
              "    .dataframe tbody tr th {\n",
              "        vertical-align: top;\n",
              "    }\n",
              "\n",
              "    .dataframe thead th {\n",
              "        text-align: right;\n",
              "    }\n",
              "</style>\n",
              "<table border=\"1\" class=\"dataframe\">\n",
              "  <thead>\n",
              "    <tr style=\"text-align: right;\">\n",
              "      <th></th>\n",
              "      <th>Client Name</th>\n",
              "      <th>Country</th>\n",
              "      <th>Product</th>\n",
              "      <th>Purchase Price</th>\n",
              "    </tr>\n",
              "  </thead>\n",
              "  <tbody>\n",
              "    <tr>\n",
              "      <th>0</th>\n",
              "      <td>Jon Smith</td>\n",
              "      <td>Japan</td>\n",
              "      <td>Computer</td>\n",
              "      <td>$800</td>\n",
              "    </tr>\n",
              "    <tr>\n",
              "      <th>1</th>\n",
              "      <td>Bill Martin</td>\n",
              "      <td>US</td>\n",
              "      <td>Tablet</td>\n",
              "      <td>$450</td>\n",
              "    </tr>\n",
              "    <tr>\n",
              "      <th>2</th>\n",
              "      <td>Maria Blue</td>\n",
              "      <td>Canada</td>\n",
              "      <td>Printer</td>\n",
              "      <td>$150</td>\n",
              "    </tr>\n",
              "    <tr>\n",
              "      <th>3</th>\n",
              "      <td>Rita Yu</td>\n",
              "      <td>Brazil</td>\n",
              "      <td>Laptop</td>\n",
              "      <td>$1200</td>\n",
              "    </tr>\n",
              "    <tr>\n",
              "      <th>4</th>\n",
              "      <td>Jack Mo</td>\n",
              "      <td>UK</td>\n",
              "      <td>Monitor</td>\n",
              "      <td>$300</td>\n",
              "    </tr>\n",
              "    <tr>\n",
              "      <th>5</th>\n",
              "      <td>Ron Green</td>\n",
              "      <td>Spain</td>\n",
              "      <td>Laptop</td>\n",
              "      <td>$1200</td>\n",
              "    </tr>\n",
              "    <tr>\n",
              "      <th>6</th>\n",
              "      <td>Jeff Long</td>\n",
              "      <td>China</td>\n",
              "      <td>Laptop</td>\n",
              "      <td>$1200</td>\n",
              "    </tr>\n",
              "    <tr>\n",
              "      <th>7</th>\n",
              "      <td>Carrie Lan</td>\n",
              "      <td>Italy</td>\n",
              "      <td>Computer</td>\n",
              "      <td>$800</td>\n",
              "    </tr>\n",
              "    <tr>\n",
              "      <th>8</th>\n",
              "      <td>Marry Sig</td>\n",
              "      <td>Peru</td>\n",
              "      <td>Computer</td>\n",
              "      <td>$800</td>\n",
              "    </tr>\n",
              "    <tr>\n",
              "      <th>9</th>\n",
              "      <td>Ben Baker</td>\n",
              "      <td>Russia</td>\n",
              "      <td>Printer</td>\n",
              "      <td>$150</td>\n",
              "    </tr>\n",
              "  </tbody>\n",
              "</table>\n",
              "</div>"
            ],
            "text/plain": [
              "   Client Name Country   Product Purchase Price\n",
              "0    Jon Smith   Japan  Computer           $800\n",
              "1  Bill Martin      US    Tablet           $450\n",
              "2   Maria Blue  Canada   Printer           $150\n",
              "3      Rita Yu  Brazil    Laptop          $1200\n",
              "4      Jack Mo      UK   Monitor           $300\n",
              "5    Ron Green   Spain    Laptop          $1200\n",
              "6    Jeff Long   China    Laptop          $1200\n",
              "7   Carrie Lan   Italy  Computer           $800\n",
              "8    Marry Sig    Peru  Computer           $800\n",
              "9    Ben Baker  Russia   Printer           $150"
            ]
          },
          "execution_count": 57,
          "metadata": {},
          "output_type": "execute_result"
        }
      ],
      "source": [
        "df = pd.read_csv('compras.csv')\n",
        "\n",
        "df"
      ]
    },
    {
      "cell_type": "markdown",
      "metadata": {
        "id": "o9QOMEvhw2lE"
      },
      "source": [
        "**Plotando gráficos com as informações de DataFrames**\n",
        "\n",
        "No exemplo abaixo, nós importamos os dados de um arquivo CSV com informações sobre a população de algumas cidades e criamos um gráfico em formato de pizza com a biblioteca Matplotlib.\n",
        "\n",
        "**OBS**.:\n",
        "\n",
        "+ Precisamos importar a biblioteca `Matplotlib` para usarmos a função `pie`.\n",
        "+ O arquivo `population.csv` foi criado anteriormente e está armazenado do github."
      ]
    },
    {
      "cell_type": "code",
      "execution_count": null,
      "metadata": {
        "id": "548vPuHlw2lE",
        "outputId": "d215c626-40c4-4093-bbc9-65fb4e7e200e"
      },
      "outputs": [
        {
          "data": {
            "text/html": [
              "<div>\n",
              "<style scoped>\n",
              "    .dataframe tbody tr th:only-of-type {\n",
              "        vertical-align: middle;\n",
              "    }\n",
              "\n",
              "    .dataframe tbody tr th {\n",
              "        vertical-align: top;\n",
              "    }\n",
              "\n",
              "    .dataframe thead th {\n",
              "        text-align: right;\n",
              "    }\n",
              "</style>\n",
              "<table border=\"1\" class=\"dataframe\">\n",
              "  <thead>\n",
              "    <tr style=\"text-align: right;\">\n",
              "      <th></th>\n",
              "      <th>City</th>\n",
              "      <th>State</th>\n",
              "      <th>Capital</th>\n",
              "      <th>Population</th>\n",
              "    </tr>\n",
              "  </thead>\n",
              "  <tbody>\n",
              "    <tr>\n",
              "      <th>0</th>\n",
              "      <td>Philadelphia</td>\n",
              "      <td>Pennsylvania</td>\n",
              "      <td>No</td>\n",
              "      <td>1.581</td>\n",
              "    </tr>\n",
              "    <tr>\n",
              "      <th>1</th>\n",
              "      <td>Sacramento</td>\n",
              "      <td>California</td>\n",
              "      <td>Yes</td>\n",
              "      <td>0.500</td>\n",
              "    </tr>\n",
              "    <tr>\n",
              "      <th>2</th>\n",
              "      <td>New York</td>\n",
              "      <td>New York</td>\n",
              "      <td>No</td>\n",
              "      <td>8.623</td>\n",
              "    </tr>\n",
              "    <tr>\n",
              "      <th>3</th>\n",
              "      <td>Austin</td>\n",
              "      <td>Texas</td>\n",
              "      <td>Yes</td>\n",
              "      <td>0.950</td>\n",
              "    </tr>\n",
              "    <tr>\n",
              "      <th>4</th>\n",
              "      <td>Miami</td>\n",
              "      <td>Florida</td>\n",
              "      <td>No</td>\n",
              "      <td>0.463</td>\n",
              "    </tr>\n",
              "  </tbody>\n",
              "</table>\n",
              "</div>"
            ],
            "text/plain": [
              "           City         State Capital  Population\n",
              "0  Philadelphia  Pennsylvania      No       1.581\n",
              "1    Sacramento    California     Yes       0.500\n",
              "2      New York      New York      No       8.623\n",
              "3        Austin         Texas     Yes       0.950\n",
              "4         Miami       Florida      No       0.463"
            ]
          },
          "execution_count": 59,
          "metadata": {},
          "output_type": "execute_result"
        }
      ],
      "source": [
        "import matplotlib.pyplot as plt\n",
        "\n",
        "df = pd.read_csv('population.csv')\n",
        "\n",
        "df"
      ]
    },
    {
      "cell_type": "markdown",
      "metadata": {
        "id": "S5vEUsIvw2lF"
      },
      "source": [
        "Neste exemplo, selecionamos as colunas `Population` e `City` como os dados e os rótulos, respectivamente, para o plotar o gráfico."
      ]
    },
    {
      "cell_type": "code",
      "execution_count": null,
      "metadata": {
        "id": "0aPDkBn1w2lG",
        "outputId": "46d4733e-9aa3-431b-8d1d-e3e6bf775e31"
      },
      "outputs": [
        {
          "data": {
            "image/png": "[encoded data removed]",
            "text/plain": [
              "<Figure size 640x480 with 1 Axes>"
            ]
          },
          "metadata": {},
          "output_type": "display_data"
        }
      ],
      "source": [
        "# \"explode\" apenas a terceira fatia.\n",
        "explode = (0, 0, 0.2, 0, 0)\n",
        "\n",
        "plt.pie(df['Population'], labels = df['City'], explode=explode, autopct='%1.1f%%', shadow=True)\n",
        "\n",
        "plt.show()"
      ]
    },
    {
      "cell_type": "markdown",
      "metadata": {
        "id": "LVnsipEEw2lK"
      },
      "source": [
        "No exemplo abaixo, nós exportarmos um objeto do tipo **DataFrame** para um arquivo CSV.\n",
        "\n",
        "Primeiro criamos o **DataFrame**."
      ]
    },
    {
      "cell_type": "code",
      "execution_count": null,
      "metadata": {
        "id": "enFBJKrFw2lK",
        "outputId": "6fd330f8-65d3-4638-d245-7758ebbbfccb"
      },
      "outputs": [
        {
          "data": {
            "text/html": [
              "<div>\n",
              "<style scoped>\n",
              "    .dataframe tbody tr th:only-of-type {\n",
              "        vertical-align: middle;\n",
              "    }\n",
              "\n",
              "    .dataframe tbody tr th {\n",
              "        vertical-align: top;\n",
              "    }\n",
              "\n",
              "    .dataframe thead th {\n",
              "        text-align: right;\n",
              "    }\n",
              "</style>\n",
              "<table border=\"1\" class=\"dataframe\">\n",
              "  <thead>\n",
              "    <tr style=\"text-align: right;\">\n",
              "      <th></th>\n",
              "      <th>Calorias</th>\n",
              "      <th>Duração</th>\n",
              "      <th>Distância</th>\n",
              "    </tr>\n",
              "  </thead>\n",
              "  <tbody>\n",
              "    <tr>\n",
              "      <th>Dia 1</th>\n",
              "      <td>200</td>\n",
              "      <td>30</td>\n",
              "      <td>1000</td>\n",
              "    </tr>\n",
              "    <tr>\n",
              "      <th>Dia 2</th>\n",
              "      <td>300</td>\n",
              "      <td>40</td>\n",
              "      <td>1500</td>\n",
              "    </tr>\n",
              "    <tr>\n",
              "      <th>Dia 3</th>\n",
              "      <td>350</td>\n",
              "      <td>50</td>\n",
              "      <td>2500</td>\n",
              "    </tr>\n",
              "    <tr>\n",
              "      <th>Dia 4</th>\n",
              "      <td>500</td>\n",
              "      <td>120</td>\n",
              "      <td>5000</td>\n",
              "    </tr>\n",
              "  </tbody>\n",
              "</table>\n",
              "</div>"
            ],
            "text/plain": [
              "       Calorias  Duração  Distância\n",
              "Dia 1       200       30       1000\n",
              "Dia 2       300       40       1500\n",
              "Dia 3       350       50       2500\n",
              "Dia 4       500      120       5000"
            ]
          },
          "execution_count": 62,
          "metadata": {},
          "output_type": "execute_result"
        }
      ],
      "source": [
        "# Criando um DataFrame.\n",
        "data = {'Calorias' : [200, 300, 350, 500], 'Duração' : [30, 40, 50, 120], 'Distância' : [1000, 1500, 2500, 5000]}\n",
        "\n",
        "df = pd.DataFrame(data, index = ['Dia 1', 'Dia 2', 'Dia 3', 'Dia 4'])\n",
        "\n",
        "df"
      ]
    },
    {
      "cell_type": "markdown",
      "metadata": {
        "id": "uM_AWzK9w2lM"
      },
      "source": [
        "Agora convertemos o **DataFrame** em um arquivo CSV com a função `to_csv`.\n",
        "\n",
        "**OBS**.: Fazemos `index=False` para não incluir os índices das linhas como uma nova coluna."
      ]
    },
    {
      "cell_type": "code",
      "execution_count": null,
      "metadata": {
        "id": "BdlnUFmHw2lN"
      },
      "outputs": [],
      "source": [
        "df.to_csv('mycsv.csv', index=False)"
      ]
    },
    {
      "cell_type": "markdown",
      "metadata": {
        "id": "8Se0LiYlw2lO"
      },
      "source": [
        "Na sequência, lemos o conteúdo do arquivo CSV criado."
      ]
    },
    {
      "cell_type": "code",
      "execution_count": null,
      "metadata": {
        "id": "m6Dj_LFqw2lQ",
        "outputId": "e35cc575-f6e9-4a2c-97c2-af8e6041ef32"
      },
      "outputs": [
        {
          "data": {
            "text/html": [
              "<div>\n",
              "<style scoped>\n",
              "    .dataframe tbody tr th:only-of-type {\n",
              "        vertical-align: middle;\n",
              "    }\n",
              "\n",
              "    .dataframe tbody tr th {\n",
              "        vertical-align: top;\n",
              "    }\n",
              "\n",
              "    .dataframe thead th {\n",
              "        text-align: right;\n",
              "    }\n",
              "</style>\n",
              "<table border=\"1\" class=\"dataframe\">\n",
              "  <thead>\n",
              "    <tr style=\"text-align: right;\">\n",
              "      <th></th>\n",
              "      <th>Calorias</th>\n",
              "      <th>Duração</th>\n",
              "      <th>Distância</th>\n",
              "    </tr>\n",
              "  </thead>\n",
              "  <tbody>\n",
              "    <tr>\n",
              "      <th>0</th>\n",
              "      <td>200</td>\n",
              "      <td>30</td>\n",
              "      <td>1000</td>\n",
              "    </tr>\n",
              "    <tr>\n",
              "      <th>1</th>\n",
              "      <td>300</td>\n",
              "      <td>40</td>\n",
              "      <td>1500</td>\n",
              "    </tr>\n",
              "    <tr>\n",
              "      <th>2</th>\n",
              "      <td>350</td>\n",
              "      <td>50</td>\n",
              "      <td>2500</td>\n",
              "    </tr>\n",
              "    <tr>\n",
              "      <th>3</th>\n",
              "      <td>500</td>\n",
              "      <td>120</td>\n",
              "      <td>5000</td>\n",
              "    </tr>\n",
              "  </tbody>\n",
              "</table>\n",
              "</div>"
            ],
            "text/plain": [
              "   Calorias  Duração  Distância\n",
              "0       200       30       1000\n",
              "1       300       40       1500\n",
              "2       350       50       2500\n",
              "3       500      120       5000"
            ]
          },
          "execution_count": 65,
          "metadata": {},
          "output_type": "execute_result"
        }
      ],
      "source": [
        "df = pd.read_csv('mycsv.csv')\n",
        "\n",
        "df"
      ]
    },
    {
      "cell_type": "markdown",
      "metadata": {
        "id": "eQ2-_pNow2lQ"
      },
      "source": [
        "**Indexação com filtragem condicional**\n",
        "\n",
        "No exemplo abaixo, nós selecionamos as colunas `City`, `State` e `Population`do objeto do tipo **DataFrame** para encontrar qual a cidade e estado mais populoso."
      ]
    },
    {
      "cell_type": "code",
      "execution_count": null,
      "metadata": {
        "id": "HYQ1Ip8hw2lS",
        "outputId": "01503e78-710a-4816-f0bb-7c682c44400f"
      },
      "outputs": [
        {
          "name": "stdout",
          "output_type": "stream",
          "text": [
            "Conteúdo da nova tabela:\n",
            "           City         State  Population\n",
            "0  Philadelphia  Pennsylvania       1.581\n",
            "1    Sacramento    California       0.500\n",
            "2      New York      New York       8.623\n",
            "3        Austin         Texas       0.950\n",
            "4         Miami       Florida       0.463\n"
          ]
        }
      ],
      "source": [
        "# Carregamos o arquivo CSV em um DataFrame.\n",
        "df = pd.read_csv('population.csv')\n",
        "\n",
        "# Criando um sub-DataFrame, ou seja, uma tabela com apenas as colunas: City, State e Population.\n",
        "df1 = df[ ['City','State','Population'] ]\n",
        "\n",
        "print('Conteúdo da nova tabela:')\n",
        "print(df1)"
      ]
    },
    {
      "cell_type": "markdown",
      "metadata": {
        "id": "Qrd-0OSkw2lS"
      },
      "source": [
        "Agora criamos a condição que encontra o elemento que tem valor igual ao valor máximo.\n",
        "\n",
        "**OBS**.: A instrução abaixo retorna uma array com valores booleanos com a mesma dimensão da coluna `Population`, onde cada valor (`True` ou `False`) indica se esse elemento é igual ao valor máximo ou não."
      ]
    },
    {
      "cell_type": "code",
      "execution_count": null,
      "metadata": {
        "id": "T3-RoSXCw2lT",
        "outputId": "fc736260-b105-42a8-d506-243086e8cd3c"
      },
      "outputs": [
        {
          "name": "stdout",
          "output_type": "stream",
          "text": [
            "Condição:\n",
            "0    False\n",
            "1    False\n",
            "2     True\n",
            "3    False\n",
            "4    False\n",
            "Name: Population, dtype: bool\n",
            "\n",
            "\n",
            "Cidade e estado mais populoso:\n",
            "       City     State  Population\n",
            "2  New York  New York       8.623\n"
          ]
        }
      ],
      "source": [
        "# Condição para filtragem.\n",
        "condition = df1['Population'] == df1['Population'].max()\n",
        "print('Condição:\\n%s' % (condition))\n",
        "\n",
        "# Filtrando apenas a linha da coluna 'Population' que tem o maior valor.\n",
        "df2 = df1[condition]\n",
        "\n",
        "print('\\n\\nCidade e estado mais populoso:')\n",
        "print(df2)"
      ]
    },
    {
      "cell_type": "markdown",
      "metadata": {
        "id": "2PB5J3Fjw2lT"
      },
      "source": [
        "**Descrição de um DataFrame**\n",
        "\n",
        "+ O método `describe` retorna um novo **DataFrame** com informações como\n",
        "    + média,\n",
        "    + desvio padrão,\n",
        "    + valores máximos e mínimos,\n",
        "    + etc.\n",
        "\n",
        "do **DataFrame** original."
      ]
    },
    {
      "cell_type": "code",
      "execution_count": null,
      "metadata": {
        "id": "yDDy8Q4Ww2lU",
        "outputId": "ef845466-645e-4981-cb7f-b113785e1a58"
      },
      "outputs": [
        {
          "name": "stdout",
          "output_type": "stream",
          "text": [
            "Informações da tabela original:\n",
            "       Calorias     Duração    Distância\n",
            "count       4.0    4.000000     4.000000\n",
            "mean      337.5   60.000000  2500.000000\n",
            "std       125.0   40.824829  1779.513042\n",
            "min       200.0   30.000000  1000.000000\n",
            "25%       275.0   37.500000  1375.000000\n",
            "50%       325.0   45.000000  2000.000000\n",
            "75%       387.5   67.500000  3125.000000\n",
            "max       500.0  120.000000  5000.000000\n"
          ]
        }
      ],
      "source": [
        "# Criando um DataFrame.\n",
        "data = {'Calorias' : [200, 300, 350, 500], 'Duração' : [30, 40, 50, 120], 'Distância' : [1000, 1500, 2500, 5000]}\n",
        "\n",
        "df = pd.DataFrame(data, index = ['Dia 1', 'Dia 2', 'Dia 3', 'Dia 4'])\n",
        "\n",
        "# Retorna um DataFrame com informações sobre a tabela original.\n",
        "df1 = df.describe()\n",
        "\n",
        "print('Informações da tabela original:\\n%s' % (df1))"
      ]
    },
    {
      "cell_type": "markdown",
      "metadata": {
        "id": "q-DggXS0w2lU"
      },
      "source": [
        "Podemos obter os valores médio, mínimo e máximo da coluna `Distância`.\n",
        "\n",
        "**OBS**.: Para acessar os valores, indexamos primeiro com a coluna desejada e depois a linha."
      ]
    },
    {
      "cell_type": "code",
      "execution_count": null,
      "metadata": {
        "id": "TDlh11Uow2lV",
        "outputId": "7adecc67-47fb-40d8-ff2b-7172510efe0e"
      },
      "outputs": [
        {
          "name": "stdout",
          "output_type": "stream",
          "text": [
            "Valor médio da coluna Distância: 2500.0\n",
            "Valor mínimo da coluna Distância: 1000.0\n",
            "Valor máximo da coluna Distância: 5000.0\n"
          ]
        }
      ],
      "source": [
        "média = df1['Distância']['mean']\n",
        "mínimo = df1['Distância']['min']\n",
        "máximo = df1['Distância']['max']\n",
        "\n",
        "print('Valor médio da coluna Distância:', média)\n",
        "print('Valor mínimo da coluna Distância:', mínimo)\n",
        "print('Valor máximo da coluna Distância:', máximo)"
      ]
    },
    {
      "cell_type": "markdown",
      "metadata": {
        "id": "mDXMsMN3w2lW"
      },
      "source": [
        "**OBS**.: Tudo o que fizemos com arquivos CSV é também aplicável aos outros tipos de arquivos (i.e., Excel e JSON).\n",
        "\n",
        "A tabela abaixo lista atributos e métodos importantes de um objeto do tipo **DataFrame**:\n",
        "\n",
        "| Atributo ou Método |                                      Descrição                                      |\n",
        "|:------------------:|:-----------------------------------------------------------------------------------:|\n",
        "| T                  | Transposto do DataFrame.                                                     |\n",
        "| axes               | Retorna uma lista com os nomes das linhas e colunas do DataFrame. |\n",
        "| dtypes             | Retorna os tipos dos dados de cada coluna do DataFrame.                                                  |\n",
        "| ndim               | Retorna o número de dimensões da matriz.                                                  |\n",
        "| shape              | Retorna uma tupla com as dimensões do DataFrame.                   |\n",
        "| size               | Retorna o número de elementos no DataFrame.                                                  |\n",
        "| values             | Retorna uma array Numpy representando o DataFrame.                                                    |\n",
        "| head(n)             | Retorna as primeiras n linhas do DataFrame.                                                           |\n",
        "| tail(n)             | Retorna as últimas n linhas do DataFrame.                                                                |"
      ]
    },
    {
      "cell_type": "markdown",
      "metadata": {
        "id": "Ow3_KI9Hw2lW"
      },
      "source": [
        "Para mais informações sobre a biblioteca Pandas, acessem sua documentação no seguinte link: https://pandas.pydata.org/pandas-docs/stable/reference/"
      ]
    },
    {
      "cell_type": "markdown",
      "metadata": {
        "id": "UAWXDNMCw2lW"
      },
      "source": [
        "## Tarefas\n",
        "\n",
        "1. <span style=\"color:blue\">**QUIZ - Pandas**</span>: respondam ao questionário sobre Pandas no MS teams, por favor.\n",
        "2. <span style=\"color:blue\">**Laboratório #7 - Pandas**</span>: cliquem em um dos links abaixo para accessar os exercícios do laboratório #7.\n",
        "\n",
        "[![Google Colab](https://badgen.net/badge/Launch/on%20Google%20Colab/blue?icon=terminal)](https://colab.research.google.com/github/zz4fap/python-programming/blob/master/labs/Laboratorio7_Pandas.ipynb)\n",
        "\n",
        "[![Binder](https://mybinder.org/badge_logo.svg)](https://mybinder.org/v2/gh/zz4fap/python-programming/master?filepath=labs%2FLaboratorio7_Pandas.ipynb)\n",
        "\n",
        "**IMPORTANTE**: Para acessar o material das aulas e realizar as entregas dos exercícios de laboratório, por favor, leiam o tutorial no seguinte link:\n",
        "[Material-das-Aulas](../docs/Acesso-ao-material-das-aulas-resolucao-e-entrega-dos-laboratorios.pdf)"
      ]
    },
    {
      "cell_type": "markdown",
      "metadata": {
        "id": "TG-_Og_Mw2lX"
      },
      "source": [
        "<img src=\"https://github.com/zz4fap/python-programming/blob/master/figures/obrigado.png?raw=1\">"
      ]
    }
  ],
  "metadata": {
    "kernelspec": {
      "display_name": "Python 3 (ipykernel)",
      "language": "python",
      "name": "python3"
    },
    "language_info": {
      "codemirror_mode": {
        "name": "ipython",
        "version": 3
      },
      "file_extension": ".py",
      "mimetype": "text/x-python",
      "name": "python",
      "nbconvert_exporter": "python",
      "pygments_lexer": "ipython3",
      "version": "3.10.9"
    },
    "colab": {
      "provenance": []
    }
  },
  "nbformat": 4,
  "nbformat_minor": 0
}