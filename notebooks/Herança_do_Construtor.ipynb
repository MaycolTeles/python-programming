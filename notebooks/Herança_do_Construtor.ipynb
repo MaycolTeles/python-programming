{
 "cells": [
  {
   "cell_type": "markdown",
   "id": "be31e61c",
   "metadata": {},
   "source": [
    "#### Sem construtores explícitos.\n",
    "\n",
    "O interpretador cria construtores padrão."
   ]
  },
  {
   "cell_type": "code",
   "execution_count": 24,
   "id": "f676f974",
   "metadata": {},
   "outputs": [],
   "source": [
    "class Animal:\n",
    "    \n",
    "    def comer(self):\n",
    "        print('comendo....') \n",
    "\n",
    "\n",
    "class Pássaro(Animal):\n",
    "    \n",
    "    def voar(self):\n",
    "        print('voando...')"
   ]
  },
  {
   "cell_type": "code",
   "execution_count": 25,
   "id": "59ed222b",
   "metadata": {},
   "outputs": [
    {
     "name": "stdout",
     "output_type": "stream",
     "text": [
      "comendo....\n"
     ]
    }
   ],
   "source": [
    "p = Pássaro()\n",
    "\n",
    "p.comer()"
   ]
  },
  {
   "cell_type": "markdown",
   "id": "08fc84c2",
   "metadata": {},
   "source": [
    "#### Construtor explícito apenas em Animal.\n",
    "\n",
    "Sem construtor explícito em `Pássaro`, o interpretador cria um construtor em `Pássaro` que chama o construtor de `Animal`."
   ]
  },
  {
   "cell_type": "code",
   "execution_count": 9,
   "id": "fd20f6e1",
   "metadata": {},
   "outputs": [],
   "source": [
    "class Animal:\n",
    "    \n",
    "    def __init__(self):\n",
    "        print('Construindo Animal') \n",
    "        self.idade = 0\n",
    "    \n",
    "    def comer(self):\n",
    "        print('comendo....')\n",
    "        \n",
    "\n",
    "class Pássaro(Animal):\n",
    "    \n",
    "    def voar(self):\n",
    "        print('voando...')"
   ]
  },
  {
   "cell_type": "code",
   "execution_count": 12,
   "id": "c9462606",
   "metadata": {},
   "outputs": [
    {
     "name": "stdout",
     "output_type": "stream",
     "text": [
      "Construindo Animal\n",
      "comendo....\n",
      "Idade: 0\n"
     ]
    }
   ],
   "source": [
    "p = Pássaro()\n",
    "\n",
    "p.comer()\n",
    "\n",
    "print('Idade:', p.idade)"
   ]
  },
  {
   "cell_type": "markdown",
   "id": "ad86fae9",
   "metadata": {},
   "source": [
    "#### Construtores explícitos em Animal e Pássaro, mas sem chamada ao construtor da classe pai.\n",
    "\n",
    "Quando o construtor é definido na classe filha, a implementação do construtor da classe pai é sobreescrita. Assim, caso seja necessário inicializar a classe pai, precisamos chamar seu construtor explicitamente no construtor da classe filha."
   ]
  },
  {
   "cell_type": "code",
   "execution_count": 13,
   "id": "04d29152",
   "metadata": {},
   "outputs": [],
   "source": [
    "class Animal:\n",
    "    \n",
    "    def __init__(self):\n",
    "        print('Construindo Animal')\n",
    "        self.idade = 0\n",
    "    \n",
    "    def comer(self):\n",
    "        print('comendo....')\n",
    "        \n",
    "\n",
    "class Pássaro(Animal):\n",
    "    \n",
    "    def __init__(self):\n",
    "        print('Construindo Pássaro')      \n",
    "    \n",
    "    def voar(self):\n",
    "        print('voando...')"
   ]
  },
  {
   "cell_type": "markdown",
   "id": "b5452872",
   "metadata": {},
   "source": [
    "**OBS**.: Percebam que o construtor de `Animal` não é chamado. Portanto, o atributo `idade` nunca é definido e, por isso, não existe."
   ]
  },
  {
   "cell_type": "code",
   "execution_count": 17,
   "id": "ad71f6b0",
   "metadata": {},
   "outputs": [
    {
     "name": "stdout",
     "output_type": "stream",
     "text": [
      "Construindo Pássaro\n",
      "comendo....\n"
     ]
    },
    {
     "ename": "AttributeError",
     "evalue": "'Pássaro' object has no attribute 'idade'",
     "output_type": "error",
     "traceback": [
      "\u001b[1;31m---------------------------------------------------------------------------\u001b[0m",
      "\u001b[1;31mAttributeError\u001b[0m                            Traceback (most recent call last)",
      "\u001b[1;32m~\\AppData\\Local\\Temp\\ipykernel_10512\\748224521.py\u001b[0m in \u001b[0;36m<module>\u001b[1;34m\u001b[0m\n\u001b[0;32m      3\u001b[0m \u001b[0mp\u001b[0m\u001b[1;33m.\u001b[0m\u001b[0mcomer\u001b[0m\u001b[1;33m(\u001b[0m\u001b[1;33m)\u001b[0m\u001b[1;33m\u001b[0m\u001b[1;33m\u001b[0m\u001b[0m\n\u001b[0;32m      4\u001b[0m \u001b[1;33m\u001b[0m\u001b[0m\n\u001b[1;32m----> 5\u001b[1;33m \u001b[0mprint\u001b[0m\u001b[1;33m(\u001b[0m\u001b[1;34m'Idade:'\u001b[0m\u001b[1;33m,\u001b[0m \u001b[0mp\u001b[0m\u001b[1;33m.\u001b[0m\u001b[0midade\u001b[0m\u001b[1;33m)\u001b[0m\u001b[1;33m\u001b[0m\u001b[1;33m\u001b[0m\u001b[0m\n\u001b[0m",
      "\u001b[1;31mAttributeError\u001b[0m: 'Pássaro' object has no attribute 'idade'"
     ]
    }
   ],
   "source": [
    "p = Pássaro()\n",
    "\n",
    "p.comer()\n",
    "\n",
    "print('Idade:', p.idade)"
   ]
  },
  {
   "cell_type": "markdown",
   "id": "a2073c28",
   "metadata": {},
   "source": [
    "#### Construtores explícitos em Animal e Pássaro, mas COM chamada ao construtor da classe pai."
   ]
  },
  {
   "cell_type": "code",
   "execution_count": 20,
   "id": "e65f40eb",
   "metadata": {},
   "outputs": [],
   "source": [
    "class Animal:\n",
    "    \n",
    "    def __init__(self):\n",
    "        self.idade = 0\n",
    "        print('Construindo Animal')\n",
    "    \n",
    "    def comer(self):\n",
    "        print('comendo....')\n",
    "        \n",
    "        \n",
    "class Pássaro(Animal):\n",
    "    \n",
    "    def __init__(self):\n",
    "        super().__init__()\n",
    "        print('Construindo Pássaro')\n",
    "    \n",
    "    def voar(self):\n",
    "        print('voando...')"
   ]
  },
  {
   "cell_type": "markdown",
   "id": "f0f1ae1d",
   "metadata": {},
   "source": [
    "**OBS**.: Percebam que o construtor de `Animal` é chamado no construtor de `Pássaro`. Portanto, o atributo `idade` é definido e possui valor igual a 0."
   ]
  },
  {
   "cell_type": "code",
   "execution_count": 21,
   "id": "90332c93",
   "metadata": {},
   "outputs": [
    {
     "name": "stdout",
     "output_type": "stream",
     "text": [
      "Construindo Animal\n",
      "Construindo Pássaro\n",
      "comendo....\n",
      "Idade: 0\n"
     ]
    }
   ],
   "source": [
    "p = Pássaro()\n",
    "\n",
    "p.comer()\n",
    "\n",
    "print('Idade:', p.idade)"
   ]
  }
 ],
 "metadata": {
  "kernelspec": {
   "display_name": "Python 3 (ipykernel)",
   "language": "python",
   "name": "python3"
  },
  "language_info": {
   "codemirror_mode": {
    "name": "ipython",
    "version": 3
   },
   "file_extension": ".py",
   "mimetype": "text/x-python",
   "name": "python",
   "nbconvert_exporter": "python",
   "pygments_lexer": "ipython3",
   "version": "3.9.13"
  }
 },
 "nbformat": 4,
 "nbformat_minor": 5
}
