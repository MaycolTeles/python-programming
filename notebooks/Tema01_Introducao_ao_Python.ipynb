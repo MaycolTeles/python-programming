{
 "cells": [
  {
   "cell_type": "markdown",
   "metadata": {},
   "source": [
    "# Introdução ao Python\n",
    "\n",
    "## Sobre a Disciplina\n",
    "\n",
    "Curso de introdução à programação em Python. \n",
    "\n",
    "As aulas serão divididas em uma parte expositiva e outra prática.\n",
    "\n",
    "## Conteúdo Programático\n",
    "\n",
    "1. Introdução ao Python\n",
    "2. Tipos de dados\n",
    "3. Operadores aritméticos\n",
    "4. Módulos e pacotes\n",
    "5. Manipulação de cadeias de caracteres (strings)\n",
    "6. Operadores lógicos e de comparação\n",
    "7. Estruturas de decisão e repetição\n",
    "8. Coleções de dados\n",
    "7. Funções\n",
    "9. Fundamentos de orientação a objeto com Python\n",
    "10. Introdução à análise, manipulação e visualização de dados com Python\n",
    "11. Trabalhando com arquivos"
   ]
  },
  {
   "cell_type": "markdown",
   "metadata": {},
   "source": [
    "## Objetivos\n",
    "\n",
    "O objetivo principal da disciplina é **despertar o interesse** pela linguagem Python em vocês.\n",
    "\n",
    "Ao final da disciplina, eu espero que vocês:\n",
    "* Conheçam os **conceitos básicos** e os **principais recursos** disponibilizados pela linguagem.\n",
    "* **Apliquem os conceitos** aprendidos e **desenvolvam programas** usando Python.\n",
    "* Sejam capazes de **solucionar problemas computacionais** utilizando Python.\n",
    "* Possuam a base necessária para o **aprendizado de novos conceitos**.\n",
    "\n",
    "## Critérios de Avaliação\n",
    "\n",
    "* Duas (2) provas de conteúdo prático com peso de 85% cada.\n",
    "* Dois (2) conjuntos de exercícios (quizzes e laboratórios) com peso de 15%.\n",
    "    * Podem sempre ser entregues até a próxima aula.\n",
    "    * Exercícios serão atribuídos através de tarefas do MS Teams.\n",
    "* Exercícios podem ser resolvidos em grupo, mas a **prova será individual**.\n",
    "\n",
    "## Frequência\n",
    "\n",
    "* Usaremos a lista de presença em papel.\n",
    "* Por favor, acompanhem a frequência de vocês no portal."
   ]
  },
  {
   "cell_type": "markdown",
   "metadata": {},
   "source": [
    "## Um breve histórico sobre o Python\n",
    "\n",
    "* A linguagem de programação **Python** foi lançada em 1991 por Guido van Rossum. \n",
    "\n",
    "<img src=\"../figures/guido.jpg\" width=\"300px\">"
   ]
  },
  {
   "cell_type": "markdown",
   "metadata": {},
   "source": [
    "* O nome **Python** é uma homenagem ao grupo de humor britânico, Monty Python.\n",
    "\n",
    "<img src=\"../figures/monty.jpg\" width=\"200px\">"
   ]
  },
  {
   "cell_type": "markdown",
   "metadata": {},
   "source": [
    "* Guido resistiu por muito tempo em associar a linguagem à cobra Python, mas isso acabou quando a editora  O’Reilly publicou o primeiro livro sobre a linguagem. \n",
    "\n",
    "<img src=\"../figures/livro.jpg\" width=\"200px\">"
   ]
  },
  {
   "cell_type": "markdown",
   "metadata": {},
   "source": [
    "* A linguagem Python possui um modelo de desenvolvimento comunitário, de código aberto e gerenciado pela Python Software Foundation. \n",
    "\n",
    "<img src=\"../figures/psf-logo.png\" width=\"500px\">"
   ]
  },
  {
   "cell_type": "markdown",
   "metadata": {},
   "source": [
    "## O que é o Python?\n",
    "\n",
    "* É uma linguagem de programação:\n",
    "    * de **alto nível**: tem uma sintaxe que se aproxima da nossa linguagem escrita e se distancia bastante da linguagem de máquina.    \n",
    "    * **Multi-paradigma**: pois suporta diversos paradigmas de programação como: programação procedural, programação orientada a objetos e programação funcional.\n",
    "    <img src=\"../figures/paradigmas.png\" width=\"250px\">\n",
    "    * **Interpretada**: o código fonte é transformado em uma linguagem intermediária, que será interpretada pela máquina virtual da linguagem quando o programa for executado.\n",
    "    <img src=\"../figures/interpreter2.png\" width=\"400px\">\n",
    "    * de **tipagem dinâmica**: isso significa que o interpretador Python infere o tipo de dado de uma variável a partir do tipo do valor sendo atribuído a ela em tempo de execução. Ou seja, não é necessário que o programador defina o tipo de uma variável explicitamente como em C, C++ e Java.\n",
    "    * **Fortemente tipada**: ela proíbe operações que não sejam bem definidas (por exemplo, adicionar um número inteiro a uma string) ao invés de converter automaticamente os valores. Para realizar a operação entre tipos não compatíveis, é necessário converter explicitamente o tipo da variável ou variáveis antes da operação.\n",
    "    * **Multiplataforma**: roda em plataformas Windows, Linux, UNIX, MacOS e até em telefones celulares.\n",
    "    * com **gerenciamento automático de memória**: ela rastreia a utilização de objetos automaticamente e os deleta quando não estão sendo mais utilizados para liberar espaço.\n",
    "    * de uso **gratuito** e de **código aberto**: não é necessário pagar nada e pode-se criar e distribuir novas bibliotecas, modificar/depurar bibliotecas existentes e até mesmo a própria linguagem."
   ]
  },
  {
   "cell_type": "markdown",
   "metadata": {},
   "source": [
    "## Por que Python?\n",
    "\n",
    "* É uma das linguagens mais fáceis de se aprender, com uma **sintaxe clara**, **intuitiva** e **concisa** o que favorece a legibilidade do código fonte e torna a linguagem mais produtiva.\n",
    "* É uma linguagem muito popular e será mais ainda nos próximos anos. \n",
    "\n",
    "<img src=\"../figures/popularidade2.jpg\" width=\"400px\">"
   ]
  },
  {
   "cell_type": "markdown",
   "metadata": {},
   "source": [
    "* Grandes empresas usam Python. \n",
    "\n",
    "<img src=\"../figures/empresas.png\" width=\"500px\">"
   ]
  },
  {
   "cell_type": "markdown",
   "metadata": {},
   "source": [
    "* Muitos empregos e bons salários.\n",
    "\n",
    "<img src=\"../figures/salaries.jpg\" width=\"500px\">"
   ]
  },
  {
   "cell_type": "markdown",
   "metadata": {},
   "source": [
    "* Possui um rico ecossistema de bibliotecas. \n",
    "\n",
    "<img src=\"../figures/libraries.png\" width=\"500px\">"
   ]
  },
  {
   "cell_type": "markdown",
   "metadata": {},
   "source": [
    "* Muito utilizada no meio científico devido a uma enorme quantidade de bibliotecas específicas para as áreas de engenharia, química, biologia, astrofísica, física, etc.\n",
    "* Python é a linguagem mais usada para o desenvolvimento de aplicações de Machine Learning. \n",
    "\n",
    "<img src=\"../figures/ml.jpg\" width=\"200px\">"
   ]
  },
  {
   "cell_type": "markdown",
   "metadata": {},
   "source": [
    "* Possui um vasto suporte on-line: Tutorials, Videos e StackOverflow. \n",
    "\n",
    "<img src=\"../figures/so-logo.png\" width=\"500px\">"
   ]
  },
  {
   "cell_type": "markdown",
   "metadata": {},
   "source": [
    "* Python é usada como linguagem educativa para ensino de computação e eletrônica (e.g., Raspberry Pi e LEGO Mindstorms têm suas aplicações desenvolvidas em Python). \n",
    "\n",
    "<img src=\"../figures/raspi-lego.png\" width=\"500px\">"
   ]
  },
  {
   "cell_type": "markdown",
   "metadata": {},
   "source": [
    "## Executando códigos Python na nuvem\n",
    "\n",
    "+ Para evitarmos a instalação de softwares, utilizaremos **aplicações web** para criação de **documentos virtuais**, chamados de **notebooks Jupyter**. \n",
    "+ Os **notebooks Jupyter**  \n",
    "    * permitem a execução de códigos de uma linguagem de programação em navegadores web tais como Google Chrome, Firefox, Microsoft Edge, etc.\n",
    "    * disponibilizam ferramentas para edição de texto, ou seja, nós podemos documentar todo o processo de escrita do código além de podermos criar equações e adicionar imagens. \n",
    "\n",
    "Existem vários ambientes computacionais gratuitos disponíveis para execução dos **notebooks Jupyter** mas, durante nosso curso, usaremos o **Google Colab** ou o **Binder** para execução do material e resolução de exercícios.\n",
    "\n",
    "### Google Colab e Binder\n",
    "\n",
    "<img src=\"../figures/python_binder_colab.png\" width=\"400px\">"
   ]
  },
  {
   "cell_type": "markdown",
   "metadata": {},
   "source": [
    "#### Google Colaboratory\n",
    "\n",
    "* O Google Colaboratory (também conhecido como Google Colab ou apenas Colab) é uma **aplicação web gratuita** que permite a criação e edição de notebooks Jupyter em navegadores web.\n",
    "* É um produto da Google.\n",
    "* Vantagens:\n",
    "    + Grande número de servidores.\n",
    "    + Rápida inicialização e processamento do código.\n",
    "    + Disponibiliza GPUs e TPUs gratuitamente.\n",
    "    + Salva seus notebooks no Google Drive.\n",
    "* Desvantagem:\n",
    "    + Até o momento, ele suporta apenas a linguagem Python.\n",
    "* Site do Colab: https://colab.research.google.com/"
   ]
  },
  {
   "cell_type": "markdown",
   "metadata": {},
   "source": [
    "#### Binder\n",
    "\n",
    "* O Binder é outra aplicação web gratuita que permite a edição e execução de notebooks em navegadores web.\n",
    "* Vantagem:\n",
    "    + Executa códigos escritos em Python, C++, C#, PHP, Ruby, Fortan, Julia e R.\n",
    "* Desvantagens:\n",
    "    + Poucos servidores disponíveis.\n",
    "    + Não é possível salvar os notebooks no Google Drive.\n",
    "    + Depois de algum tempo inativo, a máquina virtual executando seu código se desconecta e você pode perdê-lo. \n",
    "* Site do Projeto Binder/Jupyter: https://jupyter.org/"
   ]
  },
  {
   "cell_type": "markdown",
   "metadata": {},
   "source": [
    "### Instalando o Python, Jupyter e outras ferramentas\n",
    "\n",
    "+ Para resolver os exercícios e acesar o material do curso de forma off-line, vocês podem instalar o **Binder** e o **Jupyter** localmente.\n",
    "+ O Python, Binder, Jupyter e outras ferramentas e bibliotecas podem ser instaladas através da distribuição Anaconda seguindo o tutorial a seguir:\n",
    "    * [Tutorial para instalação do Anaconda](../docs/Tutorial-de-Instalação-Ambiente-Python-Jupyter.pdf).\n",
    "    \n",
    "**OBS**.: Infelizmente, o Google Colab não pode ser instalado localmente.\n",
    "\n",
    "### Versão de Python que utilizaremos\n",
    "\n",
    "* **Durante nosso curso, nós utilizaremos a versão 3.x do Python pois a versão 2.x foi descontinuada em Janeiro de 2020.**"
   ]
  },
  {
   "cell_type": "markdown",
   "metadata": {},
   "source": [
    "## Exemplo com conceitos básicos\n",
    "\n",
    "O exemplo abaixo apresenta alguns conceitos básicos da linguagem Python através da **definição e uso de uma função**."
   ]
  },
  {
   "cell_type": "code",
   "execution_count": 1,
   "metadata": {},
   "outputs": [],
   "source": [
    "# Este é um comentário de uma linha.\n",
    "\n",
    "# O próximo comentário, é um comentário de multiplas linhas. \n",
    "# Podemos criar comentários de VÁRIAS linhas usando 3 aspas SIMPLES ou DUPLAS.\n",
    "\n",
    "'''\n",
    "Para definirmos uma função, seu cabeçalho deve ter:\n",
    "     1. a palavra reservada 'def', \n",
    "     2. seguida do nome da função,\n",
    "     3. uma lista de parâmetros separados por vírgulas,\n",
    "     4. e dois pontos para definir o início do corpo da função.\n",
    "''' \n",
    "def minhaFunção(parâmetroDeEntrada1, parâmetroDeEntrada2):\n",
    "    \"\"\"\n",
    "    Comentários de várias linhas LOGO APÓS o cabeçalho são chamados de 'docstrings'.\n",
    "    Exemplo de docstring: Esta função 'soma' os dois parâmetros de entrada e retorna o resultado.\n",
    "    \"\"\"\n",
    "    # Realiza uma operação e atribui o valor a uma variável.\n",
    "    valorDeRetorno = parâmetroDeEntrada1 + parâmetroDeEntrada2\n",
    "    # Retorna o valor da operação para quem invocou a função usando a palavra reservada 'return'.\n",
    "    return valorDeRetorno"
   ]
  },
  {
   "cell_type": "markdown",
   "metadata": {},
   "source": [
    "**OBSERVAÇÕES**: \n",
    "\n",
    "+ Percebam que o corpo da função está recuado em relação ao cabeçalho.\n",
    "+ Na célula de código acima, realizamos **apenas a definição da função**. A função será executada apenas quando for chamada com valores de entrada para seus argumentos, caso existam.\n",
    "+ A definição da função e sua chamada **não precisam estar na mesma célula de código**.\n",
    "+ Variáveis, objetos e funções persistem entre células, ou seja, depois que uma célula de código é executada, o código definido na célula fica acessível em qualquer outra célula."
   ]
  },
  {
   "cell_type": "markdown",
   "metadata": {},
   "source": [
    "#### Importante\n",
    "\n",
    "&rarr; No código abaixo, percebam que **não há definição explícita do tipo das variáveis**.\n",
    "\n",
    "&rarr; Nós simplesmente atribuímos valores às variáveis e o interpretador infere o tipo da variável."
   ]
  },
  {
   "cell_type": "code",
   "execution_count": 2,
   "metadata": {},
   "outputs": [
    {
     "name": "stdout",
     "output_type": "stream",
     "text": [
      "Resultado é: guarda-chuva\n"
     ]
    }
   ],
   "source": [
    "# Atribuindo valores às variáveis que serão passadas como argumentos de entrada para a função.\n",
    "# Percebam que não há definição explícita do tipo das variáveis.\n",
    "# O interpretador infere que as variáveis são do tipo String.\n",
    "variável1 = 'guarda'\n",
    "variável2 = '-chuva'\n",
    "# Invocando a função e atribuindo o valor de retorno a uma variável.\n",
    "retorno = minhaFunção(variável1, variável2)\n",
    "# Imprimindo o valor de retorno da função.\n",
    "print('Resultado é:', retorno)"
   ]
  },
  {
   "cell_type": "code",
   "execution_count": 3,
   "metadata": {},
   "outputs": [
    {
     "name": "stdout",
     "output_type": "stream",
     "text": [
      "Resultado é: 3\n"
     ]
    }
   ],
   "source": [
    "# O interpretador infere que as variáveis são do tipo Integer.\n",
    "variável1 = 1\n",
    "variável2 = 2\n",
    "# Invocando a função e atribuindo o valor de retorno a uma variável.\n",
    "retorno = minhaFunção(variável1, variável2)\n",
    "print('Resultado é:', retorno)"
   ]
  },
  {
   "cell_type": "code",
   "execution_count": 4,
   "metadata": {},
   "outputs": [
    {
     "name": "stdout",
     "output_type": "stream",
     "text": [
      "Resultado é: 4.0\n"
     ]
    }
   ],
   "source": [
    "# O interpretador infere que as variáveis são do tipo Float.\n",
    "variável1 = 2.5\n",
    "variável2 = 1.5\n",
    "# Invocando a função e atribuindo o valor de retorno a uma variável.\n",
    "retorno = minhaFunção(variável1, variável2)\n",
    "print('Resultado é:', retorno)"
   ]
  },
  {
   "cell_type": "markdown",
   "metadata": {},
   "source": [
    "### Após analisarmos o código acima, quais diferenças podemos perceber para outras linguagens de programação?\n",
    "\n",
    "* Não há declaração dos tipos das variáveis.\n",
    "* Não é necessário abrir e fechar colchetes (`{}`).\n",
    "* O corpo da função é delimitado através do recuo (indentação).\n",
    " + **A indentação é obrigatória (tabulações ou espaços) e deve ser feita de maneira correta!**\n",
    "* Não é necessário ponto e vírgula ao final de cada instrução (`;`). \n",
    "* Strings são codificadas através do padrão Unicode (UTF-8)\n",
    " + Isso significa que podemos ter acentos no código.\n",
    "* A palavra reservada `def` indica ao interpretador que estamos **def**inindo uma função.\n",
    "* O início do corpo de uma função é definido pelos dois pontos (`:`).\n",
    "* O tipo das variáveis muda dinâmicamente."
   ]
  },
  {
   "cell_type": "markdown",
   "metadata": {},
   "source": [
    "## Avisos\n",
    "\n",
    "* Se atentem aos prazos de entrega das tarefas na aba de **Avaliações** do MS Teams.\n",
    "* Não se esqueçam de sempre colocar **nome** e **matrícula** nos laboratórios.\n",
    "* Horário de atendimento do Professor: todas as Quintas-feiras das 17:30 às 19:30 (sala do professor no prédio 3).\n",
    "* Horário de atendimento do Monitor (Maycol Teles: maycol.teles@ges.inatel.br): será divulgado em breve."
   ]
  },
  {
   "cell_type": "markdown",
   "metadata": {},
   "source": [
    "## Referências\n",
    "\n",
    "#### Apostilas e tutoriais disponíveis gratuitamente na web:\n",
    "\n",
    "1. LABAKI, Josué, Introdução a Python - Módulo A, http://www.dcc.ufrj.br/~fabiom/python/pythonbasico.pdf\n",
    "\n",
    "2. BORGES, Luís Eduardo, Python para Desenvolvedores, https://ark4n.files.wordpress.com/2010/01/python_para_desenvolvedores_2ed.pdf\n",
    "\n",
    "3. VAN ROSSUM, Guido, O Tutorial Python, https://docs.python.org/pt-br/3/tutorial/index.html\n",
    "\n",
    "4. DOWNEY, Allen Downey; ELKNER, Jeff, e MEYERS, Chris, Aprenda Computação com Python 3.0, https://mange.ifrn.edu.br/python/aprenda-com-py3/index.html\n",
    "\n",
    "5. MILLER, Brad Miller e RANUM, David, How to Think Like a Computer Scientist: Interactive Edition, https://runestone.academy/runestone/books/published/thinkcspy/index.html"
   ]
  },
  {
   "cell_type": "markdown",
   "metadata": {},
   "source": [
    "## Tarefas\n",
    "\n",
    "1. <span style=\"color:blue\">**QUIZ - Conceitos básicos**</span>: respondam ao quiz sobre conceitos básicos no MS teams, por favor.\n",
    "2. <span style=\"color:blue\">**Laboratório #1**</span>: cliquem em um dos links abaixo para accessar os exercícios do laboratório #1.\n",
    "\n",
    "[![Google Colab](https://badgen.net/badge/Launch/on%20Google%20Colab/blue?icon=terminal)](https://colab.research.google.com/github/zz4fap/python-programming/blob/master/labs/Laboratorio1.ipynb)\n",
    "\n",
    "[![Binder](https://mybinder.org/badge_logo.svg)](https://mybinder.org/v2/gh/zz4fap/python-programming/master?filepath=labs%2FLaboratorio1.ipynb)\n",
    "\n",
    "**IMPORTANTE**: Para acessar o material das aulas e realizar as entregas dos exercícios de laboratório, por favor, leiam o tutorial no seguinte link:\n",
    "[Material-das-Aulas](../docs/Acesso-ao-material-das-aulas-resolucao-e-entrega-dos-laboratorios.pdf)"
   ]
  },
  {
   "cell_type": "markdown",
   "metadata": {},
   "source": [
    "<img src=\"../figures/obrigado.png\">"
   ]
  }
 ],
 "metadata": {
  "kernelspec": {
   "display_name": "Python 3 (ipykernel)",
   "language": "python",
   "name": "python3"
  },
  "language_info": {
   "codemirror_mode": {
    "name": "ipython",
    "version": 3
   },
   "file_extension": ".py",
   "mimetype": "text/x-python",
   "name": "python",
   "nbconvert_exporter": "python",
   "pygments_lexer": "ipython3",
   "version": "3.9.13"
  }
 },
 "nbformat": 4,
 "nbformat_minor": 4
}
