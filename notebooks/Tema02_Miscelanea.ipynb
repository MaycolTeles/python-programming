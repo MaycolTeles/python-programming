{
 "cells": [
  {
   "cell_type": "markdown",
   "metadata": {},
   "source": [
    "# Tipos de dados, operadores, modulos, pacotes, strings e mensagens de erro\n",
    "\n",
    "Nesta aula, nós veremos os seguintes tópicos:\n",
    "\n",
    "* Tipos de dados.\n",
    "* Operadores aritméticos.\n",
    "* Módulos e pacotes.\n",
    "* Manipulação de cadeias de caracteres (Strings).\n",
    "* Mensagens de erro."
   ]
  },
  {
   "cell_type": "markdown",
   "metadata": {},
   "source": [
    "## Tipos de dados\n",
    "\n",
    "Em Python, temos os seguintes tipos de **dados nativos** (também chamados de **embutidos**, do Inglês **built-in**):\n",
    "\n",
    "|  Categoria |   Nome  |         Descrição        |\n",
    "|:----------:|:-------:|:------------------------:|\n",
    "|  Numérica  |   int   |         Inteiros         |\n",
    "|            |  float  |      Ponto flutuante     |\n",
    "|            | complex |      Número complexo     |\n",
    "|            |   bool  | Boolean (True ou false)  |\n",
    "| Sequencial |   str   |   String de caracteres   |\n",
    "|            |   list  |           Lista          |\n",
    "|            |  tuple  |           Tupla          |\n",
    "|            |  range  |   Intervalo de valores   |\n",
    "|  Conjunto  |   set   |     Conjunto             |\n",
    "|            | frozenset |       Conjunto imutável                 |\n",
    "| Mapeamento |   dict  |     Dicionário           |\n",
    "| Nula       | NoneType | Valor nulo |\n",
    "\n",
    "**OBS**.: Esses tipos de dados são chamados de **embutidos** pois são pré-definidos pela linguagem e estão sempre disponíveis em tempo de execução, sem a necessidade de se importar nenhuma biblioteca.\n",
    "\n",
    "Relembrando, em Python, as variáveis **não**:\n",
    "\n",
    "* Precisam ser declaradas ou definidas com antecedência. \n",
    "    + Para criar uma variável, basta atribuir um valor a ela.\n",
    "* Podem ser utilizadas em uma expressão sem terem sido inicializadas.\n",
    "    + O interpretador precisa de uma atribuição de valor para inferir o tipo da variável.\n",
    "* São estáticas, como em outras linguagens de programação.\n",
    "    + Tipo da variável pode mudar dinamicamente.\n",
    "* Precisam ser destruídas explicitamente.\n",
    "    + O gerenciador de memória as deleta automaticamente quando não existem mais referências a elas.\n",
    "    \n",
    "Além disso, os tipos de dados em Python podem ser:\n",
    "\n",
    "+ **Mutáveis**: permitem que os conteúdos das variáveis sejam alterados.\n",
    "+ **Imutáveis**: não permitem que os conteúdos das variáveis sejam alterados.\n",
    "\n",
    "### Exemplos\n",
    "\n",
    "#### Tipagem dinâmica.\n",
    "\n",
    "**OBS**.: \n",
    "\n",
    "+ Nos próximos exemplos, usamos a **função embutida** `type()` para verificar o tipo das variáveis em tempo de execução.\n",
    "+ Usamos **caracteres de formatação** com a **função embutida** `print()`, onde por exemplo `%s` é substituído por uma string, `%d`, por um valor interiro e assim por diante. Vejam o exemplo abaixo:\n",
    "```python\n",
    "print('String: %s, Inteiro: %d, Float: %f' % (var_string, var_int, var_float))\n",
    "```"
   ]
  },
  {
   "cell_type": "code",
   "execution_count": 4,
   "metadata": {},
   "outputs": [
    {
     "name": "stdout",
     "output_type": "stream",
     "text": [
      "type(a): <class 'int'> - valor de a: 1\n",
      "type(a): <class 'str'> - valor de a: teste\n"
     ]
    }
   ],
   "source": [
    "# A variável 'a' recebe o valor inteiro 1.\n",
    "a = 1\n",
    "# OBS.: type() é uma função embutida que retorna o tipo de um objeto.\n",
    "print('type(a): %s - valor de a: %d' % (type(a), a))\n",
    "\n",
    "# Agora, a mesma variável 'a' recebe a string 'teste'.\n",
    "a = 'teste'\n",
    "print('type(a): %s - valor de a: %s' % (type(a), a))"
   ]
  },
  {
   "cell_type": "markdown",
   "metadata": {},
   "source": [
    "#### Uso sem inicialização da variável."
   ]
  },
  {
   "cell_type": "code",
   "execution_count": 5,
   "metadata": {},
   "outputs": [
    {
     "ename": "NameError",
     "evalue": "name 'b' is not defined",
     "output_type": "error",
     "traceback": [
      "\u001b[1;31m---------------------------------------------------------------------------\u001b[0m",
      "\u001b[1;31mNameError\u001b[0m                                 Traceback (most recent call last)",
      "\u001b[1;32m<ipython-input-5-19ed29e22eb2>\u001b[0m in \u001b[0;36m<module>\u001b[1;34m\u001b[0m\n\u001b[0;32m      1\u001b[0m \u001b[1;31m# Tentando imprimir o valor da variável 'b', a qual não foi inicializada.\u001b[0m\u001b[1;33m\u001b[0m\u001b[1;33m\u001b[0m\u001b[1;33m\u001b[0m\u001b[0m\n\u001b[1;32m----> 2\u001b[1;33m \u001b[0mprint\u001b[0m\u001b[1;33m(\u001b[0m\u001b[1;34m'O valor de b é'\u001b[0m\u001b[1;33m,\u001b[0m \u001b[0mb\u001b[0m\u001b[1;33m)\u001b[0m\u001b[1;33m\u001b[0m\u001b[1;33m\u001b[0m\u001b[0m\n\u001b[0m",
      "\u001b[1;31mNameError\u001b[0m: name 'b' is not defined"
     ]
    }
   ],
   "source": [
    "# Tentando imprimir o valor da variável 'b', a qual não foi inicializada.\n",
    "print('O valor de b é', b)"
   ]
  },
  {
   "cell_type": "markdown",
   "metadata": {},
   "source": [
    "#### Tipos imutáveis e mutáveis.\n",
    "\n",
    "Strings são objetos imutáveis, ou seja, são objetos apenas para leitura."
   ]
  },
  {
   "cell_type": "code",
   "execution_count": 7,
   "metadata": {},
   "outputs": [
    {
     "name": "stdout",
     "output_type": "stream",
     "text": [
      "type(a): <class 'str'> - valor de a: casa\n",
      "\n",
      "Conteúdo do primeiro elemento da string: c\n"
     ]
    },
    {
     "ename": "TypeError",
     "evalue": "'str' object does not support item assignment",
     "output_type": "error",
     "traceback": [
      "\u001b[1;31m---------------------------------------------------------------------------\u001b[0m",
      "\u001b[1;31mTypeError\u001b[0m                                 Traceback (most recent call last)",
      "\u001b[1;32mC:\\Users\\FELIPE~1.FIG\\AppData\\Local\\Temp/ipykernel_3816/1751804622.py\u001b[0m in \u001b[0;36m<module>\u001b[1;34m\u001b[0m\n\u001b[0;32m      7\u001b[0m \u001b[1;33m\u001b[0m\u001b[0m\n\u001b[0;32m      8\u001b[0m \u001b[1;31m# Tentando alterar um caracter de um objeto do tipo string.\u001b[0m\u001b[1;33m\u001b[0m\u001b[1;33m\u001b[0m\u001b[0m\n\u001b[1;32m----> 9\u001b[1;33m \u001b[0ma\u001b[0m\u001b[1;33m[\u001b[0m\u001b[1;36m0\u001b[0m\u001b[1;33m]\u001b[0m \u001b[1;33m=\u001b[0m \u001b[1;34m't'\u001b[0m\u001b[1;33m\u001b[0m\u001b[1;33m\u001b[0m\u001b[0m\n\u001b[0m",
      "\u001b[1;31mTypeError\u001b[0m: 'str' object does not support item assignment"
     ]
    }
   ],
   "source": [
    "# Inicializando uma variável com um objeto do tipo string.\n",
    "a = 'casa'\n",
    "print('type(a): %s - valor de a: %s' % (type(a), a))\n",
    "\n",
    "# Podemos ler o conteúdo da string.\n",
    "print('\\nConteúdo do primeiro elemento da string:', a[0])\n",
    "\n",
    "# Tentando alterar um caracter de um objeto do tipo string.\n",
    "a[0] = 't'"
   ]
  },
  {
   "cell_type": "markdown",
   "metadata": {},
   "source": [
    "Listas são objetos mutáveis."
   ]
  },
  {
   "cell_type": "code",
   "execution_count": 8,
   "metadata": {},
   "outputs": [
    {
     "name": "stdout",
     "output_type": "stream",
     "text": [
      "type(l): <class 'list'> - valor de l: ['c', 'a', 's', 'a']\n",
      "\n",
      "Conteúdo do primeiro elemento da lista: c\n",
      "\n",
      "type(l): <class 'list'> - valor de l: ['t', 'a', 's', 'a']\n"
     ]
    }
   ],
   "source": [
    "# Inicializando uma variável com um objeto do tipo lista.\n",
    "l = ['c','a','s','a']\n",
    "print('type(l): %s - valor de l: %s' % (type(l), l))\n",
    "\n",
    "# Podemos ler o conteúdo da string.\n",
    "print('\\nConteúdo do primeiro elemento da lista:', l[0])\n",
    "\n",
    "# Alterando um caracter de um objeto do tipo lista.\n",
    "l[0] = 't'\n",
    "print('\\ntype(l): %s - valor de l: %s' % (type(l), l))"
   ]
  },
  {
   "cell_type": "markdown",
   "metadata": {},
   "source": [
    "### Tarefa\n",
    "\n",
    "1. <span style=\"color:blue\">**QUIZ - Tipos de dados**</span>: respondam ao quiz sobre tipos de dados no MS teams, por favor."
   ]
  },
  {
   "cell_type": "markdown",
   "metadata": {},
   "source": [
    "## Operadores Aritméticos\n",
    "\n",
    "Em Python, temos os seguintes operadores aritméticos:\n",
    "\n",
    "| Operador |       Nome      |  Exemplo | Resultado | Comentário          |\n",
    "|:--------:|:---------------:|:--------:|:---------:|:-------------------:|\n",
    "|     +    |      Adição     |   1 + 1  |     2     | retorna a soma de dois valores                    |\n",
    "|     -    |    Subtração    |   2 - 1  |     1     | retorna a subtração de dois valores                    |\n",
    "|     *    |  Multiplicação  |   2 * 2  |     4     | retorna a multiplicação de dois valores                     |\n",
    "|     /    |     Divisão     |  100 / 4 |    25.0   | retorna a divisão em ponto flutuante de dois valores | \n",
    "|    **    |  Exponenciação  |  2 ** 3  |     8     | retorna o resultado de número elevado à potência do outro                    |\n",
    "|    //    | Divisão inteira | 5 // 3 |     1    | retorna apenas a parte inteira (quociente) da divisão entre dois valores                    |\n",
    "|     %    |      Módulo     |   5 % 3  |     2     | retorna o resto da divisão entre dois valores                    |\n",
    "\n",
    "\n",
    "### Ordem de precedência dos  operadores\n",
    "\n",
    "* A tabela a seguir apresenta a ordem de precedência dos operadores aritméticos, **da mais alta para a mais baixa**.\n",
    "* Esta tabela será atualizada quando aprendermos outros operadores.\n",
    "\n",
    "|   Precedência   |           Categoria           |  Operadores |               Comentário              |\n",
    "|:---------:|:-----------------------------:|:-----------:|:-------------------------------------:|\n",
    "|  4 (alta) |           parênteses          |      ()     |                                       |\n",
    "|     3     |            expoente           |      **     |                                       |\n",
    "|     2     | multiplicação, divisão, resto | *, /, //, % | Aplicados da esquerda para a direita na ordem em que aparecem na expressão. |\n",
    "| 1 (baixa) |       adição, subtração       |     +, -    | Aplicados da esquerda para a direita na ordem em que aparecem na expressão. |\n",
    "\n",
    "**IMPORTANTE**: Operadores com mesmo nível de precedência são aplicados da **esquerda para a direita** na ordem em que aparecem na expressão.\n",
    "\n",
    "### Exemplos"
   ]
  },
  {
   "cell_type": "code",
   "execution_count": 8,
   "metadata": {},
   "outputs": [
    {
     "name": "stdout",
     "output_type": "stream",
     "text": [
      "O resultado é: 2\n"
     ]
    }
   ],
   "source": [
    "# A multiplicação tem ordem de precedência maior do que a subtração.\n",
    "a = 10 - 4 * 2\n",
    "\n",
    "print('O resultado é:', a)"
   ]
  },
  {
   "cell_type": "code",
   "execution_count": 9,
   "metadata": {},
   "outputs": [
    {
     "name": "stdout",
     "output_type": "stream",
     "text": [
      "O resultado é: 12\n"
     ]
    }
   ],
   "source": [
    "# Os parênteses têm a mais alta ordem de precedência.\n",
    "a = (10 - 4) * 2\n",
    "\n",
    "print('O resultado é:', a)"
   ]
  },
  {
   "cell_type": "code",
   "execution_count": 10,
   "metadata": {},
   "outputs": [
    {
     "name": "stdout",
     "output_type": "stream",
     "text": [
      "O resultado é: 1.0\n"
     ]
    }
   ],
   "source": [
    "# Operadores com mesma ordem precedência são aplicados da esquerda para a direita conforme aparecem na expressão.\n",
    "a = 5 // 2 * 4 / 8\n",
    "\n",
    "print('O resultado é:', a)"
   ]
  },
  {
   "cell_type": "markdown",
   "metadata": {},
   "source": [
    "### Tarefa\n",
    "\n",
    "1. <span style=\"color:blue\">**QUIZ - Operadores Aritméticos**</span>: respondam ao quiz sobre operadores aritméticos no MS teams, por favor."
   ]
  },
  {
   "cell_type": "markdown",
   "metadata": {},
   "source": [
    "## Módulos e pacotes\n",
    "\n",
    "### Módulos\n",
    "\n",
    "* Em Python, um módulo nada mais é do que um arquivo que contém o código que implementa **funcionalidades específicas e relacionadas**.\n",
    "    + Um módulo pode conter um conjunto de funções, classes, variáveis, etc.\n",
    "    + Por exemplo, em um jogo de vídeo game, um módulo de som é responsável pelo processamento de audio e outro módulo, imagem, pelo processamento de imagens.\n",
    "* Cada módulo é um arquivo diferente, que pode ser editado separadamente.\n",
    "* Módulos são arquivos com extensão `.py`.\n",
    "* O nome do módulo é o **nome do arquivo sem a extensão `.py`**.\n",
    "    + Por exemplo, o arquivo `imagem.py` é um módulo, cujo nome é  `imagem`."
   ]
  },
  {
   "cell_type": "markdown",
   "metadata": {},
   "source": [
    "* Os módulos são importados usando-se a **palavra reservada** `import`.\n",
    "```python\n",
    "import imagem\n",
    "```\n",
    "\n",
    "* Para deixar o código mais conciso, podemos criar um **apelido** ao importar um módulo, usando a **palavra reservada** `as`.\n",
    "```python\n",
    "import imagem as i\n",
    "```\n",
    "\n",
    "* Podemos também optar por importar apenas partes de um módulo (por exemplo, apenas uma função), usando a **palavra reservada** `from`.\n",
    "```python\n",
    "from imagem import playVideo\n",
    "```\n",
    "\n",
    "* Podemos importar mais de uma parte do módulo usando vírgulas.\n",
    "```python\n",
    "from imagem import playVideo, playAudio\n",
    "```"
   ]
  },
  {
   "cell_type": "markdown",
   "metadata": {},
   "source": [
    "### Pacotes\n",
    "\n",
    "* Pacotes são simplesmente diretórios onde podemos ter módulos e/ou pacotes.\n",
    "* São usados para estruturar o código.\n",
    "* Pacotes podem conter outros pacotes e módulos. \n",
    "* Pacotes são importados da mesma maneira que módulos, ou seja, usando a **palavra reservada** `import`."
   ]
  },
  {
   "cell_type": "markdown",
   "metadata": {},
   "source": [
    "#### Exemplos\n",
    "\n",
    "#### Importando um módulo já existente.\n",
    "\n",
    "+ O módulo `math` é um módulo que contém a implementação de várias funções matemática como raíz quadrada, logaritmo, seno, cosseno, etc.\n",
    "+ Para saber mais sobre as várias funções implementadas pelo módulo, acesse: https://docs.python.org/3/library/math.html"
   ]
  },
  {
   "cell_type": "code",
   "execution_count": 10,
   "metadata": {},
   "outputs": [
    {
     "name": "stdout",
     "output_type": "stream",
     "text": [
      "O resultado da raíz quadrada é: 5.0\n",
      "O resultado da raíz quadrada é: 7.0\n",
      "O resultado da raíz quadrada é: 10.0\n"
     ]
    }
   ],
   "source": [
    "# Importa todo o conteúdo do módulo math.\n",
    "import math \n",
    "\n",
    "# Executa a função sqrt(), que é parte de módulo.\n",
    "# Precisamos sempre especificar o caminho até a função.\n",
    "print('O resultado da raíz quadrada é:', math.sqrt(25))\n",
    "\n",
    "# Criando um apelido para o módulo math.\n",
    "import math as m\n",
    "print('O resultado da raíz quadrada é:', m.sqrt(49))\n",
    "\n",
    "# Importando apenas a função sqrt() do módulo math.\n",
    "from math import sqrt\n",
    "print('O resultado da raíz quadrada é:', sqrt(100))"
   ]
  },
  {
   "cell_type": "markdown",
   "metadata": {},
   "source": [
    "#### Criando e importanto meu próprio módulo.\n",
    "\n",
    "+ Vamos criar um módulo, ou seja, um arquivo, chamado `meu_modulo`.\n",
    "+ Este módulo deve conter uma função chamada `soma`, a qual recebe dois valores de entrada e retorna a soma deles.\n",
    "\n",
    "**OBS**.: O arquivo contendo as funcionalidades do módulo deve ter a extensão `.py`."
   ]
  },
  {
   "cell_type": "code",
   "execution_count": 12,
   "metadata": {},
   "outputs": [
    {
     "ename": "ModuleNotFoundError",
     "evalue": "No module named 'meu_modulo'",
     "output_type": "error",
     "traceback": [
      "\u001b[1;31m---------------------------------------------------------------------------\u001b[0m",
      "\u001b[1;31mModuleNotFoundError\u001b[0m                       Traceback (most recent call last)",
      "\u001b[1;32m<ipython-input-12-b8169f0d5a0c>\u001b[0m in \u001b[0;36m<module>\u001b[1;34m\u001b[0m\n\u001b[1;32m----> 1\u001b[1;33m \u001b[1;32mimport\u001b[0m \u001b[0mmeu_modulo\u001b[0m\u001b[1;33m\u001b[0m\u001b[1;33m\u001b[0m\u001b[0m\n\u001b[0m\u001b[0;32m      2\u001b[0m \u001b[1;33m\u001b[0m\u001b[0m\n\u001b[0;32m      3\u001b[0m \u001b[0mprint\u001b[0m\u001b[1;33m(\u001b[0m\u001b[1;34m'Resultado:'\u001b[0m\u001b[1;33m,\u001b[0m \u001b[0mmeu_modulo\u001b[0m\u001b[1;33m.\u001b[0m\u001b[0msoma\u001b[0m\u001b[1;33m(\u001b[0m\u001b[1;36m1\u001b[0m\u001b[1;33m,\u001b[0m\u001b[1;36m1\u001b[0m\u001b[1;33m)\u001b[0m\u001b[1;33m)\u001b[0m\u001b[1;33m\u001b[0m\u001b[1;33m\u001b[0m\u001b[0m\n\u001b[0;32m      4\u001b[0m \u001b[1;33m\u001b[0m\u001b[0m\n\u001b[0;32m      5\u001b[0m \u001b[1;32mimport\u001b[0m \u001b[0mmeu_modulo\u001b[0m \u001b[1;32mas\u001b[0m \u001b[0mmm\u001b[0m\u001b[1;33m\u001b[0m\u001b[1;33m\u001b[0m\u001b[0m\n",
      "\u001b[1;31mModuleNotFoundError\u001b[0m: No module named 'meu_modulo'"
     ]
    }
   ],
   "source": [
    "import meu_modulo\n",
    "\n",
    "print('Resultado:', meu_modulo.soma(1,1))\n",
    "\n",
    "import meu_modulo as mm\n",
    "\n",
    "print('Resultado:', mm.soma(1,2))\n",
    "\n",
    "from meu_modulo import soma\n",
    "\n",
    "print('Resultado:', soma(2,2))"
   ]
  },
  {
   "cell_type": "markdown",
   "metadata": {},
   "source": [
    "#### Criando e importanto módulos do meu próprio pacote.\n",
    "\n",
    "+ Vamos criar um pacote ou seja, um diretório, chamado `meu_pacote`.\n",
    "+ Este pacote deve conter dois arquivos, chamados `moduloA.py` e `moduloB.py`, que contém as funcionalidades dos módulos `moduloA` e `moduloB`.\n",
    "+ O `móduloA` contém uma função chamada `multiplicação`, que recebe dois valores de entrada e retorna o produto entre eles.\n",
    "+ O `móduloB` contém uma função chamada `subtração`, que recebe dois valores de entrada e retorna a diferença entre eles."
   ]
  },
  {
   "cell_type": "code",
   "execution_count": 13,
   "metadata": {},
   "outputs": [
    {
     "ename": "ModuleNotFoundError",
     "evalue": "No module named 'meu_pacote'",
     "output_type": "error",
     "traceback": [
      "\u001b[1;31m---------------------------------------------------------------------------\u001b[0m",
      "\u001b[1;31mModuleNotFoundError\u001b[0m                       Traceback (most recent call last)",
      "\u001b[1;32m<ipython-input-13-7c89ae684f40>\u001b[0m in \u001b[0;36m<module>\u001b[1;34m\u001b[0m\n\u001b[1;32m----> 1\u001b[1;33m \u001b[1;32mimport\u001b[0m \u001b[0mmeu_pacote\u001b[0m\u001b[1;33m.\u001b[0m\u001b[0mmoduloA\u001b[0m\u001b[1;33m\u001b[0m\u001b[1;33m\u001b[0m\u001b[0m\n\u001b[0m\u001b[0;32m      2\u001b[0m \u001b[1;33m\u001b[0m\u001b[0m\n\u001b[0;32m      3\u001b[0m \u001b[0mprint\u001b[0m\u001b[1;33m(\u001b[0m\u001b[1;34m'Resultado:'\u001b[0m\u001b[1;33m,\u001b[0m \u001b[0mmeu_pacote\u001b[0m\u001b[1;33m.\u001b[0m\u001b[0mmoduloA\u001b[0m\u001b[1;33m.\u001b[0m\u001b[0mmultiplicação\u001b[0m\u001b[1;33m(\u001b[0m\u001b[1;36m2\u001b[0m\u001b[1;33m,\u001b[0m\u001b[1;36m2\u001b[0m\u001b[1;33m)\u001b[0m\u001b[1;33m)\u001b[0m\u001b[1;33m\u001b[0m\u001b[1;33m\u001b[0m\u001b[0m\n\u001b[0;32m      4\u001b[0m \u001b[1;33m\u001b[0m\u001b[0m\n\u001b[0;32m      5\u001b[0m \u001b[1;32mimport\u001b[0m \u001b[0mmeu_pacote\u001b[0m\u001b[1;33m.\u001b[0m\u001b[0mmoduloA\u001b[0m \u001b[1;32mas\u001b[0m \u001b[0mma\u001b[0m\u001b[1;33m\u001b[0m\u001b[1;33m\u001b[0m\u001b[0m\n",
      "\u001b[1;31mModuleNotFoundError\u001b[0m: No module named 'meu_pacote'"
     ]
    }
   ],
   "source": [
    "import meu_pacote.moduloA\n",
    "\n",
    "print('Resultado:', meu_pacote.moduloA.multiplicação(2,2))\n",
    "\n",
    "import meu_pacote.moduloA as ma\n",
    "\n",
    "print('Resultado:', ma.multiplicação(2,3))\n",
    "\n",
    "from meu_pacote.moduloA import multiplicação\n",
    "\n",
    "print('Resultado:', ma.multiplicação(3,3))\n",
    "\n",
    "import meu_pacote.moduloB as mb\n",
    "\n",
    "print('Resultado:', mb.subtração(2,2))"
   ]
  },
  {
   "cell_type": "markdown",
   "metadata": {},
   "source": [
    "### Tarefa\n",
    "\n",
    "1. <span style=\"color:blue\">**QUIZ - Módulos e pacotes**</span>: respondam ao quiz sobre módulos e pacotes no MS teams, por favor."
   ]
  },
  {
   "cell_type": "markdown",
   "metadata": {},
   "source": [
    "## Manipulação de cadeias de caracteres (strings)\n",
    "\n",
    "* Strings são sequências de caracteres.\n",
    "* Em Python, strings são cercadas por **aspas simples** ou **aspas duplas**.\n",
    "* O Python não possui um tipo de dados de caractere. \n",
    "    + Um único caractere é simplesmente uma string com o comprimento igual a 1.\n",
    "* Em Python, uma string é representada pelo tipo (ou classe) `str`.\n",
    "* Strings são tipos de dados imutáveis.\n",
    "    \n",
    "### Exemplos\n",
    "\n",
    "#### Strings são cercadas por aspas simples ou duplas."
   ]
  },
  {
   "cell_type": "code",
   "execution_count": 14,
   "metadata": {},
   "outputs": [
    {
     "name": "stdout",
     "output_type": "stream",
     "text": [
      "Olá\n",
      "Olá\n"
     ]
    }
   ],
   "source": [
    "# As duas formas são equivalentes.\n",
    "print(\"Olá\")\n",
    "print('Olá')"
   ]
  },
  {
   "cell_type": "markdown",
   "metadata": {},
   "source": [
    "#### Python não possui um tipo char."
   ]
  },
  {
   "cell_type": "code",
   "execution_count": 15,
   "metadata": {},
   "outputs": [
    {
     "name": "stdout",
     "output_type": "stream",
     "text": [
      "type(var1): <class 'str'>\n",
      "type(var2): <class 'str'>\n",
      "type(var3): <class 'str'>\n"
     ]
    }
   ],
   "source": [
    "var1 = 'a'\n",
    "print('type(var1):',type(var1))\n",
    "\n",
    "var2 = \"b\"\n",
    "print('type(var2):',type(var2))\n",
    "\n",
    "var3 = 'inatel'\n",
    "print('type(var3):',type(var3))"
   ]
  },
  {
   "cell_type": "markdown",
   "metadata": {},
   "source": [
    "#### Strings são imutáveis!"
   ]
  },
  {
   "cell_type": "code",
   "execution_count": 16,
   "metadata": {},
   "outputs": [
    {
     "ename": "TypeError",
     "evalue": "'str' object does not support item assignment",
     "output_type": "error",
     "traceback": [
      "\u001b[1;31m---------------------------------------------------------------------------\u001b[0m",
      "\u001b[1;31mTypeError\u001b[0m                                 Traceback (most recent call last)",
      "\u001b[1;32m<ipython-input-16-3bc43495a2ae>\u001b[0m in \u001b[0;36m<module>\u001b[1;34m\u001b[0m\n\u001b[0;32m      2\u001b[0m \u001b[1;33m\u001b[0m\u001b[0m\n\u001b[0;32m      3\u001b[0m \u001b[1;31m# Tentando alterar o caracter da primeira posição.\u001b[0m\u001b[1;33m\u001b[0m\u001b[1;33m\u001b[0m\u001b[1;33m\u001b[0m\u001b[0m\n\u001b[1;32m----> 4\u001b[1;33m \u001b[0mstring\u001b[0m\u001b[1;33m[\u001b[0m\u001b[1;36m0\u001b[0m\u001b[1;33m]\u001b[0m \u001b[1;33m=\u001b[0m \u001b[1;34m'b'\u001b[0m\u001b[1;33m\u001b[0m\u001b[1;33m\u001b[0m\u001b[0m\n\u001b[0m",
      "\u001b[1;31mTypeError\u001b[0m: 'str' object does not support item assignment"
     ]
    }
   ],
   "source": [
    "string = 'Olá'\n",
    "\n",
    "# Tentando alterar o caracter da primeira posição.\n",
    "string[0] = 'b'"
   ]
  },
  {
   "cell_type": "markdown",
   "metadata": {},
   "source": [
    "#### Strings com múltiplas linhas.\n",
    "\n",
    "**OBS**.: Podemos usar aspas simples ou duplas."
   ]
  },
  {
   "cell_type": "code",
   "execution_count": 17,
   "metadata": {},
   "outputs": [
    {
     "name": "stdout",
     "output_type": "stream",
     "text": [
      "Lorem ipsum dolor sit amet,\n",
      "consectetur adipiscing elit,\n",
      "sed do eiusmod tempor incididunt\n",
      "ut labore et dolore magna aliqua.\n"
     ]
    }
   ],
   "source": [
    "a = \"\"\"Lorem ipsum dolor sit amet,\n",
    "consectetur adipiscing elit,\n",
    "sed do eiusmod tempor incididunt\n",
    "ut labore et dolore magna aliqua.\"\"\"\n",
    "\n",
    "print(a)"
   ]
  },
  {
   "cell_type": "code",
   "execution_count": 18,
   "metadata": {},
   "outputs": [
    {
     "name": "stdout",
     "output_type": "stream",
     "text": [
      "Lorem ipsum dolor sit amet,\n",
      "consectetur adipiscing elit,\n",
      "sed do eiusmod tempor incididunt\n",
      "ut labore et dolore magna aliqua.\n"
     ]
    }
   ],
   "source": [
    "a = '''Lorem ipsum dolor sit amet,\n",
    "consectetur adipiscing elit,\n",
    "sed do eiusmod tempor incididunt\n",
    "ut labore et dolore magna aliqua.'''\n",
    "\n",
    "print(a)"
   ]
  },
  {
   "cell_type": "markdown",
   "metadata": {},
   "source": [
    "#### Strings podem ser concatenadas com o sinal +."
   ]
  },
  {
   "cell_type": "code",
   "execution_count": 19,
   "metadata": {},
   "outputs": [
    {
     "name": "stdout",
     "output_type": "stream",
     "text": [
      "C126 - Programação em Python\n"
     ]
    }
   ],
   "source": [
    "str1 = \"C126\"\n",
    "str2 = \" - \"\n",
    "str3 = \"Programação em Python\"\n",
    "\n",
    "str4 = str1 + str2 + str3\n",
    "\n",
    "# Imprimindo o resultado da concatenação.\n",
    "print(str4)"
   ]
  },
  {
   "cell_type": "markdown",
   "metadata": {},
   "source": [
    "#### Quando concatenamos uma string com um número, precisamos fazer uma conversão explícita.\n",
    "\n",
    "**OBS**.: \n",
    "\n",
    "+ Lembrem-se que Python é uma linguagem **fortemente tipada** e que conversões entre tipos precisam ser explícitas.\n",
    "+ A função embutida `str()` converte um número em string."
   ]
  },
  {
   "cell_type": "code",
   "execution_count": 20,
   "metadata": {},
   "outputs": [
    {
     "name": "stdout",
     "output_type": "stream",
     "text": [
      "O valor de pi é aproximadamente 3.14\n"
     ]
    }
   ],
   "source": [
    "# A função embutida `str()` converte um número em string. \n",
    "str1 = \"O valor de pi é aproximadamente \" + str(3.14)\n",
    "\n",
    "# Imprimindo o resultado da concatenação.\n",
    "print(str1)"
   ]
  },
  {
   "cell_type": "markdown",
   "metadata": {},
   "source": [
    "#### Funções e métodos mais usados da classe string\n",
    "\n",
    "|   Função  |  Tipo  |                               Descrição                               |\n",
    "|:---------:|:------:|:---------------------------------------------------------------------:|\n",
    "|   len()   | função |           retorna o tamanho da string em número de caracteres.          |\n",
    "|   str()   | função |                           converte o objeto em string.                          |\n",
    "|  lower()  | método |              transforma toda a string para caixa baixa.               |\n",
    "|  upper()  | método |              transforma toda a string para caixa alta.              |\n",
    "| isalpha() | método |retorna True se a string contiver apenas caracteres que representam letras, caso contrário retorna False.|\n",
    "| isdigit() | método |retorna True se a string contiver apenas caracteres que representam números, caso contrário, retorna False.|\n",
    "|  strip()  | método |     remove os espaços em branco do começo e do final da string.      |\n",
    "| replace() | método |                substitui uma string por outra string.                |\n",
    "|  split()  | método |divide a string em substrings se encontrar ocorrências do separador. |\n",
    "\n",
    "### Exemplos\n",
    "\n",
    "Alguns exemplos de uso desses métodos seguem abaixo."
   ]
  },
  {
   "cell_type": "code",
   "execution_count": 21,
   "metadata": {},
   "outputs": [
    {
     "name": "stdout",
     "output_type": "stream",
     "text": [
      "Comprimento da string: 6\n",
      "Pi: 3.1415\n",
      "Caixa baixa: inatel\n",
      "Caixa alta: INATEL\n",
      "Contém apenas letras? False\n"
     ]
    }
   ],
   "source": [
    "print('Comprimento da string:', len(\"inatel\"))\n",
    "\n",
    "print(\"Pi:\", str(3.1415))\n",
    "\n",
    "print(\"Caixa baixa:\", \"INATEL\".lower())\n",
    "\n",
    "string = \"inatel\"\n",
    "print(\"Caixa alta:\", string.upper())\n",
    "\n",
    "print(\"Contém apenas letras?\", \"ws34rt\".isalpha())"
   ]
  },
  {
   "cell_type": "code",
   "execution_count": 22,
   "metadata": {},
   "outputs": [
    {
     "name": "stdout",
     "output_type": "stream",
     "text": [
      "Contém apenas números? True\n",
      "remove todos espaços em branco.\n",
      "INAteste\n",
      "['Olá', ' Mundo! 1', ' 2', ' 3']\n"
     ]
    }
   ],
   "source": [
    "print(\"Contém apenas números?\", \"7000\".isdigit())\n",
    "\n",
    "print(\"   remove todos espaços em branco.    \".strip())\n",
    "\n",
    "print(\"INATEL\".replace('TEL','teste'))\n",
    "\n",
    "print(\"Olá, Mundo! 1, 2, 3\".split(\",\"))"
   ]
  },
  {
   "cell_type": "markdown",
   "metadata": {},
   "source": [
    "#### Acessando elementos de uma string através de seus índices\n",
    "\n",
    "Nós podemos indexar strings e assim acessar cada um de seus caracteres (ou elementos).\n",
    "\n",
    "**OBS**.:\n",
    "+ Os índices começam sempre de zero."
   ]
  },
  {
   "cell_type": "code",
   "execution_count": 23,
   "metadata": {},
   "outputs": [
    {
     "name": "stdout",
     "output_type": "stream",
     "text": [
      "p\n",
      "y\n",
      "t\n",
      "h\n",
      "o\n",
      "n\n"
     ]
    }
   ],
   "source": [
    "# Atribuindo a string 'python' à variável 'str1'.\n",
    "str1 = 'python'\n",
    "\n",
    "'''\n",
    "Como a string é uma sequência de caracteres, \n",
    "cada um dos índices nos dá acesso a um caracter da sequência.\n",
    "+---+---+---+---+---+---+\n",
    "| p | y | t | h | o | n |\n",
    "+---+---+---+---+---+---+\n",
    "  0   1   2   3   4   5\n",
    "'''\n",
    "\n",
    "print(str1[0])\n",
    "print(str1[1])\n",
    "print(str1[2])\n",
    "print(str1[3])\n",
    "print(str1[4])\n",
    "print(str1[5])"
   ]
  },
  {
   "cell_type": "markdown",
   "metadata": {},
   "source": [
    "#### Podemos acessar o último caractere de uma string com a função `len()`.\n",
    "\n",
    "**OBS**.:\n",
    "+ Usando a função `len()`, não precisamos saber exatamente qual é o índice correspondente ao último caractere."
   ]
  },
  {
   "cell_type": "code",
   "execution_count": 24,
   "metadata": {},
   "outputs": [
    {
     "name": "stdout",
     "output_type": "stream",
     "text": [
      "Tamanho da string: 6\n",
      "Acessando o último caractere com seu índice: n\n",
      "Acessando o último caractere com a função len: n\n"
     ]
    }
   ],
   "source": [
    "str1 = 'python'\n",
    "\n",
    "print('Tamanho da string:', len(str1))\n",
    "\n",
    "print('Acessando o último caractere com seu índice:', str1[5])\n",
    "print('Acessando o último caractere com a função len:', str1[len(str1)-1])"
   ]
  },
  {
   "cell_type": "markdown",
   "metadata": {},
   "source": [
    "#### Fatiando strings\n",
    "\n",
    "+ Nós podemos retornar um intervalo de caracteres usando a sintaxe de fatiamento de strings.\n",
    "+ Para isso, basta especificar o **índice inicial e o índice final, separados por dois pontos (`:`), do intervalo** para retornar uma parte, ou seja, uma fatia, da string.\n",
    "\n",
    "**OBS**.:\n",
    "\n",
    "* O intervalo final da fatia não é fechado, ou seja, não será incluído na fatia."
   ]
  },
  {
   "cell_type": "code",
   "execution_count": 17,
   "metadata": {},
   "outputs": [
    {
     "name": "stdout",
     "output_type": "stream",
     "text": [
      "Mundo\n"
     ]
    }
   ],
   "source": [
    "# Atribuindo a string 'Olá, Mundo' à variável str1.\n",
    "str1 = \"Olá, Mundo!\"\n",
    "\n",
    "# Fatia os caracteres da posição 5 até a posição 10 (não incluso).\n",
    "# OBS.: O intervalo final da fatia não é fechado, portanto, o índice 10 não está incluso na fatia.\n",
    "fatia = str1[5:10]\n",
    "\n",
    "print(fatia)"
   ]
  },
  {
   "cell_type": "markdown",
   "metadata": {},
   "source": [
    "Podemos criar uma fatia desde um índice qualquer até o último caractere de uma string usando a função `len()`."
   ]
  },
  {
   "cell_type": "code",
   "execution_count": 18,
   "metadata": {},
   "outputs": [
    {
     "name": "stdout",
     "output_type": "stream",
     "text": [
      "TEL\n"
     ]
    }
   ],
   "source": [
    "str2 = 'INATEL'\n",
    "\n",
    "# Como o intervalo final da fatia não é fechado, precisamos sempre passar o índice final desejado mais 1.\n",
    "fatia = str2[3:len(str2)]\n",
    "\n",
    "print(fatia)"
   ]
  },
  {
   "cell_type": "markdown",
   "metadata": {},
   "source": [
    "### Tarefa\n",
    "\n",
    "1. <span style=\"color:blue\">**QUIZ - Strings**</span>: respondam ao quiz sobre strings no MS teams, por favor."
   ]
  },
  {
   "cell_type": "markdown",
   "metadata": {},
   "source": [
    "## Mensagens de erro\n",
    "\n",
    "Ao tentar interpretar o código que escrevemos, o interpretador Python avisa quando alguma coisa não foi compreendida através de mensagens de erro. \n",
    "\n",
    "**IMPORTANTE: Leiam as mensagens de erro com calma para saber onde está o erro de sua implementação.**\n",
    "\n",
    "### Os erros mais frequentes em Python são:\n",
    "\n",
    "* **SyntaxError**: erros de sintaxe. \n",
    "    + Esses erros significam que alguma palavra reservada foi escrita incorretamente ou que algum símbolo foi esquecido (por exemplo, os dois pontos `:` ao final da definição de uma função).\n",
    "    \n",
    "#### Exemplo"
   ]
  },
  {
   "cell_type": "code",
   "execution_count": 21,
   "metadata": {},
   "outputs": [
    {
     "ename": "SyntaxError",
     "evalue": "invalid syntax (Temp/ipykernel_3816/598908442.py, line 2)",
     "output_type": "error",
     "traceback": [
      "\u001b[1;36m  File \u001b[1;32m\"C:\\Users\\FELIPE~1.FIG\\AppData\\Local\\Temp/ipykernel_3816/598908442.py\"\u001b[1;36m, line \u001b[1;32m2\u001b[0m\n\u001b[1;33m    def mult(x,y)\u001b[0m\n\u001b[1;37m                 ^\u001b[0m\n\u001b[1;31mSyntaxError\u001b[0m\u001b[1;31m:\u001b[0m invalid syntax\n"
     ]
    }
   ],
   "source": [
    "# Estão faltando os dois pontos (:) no cabeçalho da função.\n",
    "def mult(x,y)\n",
    "   return x*y"
   ]
  },
  {
   "cell_type": "markdown",
   "metadata": {},
   "source": [
    "**OBS**.: Percebam que a mensagem de erro sempre terá um indicador (`^` ou `--->`) apontando onde o interpretador encontrou o erro."
   ]
  },
  {
   "cell_type": "markdown",
   "metadata": {},
   "source": [
    "* **IndentationError**: erros de indentação.\n",
    "    + Esses erros significam que alguma linha está com a indentação (recuo) incorreta.\n",
    "    \n",
    "#### Exemplo"
   ]
  },
  {
   "cell_type": "code",
   "execution_count": 22,
   "metadata": {},
   "outputs": [
    {
     "ename": "IndentationError",
     "evalue": "expected an indented block (Temp/ipykernel_3816/3399296617.py, line 4)",
     "output_type": "error",
     "traceback": [
      "\u001b[1;36m  File \u001b[1;32m\"C:\\Users\\FELIPE~1.FIG\\AppData\\Local\\Temp/ipykernel_3816/3399296617.py\"\u001b[1;36m, line \u001b[1;32m4\u001b[0m\n\u001b[1;33m    a = x*y\u001b[0m\n\u001b[1;37m    ^\u001b[0m\n\u001b[1;31mIndentationError\u001b[0m\u001b[1;31m:\u001b[0m expected an indented block\n"
     ]
    }
   ],
   "source": [
    "# As instruções que fazem parte do corpo da função não têm a indentação (ou recuo) correta\n",
    "# para que o interpretador entenda que elas fazem parte da função.\n",
    "def mult(x,y):\n",
    "a = x*y\n",
    "return a"
   ]
  },
  {
   "cell_type": "markdown",
   "metadata": {},
   "source": [
    "* **NameError**: erros de nome.\n",
    "    + Esses erros significam que algum nome (por exemplo, variável, nome de função, classe, etc.) foi usado sem ter sido definido anteriormente. \n",
    "    + Esse tipo de erro ocorre, por exemplo, ao chamarmos uma função que ainda não foi definida ou quando acessamos uma variável que não teve valor atribuído a ela.\n",
    "    \n",
    "#### Exemplos"
   ]
  },
  {
   "cell_type": "code",
   "execution_count": 23,
   "metadata": {},
   "outputs": [
    {
     "ename": "NameError",
     "evalue": "name 'bar' is not defined",
     "output_type": "error",
     "traceback": [
      "\u001b[1;31m---------------------------------------------------------------------------\u001b[0m",
      "\u001b[1;31mNameError\u001b[0m                                 Traceback (most recent call last)",
      "\u001b[1;32mC:\\Users\\FELIPE~1.FIG\\AppData\\Local\\Temp/ipykernel_3816/553684106.py\u001b[0m in \u001b[0;36m<module>\u001b[1;34m\u001b[0m\n\u001b[0;32m      1\u001b[0m \u001b[1;31m# A função bar não foi definida anteriormente.\u001b[0m\u001b[1;33m\u001b[0m\u001b[1;33m\u001b[0m\u001b[0m\n\u001b[1;32m----> 2\u001b[1;33m \u001b[0mbar\u001b[0m\u001b[1;33m(\u001b[0m\u001b[0mx\u001b[0m\u001b[1;33m,\u001b[0m\u001b[0my\u001b[0m\u001b[1;33m)\u001b[0m\u001b[1;33m\u001b[0m\u001b[1;33m\u001b[0m\u001b[0m\n\u001b[0m",
      "\u001b[1;31mNameError\u001b[0m: name 'bar' is not defined"
     ]
    }
   ],
   "source": [
    "# A função bar não foi definida anteriormente.\n",
    "bar(x,y)"
   ]
  },
  {
   "cell_type": "code",
   "execution_count": 24,
   "metadata": {},
   "outputs": [
    {
     "ename": "NameError",
     "evalue": "name 'variável' is not defined",
     "output_type": "error",
     "traceback": [
      "\u001b[1;31m---------------------------------------------------------------------------\u001b[0m",
      "\u001b[1;31mNameError\u001b[0m                                 Traceback (most recent call last)",
      "\u001b[1;32mC:\\Users\\FELIPE~1.FIG\\AppData\\Local\\Temp/ipykernel_3816/2486634698.py\u001b[0m in \u001b[0;36m<module>\u001b[1;34m\u001b[0m\n\u001b[1;32m----> 1\u001b[1;33m \u001b[0mprint\u001b[0m\u001b[1;33m(\u001b[0m\u001b[1;34m'O valor da variável é:'\u001b[0m\u001b[1;33m,\u001b[0m \u001b[0mvariável\u001b[0m\u001b[1;33m)\u001b[0m\u001b[1;33m\u001b[0m\u001b[1;33m\u001b[0m\u001b[0m\n\u001b[0m",
      "\u001b[1;31mNameError\u001b[0m: name 'variável' is not defined"
     ]
    }
   ],
   "source": [
    "print('O valor da variável é:', variável)"
   ]
  },
  {
   "cell_type": "markdown",
   "metadata": {},
   "source": [
    "## Tarefas\n",
    "\n",
    "1. <span style=\"color:blue\">**QUIZ - Mensagens de erro**</span>: respondam ao quiz sobre mensagens de erro no MS teams, por favor.\n",
    "2. <span style=\"color:blue\">**Laboratório #2**</span>: cliquem em um dos links abaixo para accessar os exercícios do laboratório #2.\n",
    "\n",
    "[![Binder](https://mybinder.org/badge_logo.svg)](https://mybinder.org/v2/gh/zz4fap/python-programming/master?filepath=labs%2FLaboratorio2.ipynb)\n",
    "\n",
    "[![Google Colab](https://badgen.net/badge/Launch/on%20Google%20Colab/blue?icon=terminal)](https://colab.research.google.com/github/zz4fap/python-programming/blob/master/labs/Laboratorio2.ipynb)\n",
    "\n",
    "**IMPORTANTE**: Para acessar o material das aulas e realizar as entregas dos exercícios de laboratório, por favor, leiam o tutorial no seguinte link:\n",
    "[Material-das-Aulas](../docs/Acesso-ao-material-das-aulas-resolucao-e-entrega-dos-laboratorios.pdf)"
   ]
  },
  {
   "cell_type": "markdown",
   "metadata": {},
   "source": [
    "<img src=\"../figures/obrigado.png\">"
   ]
  }
 ],
 "metadata": {
  "kernelspec": {
   "display_name": "Python 3 (ipykernel)",
   "language": "python",
   "name": "python3"
  },
  "language_info": {
   "codemirror_mode": {
    "name": "ipython",
    "version": 3
   },
   "file_extension": ".py",
   "mimetype": "text/x-python",
   "name": "python",
   "nbconvert_exporter": "python",
   "pygments_lexer": "ipython3",
   "version": "3.9.13"
  }
 },
 "nbformat": 4,
 "nbformat_minor": 4
}
