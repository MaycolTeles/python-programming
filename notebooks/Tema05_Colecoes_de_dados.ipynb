{
 "cells": [
  {
   "cell_type": "markdown",
   "metadata": {},
   "source": [
    "# Coleções de dados\n",
    "\n",
    "## Introdução\n",
    "\n",
    "Dentre os tipos nativos disponíveis em Python (e.g., `int`, `float`, `bool`, `str`, etc.), existem tipos que funcionam como **coleções** de dados.\n",
    "\n",
    "Coleções são **estruturas de dados** que permitem armazenar vários objetos, do mesmo ou de tipos diferentes.\n",
    "\n",
    "Os objetos em uma coleção são chamados de **elementos** ou **itens**.\n",
    "\n",
    "Em Python, as principais coleções são\n",
    "\n",
    "+ Listas\n",
    "+ Tuplas\n",
    "+ Conjuntos\n",
    "+ Dicionários\n",
    "\n",
    "<img src=\"../figures/python-data-structures.jpg\" width=\"400px\">\n",
    "\n",
    "A seguir, discutiremos sobre cada uma dessas **estruturas de dados**."
   ]
  },
  {
   "cell_type": "markdown",
   "metadata": {},
   "source": [
    "## Listas\n",
    "\n",
    "+ São coleções (ou estruturas) **ordenadas**, **heterogêneas** e **mutáveis** de objetos, ou seja, uma lista é uma coleção de elementos:\n",
    "    * organizados em uma ordem linear (i.e., sequencial), isto é, cada elemento tem um antecessor (exceto o primeiro) e um sucessor (exceto o último),\n",
    "    * que podem ser de qualquer tipo, inclusive outras coleções (i.e., listas, tuplas, dicionários, etc.)\n",
    "    * e que podem ter seus elementos alterados a qualquer momento.\n",
    "+ Permitem elementos **duplicados**.\n",
    "+ São **indexáveis**, ou seja, os elementos podem ser acessados através de sua posição na lista.\n",
    "+ Podem ser **fatiadas** da mesma forma que strings, mas como as listas são mutáveis, é possível fazer atribuições às fatias da lista.\n",
    "\n",
    "**Sintaxe**: uma lista é definida envolvendo-se seus **elementos**, os quais devem ser separados por vírgulas, com um par de **colchetes**, `[]`.\n",
    "\n",
    "```python\n",
    "lista = [a, b, ..., z]\n",
    "```\n",
    "\n",
    "### Exemplos"
   ]
  },
  {
   "cell_type": "markdown",
   "metadata": {},
   "source": [
    "#### Criando uma lista e imprimindo seu tipo.\n",
    "\n",
    "**OBS**.: Nesse exemplo, usamos a função embutida `type`, a qual retorna o tipo do objeto passado como argumento de entrada."
   ]
  },
  {
   "cell_type": "code",
   "execution_count": 4,
   "metadata": {},
   "outputs": [
    {
     "name": "stdout",
     "output_type": "stream",
     "text": [
      "Conteúdo da lista: [1, 2, 3]\n",
      "<class 'list'>\n"
     ]
    }
   ],
   "source": [
    "# Cria uma lista homogênea com três objetos inteiros, os números 1, 2 e 3.\n",
    "lista1 = [1, 2, 3]\n",
    "\n",
    "# Mostra conteúdo da lista.\n",
    "print('Conteúdo da lista:', lista1)\n",
    "\n",
    "# Imprime o tipo da variável lista, que é `list`.\n",
    "print(type(lista1))"
   ]
  },
  {
   "cell_type": "markdown",
   "metadata": {},
   "source": [
    "#### Comprimento de uma coleção.\n",
    "\n",
    "Para obter o comprimento de uma lista (ou seja, o número de elementos que ela possui) usa-se a função embutida `len()`, como mostrado no exemplo abaixo."
   ]
  },
  {
   "cell_type": "code",
   "execution_count": 5,
   "metadata": {},
   "outputs": [
    {
     "name": "stdout",
     "output_type": "stream",
     "text": [
      "A lista possui 3 elementos.\n",
      "O conteúdo da lista é: [1, 2, 3]\n"
     ]
    }
   ],
   "source": [
    "lista1 = [1, 2, 3]\n",
    "\n",
    "print('A lista possui %d elementos.' % len(lista1))\n",
    "print('O conteúdo da lista é:', lista1)"
   ]
  },
  {
   "cell_type": "markdown",
   "metadata": {},
   "source": [
    "#### Lista vazia.\n",
    "\n",
    "Um par de **chaves** sem conteúdo, `[]`, denota uma lista vazia, ou seja, uma lista que não contém nenhum elemento. \n",
    "\n",
    "O comprimento de uma lista que não contém nenhum elemento é 0."
   ]
  },
  {
   "cell_type": "code",
   "execution_count": 6,
   "metadata": {},
   "outputs": [
    {
     "name": "stdout",
     "output_type": "stream",
     "text": [
      "A lista possui 0 elementos.\n",
      "O conteúdo da lista é: []\n"
     ]
    }
   ],
   "source": [
    "lista2 = []\n",
    "\n",
    "print('A lista possui %d elementos.' % len(lista2))\n",
    "print('O conteúdo da lista é:', lista2)"
   ]
  },
  {
   "cell_type": "markdown",
   "metadata": {},
   "source": [
    "#### Elementos heterogêneos.\n",
    "\n",
    "Como mencionado antes, as listas podem conter elementos **heterogêneos**, ou seja, os elementos em uma lista não precisam ser todos de um mesmo tipo, como mostra o exemplo abaixo."
   ]
  },
  {
   "cell_type": "code",
   "execution_count": 4,
   "metadata": {},
   "outputs": [
    {
     "name": "stdout",
     "output_type": "stream",
     "text": [
      "A lista possui 6 elementos.\n",
      "O conteúdo da lista é: ['Olá', 2, 5.6, 'Mundo', True, 1j]\n"
     ]
    }
   ],
   "source": [
    "lista3 = ['Olá', 2, 5.6, 'Mundo', True, 1j]\n",
    "\n",
    "print('A lista possui %d elementos.' % len(lista3))\n",
    "print('O conteúdo da lista é:', lista3)"
   ]
  },
  {
   "cell_type": "markdown",
   "metadata": {},
   "source": [
    "#### Concatenando listas.\n",
    "\n",
    "Listas podem ser concatenadas com o operador `+`."
   ]
  },
  {
   "cell_type": "code",
   "execution_count": 9,
   "metadata": {},
   "outputs": [
    {
     "name": "stdout",
     "output_type": "stream",
     "text": [
      "O resultado da concatenação é: [1, 2, 3, 'A', 3.14, True]\n"
     ]
    }
   ],
   "source": [
    "listaA = [1, 2, 3]\n",
    "\n",
    "listaB = ['A', 3.14, True]\n",
    "\n",
    "listaC = listaA + listaB\n",
    "\n",
    "print('O resultado da concatenação é:', listaC)"
   ]
  },
  {
   "cell_type": "markdown",
   "metadata": {},
   "source": [
    "#### Lista com elemento do tipo lista.\n",
    "\n",
    "Uma lista pode conter outras listas, como mostrado no exemplo abaixo.\n",
    "\n",
    "**OBSERVAÇÕES**: \n",
    "\n",
    "1. A `listaA` é um **elemento** da `listaB`, portanto, o elemento é acessado através de seu índice.\n",
    "2. Como listas são coleções heterogênas, podemos ter elementos do tipo dicionário, tupla, conjunto."
   ]
  },
  {
   "cell_type": "code",
   "execution_count": 8,
   "metadata": {},
   "outputs": [
    {
     "name": "stdout",
     "output_type": "stream",
     "text": [
      "Número de elementos da lista B é: 4\n",
      "Os elementos da lista B são: ['A', 3.14, True, [1, 2, 3]]\n",
      "O quarto elemento da lista B é a listaA: [1, 2, 3]\n"
     ]
    }
   ],
   "source": [
    "listaA = [1, 2, 3]\n",
    "\n",
    "listaB = ['A', 3.14, True, listaA]\n",
    "\n",
    "print('Número de elementos da lista B é:', len(listaB))\n",
    "\n",
    "print('Os elementos da lista B são:', listaB)\n",
    "\n",
    "print('O quarto elemento da lista B é a listaA:', listaB[3])"
   ]
  },
  {
   "cell_type": "markdown",
   "metadata": {},
   "source": [
    "#### Indexando listas.\n",
    "\n",
    "Podemos acessar os elementos de uma lista através de seus índices."
   ]
  },
  {
   "cell_type": "code",
   "execution_count": 3,
   "metadata": {},
   "outputs": [
    {
     "name": "stdout",
     "output_type": "stream",
     "text": [
      "10\n",
      "20\n",
      "30\n",
      "40\n",
      "50\n",
      "50\n"
     ]
    }
   ],
   "source": [
    "lista4 = [10, 20, 30, 40, 50]\n",
    "\n",
    "print(lista4[0])             # mostra o valor do primeiro elemento da lista\n",
    "print(lista4[1])             # mostra o valor do segundo elemento da lista\n",
    "print(lista4[2])             # mostra o valor do terceio elemento da lista\n",
    "print(lista4[3])             # mostra o valor do quarto elemento da lista\n",
    "print(lista4[4])             # mostra o valor do quinto e último elemento da lista\n",
    "print(lista4[len(lista4)-1]) # também mostra o valor do último elemento da lista"
   ]
  },
  {
   "cell_type": "markdown",
   "metadata": {},
   "source": [
    "Podemos usar **números negativos** como índices para acessar as posições de uma lista em **ordem reversa**, ou seja, **do fim para o início**.\n",
    "\n",
    "Desta forma, o índice -1 se refere a última posição da lista, o -2 se refere à penúltima posição, e assim por diante."
   ]
  },
  {
   "cell_type": "code",
   "execution_count": 5,
   "metadata": {},
   "outputs": [
    {
     "name": "stdout",
     "output_type": "stream",
     "text": [
      "Último elemento: 50\n",
      "Primeiro elemento: 10\n",
      "Primeiro elemento: 10\n"
     ]
    }
   ],
   "source": [
    "lista4 = [10, 20, 30, 40, 50]\n",
    "\n",
    "print('Último elemento:', lista4[-1])             # mostra o valor do último elemento da lista\n",
    "print('Primeiro elemento:', lista4[-5])           # mostra o valor do primeiro elemento da lista\n",
    "print('Primeiro elemento:', lista4[-len(lista4)]) # também mostra o valor do primeiro elemento da lista"
   ]
  },
  {
   "cell_type": "markdown",
   "metadata": {},
   "source": [
    "#### Fatiando listas.\n",
    "\n",
    "Os elementos de uma lista podem ser fatiados da mesma forma que strings.\n",
    "\n",
    "**OBS**: O valor final do intervalo não é fechado, ou seja, a fatia sempre terá um elemento a menos do que está indicado no intervalo."
   ]
  },
  {
   "cell_type": "code",
   "execution_count": 51,
   "metadata": {},
   "outputs": [
    {
     "name": "stdout",
     "output_type": "stream",
     "text": [
      "Conteúdo da lista: ['A', 1, True, 3.14]\n",
      "Fatia da lista: [1, True]\n"
     ]
    }
   ],
   "source": [
    "lista4 = ['A', 1, True, 3.14]\n",
    "\n",
    "print('Conteúdo da lista:', lista4)\n",
    "\n",
    "# Fatiando a lista. Lembre-se que o intervalo final não é fechado.\n",
    "fatia = lista4[1:3]\n",
    "\n",
    "# Fatia com segundo e terceiro elementos da lista.\n",
    "print('Fatia da lista:', fatia)"
   ]
  },
  {
   "cell_type": "markdown",
   "metadata": {},
   "source": [
    "#### Usando laços de repetição.\n",
    "\n",
    "Outra forma de acessar os elementos de uma lista é através de laços de repetição, `for` e `while`."
   ]
  },
  {
   "cell_type": "markdown",
   "metadata": {},
   "source": [
    "##### Acessando elementos diretamente.\n",
    "\n",
    "**OBS**.: Listas são objetos iteráveis, por isso podemos usá-las diretamente com o `for`. Nesse caso, a variável de referência, `elemento`, recebe a cada iteração um elemento da lista."
   ]
  },
  {
   "cell_type": "code",
   "execution_count": 17,
   "metadata": {},
   "outputs": [
    {
     "name": "stdout",
     "output_type": "stream",
     "text": [
      "10\n",
      "20\n",
      "30\n",
      "40\n",
      "50\n"
     ]
    }
   ],
   "source": [
    "lista4 = [10, 20, 30, 40, 50]\n",
    "\n",
    "for elemento in lista4:\n",
    "    print(elemento)"
   ]
  },
  {
   "cell_type": "markdown",
   "metadata": {},
   "source": [
    "##### Usando a função embutida range.\n",
    "\n",
    "**OBS**.: A variável de referência, `i`, recebe a cada iteração um número da sequência gerada pela função `range`. Este número é usado para indexar (acessar) os elementos da lista."
   ]
  },
  {
   "cell_type": "code",
   "execution_count": 9,
   "metadata": {},
   "outputs": [
    {
     "name": "stdout",
     "output_type": "stream",
     "text": [
      "10\n",
      "20\n",
      "30\n",
      "40\n",
      "50\n"
     ]
    }
   ],
   "source": [
    "lista4 = [10, 20, 30, 40, 50]\n",
    "\n",
    "for i in range(0, len(lista4)):\n",
    "    print(lista4[i])"
   ]
  },
  {
   "cell_type": "markdown",
   "metadata": {},
   "source": [
    "##### Usando while.\n",
    "\n",
    "Nós podemos também utilizar o laço `while` para percorrer a lista, removendo elementos com o método `pop()`, o qual **remove e retorna o item do índice fornecido como parâmetro de entrada**, conforme mostrado abaixo.\n",
    "\n",
    "**OBS**.: Se nenhum índice for especificado, por padrão o método `pop()` remove e retorna o último item da lista."
   ]
  },
  {
   "cell_type": "code",
   "execution_count": 6,
   "metadata": {},
   "outputs": [
    {
     "name": "stdout",
     "output_type": "stream",
     "text": [
      "Saiu o valor 10 , faltam 4 elementos na lista\n",
      "Saiu o valor 20 , faltam 3 elementos na lista\n",
      "Saiu o valor 30 , faltam 2 elementos na lista\n",
      "Saiu o valor 40 , faltam 1 elementos na lista\n",
      "Saiu o valor 50 , faltam 0 elementos na lista\n"
     ]
    }
   ],
   "source": [
    "lista4 = [10, 20, 30, 40, 50]\n",
    "\n",
    "# A lista vazia é avaliada como falsa e, portanto, finaliza e execução do laço.\n",
    "while lista4:\n",
    "    print('Saiu o valor', lista4.pop(0), ', faltam', len(lista4), 'elementos na lista')"
   ]
  },
  {
   "cell_type": "markdown",
   "metadata": {},
   "source": [
    "#### Modificando um elemento.\n",
    "\n",
    "Como as listas são tipos **mutáveis**, nós podemos modificar o valor de um elemento específico da lista."
   ]
  },
  {
   "cell_type": "code",
   "execution_count": 15,
   "metadata": {},
   "outputs": [
    {
     "name": "stdout",
     "output_type": "stream",
     "text": [
      "Conteúdo da lista: [10, 20, 30]\n",
      "Novo conteúdo da lista: [5, 20, 30]\n",
      "Novo conteúdo da lista: [5, 20, 10]\n"
     ]
    }
   ],
   "source": [
    "lista5 = [10, 20, 30]\n",
    "\n",
    "print('Conteúdo da lista:', lista5)\n",
    "\n",
    "# altera o valor da primeira posição da lista\n",
    "lista5[0] = 5\n",
    "\n",
    "print('Novo conteúdo da lista:', lista5)\n",
    "\n",
    "# altera o valor da última posição da lista: lista5[2] = lista5[2] // 3 usando a forma compacta.\n",
    "lista5[-1] //= 3\n",
    "\n",
    "print('Novo conteúdo da lista:', lista5)"
   ]
  },
  {
   "cell_type": "markdown",
   "metadata": {},
   "source": [
    "#### Acessando uma posição inexistente.\n",
    "\n",
    "Quando tentamos acessar uma posição que não existe na lista, um erro de do tipo `IndexError` é gerado, com a seguinte mensagem: `list index out of range`."
   ]
  },
  {
   "cell_type": "code",
   "execution_count": 16,
   "metadata": {},
   "outputs": [
    {
     "ename": "IndexError",
     "evalue": "list index out of range",
     "output_type": "error",
     "traceback": [
      "\u001b[1;31m---------------------------------------------------------------------------\u001b[0m",
      "\u001b[1;31mIndexError\u001b[0m                                Traceback (most recent call last)",
      "\u001b[1;32mC:\\Users\\FELIPE~1.FIG\\AppData\\Local\\Temp/ipykernel_30408/3073698038.py\u001b[0m in \u001b[0;36m<module>\u001b[1;34m\u001b[0m\n\u001b[0;32m      3\u001b[0m \u001b[1;33m\u001b[0m\u001b[0m\n\u001b[0;32m      4\u001b[0m \u001b[1;31m# Tenta acessar e exibir o valor de uma posição que não existe na lista.\u001b[0m\u001b[1;33m\u001b[0m\u001b[1;33m\u001b[0m\u001b[0m\n\u001b[1;32m----> 5\u001b[1;33m \u001b[0mprint\u001b[0m\u001b[1;33m(\u001b[0m\u001b[0mlista5\u001b[0m\u001b[1;33m[\u001b[0m\u001b[1;36m3\u001b[0m\u001b[1;33m]\u001b[0m\u001b[1;33m)\u001b[0m\u001b[1;33m\u001b[0m\u001b[1;33m\u001b[0m\u001b[0m\n\u001b[0m",
      "\u001b[1;31mIndexError\u001b[0m: list index out of range"
     ]
    }
   ],
   "source": [
    "# Lista com 3 elementos, portanto, os índices válidos variam de 0 a 2.\n",
    "lista5 = [10, 20, 30]\n",
    "\n",
    "# Tenta acessar e exibir o valor de uma posição que não existe na lista.\n",
    "print(lista5[3])"
   ]
  },
  {
   "cell_type": "markdown",
   "metadata": {},
   "source": [
    "#### Acrescentando elementos ao final de uma lista.\n",
    "\n",
    "Podemos usar o método `append()` para acrescentar novos elementos **ao final** de uma lista."
   ]
  },
  {
   "cell_type": "code",
   "execution_count": 18,
   "metadata": {},
   "outputs": [
    {
     "name": "stdout",
     "output_type": "stream",
     "text": [
      "Estado inicial da lista:  [40]\n",
      "Estado da lista depois da inclusão de um novo elemento:  [40, 10]\n"
     ]
    }
   ],
   "source": [
    "lista6 = [40]\n",
    "print(\"Estado inicial da lista: \", lista6)\n",
    "\n",
    "lista6.append(10)\n",
    "print(\"Estado da lista depois da inclusão de um novo elemento: \", lista6)"
   ]
  },
  {
   "cell_type": "markdown",
   "metadata": {},
   "source": [
    "Podemos também acrescentar valores a uma lista vazia."
   ]
  },
  {
   "cell_type": "code",
   "execution_count": 24,
   "metadata": {},
   "outputs": [
    {
     "name": "stdout",
     "output_type": "stream",
     "text": [
      "Estado inicial da lista:  []\n",
      "Estado da lista depois da inclusão de um novo elemento:  [3.14]\n",
      "Estado da lista depois da inclusão de um novo elemento:  [3.14, True]\n"
     ]
    }
   ],
   "source": [
    "lista7 = []\n",
    "print(\"Estado inicial da lista: \", lista7)\n",
    "\n",
    "lista7.append(3.14)\n",
    "print(\"Estado da lista depois da inclusão de um novo elemento: \", lista7)\n",
    "\n",
    "lista7.append(True)\n",
    "print(\"Estado da lista depois da inclusão de um novo elemento: \", lista7)"
   ]
  },
  {
   "cell_type": "markdown",
   "metadata": {},
   "source": [
    "O método `append` adiciona **apenas um elemento** ao final da lista. Para **adicionar mais de um elemento por vez**, usamos o método `extend()`, o qual adiciona todos os elementos da coleção de objetos passada como parâmetro de entrada à lista."
   ]
  },
  {
   "cell_type": "code",
   "execution_count": 9,
   "metadata": {},
   "outputs": [
    {
     "name": "stdout",
     "output_type": "stream",
     "text": [
      "Estado inicial da lista:  [1, 2]\n",
      "Estado da lista depois da inclusão de novos elemento:  [1, 2, 3, 4]\n"
     ]
    }
   ],
   "source": [
    "listaA = [1, 2]\n",
    "print(\"Estado inicial da lista: \", listaA)\n",
    "\n",
    "# Estende a lista adicionando os elementos da lista. Porém, poderiam ser os elementos de uma tupla, conjunto ou dicionário.\n",
    "listaA.extend([3, 4])\n",
    "\n",
    "print(\"Estado da lista depois da inclusão de novos elemento: \", listaA)"
   ]
  },
  {
   "cell_type": "markdown",
   "metadata": {},
   "source": [
    "O método `insert(índice, elemento)` insere um `elemento` na lista na posição indicada pelo parâmetro de entrada `índice`."
   ]
  },
  {
   "cell_type": "code",
   "execution_count": 38,
   "metadata": {},
   "outputs": [
    {
     "name": "stdout",
     "output_type": "stream",
     "text": [
      "Estado inicial da lista: [0, 1, 2, 3]\n",
      "Estado atualizado da lista: [0, 1, 'dois', 2, 3]\n"
     ]
    }
   ],
   "source": [
    "lista8 = [0, 1, 2, 3]\n",
    "\n",
    "print('Estado inicial da lista:', lista8)\n",
    "\n",
    "# insere elemento 'dois' no índice 2 da lista.\n",
    "lista8.insert(2, 'dois')\n",
    "\n",
    "# imprime novo conteúdo da lista.\n",
    "print('Estado atualizado da lista:', lista8)"
   ]
  },
  {
   "cell_type": "markdown",
   "metadata": {},
   "source": [
    "#### Removendo elementos de uma lista.\n",
    "\n",
    "Podemos remover elementos de uma lista com a **palavra reservada** `del` passando o índice ou a sequência de índices que queremos remover. "
   ]
  },
  {
   "cell_type": "code",
   "execution_count": 19,
   "metadata": {},
   "outputs": [
    {
     "name": "stdout",
     "output_type": "stream",
     "text": [
      "Conteúdo da lista: ['casa', 1.234, True, 2]\n",
      "Conteúdo da lista após remoção: [1.234, True, 2]\n",
      "Conteúdo da lista após nova remoção: [2]\n"
     ]
    }
   ],
   "source": [
    "lista8 = ['casa', 1.234, True, 2]\n",
    "print(\"Conteúdo da lista:\", lista8)\n",
    "\n",
    "# removendo apenas um elemento.\n",
    "del lista8[0]\n",
    "print(\"Conteúdo da lista após remoção:\", lista8)\n",
    "\n",
    "# removendo uma fatia da lista (lembrem-se que o intervalo final não é fechado).\n",
    "del lista8[0:2]\n",
    "print(\"Conteúdo da lista após nova remoção:\", lista8)"
   ]
  },
  {
   "cell_type": "markdown",
   "metadata": {},
   "source": [
    "O método `remove(elemento)` remove da lista o **primeiro elemento igual** ao `elemento` passado como parâmetro de entrada. \n",
    "\n",
    "**OBS.**:\n",
    "\n",
    "+ Se tal elemento não existir na lista, um erro é gerado."
   ]
  },
  {
   "cell_type": "code",
   "execution_count": 21,
   "metadata": {},
   "outputs": [
    {
     "name": "stdout",
     "output_type": "stream",
     "text": [
      "Conteúdo inicial: ['casa', 1, 'casa', True, 2]\n",
      "Conteúdo atualizado: [1, 'casa', True, 2]\n"
     ]
    },
    {
     "ename": "ValueError",
     "evalue": "list.remove(x): x not in list",
     "output_type": "error",
     "traceback": [
      "\u001b[1;31m---------------------------------------------------------------------------\u001b[0m",
      "\u001b[1;31mValueError\u001b[0m                                Traceback (most recent call last)",
      "\u001b[1;32mC:\\Users\\FELIPE~1.FIG\\AppData\\Local\\Temp/ipykernel_30408/4011868786.py\u001b[0m in \u001b[0;36m<module>\u001b[1;34m\u001b[0m\n\u001b[0;32m     10\u001b[0m \u001b[1;33m\u001b[0m\u001b[0m\n\u001b[0;32m     11\u001b[0m \u001b[1;31m# tenta remover um item que não está presente na lista.\u001b[0m\u001b[1;33m\u001b[0m\u001b[1;33m\u001b[0m\u001b[0m\n\u001b[1;32m---> 12\u001b[1;33m \u001b[0mlista9\u001b[0m\u001b[1;33m.\u001b[0m\u001b[0mremove\u001b[0m\u001b[1;33m(\u001b[0m\u001b[1;36m3\u001b[0m\u001b[1;33m)\u001b[0m\u001b[1;33m\u001b[0m\u001b[1;33m\u001b[0m\u001b[0m\n\u001b[0m",
      "\u001b[1;31mValueError\u001b[0m: list.remove(x): x not in list"
     ]
    }
   ],
   "source": [
    "lista9 = ['casa', 1, 'casa', True, 2]\n",
    "\n",
    "print('Conteúdo inicial:', lista9)\n",
    "\n",
    "# remove apenas a PRIMEIRA ocorrência do elemento.\n",
    "lista9.remove('casa')\n",
    "\n",
    "# imprime conteúdo da lista.\n",
    "print('Conteúdo atualizado:', lista9)\n",
    "\n",
    "# tenta remover um item que não está presente na lista.\n",
    "lista9.remove(3)"
   ]
  },
  {
   "cell_type": "markdown",
   "metadata": {},
   "source": [
    "#### Verificando a presença ou ausência de um elemento.\n",
    "\n",
    "+ O método `index(elemento)` retorna o índice da primeira ocorrência de `elemento` na lista. \n",
    "+ Porém, um erro ocorre se elemento não constar da lista."
   ]
  },
  {
   "cell_type": "code",
   "execution_count": 21,
   "metadata": {},
   "outputs": [
    {
     "name": "stdout",
     "output_type": "stream",
     "text": [
      "Índice do elemento buscado: 2\n"
     ]
    }
   ],
   "source": [
    "lista10 = [1, 2, 3, 4]\n",
    "\n",
    "print('Índice do elemento buscado:', lista10.index(3))"
   ]
  },
  {
   "cell_type": "code",
   "execution_count": 22,
   "metadata": {},
   "outputs": [
    {
     "ename": "ValueError",
     "evalue": "0 is not in list",
     "output_type": "error",
     "traceback": [
      "\u001b[1;31m---------------------------------------------------------------------------\u001b[0m",
      "\u001b[1;31mValueError\u001b[0m                                Traceback (most recent call last)",
      "\u001b[1;32m<ipython-input-22-c61f812c85d8>\u001b[0m in \u001b[0;36m<module>\u001b[1;34m\u001b[0m\n\u001b[1;32m----> 1\u001b[1;33m \u001b[0mprint\u001b[0m\u001b[1;33m(\u001b[0m\u001b[1;34m'Índice do elemento buscado:'\u001b[0m\u001b[1;33m,\u001b[0m \u001b[0mlista10\u001b[0m\u001b[1;33m.\u001b[0m\u001b[0mindex\u001b[0m\u001b[1;33m(\u001b[0m\u001b[1;36m0\u001b[0m\u001b[1;33m)\u001b[0m\u001b[1;33m)\u001b[0m\u001b[1;33m\u001b[0m\u001b[1;33m\u001b[0m\u001b[0m\n\u001b[0m",
      "\u001b[1;31mValueError\u001b[0m: 0 is not in list"
     ]
    }
   ],
   "source": [
    "print('Índice do elemento buscado:', lista10.index(0))"
   ]
  },
  {
   "cell_type": "markdown",
   "metadata": {},
   "source": [
    "Os **operadores de associação** `in` e `not in` nos permitem verificar se um dado item está presente ou não em uma lista sem retornar erros. \n",
    "\n",
    "A expressão\n",
    "\n",
    "```python\n",
    "elemento in lista\n",
    "```\n",
    "\n",
    "retorna `True` se `elemento` estiver na `lista` e `False` caso contrário."
   ]
  },
  {
   "cell_type": "code",
   "execution_count": 25,
   "metadata": {},
   "outputs": [
    {
     "name": "stdout",
     "output_type": "stream",
     "text": [
      "O elemento 4 está na lista e seu índice é 2\n"
     ]
    }
   ],
   "source": [
    "lista11 = [0, 2, 4, 6, 8, 10]\n",
    "\n",
    "if 4 in lista11:\n",
    "    idx = lista11.index(4)\n",
    "    print(\"O elemento 4 está na lista e seu índice é\", idx)\n",
    "else:\n",
    "    print(\"O elemento 4 NÃO está na lista.\")"
   ]
  },
  {
   "cell_type": "markdown",
   "metadata": {},
   "source": [
    "Já a expressão\n",
    "\n",
    "```python\n",
    "elemento not in lista\n",
    "```\n",
    "\n",
    "retorna `True` se `elemento` não estiver na `lista` e `False` caso contrário."
   ]
  },
  {
   "cell_type": "code",
   "execution_count": 26,
   "metadata": {
    "scrolled": true
   },
   "outputs": [
    {
     "name": "stdout",
     "output_type": "stream",
     "text": [
      "O elemento 3 NÃO está na lista.\n"
     ]
    }
   ],
   "source": [
    "lista11 = [0, 2, 4, 6, 8, 10]\n",
    "    \n",
    "if 3 not in lista11:\n",
    "    print(\"O elemento 3 NÃO está na lista.\")\n",
    "else:\n",
    "    idx = lista11.index(3)\n",
    "    print(\"O elemento 3 está na lista e seu índice é\", idx)"
   ]
  },
  {
   "cell_type": "markdown",
   "metadata": {},
   "source": [
    "#### Ordenando os elementos de uma lista.\n",
    "\n",
    "Podemos utilizar o método `sort()` para ordenar os valores de uma lista. \n",
    "\n",
    "**OBS**.: Por padrão, o método ordena os elementos em **ordem crescente**, para ordená-los em ordem decrescente, deve-se definir o parâmetro `reverse = True`."
   ]
  },
  {
   "cell_type": "code",
   "execution_count": 27,
   "metadata": {},
   "outputs": [
    {
     "name": "stdout",
     "output_type": "stream",
     "text": [
      "['BMV', 'BMW', 'Ford', 'Volvo']\n"
     ]
    }
   ],
   "source": [
    "carros = ['Ford', 'BMW', 'Volvo', 'BMV']\n",
    "\n",
    "# ordenando em ordem crescente.\n",
    "carros.sort()\n",
    "\n",
    "print(carros)"
   ]
  },
  {
   "cell_type": "code",
   "execution_count": 28,
   "metadata": {},
   "outputs": [
    {
     "name": "stdout",
     "output_type": "stream",
     "text": [
      "[1, 2, 3, 4, 5, 6]\n"
     ]
    }
   ],
   "source": [
    "números = [3, 4, 6, 5, 2, 1]\n",
    "\n",
    "# ordenando em ordem crescente.\n",
    "números.sort()\n",
    "\n",
    "print(números)"
   ]
  },
  {
   "cell_type": "code",
   "execution_count": 29,
   "metadata": {},
   "outputs": [
    {
     "name": "stdout",
     "output_type": "stream",
     "text": [
      "[6, 5, 4, 3, 2, 1]\n"
     ]
    }
   ],
   "source": [
    "números = [1, 2, 3, 4, 5, 6]\n",
    "\n",
    "# ordenando em ordem decrescente.\n",
    "números.sort(reverse=True)\n",
    "\n",
    "print(números)"
   ]
  },
  {
   "cell_type": "markdown",
   "metadata": {},
   "source": [
    "Caso a lista seja **heterogênea**, deve-se definir uma função para especificar o critério de ordenação."
   ]
  },
  {
   "cell_type": "code",
   "execution_count": 16,
   "metadata": {},
   "outputs": [
    {
     "name": "stdout",
     "output_type": "stream",
     "text": [
      "Lista ordenada: [10, 2, 5, 'banana', 'laranja', 'maçã']\n"
     ]
    }
   ],
   "source": [
    "# Lista contendo strings e números inteiros\n",
    "lista = [\"banana\", 5, \"maçã\", 10, \"laranja\", 2]\n",
    "\n",
    "# Função para especificar o critério de ordenação.\n",
    "def converte(x):\n",
    "    return str(x)\n",
    "\n",
    "# Ordenando a lista com o método sort() e a função key\n",
    "lista.sort(key=converte)\n",
    "print(\"Lista ordenada:\", lista)"
   ]
  },
  {
   "cell_type": "markdown",
   "metadata": {},
   "source": [
    "**OBS**.: No Python, a comparação entre strings e números é baseada no valor Unicode de cada caractere ou dígito, e como os dígitos têm valores menores, eles são considerados menores que as letras na ordenação."
   ]
  },
  {
   "cell_type": "markdown",
   "metadata": {},
   "source": [
    "### Tarefa\n",
    "\n",
    "1. <span style=\"color:blue\">**QUIZ - Listas**</span>: respondam ao questionário sobre listas no MS teams, por favor."
   ]
  },
  {
   "cell_type": "markdown",
   "metadata": {},
   "source": [
    "## Tuplas\n",
    "\n",
    "+ As tuplas são semelhantes às listas, sendo a única diferença entre elas a **imutabilidade** das tuplas.\n",
    "+ Portanto, as tuplas são coleções **ordenadas**, **heterogêneas** e **imutáveis** de objetos.\n",
    "+ Podemos realizar todas as operações que realizamos com as listas, **exceto** as que alteram os elementos da tupla.\n",
    "    * **OBS**.: Se um elemento da tupla for mutável, por exemplo, uma lista, então podemos alterar os elementos deste elemento mutável, mas não podemos alterar o elemento lista da tupla por outro elemento.\n",
    "+ As tuplas são úteis porque:\n",
    "    * iterar através dos elementos de uma tupla é mais rápido do que com uma lista devido ao fato de serem imutáveis,\n",
    "    * por serem imutáveis, protegem os dados de serem sobrescritos,\n",
    "    * podem ser usadas como chaves em dicionários, enquanto que listas não podem.\n",
    "\n",
    "**Sintaxe**: uma tupla é definida envolvendo-se seus elementos, os quais devem ser separados por vírgulas, com um par de parênteses, `()`\n",
    "\n",
    "```python\n",
    "tupla = (a, b, ..., z)\n",
    "```\n",
    "\n",
    "Entretanto, os **parênteses são opcionais**, assim, uma sintaxe que também é válida é\n",
    "\n",
    "```python\n",
    "tupla = a, b, ..., z\n",
    "```\n",
    "\n",
    "### Exemplos\n",
    "\n",
    "#### Criando tuplas."
   ]
  },
  {
   "cell_type": "code",
   "execution_count": 1,
   "metadata": {},
   "outputs": [
    {
     "name": "stdout",
     "output_type": "stream",
     "text": [
      "Conteúdo da tupla1 é (1, 2, 3)\n",
      "Tipo: <class 'tuple'>\n",
      "\n",
      "Conteúdo da tupla2 é (4, 5, 6)\n",
      "Tipo: <class 'tuple'>\n",
      "\n",
      "Conteúdo da tuplaVazia é ()\n",
      "Tipo: <class 'tuple'>\n"
     ]
    }
   ],
   "source": [
    "# Cria tupla com os parênteses.\n",
    "tupla1 = (1,2,3)\n",
    "\n",
    "print('Conteúdo da tupla1 é', tupla1)\n",
    "print('Tipo:', type(tupla1))\n",
    "print('')\n",
    "\n",
    "# Cria tupla sem os parênteses.\n",
    "tupla2 = 4,5,6\n",
    "\n",
    "print('Conteúdo da tupla2 é', tupla2)\n",
    "print('Tipo:', type(tupla2))\n",
    "print('')\n",
    "\n",
    "# Cria uma tupla vazia.\n",
    "tuplaVazia = ()\n",
    "\n",
    "print('Conteúdo da tuplaVazia é', tuplaVazia)\n",
    "print('Tipo:', type(tuplaVazia))"
   ]
  },
  {
   "cell_type": "markdown",
   "metadata": {},
   "source": [
    "**Particularidade**: uma tupla com apenas um único elemento **DEVE** ser representada como mostrado abaixo, com uma **vírgula** após o único elemento, caso contrário, o interpretador entende que o tipo da variável do exemplo abaixo é `int`."
   ]
  },
  {
   "cell_type": "code",
   "execution_count": 3,
   "metadata": {},
   "outputs": [
    {
     "name": "stdout",
     "output_type": "stream",
     "text": [
      "Conteúdo da tupla3 é (1,)\n",
      "Tipo: <class 'tuple'>\n",
      "\n",
      "Conteúdo da tupla4 é (1,)\n",
      "Tipo: <class 'tuple'>\n",
      "\n",
      "Conteúdo da tupla5 é 1\n",
      "Tipo: <class 'int'>\n",
      "\n",
      "Conteúdo da tupla6 é 1\n",
      "Tipo: <class 'int'>\n"
     ]
    }
   ],
   "source": [
    "tupla3 = (1, )\n",
    "\n",
    "print('Conteúdo da tupla3 é', tupla3)\n",
    "print('Tipo:', type(tupla3))\n",
    "print('')\n",
    "\n",
    "tupla4 = 1,\n",
    "print('Conteúdo da tupla4 é', tupla4)\n",
    "print('Tipo:', type(tupla4))\n",
    "print('')\n",
    "\n",
    "tupla5 = (1)\n",
    "print('Conteúdo da tupla5 é', tupla5)\n",
    "print('Tipo:', type(tupla5))\n",
    "print('')\n",
    "\n",
    "tupla6 = 1\n",
    "print('Conteúdo da tupla6 é', tupla6)\n",
    "print('Tipo:', type(tupla6))"
   ]
  },
  {
   "cell_type": "markdown",
   "metadata": {},
   "source": [
    "#### Tuplas são coleções heterogêneas.\n",
    "\n",
    "Assim como as listas, as tuplas podem conter elementos de tipos diferentes.\n",
    "\n",
    "**OBS**.: Assim como as listas, as tuplas também permitem elementos duplicados."
   ]
  },
  {
   "cell_type": "code",
   "execution_count": 5,
   "metadata": {},
   "outputs": [
    {
     "name": "stdout",
     "output_type": "stream",
     "text": [
      "O conteúdo da tupla1 é: (10, 23.44, True, 'string', 10, 23.44)\n",
      "O número de elementos de tupla1 é 6\n",
      "\n",
      "O conteúdo da lista1 é: ['A', 'B', 'C']\n",
      "\n",
      "O conteúdo da tupla2 é: (1, 2, (10, 23.44, True, 'string', 10, 23.44), ['A', 'B', 'C'])\n",
      "O número de elementos de tupla2 é 4\n"
     ]
    }
   ],
   "source": [
    "# Criando uma tupla heterogênea.\n",
    "tupla1 = (10, 23.44, True, 'string', 10, 23.44)\n",
    "\n",
    "print('O conteúdo da tupla1 é:', tupla1)\n",
    "print('O número de elementos de tupla1 é', len(tupla1))\n",
    "print('')\n",
    "\n",
    "# Criando uma tupla com outra tupla e uma lista.\n",
    "lista1 = ['A', 'B', 'C']\n",
    "\n",
    "print('O conteúdo da lista1 é:', lista1)\n",
    "print('')\n",
    "\n",
    "tupla2 = (1, 2, tupla1, lista1)\n",
    "\n",
    "print('O conteúdo da tupla2 é:', tupla2)\n",
    "print('O número de elementos de tupla2 é', len(tupla2))"
   ]
  },
  {
   "cell_type": "markdown",
   "metadata": {},
   "source": [
    "#### Indexando e fatiando tuplas.\n",
    "\n",
    "Os elementos de uma tupla podem ser indexados e fatiados da mesma forma que os elementos de uma lista."
   ]
  },
  {
   "cell_type": "code",
   "execution_count": 52,
   "metadata": {},
   "outputs": [
    {
     "name": "stdout",
     "output_type": "stream",
     "text": [
      "O primeiro elemento da tupla é 10\n"
     ]
    }
   ],
   "source": [
    "tupla1 = (10, 23, 67, 45)\n",
    "\n",
    "primeiro_elemento = tupla1[0]\n",
    "\n",
    "print('O primeiro elemento da tupla é', primeiro_elemento)"
   ]
  },
  {
   "cell_type": "code",
   "execution_count": 53,
   "metadata": {},
   "outputs": [
    {
     "name": "stdout",
     "output_type": "stream",
     "text": [
      "Fatia: (23, 67)\n"
     ]
    }
   ],
   "source": [
    "tupla1 = (10, 23, 67, 45)\n",
    "\n",
    "# Fatiando apenas o segundo e terceiro elementos da tupla.\n",
    "fatia = tupla1[1:3]\n",
    "\n",
    "print('Fatia:', fatia)"
   ]
  },
  {
   "cell_type": "markdown",
   "metadata": {},
   "source": [
    "#### Convertendo tuplas.\n",
    "\n",
    "Listas podem ser convertidas em tuplas com a função embutida `tuple`."
   ]
  },
  {
   "cell_type": "code",
   "execution_count": 55,
   "metadata": {},
   "outputs": [
    {
     "name": "stdout",
     "output_type": "stream",
     "text": [
      "O conteúdo da tupla1 é: ('A', 'B', 'C')\n"
     ]
    }
   ],
   "source": [
    "lista1 = ['A', 'B', 'C']\n",
    "\n",
    "tupla1 = tuple(lista1)\n",
    "\n",
    "print('O conteúdo da tupla1 é:', tupla1)"
   ]
  },
  {
   "cell_type": "markdown",
   "metadata": {},
   "source": [
    "Tuplas podem ser convertidas em listas com a função embutida `list`."
   ]
  },
  {
   "cell_type": "code",
   "execution_count": 56,
   "metadata": {},
   "outputs": [
    {
     "name": "stdout",
     "output_type": "stream",
     "text": [
      "O conteúdo da lista1 é: [10, 23.44, True, 'string']\n"
     ]
    }
   ],
   "source": [
    "tupla1 = (10, 23.44, True, 'string')\n",
    "\n",
    "lista1 = list(tupla1)\n",
    "\n",
    "print('O conteúdo da lista1 é:', lista1)"
   ]
  },
  {
   "cell_type": "markdown",
   "metadata": {},
   "source": [
    "#### Tuplas são imutáveis.\n",
    "\n",
    "Os elementos da tupla são imutáveis, ou seja, não podem ter seus valores alterados. \n",
    "\n",
    "Caso você tente mudar o valor de um elemento, você receberá um erro do tipo `TypeError`."
   ]
  },
  {
   "cell_type": "code",
   "execution_count": 61,
   "metadata": {},
   "outputs": [
    {
     "ename": "TypeError",
     "evalue": "'tuple' object does not support item assignment",
     "output_type": "error",
     "traceback": [
      "\u001b[1;31m---------------------------------------------------------------------------\u001b[0m",
      "\u001b[1;31mTypeError\u001b[0m                                 Traceback (most recent call last)",
      "\u001b[1;32m<ipython-input-61-1dd567fc6af5>\u001b[0m in \u001b[0;36m<module>\u001b[1;34m\u001b[0m\n\u001b[0;32m      1\u001b[0m \u001b[0mtupla1\u001b[0m \u001b[1;33m=\u001b[0m \u001b[1;33m(\u001b[0m\u001b[1;36m10\u001b[0m\u001b[1;33m,\u001b[0m \u001b[1;36m23.44\u001b[0m\u001b[1;33m,\u001b[0m \u001b[1;32mTrue\u001b[0m\u001b[1;33m,\u001b[0m \u001b[1;34m'string'\u001b[0m\u001b[1;33m)\u001b[0m\u001b[1;33m\u001b[0m\u001b[1;33m\u001b[0m\u001b[0m\n\u001b[0;32m      2\u001b[0m \u001b[1;33m\u001b[0m\u001b[0m\n\u001b[1;32m----> 3\u001b[1;33m \u001b[0mtupla1\u001b[0m\u001b[1;33m[\u001b[0m\u001b[1;36m0\u001b[0m\u001b[1;33m]\u001b[0m \u001b[1;33m=\u001b[0m \u001b[1;36m1\u001b[0m\u001b[1;33m\u001b[0m\u001b[1;33m\u001b[0m\u001b[0m\n\u001b[0m",
      "\u001b[1;31mTypeError\u001b[0m: 'tuple' object does not support item assignment"
     ]
    }
   ],
   "source": [
    "tupla1 = (10, 23.44, True, 'string')\n",
    "\n",
    "tupla1[0] = 1"
   ]
  },
  {
   "cell_type": "markdown",
   "metadata": {},
   "source": [
    "Porém, uma tupla pode conter elementos **mutáveis**, como uma lista, por exemplo, e portanto, os elementos da lista podem ser alterados."
   ]
  },
  {
   "cell_type": "code",
   "execution_count": 8,
   "metadata": {},
   "outputs": [
    {
     "name": "stdout",
     "output_type": "stream",
     "text": [
      "O conteúdo do terceiro elemento da tupla1 é: [2.1, 45, True]\n",
      "\n",
      "O conteúdo da tupla1 é: (1, 'String', ['Teste', 45, True, 1j])\n"
     ]
    }
   ],
   "source": [
    "tupla1 = (1, 'String', [2.1, 45, True])\n",
    "\n",
    "print('O conteúdo do terceiro elemento da tupla1 é:', tupla1[2])\n",
    "print('')\n",
    "\n",
    "# Altero o valor de um elemento da lista que está dentro da tupla.\n",
    "# O primeiro índice acessa o elemento da tupla e o segundo índice acessa o elemento da lista.\n",
    "tupla1[2][0] = 'Teste'\n",
    "\n",
    "# Adiciono um valor ao final da lista que está dentro da tupla.\n",
    "# Aqui estamos acessando o objeto do tipo lista, por isso posso usar o método append.\n",
    "tupla1[2].append(1j)\n",
    "\n",
    "print('O conteúdo da tupla1 é:', tupla1)"
   ]
  },
  {
   "cell_type": "markdown",
   "metadata": {},
   "source": [
    "#### Desempacotando elementos de uma tupla.\n",
    "\n",
    "Os elementos de uma tupla podem ser atribuídos a uma sequência de variáveis, este processo se chama **desempacotamento**."
   ]
  },
  {
   "cell_type": "code",
   "execution_count": 3,
   "metadata": {},
   "outputs": [
    {
     "name": "stdout",
     "output_type": "stream",
     "text": [
      "Valores desempacotados: 1 , String , [2.1, 45, True]\n",
      "\n",
      "Fatia desempacotada: 1 , String\n"
     ]
    }
   ],
   "source": [
    "tupla1 = (1, 'String', [2.1, 45, True])\n",
    "\n",
    "# Desempacotando os três elementos da tupla.\n",
    "a, b, c = tupla1\n",
    "\n",
    "print('Valores desempacotados:', a, ',', b, ',', c)\n",
    "print('')\n",
    "\n",
    "# Desempacotando apenas uma fatia da tupla.\n",
    "a, b = tupla1[0:2]\n",
    "\n",
    "print('Fatia desempacotada:', a, ',', b)"
   ]
  },
  {
   "cell_type": "markdown",
   "metadata": {},
   "source": [
    "#### Pesquisando o conteúdo de uma tupla.\n",
    "\n",
    "O método `index(valor)` pesquisa a tupla por um `valor` especificado e retorna o índice de onde ele foi encontrado. Um erro ocorre se elemento não constar da tupla."
   ]
  },
  {
   "cell_type": "code",
   "execution_count": 72,
   "metadata": {},
   "outputs": [
    {
     "name": "stdout",
     "output_type": "stream",
     "text": [
      "Índice do elemento procurado: 1\n",
      "Índice do elemento procurado: 4\n"
     ]
    }
   ],
   "source": [
    "tupla = (1, 3.4, True, False, ['a', 'b'])\n",
    "\n",
    "print('Índice do elemento procurado:', tupla.index(3.4))\n",
    "print('Índice do elemento procurado:', tupla.index(['a','b']))"
   ]
  },
  {
   "cell_type": "markdown",
   "metadata": {},
   "source": [
    "**OBS**.: Lembrem-se que podemos usar os operadores `in` e `not in` para verificar se um elemento pertence ou não à tupla antes de usarmos o método `index()`."
   ]
  },
  {
   "cell_type": "code",
   "execution_count": 10,
   "metadata": {},
   "outputs": [
    {
     "name": "stdout",
     "output_type": "stream",
     "text": [
      "Índice do elemento procurado: 4\n"
     ]
    }
   ],
   "source": [
    "tupla = (1, 3.4, True, False, ['a', 'b'])\n",
    "\n",
    "elemento_procurado = ['a', 'b']\n",
    "if elemento_procurado in tupla:\n",
    "    print('Índice do elemento procurado:', tupla.index(elemento_procurado))\n",
    "else:\n",
    "    print('Elemento procurado não se encontra na tupla.')"
   ]
  },
  {
   "cell_type": "markdown",
   "metadata": {},
   "source": [
    "**OBSERVAÇÃO**: os métodos `append`, `insert`, `remove` e `sort`, além da palavra reservada `del` não são implementados pela classe `tuple`, pois alterariam o objeto tupla, o qual é imutável."
   ]
  },
  {
   "cell_type": "markdown",
   "metadata": {},
   "source": [
    "### Tarefas\n",
    "\n",
    "1. <span style=\"color:blue\">**QUIZ - Tuplas**</span>: respondam ao questionário sobre tuplas no MS teams, por favor.\n",
    "\n",
    "2. <span style=\"color:blue\">**Laboratório #5 - Listas e Tuplas**</span>: cliquem em um dos links abaixo para accessar os exercícios do laboratório #5.\n",
    "\n",
    "[![Google Colab](https://badgen.net/badge/Launch/on%20Google%20Colab/blue?icon=terminal)](https://colab.research.google.com/github/zz4fap/python-programming/blob/master/labs/Laboratorio5%20-%20Listas%20e%20Tuplas.ipynb)\n",
    "\n",
    "[![Binder](https://mybinder.org/badge_logo.svg)](https://mybinder.org/v2/gh/zz4fap/python-programming/master?filepath=labs%2FLaboratorio5%20-%20Listas%20e%20Tuplas.ipynb)\n",
    "\n",
    "**IMPORTANTE**: Para acessar o material das aulas e realizar as entregas dos exercícios de laboratório, por favor, leiam o tutorial no seguinte link:\n",
    "[Material-das-Aulas](../docs/Acesso-ao-material-das-aulas-resolucao-e-entrega-dos-laboratorios.pdf)"
   ]
  },
  {
   "cell_type": "markdown",
   "metadata": {},
   "source": [
    "## Conjuntos\n",
    "\n",
    "+ Um **conjunto** é um conceito ligeiramente diferente de uma lista ou tupla. \n",
    "+ Um conjunto, em Python, é exatamente como um conjunto matemático. Sendo assim, ele **não contém valores duplicados e não é ordenado**, ou seja, não pode ser indexado.\n",
    "+ A linguagem Python provê 2 tipos de conjuntos:\n",
    "     * `set`: é uma coleção **mutável**, **unívoca** (ou seja, sem repetições) e **não ordenada** de objetos.\n",
    "     * `frozenset`: é uma coleção **imutável**, **unívoca** (ou seja, sem repetições) e **não ordenada** de objetos.\n",
    "+ Os elementos dos conjuntos (i.e., `set` e `frozenset`) devem ser de um tipo **imutável**, e.g., strings, inteiros, tuplas, `frozenset`, etc.\n",
    "+ Os dois tipos implementam operações de conjuntos, tais como: **união**, **interseção** e **diferença**.\n",
    "\n",
    "Sintaxes válidas para criação de um `set`\n",
    "\n",
    "```python\n",
    "conjunto = {1,2,3}\n",
    "```\n",
    "\n",
    "```python\n",
    "conjunto = set([1,2,3])\n",
    "```\n",
    "\n",
    "```python\n",
    "conjunto = set((1,2,3))\n",
    "```\n",
    "\n",
    "```python\n",
    "conjunto = set({1,2,3})\n",
    "```\n",
    "\n",
    "Sintaxes válidas para para criação de um `frozenset`\n",
    "\n",
    "```python\n",
    "conjunto = frozenset({1,2,3})\n",
    "```\n",
    "\n",
    "```python\n",
    "conjunto = frozenset([1,2,3])\n",
    "```\n",
    "\n",
    "```python\n",
    "conjunto = frozenset((1,2,3))\n",
    "```\n",
    "\n",
    "### Exemplos"
   ]
  },
  {
   "cell_type": "markdown",
   "metadata": {},
   "source": [
    "#### Convertendo conjuntos.\n",
    "\n",
    "Um `set` pode ser convertido em `frozenset` e vice versa."
   ]
  },
  {
   "cell_type": "code",
   "execution_count": 6,
   "metadata": {},
   "outputs": [
    {
     "name": "stdout",
     "output_type": "stream",
     "text": [
      "Tipo do conjunto 1: <class 'frozenset'>\n",
      "Tipo do conjunto 2: <class 'set'>\n",
      "Tipo do conjunto 3: <class 'frozenset'>\n"
     ]
    }
   ],
   "source": [
    "conjunto1 = frozenset([1,2,3])\n",
    "print('Tipo do conjunto 1:', type(conjunto1))\n",
    "\n",
    "conjunto2 = set(conjunto1)\n",
    "print('Tipo do conjunto 2:', type(conjunto2))\n",
    "\n",
    "conjunto3 = frozenset(conjunto2)\n",
    "print('Tipo do conjunto 3:', type(conjunto3))"
   ]
  },
  {
   "cell_type": "markdown",
   "metadata": {},
   "source": [
    "#### Elementos duplicados são descartados.\n",
    "\n",
    "Se você criar um conjunto com elementos repetidos o `set` e o `frozenset` descartam as duplicatas automaticamente."
   ]
  },
  {
   "cell_type": "code",
   "execution_count": 11,
   "metadata": {},
   "outputs": [
    {
     "name": "stdout",
     "output_type": "stream",
     "text": [
      "Tipo do conjunto 1: <class 'set'>\n",
      "O conteúdo do set é {1, 2, 3}\n",
      "\n",
      "Tipo do conjunto 2: <class 'frozenset'>\n",
      "O conteúdo do frozenset é frozenset({1, 2, 3, 4})\n"
     ]
    }
   ],
   "source": [
    "conjunto1 = {1, 2, 3, 1, 3, 2}\n",
    "print('Tipo do conjunto 1:', type(conjunto1))\n",
    "print('O conteúdo do set é', conjunto1)\n",
    "print('')\n",
    "\n",
    "conjunto2 = frozenset([1, 2, 3, 4, 4, 3, 2, 1])\n",
    "print('Tipo do conjunto 2:', type(conjunto2))\n",
    "print('O conteúdo do frozenset é', conjunto2)"
   ]
  },
  {
   "cell_type": "markdown",
   "metadata": {},
   "source": [
    "Quando uma lista é convertida para `set` ou `frozenset`, as repetições são descartadas.\n",
    "\n",
    "**OBS**.: Isso também se aplica a tuplas."
   ]
  },
  {
   "cell_type": "code",
   "execution_count": 16,
   "metadata": {},
   "outputs": [
    {
     "name": "stdout",
     "output_type": "stream",
     "text": [
      "Conteúdo do conjunto 1: {False, 1, 2.1, 'string'}\n",
      "\n",
      "Conteúdo do conjunto 2: frozenset({False, 1, 2.1, 'string'})\n"
     ]
    }
   ],
   "source": [
    "lista1 = [1, 2.1, False, 'string', True, 2.1, False, 0]\n",
    "\n",
    "conjunto1 = set(lista1)\n",
    "\n",
    "# Percebam que os valores True e 0 são descartados pois eles são \n",
    "# interpretados como repetições dos valores 1 e False, respectivamente.\n",
    "# Lembrem-se que a classe bool é uma especialização da classe int e, portanto, True = 1 e False = 0.\n",
    "print('Conteúdo do conjunto 1:', conjunto1)\n",
    "print('')\n",
    "\n",
    "conjunto2 = frozenset(lista1)\n",
    "\n",
    "print('Conteúdo do conjunto 2:', conjunto2)"
   ]
  },
  {
   "cell_type": "markdown",
   "metadata": {},
   "source": [
    "#### Criando conjuntos com a função range.\n",
    "\n",
    "Você pode criar um conjunto com a função `range()`.\n",
    "\n",
    "**OBS**.: A função `range(start, stop, step)` retorna uma sequência de números, começando em `start` e incrementando em `step` unidades, até um valor antes de `stop`."
   ]
  },
  {
   "cell_type": "code",
   "execution_count": 19,
   "metadata": {},
   "outputs": [
    {
     "name": "stdout",
     "output_type": "stream",
     "text": [
      "Conjunto #1: {0, 1, 2, 3, 4, 5, 6, 7, 8, 9}\n",
      "Conjunto #2: {0, 2, 4, 6, 8}\n",
      "Conjunto #3: frozenset({0, 2, 4, 6, 8})\n"
     ]
    }
   ],
   "source": [
    "conjunto1 = set(range(0, 10))\n",
    "\n",
    "print('Conjunto #1:', conjunto1)\n",
    "\n",
    "conjunto2 = set(range(0, 10, 2))\n",
    "\n",
    "print('Conjunto #2:', conjunto2)\n",
    "\n",
    "conjunto3 = frozenset(range(0, 10, 2))\n",
    "\n",
    "print('Conjunto #3:', conjunto3)"
   ]
  },
  {
   "cell_type": "markdown",
   "metadata": {},
   "source": [
    "### Operações matemáticas com conjuntos\n",
    "\n",
    "Conforme veremos a seguir, os conjuntos permitem operações matemáticas como \n",
    "    \n",
    "+ união, \n",
    "\n",
    "+ diferença, \n",
    "\n",
    "+ interseção e \n",
    "\n",
    "+ diferença simétrica."
   ]
  },
  {
   "cell_type": "markdown",
   "metadata": {},
   "source": [
    "**União de conjuntos**\n",
    "\n",
    "A operação de **união** une os elementos dos 2 conjuntos, descartando elementos repetidos."
   ]
  },
  {
   "cell_type": "code",
   "execution_count": 20,
   "metadata": {},
   "outputs": [
    {
     "name": "stdout",
     "output_type": "stream",
     "text": [
      "União de s1 e s2: {0, 1, 2, 3, 4, 5, 6}\n",
      "União de s1 e s2: {0, 1, 2, 3, 4, 5, 6}\n"
     ]
    }
   ],
   "source": [
    "# Números ímpares.\n",
    "s1 = {0, 1, 3, 5, 6}\n",
    "\n",
    "# Números pares.\n",
    "s2 = {0, 2, 4, 6}\n",
    "\n",
    "# Usando o método union.\n",
    "s1s2union = s1.union(s2)\n",
    "print('União de s1 e s2:', s1s2union)\n",
    "\n",
    "# Podemos também usar o operador '|'\n",
    "s1s2union = s1 | s2\n",
    "print('União de s1 e s2:', s1s2union)"
   ]
  },
  {
   "cell_type": "markdown",
   "metadata": {},
   "source": [
    "**Diferença de conjuntos**\n",
    "\n",
    "A operação de **diferença** remove do primeiro conjunto os elementos do segundo conjunto que estão presentes naquele conjunto.\n",
    "\n",
    "$$s_3 = s_1 - s_2$$"
   ]
  },
  {
   "cell_type": "code",
   "execution_count": 23,
   "metadata": {},
   "outputs": [
    {
     "name": "stdout",
     "output_type": "stream",
     "text": [
      "Diferença de s1 com s2: {1, 3, 5}\n",
      "Diferença de s1 com s1: {1, 3, 5}\n"
     ]
    }
   ],
   "source": [
    "s1 = {0, 1, 2, 3, 4, 5, 6}\n",
    "\n",
    "s2 = {0, 2, 4, 6, 7}\n",
    "\n",
    "# Usando o método difference.\n",
    "s1s2diff = s1.difference(s2)\n",
    "# Remove todos os elementos de s2 presentes em s1.\n",
    "print('Diferença de s1 com s2:', s1s2diff)\n",
    "\n",
    "# Podemos também usar o operador '-'\n",
    "s1s2diff = s1 - s2\n",
    "print('Diferença de s1 com s1:', s1s2diff)"
   ]
  },
  {
   "cell_type": "markdown",
   "metadata": {},
   "source": [
    "Diferença sem elementos do segundo conjunto presentes no primeiro."
   ]
  },
  {
   "cell_type": "code",
   "execution_count": 25,
   "metadata": {},
   "outputs": [
    {
     "name": "stdout",
     "output_type": "stream",
     "text": [
      "Diferença de s1 com s2: {1, 3, 5}\n"
     ]
    }
   ],
   "source": [
    "# Números ímpares.\n",
    "s1 = {1, 3, 5}\n",
    "\n",
    "# Números pares.\n",
    "s2 = {2, 4, 6}\n",
    "\n",
    "# Usando o método difference.\n",
    "s1s2diff = s1.difference(s2)\n",
    "\n",
    "# Como os elementos de s2 não estão presentes em s1, então a diferença é o proprio s1.\n",
    "print('Diferença de s1 com s2:', s1s2diff)"
   ]
  },
  {
   "cell_type": "markdown",
   "metadata": {},
   "source": [
    "**Interseção de conjuntos**\n",
    "\n",
    "A operação de **interseção** retorna apenas os **elementos presentes em ambos os conjuntos**."
   ]
  },
  {
   "cell_type": "code",
   "execution_count": 1,
   "metadata": {},
   "outputs": [
    {
     "name": "stdout",
     "output_type": "stream",
     "text": [
      "Interseção de s1 com s2: {0, 2, 4, 6}\n",
      "Interseção de s1 com s2: {0, 2, 4, 6}\n"
     ]
    }
   ],
   "source": [
    "s1 = {0, 1, 2, 3, 4, 5, 6}\n",
    "\n",
    "s2 = {-2, -1, 0, 2, 4, 6, 7}\n",
    "\n",
    "# Usando o método intersection.\n",
    "interseçãoS1eS2 = s1.intersection(s2)\n",
    "print('Interseção de s1 com s2:', interseçãoS1eS2)\n",
    "\n",
    "# Podemos também usar o operador '&'\n",
    "interseçãoS1eS2 = s1 & s2\n",
    "print('Interseção de s1 com s2:', interseçãoS1eS2)"
   ]
  },
  {
   "cell_type": "markdown",
   "metadata": {},
   "source": [
    "#### Diferença simétrica de conjuntos.\n",
    "\n",
    "A operação da **diferença simétrica** entre dois conjuntos retorna o conjunto de elementos dos dois conjuntos excluindo a interseção entre eles."
   ]
  },
  {
   "cell_type": "code",
   "execution_count": 27,
   "metadata": {},
   "outputs": [
    {
     "name": "stdout",
     "output_type": "stream",
     "text": [
      "Diferença simétrica de s1 com s2: {1, 2, 3, 6, 7, 8}\n",
      "Diferença simétrica de s1 com s2: {1, 2, 3, 6, 7, 8}\n"
     ]
    }
   ],
   "source": [
    "s1 = {1, 2, 3, 4, 5}\n",
    "\n",
    "s2 = {4, 5, 6, 7, 8}\n",
    "\n",
    "# Usando o método symmetric_difference.\n",
    "diff_simétrica = s1.symmetric_difference(s2)\n",
    "print('Diferença simétrica de s1 com s2:', diff_simétrica)\n",
    "\n",
    "# Podemos também usar o operador '^'\n",
    "diff_simétrica = s1 ^ s2\n",
    "print('Diferença simétrica de s1 com s2:', diff_simétrica)"
   ]
  },
  {
   "cell_type": "markdown",
   "metadata": {},
   "source": [
    "#### Verificando se um conjunto inclui outro.\n",
    "\n",
    "Usamos o método `issuperset`, o qual retorna `True` se o conjunto contém o outro conjunto, caso contrário, retorna `False`."
   ]
  },
  {
   "cell_type": "code",
   "execution_count": 2,
   "metadata": {},
   "outputs": [
    {
     "name": "stdout",
     "output_type": "stream",
     "text": [
      "s1 não inclui os elementos de s2.\n"
     ]
    }
   ],
   "source": [
    "# Números ímpares.\n",
    "s1 = {1, 3, 5, 7}\n",
    "\n",
    "# Números pares.\n",
    "s2 = {0, 2, 4, 6}\n",
    "\n",
    "# Testa se um set inclui outro.\n",
    "# O método 'issuperset' retorna True se o conjunto contém o outro conjunto.\n",
    "if s1.issuperset(s2):\n",
    "    print('s1 inclui os elementos de s2.')\n",
    "else:\n",
    "    print('s1 não inclui os elementos de s2.')"
   ]
  },
  {
   "cell_type": "code",
   "execution_count": 3,
   "metadata": {},
   "outputs": [
    {
     "name": "stdout",
     "output_type": "stream",
     "text": [
      "s1 inclui os elementos de s2.\n"
     ]
    }
   ],
   "source": [
    "# Números de 0 a 7.\n",
    "s1 = {0, 1, 2, 3, 4, 5, 6, 7}\n",
    "\n",
    "# Números pares.\n",
    "s2 = {0, 2, 4, 6}\n",
    "\n",
    "# Testa se um set inclui outro.\n",
    "if s1.issuperset(s2):\n",
    "    print('s1 inclui os elementos de s2.')\n",
    "else:\n",
    "    print('s1 não inclui os elementos de s2.')"
   ]
  },
  {
   "cell_type": "markdown",
   "metadata": {},
   "source": [
    "O método `isdisjoint` retorna `True` se dois conjuntos **não tiverem interseção**, caso contrário retorna `False`."
   ]
  },
  {
   "cell_type": "code",
   "execution_count": 4,
   "metadata": {},
   "outputs": [
    {
     "name": "stdout",
     "output_type": "stream",
     "text": [
      "s1 e s2 não têm elementos em comum.\n"
     ]
    }
   ],
   "source": [
    "# Números ímpares.\n",
    "s1 = {1, 3, 5, 7}\n",
    "\n",
    "# Números pares.\n",
    "s2 = {0, 2, 4, 6}\n",
    "\n",
    "# Testa se não existe elementos em comum.\n",
    "# O método 'isdisjoint' retorna True se dois conjuntos não tiverem interseção.\n",
    "if s1.isdisjoint(s2):\n",
    "    print('s1 e s2 não têm elementos em comum.')\n",
    "else:\n",
    "    print('s1 e s2 têm elementos em comum.')"
   ]
  },
  {
   "cell_type": "code",
   "execution_count": 5,
   "metadata": {},
   "outputs": [
    {
     "name": "stdout",
     "output_type": "stream",
     "text": [
      "s1 e s2 têm elementos em comum.\n"
     ]
    }
   ],
   "source": [
    "# Números de 0 a 7.\n",
    "s1 = {0, 1, 2, 3, 4, 5, 6, 7}\n",
    "\n",
    "# Números pares.\n",
    "s2 = {0, 2, 4, 6}\n",
    "\n",
    "# Testa se não existe elementos em comum.\n",
    "# O método 'isdisjoint' retorna True se dois conjuntos não tiverem interseção.\n",
    "if s1.isdisjoint(s2):\n",
    "    print('s1 e s2 não têm elementos em comum.')\n",
    "else:\n",
    "    print('s1 e s2 têm elementos em comum.')"
   ]
  },
  {
   "cell_type": "markdown",
   "metadata": {},
   "source": [
    "**IMPORTANTE**\n",
    "\n",
    "+ Como conjuntos **não são coleções ordenadas**, não há como usar a indexação para acessar ou excluir seus elementos. \n",
    "+ Então, para realizar tais operações, a linguagem Python nos fornece uma lista de funções e métodos como `discard()`, `pop()`, `clear()`, `remove()`, `add()` e outras. \n",
    "+ As funções embutidas como `len()`, `max()`, `min()`, etc. podem ser usadas normalmente com conjuntos."
   ]
  },
  {
   "cell_type": "code",
   "execution_count": 37,
   "metadata": {},
   "outputs": [
    {
     "name": "stdout",
     "output_type": "stream",
     "text": [
      "Novo elemento adicionado: {1, 2, 3, 4, 5}\n",
      "\n",
      "Elemento removido: {1, 2, 3, 4}\n"
     ]
    }
   ],
   "source": [
    "s1 = {1, 2, 3, 4}\n",
    "\n",
    "# Adicionando um elemento.\n",
    "s1.add(5)\n",
    "print('Novo elemento adicionado:', s1)\n",
    "print('')\n",
    "\n",
    "# Removendo um elemento, lança uma exceção caso o elemento não estiver presente.\n",
    "s1.remove(5)\n",
    "print('Elemento removido:', s1)"
   ]
  },
  {
   "cell_type": "code",
   "execution_count": 43,
   "metadata": {},
   "outputs": [
    {
     "name": "stdout",
     "output_type": "stream",
     "text": [
      "Elemento descartado: {2.1, 3, 'casa'}\n",
      "\n",
      "Elemento removido da lista: 2.1\n"
     ]
    }
   ],
   "source": [
    "s1 = {'casa', 3, 4, 2.1}\n",
    "\n",
    "# Descartando um elemento se ele estiver presente. Nada ocorre caso o elemento não esteja presente.\n",
    "s1.discard(4)\n",
    "print('Elemento descartado:', s1)\n",
    "print('')\n",
    "\n",
    "# Removendo e retornando um elemento arbitrário do conjunto.\n",
    "elemento = s1.pop()\n",
    "print('Elemento removido da lista:', elemento)"
   ]
  },
  {
   "cell_type": "code",
   "execution_count": 45,
   "metadata": {},
   "outputs": [
    {
     "name": "stdout",
     "output_type": "stream",
     "text": [
      "Tamanho do conjunto: 5\n",
      "\n",
      "Maior valor do conjunto: 5.7\n"
     ]
    }
   ],
   "source": [
    "s1 = {1, 2, 3, 4, 5.7}\n",
    "\n",
    "# Obtendo o tamanho do conjunto.\n",
    "print('Tamanho do conjunto:', len(s1))\n",
    "print('')\n",
    "\n",
    "# Obtendo o maior valor do conjunto.\n",
    "print('Maior valor do conjunto:', max(s1))"
   ]
  },
  {
   "cell_type": "code",
   "execution_count": 46,
   "metadata": {},
   "outputs": [
    {
     "name": "stdout",
     "output_type": "stream",
     "text": [
      "Menor valor do conjunto: 1\n",
      "\n",
      "Conteúdo da lista: set()\n"
     ]
    }
   ],
   "source": [
    "s1 = {1, 2, 3, 4}\n",
    "\n",
    "# Obtendo o menor valor do conjunto.\n",
    "print('Menor valor do conjunto:', min(s1))\n",
    "print('')\n",
    "\n",
    "# Removendo todos os elementos do conjunto.\n",
    "s1.clear()\n",
    "print('Conteúdo da lista:', s1)"
   ]
  },
  {
   "cell_type": "markdown",
   "metadata": {},
   "source": [
    "#### Alterando os conjuntos.\n",
    "\n",
    "Embora um conjunto seja mutável, e, portanto, possa ser modificado (adição e remoção de novos elementos), os elementos contidos nele devem ser sempre **imutáveis**.\n",
    "\n",
    "Por exemplo, se tentarmos criar um conjunto com um elemento do tipo lista, o interpretador vai retornar um erro do tipo `TypeError`."
   ]
  },
  {
   "cell_type": "code",
   "execution_count": 47,
   "metadata": {},
   "outputs": [
    {
     "ename": "TypeError",
     "evalue": "unhashable type: 'list'",
     "output_type": "error",
     "traceback": [
      "\u001b[1;31m---------------------------------------------------------------------------\u001b[0m",
      "\u001b[1;31mTypeError\u001b[0m                                 Traceback (most recent call last)",
      "\u001b[1;32mC:\\Users\\FELIPE~1.FIG\\AppData\\Local\\Temp/ipykernel_16768/4052637891.py\u001b[0m in \u001b[0;36m<module>\u001b[1;34m\u001b[0m\n\u001b[1;32m----> 1\u001b[1;33m \u001b[0ms1\u001b[0m \u001b[1;33m=\u001b[0m \u001b[1;33m{\u001b[0m\u001b[1;36m1\u001b[0m\u001b[1;33m,\u001b[0m \u001b[1;36m2\u001b[0m\u001b[1;33m,\u001b[0m \u001b[1;33m[\u001b[0m\u001b[1;36m3\u001b[0m\u001b[1;33m,\u001b[0m \u001b[1;36m4\u001b[0m\u001b[1;33m]\u001b[0m\u001b[1;33m}\u001b[0m\u001b[1;33m\u001b[0m\u001b[1;33m\u001b[0m\u001b[0m\n\u001b[0m\u001b[0;32m      2\u001b[0m \u001b[0mprint\u001b[0m\u001b[1;33m(\u001b[0m\u001b[0ms1\u001b[0m\u001b[1;33m)\u001b[0m\u001b[1;33m\u001b[0m\u001b[1;33m\u001b[0m\u001b[0m\n",
      "\u001b[1;31mTypeError\u001b[0m: unhashable type: 'list'"
     ]
    }
   ],
   "source": [
    "s1 = {1, 2, [3, 4]}\n",
    "print(s1)"
   ]
  },
  {
   "cell_type": "markdown",
   "metadata": {},
   "source": [
    "**IMPORTANTE**\n",
    "\n",
    "+ Um objeto é `hashable` quando se pode gerar um **valor único e que nunca é alterado** a partir do objeto.\n",
    "    + Esse valor é constante durante todo o tempo de vida do objeto.\n",
    "\n",
    "\n",
    "+ Portanto, um objeto é `hashable` quando ele não pode ser alterado depois de instanciado, ou seja, objetos **imutáveis** são `hashable` (e.g., strings, tuplas, conjuntos congelados, etc.) e objetos **mutáveis** são `unhashable` (e.g., listas, dicionários, conjuntos, etc.).\n",
    "\n",
    "\n",
    "+ Objetos que são `hashable` são mais fáceis de serem armazenados e acessados em memória, pois a `hash key` é uma espécie de posição onde aquele objeto está armazendo."
   ]
  },
  {
   "cell_type": "markdown",
   "metadata": {},
   "source": [
    "Porém, se tentarmos criar um conjunto com uma tupla como elemento, não teremos problemas."
   ]
  },
  {
   "cell_type": "code",
   "execution_count": 17,
   "metadata": {},
   "outputs": [
    {
     "name": "stdout",
     "output_type": "stream",
     "text": [
      "Conteúdo do conjunto s1: {1, 2, (3, 4)}\n",
      "\n",
      "Conteúdo do conjunto s1: {1, 2}\n"
     ]
    }
   ],
   "source": [
    "s1 = {1, 2, (3, 4)}\n",
    "print('Conteúdo do conjunto s1:', s1)\n",
    "print('')\n",
    "\n",
    "# Eu consigo apagar o elemento tupla.\n",
    "s1.remove((3,4))\n",
    "print('Conteúdo do conjunto s1:', s1)"
   ]
  },
  {
   "cell_type": "markdown",
   "metadata": {},
   "source": [
    "Frozensets são como os conjuntos, exceto pelo fato de que eles não podem ser alterados, ou seja, eles são imutáveis."
   ]
  },
  {
   "cell_type": "code",
   "execution_count": 18,
   "metadata": {},
   "outputs": [
    {
     "ename": "AttributeError",
     "evalue": "'frozenset' object has no attribute 'add'",
     "output_type": "error",
     "traceback": [
      "\u001b[1;31m---------------------------------------------------------------------------\u001b[0m",
      "\u001b[1;31mAttributeError\u001b[0m                            Traceback (most recent call last)",
      "\u001b[1;32m~\\AppData\\Local\\Temp\\ipykernel_17072\\3401938609.py\u001b[0m in \u001b[0;36m<module>\u001b[1;34m\u001b[0m\n\u001b[0;32m      1\u001b[0m \u001b[0mcidades\u001b[0m \u001b[1;33m=\u001b[0m \u001b[0mfrozenset\u001b[0m\u001b[1;33m(\u001b[0m\u001b[1;33m[\u001b[0m\u001b[1;34m\"Itajubá\"\u001b[0m\u001b[1;33m,\u001b[0m \u001b[1;34m\"Varginha\"\u001b[0m\u001b[1;33m,\u001b[0m \u001b[1;34m\"Piranguinho\"\u001b[0m\u001b[1;33m]\u001b[0m\u001b[1;33m)\u001b[0m\u001b[1;33m\u001b[0m\u001b[1;33m\u001b[0m\u001b[0m\n\u001b[1;32m----> 2\u001b[1;33m \u001b[0mcidades\u001b[0m\u001b[1;33m.\u001b[0m\u001b[0madd\u001b[0m\u001b[1;33m(\u001b[0m\u001b[1;34m\"Caxambú\"\u001b[0m\u001b[1;33m)\u001b[0m\u001b[1;33m\u001b[0m\u001b[1;33m\u001b[0m\u001b[0m\n\u001b[0m",
      "\u001b[1;31mAttributeError\u001b[0m: 'frozenset' object has no attribute 'add'"
     ]
    }
   ],
   "source": [
    "cidades = frozenset([\"Itajubá\", \"Varginha\", \"Piranguinho\"])\n",
    "cidades.add(\"Caxambú\")"
   ]
  },
  {
   "cell_type": "markdown",
   "metadata": {},
   "source": [
    "#### Verificando se um objeto está presente no conjunto.\n",
    "\n",
    "Podemos testar se um objeto está presente em um conjunto com os operadores de associação `in` e `not in`."
   ]
  },
  {
   "cell_type": "code",
   "execution_count": 58,
   "metadata": {},
   "outputs": [
    {
     "name": "stdout",
     "output_type": "stream",
     "text": [
      "'B' está presente em s1\n"
     ]
    }
   ],
   "source": [
    "s1 = {'B', 1, 2.3, True}\n",
    "\n",
    "# Usando operador in.\n",
    "if 'B' in s1:\n",
    "    print(\"'B' está presente em s1\")\n",
    "else:\n",
    "    print(\"'B' não está presente em s1\")"
   ]
  },
  {
   "cell_type": "code",
   "execution_count": 59,
   "metadata": {},
   "outputs": [
    {
     "name": "stdout",
     "output_type": "stream",
     "text": [
      "'A' não está presente em s1\n"
     ]
    }
   ],
   "source": [
    "s1 = {'B', 1, 2.3, True}\n",
    "\n",
    "# Usando operador not in.\n",
    "if 'A' not in s1:\n",
    "    print(\"'A' não está presente em s1\")\n",
    "else:\n",
    "    print(\"'A' está presente em s1\")"
   ]
  },
  {
   "cell_type": "markdown",
   "metadata": {},
   "source": [
    "#### Conjuntos contendo sets e frozensets.\n",
    "\n",
    "Lembrem-se que os elementos dos conjuntos (tanto `set` quanto `frozenset`) devem ser de um tipo **imutável**.\n",
    "\n",
    "Portanto, um `frozenset` pode ser parte de um `set`, por ser imutável, ou seja, `hashable`. "
   ]
  },
  {
   "cell_type": "code",
   "execution_count": 19,
   "metadata": {},
   "outputs": [
    {
     "name": "stdout",
     "output_type": "stream",
     "text": [
      "Conteúdo do conjunto s2: {frozenset({'qux', 'bar', 'foo', 'baz'}), 2, 3, 4}\n"
     ]
    }
   ],
   "source": [
    "s1 = frozenset({'foo', 'bar', 'baz', 'qux'})\n",
    "\n",
    "s2 = {2, 3, 4, s1}\n",
    "\n",
    "print('Conteúdo do conjunto s2:', s2)"
   ]
  },
  {
   "cell_type": "markdown",
   "metadata": {},
   "source": [
    "Porém, um `set` não pode ser parte de um `set`, por ser mutável, ou seja, `unhashable `."
   ]
  },
  {
   "cell_type": "code",
   "execution_count": 20,
   "metadata": {},
   "outputs": [
    {
     "ename": "TypeError",
     "evalue": "unhashable type: 'set'",
     "output_type": "error",
     "traceback": [
      "\u001b[1;31m---------------------------------------------------------------------------\u001b[0m",
      "\u001b[1;31mTypeError\u001b[0m                                 Traceback (most recent call last)",
      "\u001b[1;32m~\\AppData\\Local\\Temp\\ipykernel_17072\\3747959733.py\u001b[0m in \u001b[0;36m<module>\u001b[1;34m\u001b[0m\n\u001b[0;32m      1\u001b[0m \u001b[0ms3\u001b[0m \u001b[1;33m=\u001b[0m \u001b[1;33m{\u001b[0m\u001b[1;36m1\u001b[0m\u001b[1;33m,\u001b[0m \u001b[1;36m2\u001b[0m\u001b[1;33m,\u001b[0m \u001b[1;36m3\u001b[0m\u001b[1;33m}\u001b[0m\u001b[1;33m\u001b[0m\u001b[1;33m\u001b[0m\u001b[0m\n\u001b[0;32m      2\u001b[0m \u001b[1;33m\u001b[0m\u001b[0m\n\u001b[1;32m----> 3\u001b[1;33m \u001b[0ms4\u001b[0m \u001b[1;33m=\u001b[0m \u001b[1;33m{\u001b[0m\u001b[1;34m'foo'\u001b[0m\u001b[1;33m,\u001b[0m \u001b[1;34m'bar'\u001b[0m\u001b[1;33m,\u001b[0m \u001b[1;34m'baz'\u001b[0m\u001b[1;33m,\u001b[0m \u001b[1;34m'qux'\u001b[0m\u001b[1;33m,\u001b[0m \u001b[0ms3\u001b[0m\u001b[1;33m}\u001b[0m\u001b[1;33m\u001b[0m\u001b[1;33m\u001b[0m\u001b[0m\n\u001b[0m",
      "\u001b[1;31mTypeError\u001b[0m: unhashable type: 'set'"
     ]
    }
   ],
   "source": [
    "s3 = {1, 2, 3}\n",
    "\n",
    "s4 = {'foo', 'bar', 'baz', 'qux', s3}"
   ]
  },
  {
   "cell_type": "markdown",
   "metadata": {},
   "source": [
    "Um `set` também não pode ser parte de um `frozenset`, por ser mutável, ou seja, `unhashable `."
   ]
  },
  {
   "cell_type": "code",
   "execution_count": 69,
   "metadata": {},
   "outputs": [
    {
     "ename": "TypeError",
     "evalue": "unhashable type: 'set'",
     "output_type": "error",
     "traceback": [
      "\u001b[1;31m---------------------------------------------------------------------------\u001b[0m",
      "\u001b[1;31mTypeError\u001b[0m                                 Traceback (most recent call last)",
      "\u001b[1;32mC:\\Users\\FELIPE~1.FIG\\AppData\\Local\\Temp/ipykernel_16768/448286528.py\u001b[0m in \u001b[0;36m<module>\u001b[1;34m\u001b[0m\n\u001b[0;32m      1\u001b[0m \u001b[0ms5\u001b[0m \u001b[1;33m=\u001b[0m \u001b[1;33m{\u001b[0m\u001b[1;36m1\u001b[0m\u001b[1;33m,\u001b[0m \u001b[1;36m2\u001b[0m\u001b[1;33m,\u001b[0m \u001b[1;36m3\u001b[0m\u001b[1;33m}\u001b[0m\u001b[1;33m\u001b[0m\u001b[1;33m\u001b[0m\u001b[0m\n\u001b[0;32m      2\u001b[0m \u001b[1;33m\u001b[0m\u001b[0m\n\u001b[1;32m----> 3\u001b[1;33m \u001b[0ms6\u001b[0m \u001b[1;33m=\u001b[0m \u001b[0mfrozenset\u001b[0m\u001b[1;33m(\u001b[0m\u001b[1;33m{\u001b[0m\u001b[1;34m'foo'\u001b[0m\u001b[1;33m,\u001b[0m \u001b[1;34m'bar'\u001b[0m\u001b[1;33m,\u001b[0m \u001b[1;34m'baz'\u001b[0m\u001b[1;33m,\u001b[0m \u001b[1;34m'qux'\u001b[0m\u001b[1;33m,\u001b[0m \u001b[0ms5\u001b[0m\u001b[1;33m}\u001b[0m\u001b[1;33m)\u001b[0m\u001b[1;33m\u001b[0m\u001b[1;33m\u001b[0m\u001b[0m\n\u001b[0m",
      "\u001b[1;31mTypeError\u001b[0m: unhashable type: 'set'"
     ]
    }
   ],
   "source": [
    "s5 = {1, 2, 3}\n",
    "\n",
    "s6 = frozenset({'foo', 'bar', 'baz', 'qux', s5})"
   ]
  },
  {
   "cell_type": "markdown",
   "metadata": {},
   "source": [
    "### Tarefa\n",
    "\n",
    "1. <span style=\"color:blue\">**QUIZ - Conjuntos**</span>: respondam ao questionário sobre conjuntos no MS teams, por favor."
   ]
  },
  {
   "cell_type": "markdown",
   "metadata": {},
   "source": [
    "## Dicionários\n",
    "\n",
    "+ Um dicionário é uma **lista de associações** compostas por uma **chave única** e um **objeto** correspondente.\n",
    "    + Pense em um dicionário de Português. Ele contém pares de palavra (**chave**) e significado daquela palavra (**valor**). Da mesma forma, um dicionário em Python contém pares de **chave-valor**.\n",
    "+ São **mutáveis**, ou seja, posso alterar, adicionar ou remover elementos.\n",
    "+ A **chave** precisa ser de um tipo **imutável**. \n",
    "    + Geralmente são usadas strings, mas também podem ser tuplas ou tipos numéricos como inteiros, floats, etc. \n",
    "+ Já os **valores** dos dicionários podem ser tanto mutáveis quanto imutáveis. \n",
    "+ **Não são coleções ordenadas**, ou seja, não acessamos seus elementos através de seus índices, como no caso das listas.\n",
    "    * Os elementos são acessados através de suas **chaves**.\n",
    "+ Podemos acessar uma lista com todas as **chaves** ou **valores** de forma independente.\n",
    "+ Usa-se chaves, `{}`, para se declarar um dicionário. \n",
    "+ O interpretador diferencia um dicionário de um conjunto através dos dois pontos, `:`, que separam a chave do valor.\n",
    "\n",
    "Sintaxe:\n",
    "\n",
    "```python\n",
    "dicionario = {'a': a, 'b': b, ..., 'z': z}\n",
    "```\n",
    "\n",
    "### Exemplos\n",
    "\n",
    "#### Criando dicionários.\n",
    "\n",
    "Criando um dicionário vazio."
   ]
  },
  {
   "cell_type": "code",
   "execution_count": 5,
   "metadata": {},
   "outputs": [
    {
     "name": "stdout",
     "output_type": "stream",
     "text": [
      "Conteúdo de d1: {}\n",
      "Quantidade de elementos em d1: 0\n",
      "Tipo de d1 é: <class 'dict'>\n"
     ]
    }
   ],
   "source": [
    "d1 = {}\n",
    "\n",
    "print('Conteúdo de d1:', d1)\n",
    "print('Quantidade de elementos em d1:', len(d1))\n",
    "print('Tipo de d1 é:', type(d1))"
   ]
  },
  {
   "cell_type": "markdown",
   "metadata": {},
   "source": [
    "Criando um dicionário com 2 itens.\n",
    "\n",
    "As **chaves** são as strings `presunto` e `ovos`, pois são tipos imutáveis e seus respectivos **valores** são 2 e 3."
   ]
  },
  {
   "cell_type": "code",
   "execution_count": 7,
   "metadata": {},
   "outputs": [
    {
     "name": "stdout",
     "output_type": "stream",
     "text": [
      "Conteúdo de d2: {'presunto': 2, 'ovos': 3}\n"
     ]
    }
   ],
   "source": [
    "d2 = {'presunto' : 2, 'ovos' : 3}\n",
    "\n",
    "print('Conteúdo de d2:', d2)"
   ]
  },
  {
   "cell_type": "markdown",
   "metadata": {},
   "source": [
    "Criando um dicionário utilizando a função embutida `dict`.\n",
    "\n",
    "Passamos sempre pares `chave` e `valor`."
   ]
  },
  {
   "cell_type": "code",
   "execution_count": 8,
   "metadata": {},
   "outputs": [
    {
     "name": "stdout",
     "output_type": "stream",
     "text": [
      "Conteúdo de d3: {'one': 1, 'two': 2, 'three': 3}\n"
     ]
    }
   ],
   "source": [
    "d3 = dict(one=1, two=2, three=3)\n",
    "\n",
    "print('Conteúdo de d3:', d3)"
   ]
  },
  {
   "cell_type": "markdown",
   "metadata": {},
   "source": [
    "#### Chaves de diferentes tipos.\n",
    "\n",
    "As chaves de um dicionário podem ser de tipos diferentes, mas sempre devem ser de tipos **imutáveis**."
   ]
  },
  {
   "cell_type": "code",
   "execution_count": 12,
   "metadata": {},
   "outputs": [
    {
     "name": "stdout",
     "output_type": "stream",
     "text": [
      "O conteúdo do dicionário d3 é: {'presunto': 1, 2: 3, True: 'string', 2.1: [1, 2, 3]}\n",
      "Quantidade de elementos em d3: 4\n"
     ]
    }
   ],
   "source": [
    "d3 = {'presunto' : 1, 2 : 3, True : 'string', 2.1 : [1, 2, 3]}\n",
    "\n",
    "print('O conteúdo do dicionário d3 é:', d3)\n",
    "print('Quantidade de elementos em d3:', len(d3))"
   ]
  },
  {
   "cell_type": "markdown",
   "metadata": {},
   "source": [
    "#### Acessando elementos do dicionário\n",
    "\n",
    "Acessamos (ou seja, indexamos) os valores dos elementos de um dicionário através de suas **chaves**."
   ]
  },
  {
   "cell_type": "code",
   "execution_count": 33,
   "metadata": {},
   "outputs": [
    {
     "name": "stdout",
     "output_type": "stream",
     "text": [
      "O valor associado à chave 'presunto' é 1\n",
      "O valor associado à chave 2 é 3\n",
      "O valor associado à chave True é string\n",
      "O valor associado à chave 2.1 é [1, 2, 3]\n",
      "O valor associado à chave 1j é ('a', 'b')\n"
     ]
    }
   ],
   "source": [
    "d3 = {'presunto' : 1, 2 : 3, True : 'string', 2.1 : [1, 2, 3], 1j : ('a', 'b')}\n",
    "\n",
    "print('O valor associado à chave \\'presunto\\' é', d3['presunto'])\n",
    "print('O valor associado à chave 2 é', d3[2])\n",
    "print('O valor associado à chave True é', d3[True])\n",
    "print('O valor associado à chave 2.1 é', d3[2.1])\n",
    "print('O valor associado à chave 1j é', d3[1j])"
   ]
  },
  {
   "cell_type": "markdown",
   "metadata": {},
   "source": [
    "Quando a chave não existe, o interpretador retorna um erro de `KeyError`. "
   ]
  },
  {
   "cell_type": "code",
   "execution_count": 21,
   "metadata": {},
   "outputs": [
    {
     "ename": "KeyError",
     "evalue": "'queijo'",
     "output_type": "error",
     "traceback": [
      "\u001b[1;31m---------------------------------------------------------------------------\u001b[0m",
      "\u001b[1;31mKeyError\u001b[0m                                  Traceback (most recent call last)",
      "\u001b[1;32m~\\AppData\\Local\\Temp\\ipykernel_17072\\551514119.py\u001b[0m in \u001b[0;36m<module>\u001b[1;34m\u001b[0m\n\u001b[0;32m      1\u001b[0m \u001b[0md3\u001b[0m \u001b[1;33m=\u001b[0m \u001b[1;33m{\u001b[0m\u001b[1;34m'presunto'\u001b[0m \u001b[1;33m:\u001b[0m \u001b[1;36m1\u001b[0m\u001b[1;33m,\u001b[0m \u001b[1;36m2\u001b[0m \u001b[1;33m:\u001b[0m \u001b[1;36m3\u001b[0m\u001b[1;33m,\u001b[0m \u001b[1;32mTrue\u001b[0m \u001b[1;33m:\u001b[0m \u001b[1;34m'string'\u001b[0m\u001b[1;33m,\u001b[0m \u001b[1;36m2.1\u001b[0m \u001b[1;33m:\u001b[0m \u001b[1;33m[\u001b[0m\u001b[1;36m1\u001b[0m\u001b[1;33m,\u001b[0m \u001b[1;36m2\u001b[0m\u001b[1;33m,\u001b[0m \u001b[1;36m3\u001b[0m\u001b[1;33m]\u001b[0m\u001b[1;33m,\u001b[0m \u001b[1;36m1j\u001b[0m \u001b[1;33m:\u001b[0m \u001b[1;33m(\u001b[0m\u001b[1;34m'a'\u001b[0m\u001b[1;33m,\u001b[0m \u001b[1;34m'b'\u001b[0m\u001b[1;33m)\u001b[0m\u001b[1;33m}\u001b[0m\u001b[1;33m\u001b[0m\u001b[1;33m\u001b[0m\u001b[0m\n\u001b[0;32m      2\u001b[0m \u001b[1;33m\u001b[0m\u001b[0m\n\u001b[1;32m----> 3\u001b[1;33m \u001b[0mprint\u001b[0m\u001b[1;33m(\u001b[0m\u001b[1;34m'O par da chave \\'queijo\\' é:'\u001b[0m\u001b[1;33m,\u001b[0m \u001b[0md3\u001b[0m\u001b[1;33m[\u001b[0m\u001b[1;34m'queijo'\u001b[0m\u001b[1;33m]\u001b[0m\u001b[1;33m)\u001b[0m\u001b[1;33m\u001b[0m\u001b[1;33m\u001b[0m\u001b[0m\n\u001b[0m",
      "\u001b[1;31mKeyError\u001b[0m: 'queijo'"
     ]
    }
   ],
   "source": [
    "d3 = {'presunto' : 1, 2 : 3, True : 'string', 2.1 : [1, 2, 3], 1j : ('a', 'b')}\n",
    "\n",
    "print('O par da chave \\'queijo\\' é:', d3['queijo'])"
   ]
  },
  {
   "cell_type": "markdown",
   "metadata": {},
   "source": [
    "#### Chaves devem ser imutáveis.\n",
    "\n",
    "As chaves devem ser de tipos **imutáveis**, caso contrário, um erro é gerado."
   ]
  },
  {
   "cell_type": "code",
   "execution_count": 22,
   "metadata": {},
   "outputs": [
    {
     "ename": "TypeError",
     "evalue": "unhashable type: 'list'",
     "output_type": "error",
     "traceback": [
      "\u001b[1;31m---------------------------------------------------------------------------\u001b[0m",
      "\u001b[1;31mTypeError\u001b[0m                                 Traceback (most recent call last)",
      "\u001b[1;32m~\\AppData\\Local\\Temp\\ipykernel_17072\\1884478543.py\u001b[0m in \u001b[0;36m<module>\u001b[1;34m\u001b[0m\n\u001b[1;32m----> 1\u001b[1;33m \u001b[0md3\u001b[0m \u001b[1;33m=\u001b[0m \u001b[1;33m{\u001b[0m\u001b[1;34m'chave1'\u001b[0m \u001b[1;33m:\u001b[0m \u001b[1;36m1\u001b[0m\u001b[1;33m,\u001b[0m \u001b[1;33m[\u001b[0m\u001b[1;36m1\u001b[0m\u001b[1;33m,\u001b[0m \u001b[1;36m2\u001b[0m\u001b[1;33m]\u001b[0m \u001b[1;33m:\u001b[0m \u001b[1;36m2\u001b[0m\u001b[1;33m}\u001b[0m\u001b[1;33m\u001b[0m\u001b[1;33m\u001b[0m\u001b[0m\n\u001b[0m",
      "\u001b[1;31mTypeError\u001b[0m: unhashable type: 'list'"
     ]
    }
   ],
   "source": [
    "d3 = {'chave1' : 1, [1, 2] : 2}"
   ]
  },
  {
   "cell_type": "markdown",
   "metadata": {},
   "source": [
    "#### Valores podem ser mutáveis ou imutáveis.\n",
    "\n",
    "Os **valores** de um dicionário podem ser de tipos mutáveis ou imutáveis, como tipos numéricos, strings, listas, tuplas, conjuntos e outros dicionários."
   ]
  },
  {
   "cell_type": "code",
   "execution_count": 18,
   "metadata": {},
   "outputs": [
    {
     "name": "stdout",
     "output_type": "stream",
     "text": [
      "O conteúdo do dicionário d3 é: {'presento': [1, 2], (1, 2): ('a', 'b'), True: {1: 1, 'A': 2}, 34: {1, 2, 3}}\n",
      "Quantidade de elementos em d3: 4\n"
     ]
    }
   ],
   "source": [
    "d3 = {'presento' : [1, 2], (1,2) : ('a','b'), True : {1:1, 'A':2}, 34 : {1,2,3} }\n",
    "\n",
    "print('O conteúdo do dicionário d3 é:', d3)\n",
    "print('Quantidade de elementos em d3:', len(d3))"
   ]
  },
  {
   "cell_type": "markdown",
   "metadata": {},
   "source": [
    "#### Criando dicionários aninhados e acessando seus valores.\n",
    "\n",
    "**IMPORTANTE**\n",
    "\n",
    "+ Dicionários podem ser aninhados em qualquer profundidade.\n",
    "+ Podemos ter também listas, tuplas e conjuntos aninhados.\n",
    "\n",
    "Exemplo de um dicionário aninhado."
   ]
  },
  {
   "cell_type": "code",
   "execution_count": 27,
   "metadata": {},
   "outputs": [
    {
     "name": "stdout",
     "output_type": "stream",
     "text": [
      "Acessando um valor: 1\n"
     ]
    }
   ],
   "source": [
    "# Um dicionário aninhado.\n",
    "d3 = {'info' : {42 : 1, 'A' : 2}, 'spam' : [], 'cep' : (1,2)}\n",
    "\n",
    "# Indexamos através da chave do dicionário aninhado.\n",
    "print('Acessando um valor:', d3['info'][42])"
   ]
  },
  {
   "cell_type": "markdown",
   "metadata": {},
   "source": [
    "Dois dicionários aninhados."
   ]
  },
  {
   "cell_type": "code",
   "execution_count": 28,
   "metadata": {},
   "outputs": [
    {
     "name": "stdout",
     "output_type": "stream",
     "text": [
      "Acessando um valor: fim\n"
     ]
    }
   ],
   "source": [
    "# Dois dicionários aninhados.\n",
    "d4 = {1 : {'dois' : {True : 'fim'} } }\n",
    "\n",
    "# Indexamos através das chaves dos dicionários aninhados.\n",
    "print('Acessando um valor:', d4[1]['dois'][True])"
   ]
  },
  {
   "cell_type": "markdown",
   "metadata": {},
   "source": [
    "#### Número de elementos em um dicionário.\n",
    "\n",
    "Verificando o número de elementos de um dicionário com a função `len()`."
   ]
  },
  {
   "cell_type": "code",
   "execution_count": 8,
   "metadata": {},
   "outputs": [
    {
     "name": "stdout",
     "output_type": "stream",
     "text": [
      "O número de itens em d1 é: 0\n",
      "O número de itens em d1 é: 2\n"
     ]
    }
   ],
   "source": [
    "d1 = {}\n",
    "\n",
    "print('O número de itens em d1 é:', len(d1))\n",
    "\n",
    "d1 = {1 : 1, 2 : 2}\n",
    "\n",
    "print('O número de itens em d1 é:', len(d1))"
   ]
  },
  {
   "cell_type": "markdown",
   "metadata": {},
   "source": [
    "#### Acessando valores de um dicionário com o método get.\n",
    "\n",
    "Outra forma de acessar valores de um dicionário é através do método `get(key, [, default])`. \n",
    "\n",
    "O método `get` **não retorna um erro** quando a chave não existe no dicionário, mas sim o valor `None` ou o valor `default` caso ele tenha sido defindo na chamada do método."
   ]
  },
  {
   "cell_type": "code",
   "execution_count": 37,
   "metadata": {},
   "outputs": [
    {
     "name": "stdout",
     "output_type": "stream",
     "text": [
      "O par da chave 'presunto' é: 2\n",
      "O par da chave 'queijo' é: None\n",
      "O par da chave 'queijo' é: 0\n"
     ]
    }
   ],
   "source": [
    "d2 = {'presunto' : 2, 'ovos' : 3}\n",
    "\n",
    "# Busca o valor da chave 'presunto'.\n",
    "print('O par da chave \\'presunto\\' é:', d2.get('presunto'))\n",
    "\n",
    "# Busca o valor da chave 'queijo' como este não existe, retorna None.\n",
    "print('O par da chave \\'queijo\\' é:', d2.get('queijo'))\n",
    "\n",
    "# Busca o valor da chave 'queijo' como este não existe, retorna o valor 0, \n",
    "# que é o valor definido como default.\n",
    "print('O par da chave \\'queijo\\' é:', d2.get('queijo', 0))"
   ]
  },
  {
   "cell_type": "markdown",
   "metadata": {},
   "source": [
    "#### Listas com chaves e valores de um dicionário.\n",
    "\n",
    "Podemos obter as chaves e os valores presentes em um dicionário com os métodos `keys()`, `values()` e `items()`.\n",
    "\n",
    "+ O método `keys()` retorna um objeto que contém uma lista com **todas as chaves** do dicionário.\n",
    "+ O método `values()` retorna um objeto que contém uma lista com **todos os valores** do dicionário.\n",
    "+ O método `items()` retorna um objeto que contém uma lista de tuplas com **todos os pares chave-valor** do dicionário."
   ]
  },
  {
   "cell_type": "code",
   "execution_count": 1,
   "metadata": {},
   "outputs": [
    {
     "name": "stdout",
     "output_type": "stream",
     "text": [
      "Chaves: dict_keys(['first', 'second', 'third'])\n",
      "\n",
      "Valores: dict_values(['string', [1, 2], (2.12, True, 'False')])\n",
      "\n",
      "Elementos: dict_items([('first', 'string'), ('second', [1, 2]), ('third', (2.12, True, 'False'))])\n"
     ]
    }
   ],
   "source": [
    "d2 = {'first' : 'string', 'second' : [1,2], 'third' : (2.12, True, 'False')}\n",
    "\n",
    "# Mostra todos as chaves do dicionário.\n",
    "print('Chaves:', d2.keys())\n",
    "\n",
    "# Mostra todos os valores do dicionário.\n",
    "print('\\nValores:', d2.values())\n",
    "\n",
    "# Mostra todos os pares chave-valor do dicionário.\n",
    "print('\\nElementos:', d2.items())"
   ]
  },
  {
   "cell_type": "markdown",
   "metadata": {},
   "source": [
    "#### Verificando se um dicionário contém uma chave.\n",
    "\n",
    "Os **operadores de associação** `in` e `not in` podem ser utilizados para verificar se um dicionário contém uma **chave** específica."
   ]
  },
  {
   "cell_type": "code",
   "execution_count": 4,
   "metadata": {},
   "outputs": [
    {
     "name": "stdout",
     "output_type": "stream",
     "text": [
      "A chave 'B' está em d1? True\n",
      "A chave 'D' não está em d1? True\n"
     ]
    }
   ],
   "source": [
    "d1 = {'A' : 1, 'B' : 2, 'C' : 3}\n",
    "\n",
    "resultado = 'B' in d1\n",
    "print('A chave \\'B\\' está em d1?', resultado)\n",
    "\n",
    "resultado = 'D' not in d1\n",
    "print('A chave \\'D\\' não está em d1?', resultado)"
   ]
  },
  {
   "cell_type": "markdown",
   "metadata": {},
   "source": [
    "Usar o método `keys()` é equivalente ao feito acima."
   ]
  },
  {
   "cell_type": "code",
   "execution_count": 5,
   "metadata": {},
   "outputs": [
    {
     "name": "stdout",
     "output_type": "stream",
     "text": [
      "A chave 'B' está em d1? True\n"
     ]
    }
   ],
   "source": [
    "# Usar o método keys() é equivalente ao feito acima.\n",
    "resultado = 'B' in d1.keys()\n",
    "print('A chave \\'B\\' está em d1?', resultado)"
   ]
  },
  {
   "cell_type": "markdown",
   "metadata": {},
   "source": [
    "#### Verificando se um dicionário contém um valor.\n",
    "\n",
    "Os **operadores de associação** `in` e `not in` também podem ser utilizados para verificar se um dicionário contém um **valor** específico.\n",
    "\n",
    "Porém, aqui, precisamos usar o método `values()`."
   ]
  },
  {
   "cell_type": "code",
   "execution_count": 40,
   "metadata": {},
   "outputs": [
    {
     "name": "stdout",
     "output_type": "stream",
     "text": [
      "O valor 1 está em d1? True\n",
      "O valor 4 não está em d1? True\n"
     ]
    }
   ],
   "source": [
    "d1 = {'A' : 1, 'B' : 2, 'C' : 3}\n",
    "\n",
    "# usamos o método values para obter todos os valores.\n",
    "resultado = 1 in d1.values()\n",
    "print('O valor 1 está em d1?', resultado)\n",
    "\n",
    "resultado = 4 not in d1.values()\n",
    "print('O valor 4 não está em d1?', resultado)"
   ]
  },
  {
   "cell_type": "markdown",
   "metadata": {},
   "source": [
    "#### Iterando através de dicionários.\n",
    "\n",
    "Iterando através de um dicionário com o laço `for`. Um dicionário é um objeto iterável, portanto, podemos usá-lo diretamente com o `for`.\n",
    "\n",
    "A cada iteração, a variável de referência recebe uma das **chaves** do dicionário."
   ]
  },
  {
   "cell_type": "code",
   "execution_count": 45,
   "metadata": {},
   "outputs": [
    {
     "name": "stdout",
     "output_type": "stream",
     "text": [
      "Chave: A - Valor: 1\n",
      "Chave: B - Valor: 2\n",
      "Chave: C - Valor: 3\n"
     ]
    }
   ],
   "source": [
    "d1 = {'A' : 1, 'B' : 2, 'C' : 3}\n",
    "\n",
    "# A variável key recebe a cada iteração uma das chaves do dicionário.\n",
    "for key in d1:\n",
    "    print('Chave: %s - Valor: %d' % (key, d1[key]) )"
   ]
  },
  {
   "cell_type": "markdown",
   "metadata": {},
   "source": [
    "Podemos usar também o método `keys()`, que é equivalente ao código acima."
   ]
  },
  {
   "cell_type": "code",
   "execution_count": 46,
   "metadata": {},
   "outputs": [
    {
     "name": "stdout",
     "output_type": "stream",
     "text": [
      "Chave: A - Valor: 1\n",
      "Chave: B - Valor: 2\n",
      "Chave: C - Valor: 3\n"
     ]
    }
   ],
   "source": [
    "d1 = {'A' : 1, 'B' : 2, 'C' : 3}\n",
    "\n",
    "# A variável key recebe a cada iteração um dos elementos da lista com as chaves do dicionário.\n",
    "for key in d1.keys():\n",
    "    print('Chave: %s - Valor: %d' % (key, d1[key]) )"
   ]
  },
  {
   "cell_type": "markdown",
   "metadata": {},
   "source": [
    "Utilizando o método `items()` para iterar através da lista de tuplas com as chaves e valores do dicionário."
   ]
  },
  {
   "cell_type": "code",
   "execution_count": 47,
   "metadata": {},
   "outputs": [
    {
     "name": "stdout",
     "output_type": "stream",
     "text": [
      "Chave: A - Valor: 1\n",
      "Chave: B - Valor: 2\n",
      "Chave: C - Valor: 3\n"
     ]
    }
   ],
   "source": [
    "d1 = {'A' : 1, 'B' : 2, 'C' : 3}\n",
    "\n",
    "# A variável de referência é uma tupla com dois elementos.\n",
    "for (key, value) in d1.items():\n",
    "    print('Chave: %s - Valor: %d' % (key, value) )"
   ]
  },
  {
   "cell_type": "markdown",
   "metadata": {},
   "source": [
    "Iterando através de um dicionário com o laço `while`.\n",
    "\n",
    "**OBS**.: O método `popitem()` remove e retorna uma **tupla** com o último elemento (i.e., par chave-valor) inserido no dicionário."
   ]
  },
  {
   "cell_type": "code",
   "execution_count": 6,
   "metadata": {},
   "outputs": [
    {
     "name": "stdout",
     "output_type": "stream",
     "text": [
      "Chave: C - Valor: 3\n",
      "Chave: B - Valor: 2\n",
      "Chave: A - Valor: 1\n",
      "\n",
      "Conteúdo de d1: {}\n"
     ]
    }
   ],
   "source": [
    "d1 = {'A' : 1, 'B' : 2, 'C' : 3}\n",
    "\n",
    "# A condição do while é verdadeira enquanto o dicionário não estiver vazio.\n",
    "while d1:\n",
    "    elemento = d1.popitem()\n",
    "    # Acessando a tupla com o par chave-valor do elemento removido.\n",
    "    print('Chave: %s - Valor: %d' % (elemento[0], elemento[1]) )\n",
    "    \n",
    "print('\\nConteúdo de d1:', d1)"
   ]
  },
  {
   "cell_type": "markdown",
   "metadata": {},
   "source": [
    "#### Modificando dicionários.\n",
    "\n",
    "Adicionando um novo item ao dicionário."
   ]
  },
  {
   "cell_type": "code",
   "execution_count": 55,
   "metadata": {},
   "outputs": [
    {
     "name": "stdout",
     "output_type": "stream",
     "text": [
      "O conteúdo inicial do dicionário é: {'A': 1, 'B': 2, 'C': 3}\n",
      "\n",
      "O novo conteúdo do dicionário é: {'A': 1, 'B': 2, 'C': 3, 'D': 4}\n",
      "\n",
      "O novo conteúdo do dicionário é: {'A': 1, 'B': 2, 'C': 3, 'D': 4, 1: 5}\n"
     ]
    }
   ],
   "source": [
    "d1 = {'A' : 1, 'B' : 2, 'C' : 3}\n",
    "\n",
    "print('O conteúdo inicial do dicionário é:', d1)\n",
    "print('')\n",
    "\n",
    "# Passamos a nova chave e o valor associado a ela.\n",
    "d1['D'] = 4\n",
    "\n",
    "print('O novo conteúdo do dicionário é:', d1)\n",
    "print('')\n",
    "\n",
    "# Passamos a nova chave e o valor associado a ela.\n",
    "d1[1] = 5\n",
    "\n",
    "print('O novo conteúdo do dicionário é:', d1)"
   ]
  },
  {
   "cell_type": "markdown",
   "metadata": {},
   "source": [
    "Alterando o valor de um item já existente."
   ]
  },
  {
   "cell_type": "code",
   "execution_count": 56,
   "metadata": {},
   "outputs": [
    {
     "name": "stdout",
     "output_type": "stream",
     "text": [
      "O conteúdo atualizado do dicionário é: {'A': 4, 'B': 2, 'C': 3}\n"
     ]
    }
   ],
   "source": [
    "d1 = {'A' : 1, 'B' : 2, 'C' : 3}\n",
    "\n",
    "# Indexo através da chave e atribuo o novo valor.\n",
    "d1['A'] = 4\n",
    "\n",
    "print('O conteúdo atualizado do dicionário é:', d1)"
   ]
  },
  {
   "cell_type": "markdown",
   "metadata": {},
   "source": [
    "Atualizando os itens de um dicionário com os itens de outro dicionário.\n",
    "\n",
    "Dados dois dicionários `d1` e `d2`, nós podemos adicionar todos os pares chave-valor de `d2` em `d1` usando o método `update()`. \n",
    "\n",
    "O método update é equivalente ao trecho de código abaixo:\n",
    "\n",
    "```python\n",
    "for (key, value) in d2.items():\n",
    "    d1[key] = value\n",
    "```"
   ]
  },
  {
   "cell_type": "code",
   "execution_count": 7,
   "metadata": {},
   "outputs": [
    {
     "name": "stdout",
     "output_type": "stream",
     "text": [
      "O conteúdo atualizado do dicionário é: {'a': 2, 'b': 2, 'c': 3}\n"
     ]
    }
   ],
   "source": [
    "d1 = {'a' : 1}\n",
    "\n",
    "d2 = {'a' : 2, 'b' : 2, 'c' : 3}\n",
    "\n",
    "# Atualiza d1 com os elementos de d2.\n",
    "d1.update(d2)\n",
    "\n",
    "print('O conteúdo atualizado do dicionário é:', d1)"
   ]
  },
  {
   "cell_type": "markdown",
   "metadata": {},
   "source": [
    "**OBS.**: Percebam que o elemento de `d1` com a **mesma chave** de `d2` tem seu valor atualizado com o valor de `d2`."
   ]
  },
  {
   "cell_type": "markdown",
   "metadata": {},
   "source": [
    "Removendo todos os elementos do dicionário com o método `clear()`."
   ]
  },
  {
   "cell_type": "code",
   "execution_count": 13,
   "metadata": {},
   "outputs": [
    {
     "name": "stdout",
     "output_type": "stream",
     "text": [
      "O conteúdo do dicionário agora é vazio: {}\n"
     ]
    }
   ],
   "source": [
    "d1 = {'A' : 1, 'B' : 2, 'C' : 3}\n",
    "\n",
    "d1.clear()\n",
    "\n",
    "print('O conteúdo do dicionário agora é vazio:', d1)"
   ]
  },
  {
   "cell_type": "markdown",
   "metadata": {},
   "source": [
    "Enquanto o método `clear` deleta todos os elementos do dicionário, a instrução `del` deleta apenas um elemento específico.\n",
    "\n",
    "**OBS**.: Se a chave não existir, um **erro é lançado**. Devemos **usar os operadores de associação** `in` ou `not in` para verificar se a chave existe antes de usar a instrução `del`."
   ]
  },
  {
   "cell_type": "code",
   "execution_count": 59,
   "metadata": {},
   "outputs": [
    {
     "name": "stdout",
     "output_type": "stream",
     "text": [
      "O conteúdo do dicionário agora é: {'B': 2, 'C': 3}\n"
     ]
    }
   ],
   "source": [
    "d1 = {'A' : 1, 'B' : 2, 'C' : 3}\n",
    "\n",
    "del d1['A']\n",
    "\n",
    "print('O conteúdo do dicionário agora é:', d1)"
   ]
  },
  {
   "cell_type": "markdown",
   "metadata": {},
   "source": [
    "O método `pop(key, valorPadrão)` remove o elemento especificado pela chave do dicionário e retorna o valor correspondente.\n",
    "\n",
    "Caso a chave **não exista** no dicionário, o método **retorna um erro ou `valorPadrão`** caso ele tenha sido definido."
   ]
  },
  {
   "cell_type": "code",
   "execution_count": 14,
   "metadata": {},
   "outputs": [
    {
     "name": "stdout",
     "output_type": "stream",
     "text": [
      "Valor referente à chave B: 2\n",
      "O conteúdo do dicionário agora é: {'A': 1, 'C': 3}\n"
     ]
    }
   ],
   "source": [
    "d1 = {'A' : 1, 'B' : 2, 'C' : 3}\n",
    "\n",
    "# Remove o elemento com chave 'B' e retorna o valor associado a ele.\n",
    "valor = d1.pop('B')\n",
    "\n",
    "print('Valor referente à chave B:', valor)\n",
    "print('O conteúdo do dicionário agora é:', d1)"
   ]
  },
  {
   "cell_type": "markdown",
   "metadata": {},
   "source": [
    "O valor padrão é retornado quando a chave não existe no dicionário."
   ]
  },
  {
   "cell_type": "code",
   "execution_count": 15,
   "metadata": {},
   "outputs": [
    {
     "name": "stdout",
     "output_type": "stream",
     "text": [
      "Valor referente à chave D: 222\n"
     ]
    }
   ],
   "source": [
    "d1 = {'A' : 1, 'B' : 2, 'C' : 3}\n",
    "\n",
    "# valor padrão é retornado quando a chave não existe no dicionário.\n",
    "print('Valor referente à chave D:', d1.pop('D', 222))"
   ]
  },
  {
   "cell_type": "markdown",
   "metadata": {},
   "source": [
    "Um erro é retornado quando a chave não existe no dicionário e não há valor padrão definido."
   ]
  },
  {
   "cell_type": "code",
   "execution_count": 16,
   "metadata": {},
   "outputs": [
    {
     "ename": "KeyError",
     "evalue": "'D'",
     "output_type": "error",
     "traceback": [
      "\u001b[1;31m---------------------------------------------------------------------------\u001b[0m",
      "\u001b[1;31mKeyError\u001b[0m                                  Traceback (most recent call last)",
      "\u001b[1;32mC:\\Users\\FELIPE~1.FIG\\AppData\\Local\\Temp/ipykernel_9116/3931379625.py\u001b[0m in \u001b[0;36m<module>\u001b[1;34m\u001b[0m\n\u001b[0;32m      1\u001b[0m \u001b[1;31m# Um erro é retornado quando a chave não existe no dicionário e nenhum valor padrão é definido.\u001b[0m\u001b[1;33m\u001b[0m\u001b[1;33m\u001b[0m\u001b[0m\n\u001b[1;32m----> 2\u001b[1;33m \u001b[0mprint\u001b[0m\u001b[1;33m(\u001b[0m\u001b[1;34m'Valor referente à chave D:'\u001b[0m\u001b[1;33m,\u001b[0m \u001b[0md1\u001b[0m\u001b[1;33m.\u001b[0m\u001b[0mpop\u001b[0m\u001b[1;33m(\u001b[0m\u001b[1;34m'D'\u001b[0m\u001b[1;33m)\u001b[0m\u001b[1;33m)\u001b[0m\u001b[1;33m\u001b[0m\u001b[1;33m\u001b[0m\u001b[0m\n\u001b[0m",
      "\u001b[1;31mKeyError\u001b[0m: 'D'"
     ]
    }
   ],
   "source": [
    "# Um erro é retornado quando a chave não existe no dicionário e nenhum valor padrão é definido.\n",
    "print('Valor referente à chave D:', d1.pop('D'))"
   ]
  },
  {
   "cell_type": "markdown",
   "metadata": {},
   "source": [
    "## Tarefas\n",
    "\n",
    "1. <span style=\"color:blue\">**QUIZ - Dicionários**</span>: respondam ao questionário sobre dicionários no MS teams, por favor.\n",
    "2. <span style=\"color:blue\">**Laboratório #5 - Conjuntos e Dicionários**</span>: cliquem em um dos links abaixo para accessar os exercícios do laboratório #5.\n",
    "\n",
    "[![Google Colab](https://badgen.net/badge/Launch/on%20Google%20Colab/blue?icon=terminal)](https://colab.research.google.com/github/zz4fap/python-programming/blob/master/labs/Laboratorio5%20-%20Conjuntos%20e%20Dicionários.ipynb)\n",
    "\n",
    "[![Binder](https://mybinder.org/badge_logo.svg)](https://mybinder.org/v2/gh/zz4fap/python-programming/master?filepath=labs%2FLaboratorio5%20-%20Conjuntos%20e%20Dicionários.ipynb)\n",
    "\n",
    "**IMPORTANTE**: Para acessar o material das aulas e realizar as entregas dos exercícios de laboratório, por favor, leiam o tutorial no seguinte link:\n",
    "[Material-das-Aulas](../docs/Acesso-ao-material-das-aulas-resolucao-e-entrega-dos-laboratorios.pdf)"
   ]
  },
  {
   "cell_type": "markdown",
   "metadata": {},
   "source": [
    "<img src=\"../figures/obrigado.png\">"
   ]
  }
 ],
 "metadata": {
  "kernelspec": {
   "display_name": "Python 3 (ipykernel)",
   "language": "python",
   "name": "python3"
  },
  "language_info": {
   "codemirror_mode": {
    "name": "ipython",
    "version": 3
   },
   "file_extension": ".py",
   "mimetype": "text/x-python",
   "name": "python",
   "nbconvert_exporter": "python",
   "pygments_lexer": "ipython3",
   "version": "3.9.13"
  }
 },
 "nbformat": 4,
 "nbformat_minor": 4
}
