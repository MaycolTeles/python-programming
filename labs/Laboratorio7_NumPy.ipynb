{
 "cells": [
  {
   "cell_type": "markdown",
   "metadata": {},
   "source": [
    "# Laboratório #7 - NumPy\n",
    "\n",
    "### Instruções\n",
    "\n",
    "1. Antes de começar, você deve clicar na opção \"Copiar para o Drive\" na barra superior do Colab. Depois de clicar nela, verifique se você está trabalhando nessa versão do notebook para que seu trabalho seja salvo.\n",
    "2. Para cada um dos exercícios a seguir, faça o seguinte:\n",
    "    * Sempre que possível, adicione comentários ao seu código. Os comentários servem para documentar o código.\n",
    "    * Use **docstrings** explicando sucintamente o que cada função implementada faz.\n",
    "        + **docstrings** são os comentários de múltiplas linhas que aparecem **logo após** o cabeçalho da função.\n",
    "    * Escolha nomes autoexplicativos para suas funções e variáveis.\n",
    "3. Quando você terminar os exercícios do laboratório, vá ao menu do Colab ou Jupyter e selecione a opção para fazer download do notebook.\n",
    "    * Os notebooks tem extensão .ipynb. \n",
    "    * Este deve ser o arquivo que você irá entregar.\n",
    "    * No Colab vá até a opção **File** -> **Download .ipynb**.\n",
    "    * No Jupyter vá até a opção **File** -> **Download as** -> **Notebook (.ipynb)**.\n",
    "4. Após o download do notebook, vá até a aba de tarefas do MS Teams, localize a tarefa referente a este laboratório e faça o upload do seu notebook. Veja que há uma opção para anexar arquivos à tarefa.\n",
    "5. Não se esqueça de colocar seu **nome** e **matrícula** na célula de texto abaixo."
   ]
  },
  {
   "cell_type": "markdown",
   "metadata": {},
   "source": [
    "**Nome**:\n",
    "\n",
    "**Matrícula**:"
   ]
  },
  {
   "cell_type": "markdown",
   "metadata": {},
   "source": [
    "## Exercícios"
   ]
  },
  {
   "cell_type": "markdown",
   "metadata": {},
   "source": [
    "#### 1)  Crie duas funções chamadas `extrairNúmerosPares` e `extrairNúmerosImpares` que recebam uma array NumPy como argumento de entrada e retornem todos os números pares e ímpares da array de entrada, respectivamente, usando indexação com filtragem condicional.\n",
    "\n",
    "**OBS**.: Use filtragem condicional para implementar as funções."
   ]
  },
  {
   "cell_type": "code",
   "execution_count": 1,
   "metadata": {},
   "outputs": [],
   "source": [
    "# Implemente aqui o código da função."
   ]
  },
  {
   "cell_type": "markdown",
   "metadata": {},
   "source": [
    "Teste sua implementação com o código abaixo."
   ]
  },
  {
   "cell_type": "code",
   "execution_count": 3,
   "metadata": {},
   "outputs": [
    {
     "ename": "NameError",
     "evalue": "name 'extrairNúmerosPares' is not defined",
     "output_type": "error",
     "traceback": [
      "\u001b[1;31m---------------------------------------------------------------------------\u001b[0m",
      "\u001b[1;31mNameError\u001b[0m                                 Traceback (most recent call last)",
      "\u001b[1;32m<ipython-input-3-b8711f79ed32>\u001b[0m in \u001b[0;36m<module>\u001b[1;34m\u001b[0m\n\u001b[0;32m      4\u001b[0m \u001b[1;33m\u001b[0m\u001b[0m\n\u001b[0;32m      5\u001b[0m \u001b[0mret\u001b[0m \u001b[1;33m=\u001b[0m \u001b[1;32mTrue\u001b[0m\u001b[1;33m\u001b[0m\u001b[1;33m\u001b[0m\u001b[0m\n\u001b[1;32m----> 6\u001b[1;33m \u001b[1;32mif\u001b[0m \u001b[1;33m(\u001b[0m \u001b[1;33m(\u001b[0m\u001b[0mextrairNúmerosPares\u001b[0m\u001b[1;33m(\u001b[0m\u001b[0ma\u001b[0m\u001b[1;33m)\u001b[0m \u001b[1;33m!=\u001b[0m \u001b[0mnp\u001b[0m\u001b[1;33m.\u001b[0m\u001b[0marray\u001b[0m\u001b[1;33m(\u001b[0m\u001b[1;33m[\u001b[0m\u001b[1;36m0\u001b[0m\u001b[1;33m,\u001b[0m\u001b[1;36m2\u001b[0m\u001b[1;33m,\u001b[0m\u001b[1;36m4\u001b[0m\u001b[1;33m,\u001b[0m\u001b[1;36m6\u001b[0m\u001b[1;33m,\u001b[0m\u001b[1;36m8\u001b[0m\u001b[1;33m]\u001b[0m\u001b[1;33m)\u001b[0m\u001b[1;33m)\u001b[0m\u001b[1;33m.\u001b[0m\u001b[0mall\u001b[0m\u001b[1;33m(\u001b[0m\u001b[1;33m)\u001b[0m\u001b[1;33m)\u001b[0m\u001b[1;33m:\u001b[0m\u001b[1;33m\u001b[0m\u001b[1;33m\u001b[0m\u001b[0m\n\u001b[0m\u001b[0;32m      7\u001b[0m     \u001b[0mret\u001b[0m \u001b[1;33m=\u001b[0m \u001b[1;32mFalse\u001b[0m\u001b[1;33m\u001b[0m\u001b[1;33m\u001b[0m\u001b[0m\n\u001b[0;32m      8\u001b[0m \u001b[1;33m\u001b[0m\u001b[0m\n",
      "\u001b[1;31mNameError\u001b[0m: name 'extrairNúmerosPares' is not defined"
     ]
    }
   ],
   "source": [
    "import numpy as np\n",
    "\n",
    "a = np.array([0,1,2,3,4,5,6,7,8,9])\n",
    "\n",
    "ret = True\n",
    "if ( (extrairNúmerosPares(a) != np.array([0,2,4,6,8])).all()):\n",
    "    ret = False\n",
    "\n",
    "if(ret == True):\n",
    "    print('Teste 1: Implementação está correta.')\n",
    "else:\n",
    "    print('Teste 1: Implementação NÃO está correta.')\n",
    "    \n",
    "ret = True\n",
    "if ( (extrairNúmerosImpares(a) != np.array([1,3,5,7,9])).all()):\n",
    "    ret = False\n",
    "\n",
    "if(ret == True):\n",
    "    print('Teste 2: Implementação está correta.')\n",
    "else:\n",
    "    print('Teste 2: Implementação NÃO está correta.')"
   ]
  },
  {
   "cell_type": "markdown",
   "metadata": {},
   "source": [
    "#### 2)  Implemente uma função chamada `calcularEstatísticas` utilizando a biblioteca NumPy para calcular e retornar a média, desvio padrão e a variância de uma array NumPy de entrada.\n",
    "\n",
    "**OBS**.: A função deve retornar os valores calculados na seguinte sequência: média, desvio padrão e variância."
   ]
  },
  {
   "cell_type": "code",
   "execution_count": 4,
   "metadata": {},
   "outputs": [],
   "source": [
    "# Implemente aqui o código da função."
   ]
  },
  {
   "cell_type": "markdown",
   "metadata": {},
   "source": [
    "Teste sua implementação com o código abaixo."
   ]
  },
  {
   "cell_type": "code",
   "execution_count": 5,
   "metadata": {},
   "outputs": [
    {
     "ename": "NameError",
     "evalue": "name 'calcularEstatísticas' is not defined",
     "output_type": "error",
     "traceback": [
      "\u001b[1;31m---------------------------------------------------------------------------\u001b[0m",
      "\u001b[1;31mNameError\u001b[0m                                 Traceback (most recent call last)",
      "\u001b[1;32m<ipython-input-5-cbb7c034f082>\u001b[0m in \u001b[0;36m<module>\u001b[1;34m\u001b[0m\n\u001b[0;32m      5\u001b[0m \u001b[1;33m\u001b[0m\u001b[0m\n\u001b[0;32m      6\u001b[0m \u001b[0mret\u001b[0m \u001b[1;33m=\u001b[0m \u001b[1;32mTrue\u001b[0m\u001b[1;33m\u001b[0m\u001b[1;33m\u001b[0m\u001b[0m\n\u001b[1;32m----> 7\u001b[1;33m \u001b[1;32mif\u001b[0m\u001b[1;33m(\u001b[0m\u001b[0mcalcularEstatísticas\u001b[0m\u001b[1;33m(\u001b[0m\u001b[0mx\u001b[0m\u001b[1;33m)\u001b[0m \u001b[1;33m!=\u001b[0m \u001b[1;33m(\u001b[0m\u001b[1;36m49.128\u001b[0m\u001b[1;33m,\u001b[0m \u001b[1;36m29.558714721719547\u001b[0m\u001b[1;33m,\u001b[0m \u001b[1;36m873.7176159999999\u001b[0m\u001b[1;33m)\u001b[0m\u001b[1;33m)\u001b[0m\u001b[1;33m:\u001b[0m\u001b[1;33m\u001b[0m\u001b[1;33m\u001b[0m\u001b[0m\n\u001b[0m\u001b[0;32m      8\u001b[0m     \u001b[0mret\u001b[0m \u001b[1;33m=\u001b[0m \u001b[1;32mFalse\u001b[0m\u001b[1;33m\u001b[0m\u001b[1;33m\u001b[0m\u001b[0m\n\u001b[0;32m      9\u001b[0m \u001b[1;33m\u001b[0m\u001b[0m\n",
      "\u001b[1;31mNameError\u001b[0m: name 'calcularEstatísticas' is not defined"
     ]
    }
   ],
   "source": [
    "import numpy as np\n",
    "\n",
    "np.random.seed(42)\n",
    "x = np.random.randint(0, 100, 1000)\n",
    "\n",
    "ret = True\n",
    "if(calcularEstatísticas(x) != (49.128, 29.558714721719547, 873.7176159999999)):\n",
    "    ret = False\n",
    "\n",
    "if(ret == True):\n",
    "    print('Teste 3: Implementação está correta.')\n",
    "else:\n",
    "    print('Teste 3: Implementação NÃO está correta.')"
   ]
  },
  {
   "cell_type": "markdown",
   "metadata": {},
   "source": [
    "#### 3) Implemente uma função chamada `gerarMatriz` que recebe como parâmetros de entrada `(a, b, n, m)` e que tem como retorno uma array NumPy com dimensões `m x m`, onde os elementos da array são números linearmente espaçados obtidos ao se dividir o intervalo `[a, b]` em `n` valores.\n",
    "\n",
    "**DICA**\n",
    "\n",
    "+ Para resolver este exercício, você vai precisar usar a função `linspace` da bilioteca NumPy e o método `reshape` da array criada com a função `linspace`."
   ]
  },
  {
   "cell_type": "code",
   "execution_count": 6,
   "metadata": {},
   "outputs": [],
   "source": [
    "# Implemente aqui o código da função."
   ]
  },
  {
   "cell_type": "markdown",
   "metadata": {},
   "source": [
    "Teste sua implementação com o código abaixo."
   ]
  },
  {
   "cell_type": "code",
   "execution_count": 7,
   "metadata": {},
   "outputs": [
    {
     "ename": "NameError",
     "evalue": "name 'gerarMatriz' is not defined",
     "output_type": "error",
     "traceback": [
      "\u001b[1;31m---------------------------------------------------------------------------\u001b[0m",
      "\u001b[1;31mNameError\u001b[0m                                 Traceback (most recent call last)",
      "\u001b[1;32m<ipython-input-7-dd0d19df11c6>\u001b[0m in \u001b[0;36m<module>\u001b[1;34m\u001b[0m\n\u001b[0;32m      1\u001b[0m \u001b[0mret\u001b[0m \u001b[1;33m=\u001b[0m \u001b[1;32mTrue\u001b[0m\u001b[1;33m\u001b[0m\u001b[1;33m\u001b[0m\u001b[0m\n\u001b[0;32m      2\u001b[0m \u001b[1;33m\u001b[0m\u001b[0m\n\u001b[1;32m----> 3\u001b[1;33m \u001b[0mretorno\u001b[0m \u001b[1;33m=\u001b[0m \u001b[0mgerarMatriz\u001b[0m\u001b[1;33m(\u001b[0m\u001b[1;36m0\u001b[0m\u001b[1;33m,\u001b[0m \u001b[1;36m10\u001b[0m\u001b[1;33m,\u001b[0m \u001b[1;36m16\u001b[0m\u001b[1;33m,\u001b[0m \u001b[1;36m4\u001b[0m\u001b[1;33m)\u001b[0m\u001b[1;33m\u001b[0m\u001b[1;33m\u001b[0m\u001b[0m\n\u001b[0m\u001b[0;32m      4\u001b[0m expected = np.array([[ 0.,          0.66666667,  1.33333333,  2.        ],\n\u001b[0;32m      5\u001b[0m  \u001b[1;33m[\u001b[0m \u001b[1;36m2.66666667\u001b[0m\u001b[1;33m,\u001b[0m  \u001b[1;36m3.33333333\u001b[0m\u001b[1;33m,\u001b[0m  \u001b[1;36m4.\u001b[0m\u001b[1;33m,\u001b[0m          \u001b[1;36m4.66666667\u001b[0m\u001b[1;33m]\u001b[0m\u001b[1;33m,\u001b[0m\u001b[1;33m\u001b[0m\u001b[1;33m\u001b[0m\u001b[0m\n",
      "\u001b[1;31mNameError\u001b[0m: name 'gerarMatriz' is not defined"
     ]
    }
   ],
   "source": [
    "ret = True\n",
    "\n",
    "retorno = gerarMatriz(0, 10, 16, 4)\n",
    "expected = np.array([[ 0.,          0.66666667,  1.33333333,  2.        ],\n",
    " [ 2.66666667,  3.33333333,  4.,          4.66666667],\n",
    " [ 5.33333333,  6.,          6.66666667,  7.33333333],\n",
    " [ 8.,          8.66666667,  9.33333333, 10.        ]])\n",
    "if( (retorno != expected).all() ):\n",
    "    ret = False\n",
    "\n",
    "if(ret == True):\n",
    "    print('Teste 4: Implementação está correta.')\n",
    "else:\n",
    "    print('Teste 4: Implementação NÃO está correta.')"
   ]
  },
  {
   "cell_type": "markdown",
   "metadata": {},
   "source": [
    "#### 4) Implemente uma função chamada `f` que recebe 3 argumentos de entrada, `a`, `b` e `n`. A função retorna uma array `y` que é gerada através da seguinte equação: $y = x^2 - 9$, onde `x` é uma array formada pelos `n` pontos obtidos a partir do intervalo `[a, b]`. Além disso, a função deve também retornar uma array booleana com as mesmas dimensões de `y` e cujos elementos são `True` sempre que o valor de $y \\ge 0$ e `False` caso contrário.\n",
    "\n",
    "**DICA**\n",
    "\n",
    "+ Para gerar a array `x`, você vai precisar usar a função `linspace` da bilioteca NumPy.\n",
    "+ Para gerar a array com valores booleanos, você vai precisar usar indexação com filtragem condicional."
   ]
  },
  {
   "cell_type": "code",
   "execution_count": 8,
   "metadata": {},
   "outputs": [],
   "source": [
    "# Implemente aqui o código da função."
   ]
  },
  {
   "cell_type": "markdown",
   "metadata": {},
   "source": [
    "Teste sua implementação com o código abaixo."
   ]
  },
  {
   "cell_type": "code",
   "execution_count": 9,
   "metadata": {},
   "outputs": [
    {
     "ename": "NameError",
     "evalue": "name 'f' is not defined",
     "output_type": "error",
     "traceback": [
      "\u001b[1;31m---------------------------------------------------------------------------\u001b[0m",
      "\u001b[1;31mNameError\u001b[0m                                 Traceback (most recent call last)",
      "\u001b[1;32m<ipython-input-9-4461acc8517c>\u001b[0m in \u001b[0;36m<module>\u001b[1;34m\u001b[0m\n\u001b[1;32m----> 1\u001b[1;33m \u001b[0mretorno\u001b[0m \u001b[1;33m=\u001b[0m \u001b[0mf\u001b[0m\u001b[1;33m(\u001b[0m\u001b[1;33m-\u001b[0m\u001b[1;36m10\u001b[0m\u001b[1;33m,\u001b[0m\u001b[1;36m10\u001b[0m\u001b[1;33m,\u001b[0m\u001b[1;36m10\u001b[0m\u001b[1;33m)\u001b[0m\u001b[1;33m\u001b[0m\u001b[1;33m\u001b[0m\u001b[0m\n\u001b[0m\u001b[0;32m      2\u001b[0m \u001b[1;33m\u001b[0m\u001b[0m\n\u001b[0;32m      3\u001b[0m expected = np.array([ 91. , 51.49382716, 21.86419753, 2.11111111,\n\u001b[0;32m      4\u001b[0m \u001b[1;33m-\u001b[0m\u001b[1;36m7.7654321\u001b[0m \u001b[1;33m,\u001b[0m \u001b[1;33m-\u001b[0m\u001b[1;36m7.7654321\u001b[0m \u001b[1;33m,\u001b[0m \u001b[1;36m2.11111111\u001b[0m\u001b[1;33m,\u001b[0m \u001b[1;36m21.86419753\u001b[0m\u001b[1;33m,\u001b[0m\u001b[1;33m\u001b[0m\u001b[1;33m\u001b[0m\u001b[0m\n\u001b[0;32m      5\u001b[0m 51.49382716, 91. ])\n",
      "\u001b[1;31mNameError\u001b[0m: name 'f' is not defined"
     ]
    }
   ],
   "source": [
    "retorno = f(-10,10,10)\n",
    "\n",
    "expected = np.array([ 91. , 51.49382716, 21.86419753, 2.11111111,\n",
    "-7.7654321 , -7.7654321 , 2.11111111, 21.86419753,\n",
    "51.49382716, 91. ])\n",
    "\n",
    "ret = True\n",
    "if((retorno[0] != expected).all()):\n",
    "    ret = False\n",
    "\n",
    "expected = np.array([True, True, True, True, False, False, True, True, True, True])\n",
    "ret = True\n",
    "if((retorno[1] != expected).all()):\n",
    "    ret = False\n",
    "\n",
    "if(ret == True):\n",
    "    print('Teste 5: Implementação está correta.')\n",
    "else:\n",
    "    print('Teste 5: Implementação NÃO está correta.')"
   ]
  },
  {
   "cell_type": "markdown",
   "metadata": {},
   "source": [
    "#### 5) Implemente uma função chamada `obterValoresMaioresQue` que recebe uma array `x` e um valor `valor` como parâmetros de entrada e retorna uma array com os valores de `x` maiores ou iguais a `valor`.\n",
    "\n",
    "**DICA**\n",
    "\n",
    "+ Para gerar a array com valores maiores ou iguais a `valor`, você vai precisar usar indexação com filtragem condicional."
   ]
  },
  {
   "cell_type": "code",
   "execution_count": 6,
   "metadata": {},
   "outputs": [],
   "source": [
    "# Implemente aqui o código da função."
   ]
  },
  {
   "cell_type": "markdown",
   "metadata": {},
   "source": [
    "Teste sua implementação com o código abaixo."
   ]
  },
  {
   "cell_type": "code",
   "execution_count": 11,
   "metadata": {},
   "outputs": [
    {
     "ename": "NameError",
     "evalue": "name 'obterValoresMaioresQue' is not defined",
     "output_type": "error",
     "traceback": [
      "\u001b[1;31m---------------------------------------------------------------------------\u001b[0m",
      "\u001b[1;31mNameError\u001b[0m                                 Traceback (most recent call last)",
      "\u001b[1;32m<ipython-input-11-1bd5316ffb8c>\u001b[0m in \u001b[0;36m<module>\u001b[1;34m\u001b[0m\n\u001b[0;32m      2\u001b[0m \u001b[1;33m\u001b[0m\u001b[0m\n\u001b[0;32m      3\u001b[0m \u001b[0mx\u001b[0m \u001b[1;33m=\u001b[0m \u001b[0mnp\u001b[0m\u001b[1;33m.\u001b[0m\u001b[0marray\u001b[0m\u001b[1;33m(\u001b[0m\u001b[1;33m[\u001b[0m\u001b[1;33m[\u001b[0m\u001b[1;36m0\u001b[0m\u001b[1;33m,\u001b[0m \u001b[1;36m10\u001b[0m\u001b[1;33m,\u001b[0m \u001b[1;36m20\u001b[0m\u001b[1;33m]\u001b[0m\u001b[1;33m,\u001b[0m \u001b[1;33m[\u001b[0m\u001b[1;36m20\u001b[0m\u001b[1;33m,\u001b[0m \u001b[1;36m30\u001b[0m\u001b[1;33m,\u001b[0m \u001b[1;36m40\u001b[0m\u001b[1;33m]\u001b[0m\u001b[1;33m]\u001b[0m\u001b[1;33m)\u001b[0m\u001b[1;33m\u001b[0m\u001b[1;33m\u001b[0m\u001b[0m\n\u001b[1;32m----> 4\u001b[1;33m \u001b[0mretorno\u001b[0m \u001b[1;33m=\u001b[0m \u001b[0mobterValoresMaioresQue\u001b[0m\u001b[1;33m(\u001b[0m\u001b[0mx\u001b[0m\u001b[1;33m,\u001b[0m \u001b[1;36m10\u001b[0m\u001b[1;33m)\u001b[0m\u001b[1;33m\u001b[0m\u001b[1;33m\u001b[0m\u001b[0m\n\u001b[0m\u001b[0;32m      5\u001b[0m \u001b[1;32mif\u001b[0m\u001b[1;33m(\u001b[0m\u001b[1;33m(\u001b[0m\u001b[0mretorno\u001b[0m \u001b[1;33m==\u001b[0m \u001b[1;33m[\u001b[0m\u001b[1;36m10\u001b[0m\u001b[1;33m,\u001b[0m \u001b[1;36m20\u001b[0m\u001b[1;33m,\u001b[0m \u001b[1;36m20\u001b[0m\u001b[1;33m,\u001b[0m \u001b[1;36m30\u001b[0m\u001b[1;33m,\u001b[0m \u001b[1;36m40\u001b[0m\u001b[1;33m]\u001b[0m\u001b[1;33m)\u001b[0m\u001b[1;33m.\u001b[0m\u001b[0mall\u001b[0m\u001b[1;33m(\u001b[0m\u001b[1;33m)\u001b[0m\u001b[1;33m)\u001b[0m\u001b[1;33m:\u001b[0m\u001b[1;33m\u001b[0m\u001b[1;33m\u001b[0m\u001b[0m\n\u001b[0;32m      6\u001b[0m     \u001b[0mret\u001b[0m \u001b[1;33m+=\u001b[0m \u001b[1;36m1\u001b[0m\u001b[1;33m\u001b[0m\u001b[1;33m\u001b[0m\u001b[0m\n",
      "\u001b[1;31mNameError\u001b[0m: name 'obterValoresMaioresQue' is not defined"
     ]
    }
   ],
   "source": [
    "ret = 0\n",
    "\n",
    "x = np.array([[0, 10, 20], [20, 30, 40]])\n",
    "retorno = obterValoresMaioresQue(x, 10)\n",
    "if((retorno == [10, 20, 20, 30, 40]).all()):\n",
    "    ret += 1\n",
    "    \n",
    "x = np.array([[0, 10, 20]])\n",
    "retorno = obterValoresMaioresQue(x, 10)\n",
    "if((retorno == [10, 20]).all()):\n",
    "    ret += 1 \n",
    "\n",
    "x = np.array([0, 10, 20])\n",
    "retorno = obterValoresMaioresQue(x, 10)\n",
    "if((retorno == [10, 20]).all()):\n",
    "    ret += 1   \n",
    "\n",
    "if(ret == 3):\n",
    "    print('Teste 6: Implementação está correta.')\n",
    "else:\n",
    "    print('Teste 6: Implementação NÃO está correta.')"
   ]
  },
  {
   "cell_type": "markdown",
   "metadata": {},
   "source": [
    "#### 6) Implemente uma função chamada `quantidadeDeValoresIguais` que recebe uma array `x` e um valor `valor` como argumentos de entrada e retorna a quantidade de elementos em `x` iguais a `valor`.\n",
    "\n",
    "**DICAS**\n",
    "\n",
    "+ Você vai precisar usar indexação com filtragem condicional e a função `np.sum()` da biblioteca NumPy para resolver este exercício.\n",
    "+ Lembre-se que a filtragem condicional retorna uma array com as mesmas dimensões da array original, mas com valores booleanos.\n",
    "+ Lembre-se também que o tipo Booleano é uma especialização do tipo dos inteiros e que em uma soma, por exemplo, o interpretador Python infere o valor booleano `True` como o valor inteiro `1` e `False` como `0`. \n",
    "+ Portanto, pode-se usar a função `np.sum()` para somar os elementos de uma array de valores booleanos."
   ]
  },
  {
   "cell_type": "code",
   "execution_count": 2,
   "metadata": {},
   "outputs": [],
   "source": [
    "# Implemente aqui o código da função."
   ]
  },
  {
   "cell_type": "markdown",
   "metadata": {},
   "source": [
    "Teste sua implementação com o código abaixo."
   ]
  },
  {
   "cell_type": "code",
   "execution_count": 3,
   "metadata": {},
   "outputs": [
    {
     "ename": "NameError",
     "evalue": "name 'np' is not defined",
     "output_type": "error",
     "traceback": [
      "\u001b[1;31m---------------------------------------------------------------------------\u001b[0m",
      "\u001b[1;31mNameError\u001b[0m                                 Traceback (most recent call last)",
      "\u001b[1;32mC:\\Users\\FELIPE~1.FIG\\AppData\\Local\\Temp/ipykernel_16468/2137682638.py\u001b[0m in \u001b[0;36m<module>\u001b[1;34m\u001b[0m\n\u001b[0;32m      1\u001b[0m \u001b[0mret\u001b[0m \u001b[1;33m=\u001b[0m \u001b[1;36m0\u001b[0m\u001b[1;33m\u001b[0m\u001b[1;33m\u001b[0m\u001b[0m\n\u001b[0;32m      2\u001b[0m \u001b[1;33m\u001b[0m\u001b[0m\n\u001b[1;32m----> 3\u001b[1;33m \u001b[0mx\u001b[0m \u001b[1;33m=\u001b[0m \u001b[0mnp\u001b[0m\u001b[1;33m.\u001b[0m\u001b[0marray\u001b[0m\u001b[1;33m(\u001b[0m\u001b[1;33m[\u001b[0m\u001b[1;33m[\u001b[0m\u001b[1;36m0\u001b[0m\u001b[1;33m,\u001b[0m \u001b[1;36m10\u001b[0m\u001b[1;33m,\u001b[0m \u001b[1;36m20\u001b[0m\u001b[1;33m]\u001b[0m\u001b[1;33m,\u001b[0m \u001b[1;33m[\u001b[0m\u001b[1;36m20\u001b[0m\u001b[1;33m,\u001b[0m \u001b[1;36m10\u001b[0m\u001b[1;33m,\u001b[0m \u001b[1;36m40\u001b[0m\u001b[1;33m]\u001b[0m\u001b[1;33m]\u001b[0m\u001b[1;33m)\u001b[0m\u001b[1;33m\u001b[0m\u001b[1;33m\u001b[0m\u001b[0m\n\u001b[0m\u001b[0;32m      4\u001b[0m \u001b[0mretorno\u001b[0m \u001b[1;33m=\u001b[0m \u001b[0mquantidadeDeValoresIguais\u001b[0m\u001b[1;33m(\u001b[0m\u001b[0mx\u001b[0m\u001b[1;33m,\u001b[0m \u001b[1;36m10\u001b[0m\u001b[1;33m)\u001b[0m\u001b[1;33m\u001b[0m\u001b[1;33m\u001b[0m\u001b[0m\n\u001b[0;32m      5\u001b[0m \u001b[1;32mif\u001b[0m\u001b[1;33m(\u001b[0m\u001b[0mretorno\u001b[0m \u001b[1;33m==\u001b[0m \u001b[1;36m2\u001b[0m\u001b[1;33m)\u001b[0m\u001b[1;33m:\u001b[0m\u001b[1;33m\u001b[0m\u001b[1;33m\u001b[0m\u001b[0m\n",
      "\u001b[1;31mNameError\u001b[0m: name 'np' is not defined"
     ]
    }
   ],
   "source": [
    "ret = 0\n",
    "\n",
    "x = np.array([[0, 10, 20], [20, 10, 40]])\n",
    "retorno = quantidadeDeValoresIguais(x, 10)\n",
    "if(retorno == 2):\n",
    "    ret += 1\n",
    "    \n",
    "x = np.array([[0, 10, 20]])\n",
    "retorno = quantidadeDeValoresIguais(x, 10)\n",
    "if(retorno == 1):\n",
    "    ret += 1 \n",
    "\n",
    "x = np.array([0, 10, 20])\n",
    "retorno = quantidadeDeValoresIguais(x, 30)\n",
    "if(retorno == 0):\n",
    "    ret += 1   \n",
    "\n",
    "if(ret == 3):\n",
    "    print('Teste 7: Implementação está correta.')\n",
    "else:\n",
    "    print('Teste 7: Implementação NÃO está correta.')"
   ]
  },
  {
   "cell_type": "markdown",
   "metadata": {},
   "source": [
    "#### 7) Crie um **vetor coluna**, $\\textbf{x}$, com $N = 100000$ elementos retirados de uma **distribuição aleatória Gaussiana** com média 0 e variância igual a 10. Em seguida, após gerar o vetor $\\textbf{x}$, imprima sua média e variância usando funções da biblioteca NumPy.\n",
    "\n",
    "**DICAS**: \n",
    "\n",
    "+ Para gerar um vetor **coluna** com elementos retirados de uma **distribuição aleatória Gaussiana normal padrão** use a função `randn` do módulo `random` da biblioteca `numpy`. O código abaixo cria um vetor linha, com 1 linha e 100 colunas.\n",
    "```python\n",
    "import numpy as np\n",
    "y = np.random.randn(1, 100)\n",
    "```\n",
    "+ Para gerar um vetor com valores retirados de uma variável aleatória Gaussiana com média igual a 0 e variância igual a `var`, multiplique o vetor pela raíz quadrada da variância (i.e., o desvio padrão), por exemplo\n",
    "```python\n",
    "import numpy as np\n",
    "var = 2\n",
    "x = np.sqrt(var)*np.random.randn(1, 100)\n",
    "```"
   ]
  },
  {
   "cell_type": "code",
   "execution_count": 4,
   "metadata": {},
   "outputs": [],
   "source": [
    "# Implemente aqui o código da função."
   ]
  }
 ],
 "metadata": {
  "kernelspec": {
   "display_name": "Python 3 (ipykernel)",
   "language": "python",
   "name": "python3"
  },
  "language_info": {
   "codemirror_mode": {
    "name": "ipython",
    "version": 3
   },
   "file_extension": ".py",
   "mimetype": "text/x-python",
   "name": "python",
   "nbconvert_exporter": "python",
   "pygments_lexer": "ipython3",
   "version": "3.10.9"
  }
 },
 "nbformat": 4,
 "nbformat_minor": 4
}
