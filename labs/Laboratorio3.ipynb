{
 "cells": [
  {
   "cell_type": "markdown",
   "metadata": {},
   "source": [
    "# Laboratório #3\n",
    "\n",
    "### Instruções\n",
    "\n",
    "1. Para cada um dos exercícios a seguir, faça o seguinte:\n",
    "    * Sempre que possível, adicione comentários ao seu código. Os comentários servem para documentar o código.\n",
    "    * Use **docstrings** explicando sucintamente o que cada função implementada faz.\n",
    "        + **docstrings** são os comentários de múltiplas linhas que aparecem **logo após** o cabeçalho da função.\n",
    "    * Escolha nomes autoexplicativos para suas funções e variáveis.\n",
    "2. Quando você terminar os exercícios do laboratório, vá ao menu do Jupyter ou Colab e selecione a opção para fazer download do notebook.\n",
    "    * Os notebooks tem extensão .ipynb. \n",
    "    * Este deve ser o arquivo que você irá entregar.\n",
    "    * No Jupyter vá até a opção **File** -> **Download as** -> **Notebook (.ipynb)**.\n",
    "    * No Colab vá até a opção **File** -> **Download .ipynb**.\n",
    "3. Após o download do notebook, vá até a aba de tarefas do MS Teams, localize a tarefa referente a este laboratório e faça o upload do seu notebook. Veja que há uma opção para anexar arquivos à tarefa.\n",
    "4. Não se esqueça de colocar seu **nome** e **matrícula** na célula de texto abaixo."
   ]
  },
  {
   "cell_type": "markdown",
   "metadata": {},
   "source": [
    "**Nome**:\n",
    "\n",
    "**Matrícula**:"
   ]
  },
  {
   "cell_type": "markdown",
   "metadata": {},
   "source": [
    "## Exercícios"
   ]
  },
  {
   "cell_type": "markdown",
   "metadata": {},
   "source": [
    "#### 1) Exercício sobre controle de fluxo, operadores lógicos e de comparação.\n",
    "\n",
    "Implemente uma função chamada `calcularMédia` que receba duas notas parciais, `nota1` e `nota2`, recebidas por um aluno ao longo do semestre. A função deve **calcular** a média alcançada pelo aluno e **imprimir** na tela:\n",
    "+ as 2 notas recebidas pelo aluno;\n",
    "+ a média das 2 notas;\n",
    "+ o conceito correspondente;\n",
    "+ e a mensagem “APROVADO” se o conceito for A, B ou C ou “REPROVADO” se o conceito for D ou E.\n",
    "\n",
    "A atribuição de conceitos obedece à tabela abaixo: \n",
    "\n",
    "| Média | Conceito |\n",
    "|:-----------------------:|:--------:|\n",
    "|     9.0 <= média <= 10.0    |     A    |\n",
    "|     7.5 <= média < 9.0     |     B    |\n",
    "|     6.0 <= média < 7.5     |     C    |\n",
    "|     4.0 <= média < 6.0     |     D    |\n",
    "|    0.0 <= média < 4.0    |     E    |\n",
    "\n",
    "\n",
    "**DICAS**: \n",
    "\n",
    "+ **Sua função não irá retornar nenhum valor.** Ela irá apenas imprimir as informações definidas acima.\n",
    "+ No exemplo abaixo, a função `print` é usada para imprimir todas as notas, média, conceito e resultado final. Onde `%f` formata um valor para que seja impresso como um float e `%s` para que o valor seja considerado uma string.\n",
    "```python\n",
    "print('Nota 1: %f - Nota 2: %f - Média: %f - Conceito: %s - Resultado: %s' % (nota1, nota2, media, conceito, resultado))\n",
    "```\n",
    "+ Você pode usar a função embutida `print` e formatar a string de saída de uma forma semelhante a utilizada com a função `printf` da linguagem C. As letras após o caractere `%` indicam o tipo de formatação deve ser aplicado ao valor para que ele seja corretamente transformado em uma string e impresso na tela. Para mais informações acesse: \n",
    "https://docs.python.org/pt-br/3/library/stdtypes.html#old-string-formatting"
   ]
  },
  {
   "cell_type": "code",
   "execution_count": 1,
   "metadata": {},
   "outputs": [],
   "source": [
    "# Escreva o código do exercício aqui."
   ]
  },
  {
   "cell_type": "markdown",
   "metadata": {},
   "source": [
    "Teste a função com a célula de código abaixo. As chamadas à função `calcularMédia` com o código abaixo resultam nas seguintes saídas:\n",
    "```\n",
    "Nota 1: 1.00 - Nota 2: 1.00 - Média: 1.00 - Conceito: E - Resultado: REPROVADO\n",
    "Nota 1: 5.00 - Nota 2: 5.00 - Média: 5.00 - Conceito: D - Resultado: REPROVADO\n",
    "Nota 1: 6.00 - Nota 2: 6.00 - Média: 6.00 - Conceito: C - Resultado: APROVADO\n",
    "Nota 1: 8.00 - Nota 2: 8.00 - Média: 8.00 - Conceito: B - Resultado: APROVADO\n",
    "Nota 1: 10.00 - Nota 2: 10.00 - Média: 10.00 - Conceito: A - Resultado: APROVADO\n",
    "```"
   ]
  },
  {
   "cell_type": "code",
   "execution_count": 2,
   "metadata": {},
   "outputs": [
    {
     "ename": "NameError",
     "evalue": "name 'calcularMédia' is not defined",
     "output_type": "error",
     "traceback": [
      "\u001b[1;31m---------------------------------------------------------------------------\u001b[0m",
      "\u001b[1;31mNameError\u001b[0m                                 Traceback (most recent call last)",
      "\u001b[1;32m<ipython-input-2-13e6be98b4de>\u001b[0m in \u001b[0;36m<module>\u001b[1;34m\u001b[0m\n\u001b[1;32m----> 1\u001b[1;33m \u001b[0mcalcularMédia\u001b[0m\u001b[1;33m(\u001b[0m\u001b[1;36m1\u001b[0m\u001b[1;33m,\u001b[0m \u001b[1;36m1\u001b[0m\u001b[1;33m)\u001b[0m\u001b[1;33m\u001b[0m\u001b[1;33m\u001b[0m\u001b[0m\n\u001b[0m\u001b[0;32m      2\u001b[0m \u001b[0mcalcularMédia\u001b[0m\u001b[1;33m(\u001b[0m\u001b[1;36m5\u001b[0m\u001b[1;33m,\u001b[0m \u001b[1;36m5\u001b[0m\u001b[1;33m)\u001b[0m\u001b[1;33m\u001b[0m\u001b[1;33m\u001b[0m\u001b[0m\n\u001b[0;32m      3\u001b[0m \u001b[0mcalcularMédia\u001b[0m\u001b[1;33m(\u001b[0m\u001b[1;36m6\u001b[0m\u001b[1;33m,\u001b[0m \u001b[1;36m6\u001b[0m\u001b[1;33m)\u001b[0m\u001b[1;33m\u001b[0m\u001b[1;33m\u001b[0m\u001b[0m\n\u001b[0;32m      4\u001b[0m \u001b[0mcalcularMédia\u001b[0m\u001b[1;33m(\u001b[0m\u001b[1;36m8\u001b[0m\u001b[1;33m,\u001b[0m \u001b[1;36m8\u001b[0m\u001b[1;33m)\u001b[0m\u001b[1;33m\u001b[0m\u001b[1;33m\u001b[0m\u001b[0m\n\u001b[0;32m      5\u001b[0m \u001b[0mcalcularMédia\u001b[0m\u001b[1;33m(\u001b[0m\u001b[1;36m10\u001b[0m\u001b[1;33m,\u001b[0m \u001b[1;36m10\u001b[0m\u001b[1;33m)\u001b[0m\u001b[1;33m\u001b[0m\u001b[1;33m\u001b[0m\u001b[0m\n",
      "\u001b[1;31mNameError\u001b[0m: name 'calcularMédia' is not defined"
     ]
    }
   ],
   "source": [
    "calcularMédia(1, 1)\n",
    "calcularMédia(5, 5)\n",
    "calcularMédia(6, 6)\n",
    "calcularMédia(8, 8)\n",
    "calcularMédia(10, 10)"
   ]
  },
  {
   "cell_type": "markdown",
   "metadata": {},
   "source": [
    "#### 2) Exercício sobre controle de fluxo e operadores de associação.\n",
    "\n",
    "Implemente uma função chamada `éVogal` que recebe uma letra como parâmetro de entrada e verifique se essa letra é uma vogal ou consoante. A função deve retornar `True` se a letra for uma vogal e `False` caso contrário.\n",
    "\n",
    "**DICAS**:\n",
    "+ Use os operadores de associação (`in` ou `not in`) para verificar se a letra digitada está presente em uma lista de vogais.\n",
    "+ O exemplo abaixo cria uma lista com 3 consoantes.\n",
    "```python\n",
    "lista = ['B', 'c', 'D']\n",
    "```\n",
    "+ Você pode usar o método `lower()` da classe `str`, ou seja, da classe string, para transformar todas as letras em letras minúsculas e não se preocupar se a letra passada como parâmetro de entrada é maiúscula ou minúscula."
   ]
  },
  {
   "cell_type": "code",
   "execution_count": 6,
   "metadata": {},
   "outputs": [],
   "source": [
    "# Escreva o código do exercício aqui."
   ]
  },
  {
   "cell_type": "markdown",
   "metadata": {},
   "source": [
    "Teste a função com os seguintes exemplos."
   ]
  },
  {
   "cell_type": "code",
   "execution_count": 1,
   "metadata": {},
   "outputs": [
    {
     "ename": "NameError",
     "evalue": "name 'éVogal' is not defined",
     "output_type": "error",
     "traceback": [
      "\u001b[1;31m---------------------------------------------------------------------------\u001b[0m",
      "\u001b[1;31mNameError\u001b[0m                                 Traceback (most recent call last)",
      "\u001b[1;32mC:\\Users\\FELIPE~1.FIG\\AppData\\Local\\Temp/ipykernel_14472/1433447837.py\u001b[0m in \u001b[0;36m<module>\u001b[1;34m\u001b[0m\n\u001b[1;32m----> 1\u001b[1;33m \u001b[0mprint\u001b[0m\u001b[1;33m(\u001b[0m\u001b[1;34m'Retorno:'\u001b[0m\u001b[1;33m,\u001b[0m \u001b[0méVogal\u001b[0m\u001b[1;33m(\u001b[0m\u001b[1;34m'v'\u001b[0m\u001b[1;33m)\u001b[0m\u001b[1;33m,\u001b[0m \u001b[1;34m' - Valor correto?'\u001b[0m\u001b[1;33m,\u001b[0m \u001b[0méVogal\u001b[0m\u001b[1;33m(\u001b[0m\u001b[1;34m'v'\u001b[0m\u001b[1;33m)\u001b[0m\u001b[1;33m==\u001b[0m\u001b[1;32mFalse\u001b[0m\u001b[1;33m)\u001b[0m\u001b[1;33m\u001b[0m\u001b[1;33m\u001b[0m\u001b[0m\n\u001b[0m\u001b[0;32m      2\u001b[0m \u001b[0mprint\u001b[0m\u001b[1;33m(\u001b[0m\u001b[1;34m'Retorno:'\u001b[0m\u001b[1;33m,\u001b[0m \u001b[0méVogal\u001b[0m\u001b[1;33m(\u001b[0m\u001b[1;34m'A'\u001b[0m\u001b[1;33m)\u001b[0m\u001b[1;33m,\u001b[0m \u001b[1;34m' - Valor correto?'\u001b[0m\u001b[1;33m,\u001b[0m \u001b[0méVogal\u001b[0m\u001b[1;33m(\u001b[0m\u001b[1;34m'A'\u001b[0m\u001b[1;33m)\u001b[0m\u001b[1;33m==\u001b[0m\u001b[1;32mTrue\u001b[0m\u001b[1;33m)\u001b[0m\u001b[1;33m\u001b[0m\u001b[1;33m\u001b[0m\u001b[0m\n",
      "\u001b[1;31mNameError\u001b[0m: name 'éVogal' is not defined"
     ]
    }
   ],
   "source": [
    "print('Retorno:', éVogal('v'), ' - Valor correto?', éVogal('v')==False)\n",
    "print('Retorno:', éVogal('A'), ' - Valor correto?', éVogal('A')==True)"
   ]
  },
  {
   "cell_type": "markdown",
   "metadata": {},
   "source": [
    "#### 3)  Exercício sobre laços de repetição.\n",
    "\n",
    "Supondo que a população de um país A seja de 80000 habitantes com uma taxa anual de crescimento de 3% e que a população de um país B seja de 200000 habitantes com uma taxa de crescimento de 1.5%, faça o seguinte: \n",
    "\n",
    "1. Escreva um programa que calcule e imprima o número de anos necessários para que a população do país A ultrapasse ou iguale a população do país B, mantidas as taxas de crescimento. \n",
    "2. Quantos anos são necessário para que a população do pais A ultrapasse a população do país B? \n",
    "3. Qual a população de ambos países após esse número de anos? Imprima este valor.\n",
    "\n",
    "**DICAS**:\n",
    "+ Você não precisa implementar uma função. Isso é opcional."
   ]
  },
  {
   "cell_type": "code",
   "execution_count": 5,
   "metadata": {},
   "outputs": [],
   "source": [
    "# Escreva o código do exercício aqui."
   ]
  },
  {
   "cell_type": "markdown",
   "metadata": {},
   "source": [
    "#### 4)  Exercício sobre laços de repetição.\n",
    "\n",
    "Implemente uma função chamada `exponenciação` que recebe 2 parâmetros de entrada, `base` e `expoente`, que calcule e imprima o primeiro número, `base`, elevado ao segundo número, `expoente`, ou seja, $base^{expoente}$. \n",
    "\n",
    "**OBS**.: Não utilize nenhuma função de potênciação já implementada, utilize apenas laços de repetição.\n",
    "\n",
    "**DICAS**\n",
    "\n",
    "+ Lembre-se que $2^3$ pode ser reescrito como $1*2*2*2$, o que pode ser facilmente implementado com um laço de repetição."
   ]
  },
  {
   "cell_type": "code",
   "execution_count": 1,
   "metadata": {},
   "outputs": [],
   "source": [
    "# Escreva o código do exercício aqui."
   ]
  },
  {
   "cell_type": "markdown",
   "metadata": {},
   "source": [
    "Teste a função com os seguintes exemplos."
   ]
  },
  {
   "cell_type": "code",
   "execution_count": 2,
   "metadata": {},
   "outputs": [
    {
     "name": "stdout",
     "output_type": "stream",
     "text": [
      "Retorno: 1  - Valor correto? True\n",
      "Retorno: 2  - Valor correto? True\n",
      "Retorno: 4  - Valor correto? True\n",
      "Retorno: 8  - Valor correto? True\n",
      "Retorno: 16  - Valor correto? True\n"
     ]
    }
   ],
   "source": [
    "print('Retorno:', exponenciação(2, 0), ' - Valor correto?', exponenciação(2, 0)==1)\n",
    "print('Retorno:', exponenciação(2, 1), ' - Valor correto?', exponenciação(2, 1)==2)\n",
    "print('Retorno:', exponenciação(2, 2), ' - Valor correto?', exponenciação(2, 2)==4)\n",
    "print('Retorno:', exponenciação(2, 3), ' - Valor correto?', exponenciação(2, 3)==8)\n",
    "print('Retorno:', exponenciação(2, 4), ' - Valor correto?', exponenciação(2, 4)==16)"
   ]
  },
  {
   "cell_type": "markdown",
   "metadata": {},
   "source": [
    "### Desafio (Opcional)"
   ]
  },
  {
   "cell_type": "markdown",
   "metadata": {},
   "source": [
    "#### 5) Exercício sobre laços de repetição.\n",
    "\n",
    "A série de Fibonacci é gerada através da seguinte equação $F_n = F_{n-1} + F_{n-2}$, onde os 2 primeiros termos são iguais a $F_{0} = 0$ e $F_{1} = 1$, respectivamente. Todos os outros termos são obtidos somando-se os dois termos anteriores. Os primeiros valores da série são: 0, 1, 1, 2, 3, 5, 8, 13, 21, 34, 55, 89, 144, 233, 377, 610, 987, 1597, 2584, e assim por diante. Desta forma, escreva um programa que gere e imprima a série de Fibonacci até que o valor gerado seja maior que 100000."
   ]
  },
  {
   "cell_type": "code",
   "execution_count": 1,
   "metadata": {},
   "outputs": [],
   "source": [
    "# Escreva o código do exercício aqui."
   ]
  }
 ],
 "metadata": {
  "kernelspec": {
   "display_name": "Python 3 (ipykernel)",
   "language": "python",
   "name": "python3"
  },
  "language_info": {
   "codemirror_mode": {
    "name": "ipython",
    "version": 3
   },
   "file_extension": ".py",
   "mimetype": "text/x-python",
   "name": "python",
   "nbconvert_exporter": "python",
   "pygments_lexer": "ipython3",
   "version": "3.9.13"
  }
 },
 "nbformat": 4,
 "nbformat_minor": 4
}
